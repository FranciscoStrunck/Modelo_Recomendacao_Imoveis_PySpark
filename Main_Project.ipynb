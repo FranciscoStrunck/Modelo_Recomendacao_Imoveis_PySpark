{
 "cells": [
  {
   "attachments": {},
   "cell_type": "markdown",
   "id": "c8f90e44",
   "metadata": {},
   "source": [
    "# Modelo Recomendacao Imoveis PySpark!"
   ]
  },
  {
   "cell_type": "markdown",
   "id": "a4999894",
   "metadata": {
    "id": "a4999894"
   },
   "source": [
    "## Biblioteca"
   ]
  },
  {
   "cell_type": "code",
   "execution_count": null,
   "id": "5gRkPAIcwxsg",
   "metadata": {
    "colab": {
     "base_uri": "https://localhost:8080/"
    },
    "executionInfo": {
     "elapsed": 3588,
     "status": "ok",
     "timestamp": 1670515915729,
     "user": {
      "displayName": "francisco strunck",
      "userId": "02683465803792309206"
     },
     "user_tz": 180
    },
    "id": "5gRkPAIcwxsg",
    "outputId": "29d52868-b98f-452c-dfbe-667b024e236f"
   },
   "outputs": [
    {
     "name": "stdout",
     "output_type": "stream",
     "text": [
      "Looking in indexes: https://pypi.org/simple, https://us-python.pkg.dev/colab-wheels/public/simple/\n",
      "Requirement already satisfied: pyspark==3.3.1 in /usr/local/lib/python3.8/dist-packages (3.3.1)\n",
      "Requirement already satisfied: py4j==0.10.9.5 in /usr/local/lib/python3.8/dist-packages (from pyspark==3.3.1) (0.10.9.5)\n"
     ]
    }
   ],
   "source": [
    "!pip install pyspark==3.3.1"
   ]
  },
  {
   "cell_type": "code",
   "execution_count": null,
   "id": "2e945ff0",
   "metadata": {
    "ExecuteTime": {
     "end_time": "2022-12-06T23:18:09.544463Z",
     "start_time": "2022-12-06T23:18:09.525915Z"
    },
    "id": "2e945ff0"
   },
   "outputs": [],
   "source": [
    "# Iniciando Spark\n",
    "import os\n",
    "#import findspark\n",
    "#from pyspark.sql import SparkSession\n",
    "\n",
    "# Carrregando dados Spark\n",
    "\n",
    "import zipfile"
   ]
  },
  {
   "cell_type": "markdown",
   "id": "4c93f405",
   "metadata": {
    "id": "4c93f405"
   },
   "source": [
    "## Iniciando Spark"
   ]
  },
  {
   "cell_type": "code",
   "execution_count": null,
   "id": "kapeVxtEyKI4",
   "metadata": {
    "colab": {
     "base_uri": "https://localhost:8080/",
     "height": 219
    },
    "executionInfo": {
     "elapsed": 16199,
     "status": "ok",
     "timestamp": 1670515931922,
     "user": {
      "displayName": "francisco strunck",
      "userId": "02683465803792309206"
     },
     "user_tz": 180
    },
    "id": "kapeVxtEyKI4",
    "outputId": "d2e964d8-5240-46ac-c80b-6279e38038aa"
   },
   "outputs": [
    {
     "data": {
      "text/html": [
       "\n",
       "            <div>\n",
       "                <p><b>SparkSession - in-memory</b></p>\n",
       "                \n",
       "        <div>\n",
       "            <p><b>SparkContext</b></p>\n",
       "\n",
       "            <p><a href=\"http://01c55ff6edc6:4040\">Spark UI</a></p>\n",
       "\n",
       "            <dl>\n",
       "              <dt>Version</dt>\n",
       "                <dd><code>v3.3.1</code></dd>\n",
       "              <dt>Master</dt>\n",
       "                <dd><code>local[*]</code></dd>\n",
       "              <dt>AppName</dt>\n",
       "                <dd><code>Transformacao com Spark</code></dd>\n",
       "            </dl>\n",
       "        </div>\n",
       "        \n",
       "            </div>\n",
       "        "
      ],
      "text/plain": [
       "<pyspark.sql.session.SparkSession at 0x7fac925e8cd0>"
      ]
     },
     "execution_count": 3,
     "metadata": {},
     "output_type": "execute_result"
    }
   ],
   "source": [
    "from pyspark.sql import SparkSession\n",
    "\n",
    "#os.environ[\"JAVA_HOME\"] = \"C:\\Program Files\\Java\\jre1.8.0_351\"\n",
    "#os.environ[\"SPARK_HOME\"] = \"C:\\Spark\\spark-3.2.2-bin-hadoop2.7\"\n",
    "\n",
    "#findspark.init()\n",
    "\n",
    "spark = SparkSession.builder \\\n",
    "    .master('local[*]') \\\n",
    "    .appName(\"Transformacao com Spark\") \\\n",
    "    .getOrCreate()\n",
    "\n",
    "spark"
   ]
  },
  {
   "cell_type": "markdown",
   "id": "7f536e03",
   "metadata": {
    "id": "7f536e03"
   },
   "source": [
    "## Carregando dados imoveis"
   ]
  },
  {
   "cell_type": "markdown",
   "id": "416fabc5",
   "metadata": {
    "id": "416fabc5"
   },
   "source": [
    "https://spark.apache.org/docs/latest/sql-data-sources-json.html"
   ]
  },
  {
   "cell_type": "code",
   "execution_count": null,
   "id": "e02c250f",
   "metadata": {
    "ExecuteTime": {
     "end_time": "2022-12-06T23:18:46.012971Z",
     "start_time": "2022-12-06T23:18:40.934045Z"
    },
    "id": "e02c250f"
   },
   "outputs": [],
   "source": [
    "# A JSON dataset is pointed to by path.\n",
    "# The path can be either a single text file or a directory storing text files\n",
    "#path = r'C:\\Users\\franc\\Google Drive\\# Academico\\# Programacao\\Alura Challenges - Imoveis\\Dados\\dataset_bruto.json'\n",
    "#path = r'Dados/dataset_bruto.json'\n",
    "#dados = spark.read.json(path)"
   ]
  },
  {
   "cell_type": "code",
   "execution_count": null,
   "id": "THCO2alhzdv3",
   "metadata": {
    "colab": {
     "base_uri": "https://localhost:8080/"
    },
    "executionInfo": {
     "elapsed": 17444,
     "status": "ok",
     "timestamp": 1670515949361,
     "user": {
      "displayName": "francisco strunck",
      "userId": "02683465803792309206"
     },
     "user_tz": 180
    },
    "id": "THCO2alhzdv3",
    "outputId": "bfdc35a9-edb6-4f7b-eea5-94bbe823320f"
   },
   "outputs": [
    {
     "name": "stdout",
     "output_type": "stream",
     "text": [
      "--2022-12-08 16:12:08--  https://caelum-online-public.s3.amazonaws.com/challenge-spark/semana-1.zip\n",
      "Resolving caelum-online-public.s3.amazonaws.com (caelum-online-public.s3.amazonaws.com)... 54.231.170.217, 52.217.196.65, 52.217.165.145, ...\n",
      "Connecting to caelum-online-public.s3.amazonaws.com (caelum-online-public.s3.amazonaws.com)|54.231.170.217|:443... connected.\n",
      "HTTP request sent, awaiting response... 200 OK\n",
      "Length: 18975214 (18M) [application/zip]\n",
      "Saving to: ‘semana-1.zip.3’\n",
      "\n",
      "semana-1.zip.3      100%[===================>]  18.10M  42.5MB/s    in 0.4s    \n",
      "\n",
      "2022-12-08 16:12:09 (42.5 MB/s) - ‘semana-1.zip.3’ saved [18975214/18975214]\n",
      "\n",
      "Archive:  semana-1.zip\n",
      "replace dados/dataset_bruto.json? [y]es, [n]o, [A]ll, [N]one, [r]ename: y\n",
      "  inflating: dados/dataset_bruto.json  \n"
     ]
    }
   ],
   "source": [
    "!wget 'https://caelum-online-public.s3.amazonaws.com/challenge-spark/semana-1.zip' && unzip semana-1.zip -d dados/"
   ]
  },
  {
   "cell_type": "code",
   "execution_count": null,
   "id": "YUtLSTaZzPOo",
   "metadata": {
    "id": "YUtLSTaZzPOo"
   },
   "outputs": [],
   "source": [
    "dados = spark.read.json(\n",
    "    'dados/dataset_bruto.json'\n",
    ")"
   ]
  },
  {
   "cell_type": "markdown",
   "id": "uYZmK6xI6NhZ",
   "metadata": {
    "id": "uYZmK6xI6NhZ"
   },
   "source": []
  },
  {
   "cell_type": "code",
   "execution_count": null,
   "id": "3a15fd7a",
   "metadata": {
    "ExecuteTime": {
     "end_time": "2022-12-06T23:18:46.089938Z",
     "start_time": "2022-12-06T23:18:46.012971Z"
    },
    "colab": {
     "base_uri": "https://localhost:8080/"
    },
    "executionInfo": {
     "elapsed": 30,
     "status": "ok",
     "timestamp": 1670515961610,
     "user": {
      "displayName": "francisco strunck",
      "userId": "02683465803792309206"
     },
     "user_tz": 180
    },
    "id": "3a15fd7a",
    "outputId": "1b6e3fc3-fd4f-4dfa-a13d-009b7e464f8e"
   },
   "outputs": [
    {
     "data": {
      "text/plain": [
       "DataFrame[anuncio: struct<andar:bigint,area_total:array<string>,area_util:array<string>,banheiros:array<bigint>,caracteristicas:array<string>,endereco:struct<bairro:string,cep:string,cidade:string,estado:string,latitude:double,longitude:double,pais:string,rua:string,zona:string>,id:string,quartos:array<bigint>,suites:array<bigint>,tipo_anuncio:string,tipo_unidade:string,tipo_uso:string,vaga:array<bigint>,valores:array<struct<condominio:string,iptu:string,tipo:string,valor:string>>>, imagens: array<struct<id:string,url:string>>, usuario: struct<id:string,nome:string>]"
      ]
     },
     "execution_count": 7,
     "metadata": {},
     "output_type": "execute_result"
    }
   ],
   "source": [
    "dados"
   ]
  },
  {
   "cell_type": "code",
   "execution_count": null,
   "id": "742f30dd",
   "metadata": {
    "ExecuteTime": {
     "end_time": "2022-12-06T23:18:46.105002Z",
     "start_time": "2022-12-06T23:18:46.092105Z"
    },
    "colab": {
     "base_uri": "https://localhost:8080/"
    },
    "executionInfo": {
     "elapsed": 27,
     "status": "ok",
     "timestamp": 1670515961612,
     "user": {
      "displayName": "francisco strunck",
      "userId": "02683465803792309206"
     },
     "user_tz": 180
    },
    "id": "742f30dd",
    "outputId": "80593b00-e667-42bb-9c52-111bd4026a19"
   },
   "outputs": [
    {
     "data": {
      "text/plain": [
       "pyspark.sql.dataframe.DataFrame"
      ]
     },
     "execution_count": 8,
     "metadata": {},
     "output_type": "execute_result"
    }
   ],
   "source": [
    "type(dados)"
   ]
  },
  {
   "cell_type": "markdown",
   "id": "28f0701a",
   "metadata": {
    "id": "28f0701a"
   },
   "source": [
    "## Análise dos dados"
   ]
  },
  {
   "cell_type": "code",
   "execution_count": null,
   "id": "4b64030f",
   "metadata": {
    "ExecuteTime": {
     "end_time": "2022-12-06T23:18:46.120555Z",
     "start_time": "2022-12-06T23:18:46.106297Z"
    },
    "colab": {
     "base_uri": "https://localhost:8080/"
    },
    "executionInfo": {
     "elapsed": 23,
     "status": "ok",
     "timestamp": 1670515961613,
     "user": {
      "displayName": "francisco strunck",
      "userId": "02683465803792309206"
     },
     "user_tz": 180
    },
    "id": "4b64030f",
    "outputId": "184af581-0044-4ef3-f76a-a674917f99f5"
   },
   "outputs": [
    {
     "name": "stdout",
     "output_type": "stream",
     "text": [
      "root\n",
      " |-- anuncio: struct (nullable = true)\n",
      " |    |-- andar: long (nullable = true)\n",
      " |    |-- area_total: array (nullable = true)\n",
      " |    |    |-- element: string (containsNull = true)\n",
      " |    |-- area_util: array (nullable = true)\n",
      " |    |    |-- element: string (containsNull = true)\n",
      " |    |-- banheiros: array (nullable = true)\n",
      " |    |    |-- element: long (containsNull = true)\n",
      " |    |-- caracteristicas: array (nullable = true)\n",
      " |    |    |-- element: string (containsNull = true)\n",
      " |    |-- endereco: struct (nullable = true)\n",
      " |    |    |-- bairro: string (nullable = true)\n",
      " |    |    |-- cep: string (nullable = true)\n",
      " |    |    |-- cidade: string (nullable = true)\n",
      " |    |    |-- estado: string (nullable = true)\n",
      " |    |    |-- latitude: double (nullable = true)\n",
      " |    |    |-- longitude: double (nullable = true)\n",
      " |    |    |-- pais: string (nullable = true)\n",
      " |    |    |-- rua: string (nullable = true)\n",
      " |    |    |-- zona: string (nullable = true)\n",
      " |    |-- id: string (nullable = true)\n",
      " |    |-- quartos: array (nullable = true)\n",
      " |    |    |-- element: long (containsNull = true)\n",
      " |    |-- suites: array (nullable = true)\n",
      " |    |    |-- element: long (containsNull = true)\n",
      " |    |-- tipo_anuncio: string (nullable = true)\n",
      " |    |-- tipo_unidade: string (nullable = true)\n",
      " |    |-- tipo_uso: string (nullable = true)\n",
      " |    |-- vaga: array (nullable = true)\n",
      " |    |    |-- element: long (containsNull = true)\n",
      " |    |-- valores: array (nullable = true)\n",
      " |    |    |-- element: struct (containsNull = true)\n",
      " |    |    |    |-- condominio: string (nullable = true)\n",
      " |    |    |    |-- iptu: string (nullable = true)\n",
      " |    |    |    |-- tipo: string (nullable = true)\n",
      " |    |    |    |-- valor: string (nullable = true)\n",
      " |-- imagens: array (nullable = true)\n",
      " |    |-- element: struct (containsNull = true)\n",
      " |    |    |-- id: string (nullable = true)\n",
      " |    |    |-- url: string (nullable = true)\n",
      " |-- usuario: struct (nullable = true)\n",
      " |    |-- id: string (nullable = true)\n",
      " |    |-- nome: string (nullable = true)\n",
      "\n"
     ]
    }
   ],
   "source": [
    "dados.printSchema()"
   ]
  },
  {
   "cell_type": "code",
   "execution_count": null,
   "id": "0c0ef13f",
   "metadata": {
    "ExecuteTime": {
     "end_time": "2022-12-06T23:18:49.663323Z",
     "start_time": "2022-12-06T23:18:46.122319Z"
    },
    "colab": {
     "base_uri": "https://localhost:8080/"
    },
    "executionInfo": {
     "elapsed": 3111,
     "status": "ok",
     "timestamp": 1670515964707,
     "user": {
      "displayName": "francisco strunck",
      "userId": "02683465803792309206"
     },
     "user_tz": 180
    },
    "id": "0c0ef13f",
    "outputId": "2d9e337f-50d3-4ffa-e458-7d70dbd9aed7",
    "scrolled": true
   },
   "outputs": [
    {
     "data": {
      "text/plain": [
       "89083"
      ]
     },
     "execution_count": 10,
     "metadata": {},
     "output_type": "execute_result"
    }
   ],
   "source": [
    "dados.count()"
   ]
  },
  {
   "cell_type": "code",
   "execution_count": null,
   "id": "56b1b801",
   "metadata": {
    "ExecuteTime": {
     "end_time": "2022-12-06T23:18:51.305924Z",
     "start_time": "2022-12-06T23:18:49.664309Z"
    },
    "colab": {
     "base_uri": "https://localhost:8080/"
    },
    "executionInfo": {
     "elapsed": 3933,
     "status": "ok",
     "timestamp": 1670515968634,
     "user": {
      "displayName": "francisco strunck",
      "userId": "02683465803792309206"
     },
     "user_tz": 180
    },
    "id": "56b1b801",
    "outputId": "7481bc2b-3064-402f-da13-e7d072f1d829"
   },
   "outputs": [
    {
     "name": "stdout",
     "output_type": "stream",
     "text": [
      "+--------------------+--------------------+--------------------+\n",
      "|             anuncio|             imagens|             usuario|\n",
      "+--------------------+--------------------+--------------------+\n",
      "|{0, [], [16], [0]...|[{39d6282a-71f3-4...|{9d44563d-3405-4e...|\n",
      "|{0, [], [14], [0]...|[{23d2b3ab-45b0-4...|{36245be7-70fe-40...|\n",
      "|{0, [1026], [1026...|[{1da65baa-368b-4...|{9dc415d8-1397-4d...|\n",
      "|{0, [120], [120],...|[{79b542c6-49b4-4...|{9911a2df-f299-4a...|\n",
      "|{0, [3], [3], [0]...|[{e2bc497b-6510-4...|{240a7aab-12e5-40...|\n",
      "|{0, [20], [15], [...|[{2de09d46-dc0d-4...|{3c7057f5-0923-42...|\n",
      "|{3, [43], [43], [...|[{147a80d9-cd40-4...|{5a9736b5-aaa0-4a...|\n",
      "|{2, [42], [42], [...|[{35740004-063d-4...|{ec48d96a-137c-49...|\n",
      "|{0, [], [12], [0]...|[{6d3d2aec-c96f-4...|{dad7db63-e19c-44...|\n",
      "|{1, [41], [41], [...|[{3d404069-418e-4...|{a845f35f-3ab3-46...|\n",
      "|{3, [43], [43], [...|[{5b8a8de7-2088-4...|{8c8de313-45d5-4c...|\n",
      "|{0, [10], [4], [0...|[{5385da42-8276-4...|{0b1d4ee0-2bc3-4c...|\n",
      "|{0, [12], [12], [...|[{7e4c2d03-1188-4...|{d744ac23-f16e-44...|\n",
      "|{0, [17], [17], [...|[{db608e30-f3e0-4...|{edc3fcf6-4441-40...|\n",
      "|{1, [32], [32], [...|[{318d4e40-f759-4...|{84dfa72e-10dd-48...|\n",
      "|{0, [], [10], [0]...|[{9e39e46f-59f8-4...|{fc1d2b73-9d29-4c...|\n",
      "|{2, [43], [43], [...|[{3fe1c1cc-7a9c-4...|{7f2de69f-68f8-40...|\n",
      "|{3, [43], [43], [...|[{fd04f07d-cfdf-4...|{12ce772e-4aac-46...|\n",
      "|{3, [43], [43], [...|[{76f97b59-a61b-4...|{cc17fc2c-6be2-4e...|\n",
      "|{3, [43], [43], [...|[{95d9678e-491f-4...|{286649de-3099-4c...|\n",
      "+--------------------+--------------------+--------------------+\n",
      "only showing top 20 rows\n",
      "\n"
     ]
    }
   ],
   "source": [
    "dados.show()"
   ]
  },
  {
   "cell_type": "code",
   "execution_count": null,
   "id": "b2beb2d9",
   "metadata": {
    "ExecuteTime": {
     "end_time": "2022-12-06T23:18:52.763667Z",
     "start_time": "2022-12-06T23:18:51.306834Z"
    },
    "colab": {
     "base_uri": "https://localhost:8080/"
    },
    "executionInfo": {
     "elapsed": 3612,
     "status": "ok",
     "timestamp": 1670515972232,
     "user": {
      "displayName": "francisco strunck",
      "userId": "02683465803792309206"
     },
     "user_tz": 180
    },
    "id": "b2beb2d9",
    "outputId": "2002c4e4-87b6-4f2f-802e-63e24120fa60"
   },
   "outputs": [
    {
     "name": "stdout",
     "output_type": "stream",
     "text": [
      "+------------------------------------------------------------------------------------------------------------------------------------------------------------------------------------------------------------------------------------------------+--------------------------------------------------------------------------------------------------------------------------------------------------+---------------------------------------------+\n",
      "|anuncio                                                                                                                                                                                                                                         |imagens                                                                                                                                           |usuario                                      |\n",
      "+------------------------------------------------------------------------------------------------------------------------------------------------------------------------------------------------------------------------------------------------+--------------------------------------------------------------------------------------------------------------------------------------------------+---------------------------------------------+\n",
      "|{0, [], [16], [0], [], {Centro, 20061003, Rio de Janeiro, Rio de Janeiro, -22.906082, -43.18671, BR, Rua Buenos Aires, Zona Central}, 47d553e0-79f2-4a46-9390-5a3c962740c2, [0], [0], Usado, Outros, Comercial, [1], [{260, 107, Venda, 10000}]}|[{39d6282a-71f3-47bc-94aa-909351ecd881, https://api.images.insightplaces.com.br/{type}/{width}/{height}/1b08098d-f2dc-439c-b604-a4e50d12774b.jpg}]|{9d44563d-3405-4e84-9381-35b7cf40a9a4, Frank}|\n",
      "+------------------------------------------------------------------------------------------------------------------------------------------------------------------------------------------------------------------------------------------------+--------------------------------------------------------------------------------------------------------------------------------------------------+---------------------------------------------+\n",
      "only showing top 1 row\n",
      "\n"
     ]
    }
   ],
   "source": [
    "dados.show(1, truncate = False)"
   ]
  },
  {
   "cell_type": "code",
   "execution_count": null,
   "id": "d428cd1b",
   "metadata": {
    "ExecuteTime": {
     "end_time": "2022-12-06T23:18:55.583028Z",
     "start_time": "2022-12-06T23:18:52.765656Z"
    },
    "colab": {
     "base_uri": "https://localhost:8080/",
     "height": 363
    },
    "executionInfo": {
     "elapsed": 4610,
     "status": "ok",
     "timestamp": 1670515976830,
     "user": {
      "displayName": "francisco strunck",
      "userId": "02683465803792309206"
     },
     "user_tz": 180
    },
    "id": "d428cd1b",
    "outputId": "c1b28df9-8a4d-4488-d8b3-304986b6fff9"
   },
   "outputs": [
    {
     "data": {
      "text/html": [
       "\n",
       "  <div id=\"df-41010ff8-19c1-46e8-aaeb-781f80bf27ee\">\n",
       "    <div class=\"colab-df-container\">\n",
       "      <div>\n",
       "<style scoped>\n",
       "    .dataframe tbody tr th:only-of-type {\n",
       "        vertical-align: middle;\n",
       "    }\n",
       "\n",
       "    .dataframe tbody tr th {\n",
       "        vertical-align: top;\n",
       "    }\n",
       "\n",
       "    .dataframe thead th {\n",
       "        text-align: right;\n",
       "    }\n",
       "</style>\n",
       "<table border=\"1\" class=\"dataframe\">\n",
       "  <thead>\n",
       "    <tr style=\"text-align: right;\">\n",
       "      <th></th>\n",
       "      <th>anuncio</th>\n",
       "      <th>imagens</th>\n",
       "      <th>usuario</th>\n",
       "    </tr>\n",
       "  </thead>\n",
       "  <tbody>\n",
       "    <tr>\n",
       "      <th>0</th>\n",
       "      <td>(0, [], [16], [0], [], (Centro, 20061003, Rio ...</td>\n",
       "      <td>[(39d6282a-71f3-47bc-94aa-909351ecd881, https:...</td>\n",
       "      <td>(9d44563d-3405-4e84-9381-35b7cf40a9a4, Frank)</td>\n",
       "    </tr>\n",
       "    <tr>\n",
       "      <th>1</th>\n",
       "      <td>(0, [], [14], [0], [], (Centro, 20051040, Rio ...</td>\n",
       "      <td>[(23d2b3ab-45b0-47f2-a27f-ffbe066c2c38, https:...</td>\n",
       "      <td>(36245be7-70fe-40cd-84d4-70a57dc8f976, Caroline)</td>\n",
       "    </tr>\n",
       "    <tr>\n",
       "      <th>2</th>\n",
       "      <td>(0, [1026], [1026], [0], [], (Maria da Graça, ...</td>\n",
       "      <td>[(1da65baa-368b-490f-bef7-1834b9a428c1, https:...</td>\n",
       "      <td>(9dc415d8-1397-4d8d-8425-b8310fad309d, Oliver)</td>\n",
       "    </tr>\n",
       "    <tr>\n",
       "      <th>3</th>\n",
       "      <td>(0, [120], [120], [0], [Portão eletrônico, Con...</td>\n",
       "      <td>[(79b542c6-49b4-4f06-80b5-ef4fcdf98f76, https:...</td>\n",
       "      <td>(9911a2df-f299-4a73-a384-281417abaf69, Matthew)</td>\n",
       "    </tr>\n",
       "    <tr>\n",
       "      <th>4</th>\n",
       "      <td>(0, [3], [3], [0], [], (São Cristóvão, 2093167...</td>\n",
       "      <td>[(e2bc497b-6510-4731-8942-97b3d3cdab5e, https:...</td>\n",
       "      <td>(240a7aab-12e5-4069-9a2c-9dca4c4f9c68, Jude)</td>\n",
       "    </tr>\n",
       "    <tr>\n",
       "      <th>5</th>\n",
       "      <td>(0, [20], [15], [1], [], (Centro, 20231047, Ri...</td>\n",
       "      <td>[(2de09d46-dc0d-47cf-aed2-a34e1dacce90, https:...</td>\n",
       "      <td>(3c7057f5-0923-42eb-8b6d-25f3e61155ef, David)</td>\n",
       "    </tr>\n",
       "    <tr>\n",
       "      <th>6</th>\n",
       "      <td>(3, [43], [43], [1], [Academia, Churrasqueira,...</td>\n",
       "      <td>[(147a80d9-cd40-4a57-bece-a45ea729ddae, https:...</td>\n",
       "      <td>(5a9736b5-aaa0-4a35-8632-26bbd8bd5cbe, Hope)</td>\n",
       "    </tr>\n",
       "    <tr>\n",
       "      <th>7</th>\n",
       "      <td>(2, [42], [42], [1], [Churrasqueira, Playgroun...</td>\n",
       "      <td>[(35740004-063d-489b-b84c-f278c018e9f3, https:...</td>\n",
       "      <td>(ec48d96a-137c-49d5-ad7a-66c39932f599, Margareth)</td>\n",
       "    </tr>\n",
       "    <tr>\n",
       "      <th>8</th>\n",
       "      <td>(0, [], [12], [0], [Portaria 24h, Elevador], (...</td>\n",
       "      <td>[(6d3d2aec-c96f-4e57-8b31-8400af100b65, https:...</td>\n",
       "      <td>(dad7db63-e19c-4420-a64d-f3052ffbba4b, Sean)</td>\n",
       "    </tr>\n",
       "    <tr>\n",
       "      <th>9</th>\n",
       "      <td>(1, [41], [41], [1], [Portaria 24h, Condomínio...</td>\n",
       "      <td>[(3d404069-418e-4a3f-a087-f4007f701869, https:...</td>\n",
       "      <td>(a845f35f-3ab3-4619-9e53-259a6539af60, Nicole)</td>\n",
       "    </tr>\n",
       "  </tbody>\n",
       "</table>\n",
       "</div>\n",
       "      <button class=\"colab-df-convert\" onclick=\"convertToInteractive('df-41010ff8-19c1-46e8-aaeb-781f80bf27ee')\"\n",
       "              title=\"Convert this dataframe to an interactive table.\"\n",
       "              style=\"display:none;\">\n",
       "        \n",
       "  <svg xmlns=\"http://www.w3.org/2000/svg\" height=\"24px\"viewBox=\"0 0 24 24\"\n",
       "       width=\"24px\">\n",
       "    <path d=\"M0 0h24v24H0V0z\" fill=\"none\"/>\n",
       "    <path d=\"M18.56 5.44l.94 2.06.94-2.06 2.06-.94-2.06-.94-.94-2.06-.94 2.06-2.06.94zm-11 1L8.5 8.5l.94-2.06 2.06-.94-2.06-.94L8.5 2.5l-.94 2.06-2.06.94zm10 10l.94 2.06.94-2.06 2.06-.94-2.06-.94-.94-2.06-.94 2.06-2.06.94z\"/><path d=\"M17.41 7.96l-1.37-1.37c-.4-.4-.92-.59-1.43-.59-.52 0-1.04.2-1.43.59L10.3 9.45l-7.72 7.72c-.78.78-.78 2.05 0 2.83L4 21.41c.39.39.9.59 1.41.59.51 0 1.02-.2 1.41-.59l7.78-7.78 2.81-2.81c.8-.78.8-2.07 0-2.86zM5.41 20L4 18.59l7.72-7.72 1.47 1.35L5.41 20z\"/>\n",
       "  </svg>\n",
       "      </button>\n",
       "      \n",
       "  <style>\n",
       "    .colab-df-container {\n",
       "      display:flex;\n",
       "      flex-wrap:wrap;\n",
       "      gap: 12px;\n",
       "    }\n",
       "\n",
       "    .colab-df-convert {\n",
       "      background-color: #E8F0FE;\n",
       "      border: none;\n",
       "      border-radius: 50%;\n",
       "      cursor: pointer;\n",
       "      display: none;\n",
       "      fill: #1967D2;\n",
       "      height: 32px;\n",
       "      padding: 0 0 0 0;\n",
       "      width: 32px;\n",
       "    }\n",
       "\n",
       "    .colab-df-convert:hover {\n",
       "      background-color: #E2EBFA;\n",
       "      box-shadow: 0px 1px 2px rgba(60, 64, 67, 0.3), 0px 1px 3px 1px rgba(60, 64, 67, 0.15);\n",
       "      fill: #174EA6;\n",
       "    }\n",
       "\n",
       "    [theme=dark] .colab-df-convert {\n",
       "      background-color: #3B4455;\n",
       "      fill: #D2E3FC;\n",
       "    }\n",
       "\n",
       "    [theme=dark] .colab-df-convert:hover {\n",
       "      background-color: #434B5C;\n",
       "      box-shadow: 0px 1px 3px 1px rgba(0, 0, 0, 0.15);\n",
       "      filter: drop-shadow(0px 1px 2px rgba(0, 0, 0, 0.3));\n",
       "      fill: #FFFFFF;\n",
       "    }\n",
       "  </style>\n",
       "\n",
       "      <script>\n",
       "        const buttonEl =\n",
       "          document.querySelector('#df-41010ff8-19c1-46e8-aaeb-781f80bf27ee button.colab-df-convert');\n",
       "        buttonEl.style.display =\n",
       "          google.colab.kernel.accessAllowed ? 'block' : 'none';\n",
       "\n",
       "        async function convertToInteractive(key) {\n",
       "          const element = document.querySelector('#df-41010ff8-19c1-46e8-aaeb-781f80bf27ee');\n",
       "          const dataTable =\n",
       "            await google.colab.kernel.invokeFunction('convertToInteractive',\n",
       "                                                     [key], {});\n",
       "          if (!dataTable) return;\n",
       "\n",
       "          const docLinkHtml = 'Like what you see? Visit the ' +\n",
       "            '<a target=\"_blank\" href=https://colab.research.google.com/notebooks/data_table.ipynb>data table notebook</a>'\n",
       "            + ' to learn more about interactive tables.';\n",
       "          element.innerHTML = '';\n",
       "          dataTable['output_type'] = 'display_data';\n",
       "          await google.colab.output.renderOutput(dataTable, element);\n",
       "          const docLink = document.createElement('div');\n",
       "          docLink.innerHTML = docLinkHtml;\n",
       "          element.appendChild(docLink);\n",
       "        }\n",
       "      </script>\n",
       "    </div>\n",
       "  </div>\n",
       "  "
      ],
      "text/plain": [
       "                                             anuncio  \\\n",
       "0  (0, [], [16], [0], [], (Centro, 20061003, Rio ...   \n",
       "1  (0, [], [14], [0], [], (Centro, 20051040, Rio ...   \n",
       "2  (0, [1026], [1026], [0], [], (Maria da Graça, ...   \n",
       "3  (0, [120], [120], [0], [Portão eletrônico, Con...   \n",
       "4  (0, [3], [3], [0], [], (São Cristóvão, 2093167...   \n",
       "5  (0, [20], [15], [1], [], (Centro, 20231047, Ri...   \n",
       "6  (3, [43], [43], [1], [Academia, Churrasqueira,...   \n",
       "7  (2, [42], [42], [1], [Churrasqueira, Playgroun...   \n",
       "8  (0, [], [12], [0], [Portaria 24h, Elevador], (...   \n",
       "9  (1, [41], [41], [1], [Portaria 24h, Condomínio...   \n",
       "\n",
       "                                             imagens  \\\n",
       "0  [(39d6282a-71f3-47bc-94aa-909351ecd881, https:...   \n",
       "1  [(23d2b3ab-45b0-47f2-a27f-ffbe066c2c38, https:...   \n",
       "2  [(1da65baa-368b-490f-bef7-1834b9a428c1, https:...   \n",
       "3  [(79b542c6-49b4-4f06-80b5-ef4fcdf98f76, https:...   \n",
       "4  [(e2bc497b-6510-4731-8942-97b3d3cdab5e, https:...   \n",
       "5  [(2de09d46-dc0d-47cf-aed2-a34e1dacce90, https:...   \n",
       "6  [(147a80d9-cd40-4a57-bece-a45ea729ddae, https:...   \n",
       "7  [(35740004-063d-489b-b84c-f278c018e9f3, https:...   \n",
       "8  [(6d3d2aec-c96f-4e57-8b31-8400af100b65, https:...   \n",
       "9  [(3d404069-418e-4a3f-a087-f4007f701869, https:...   \n",
       "\n",
       "                                             usuario  \n",
       "0      (9d44563d-3405-4e84-9381-35b7cf40a9a4, Frank)  \n",
       "1   (36245be7-70fe-40cd-84d4-70a57dc8f976, Caroline)  \n",
       "2     (9dc415d8-1397-4d8d-8425-b8310fad309d, Oliver)  \n",
       "3    (9911a2df-f299-4a73-a384-281417abaf69, Matthew)  \n",
       "4       (240a7aab-12e5-4069-9a2c-9dca4c4f9c68, Jude)  \n",
       "5      (3c7057f5-0923-42eb-8b6d-25f3e61155ef, David)  \n",
       "6       (5a9736b5-aaa0-4a35-8632-26bbd8bd5cbe, Hope)  \n",
       "7  (ec48d96a-137c-49d5-ad7a-66c39932f599, Margareth)  \n",
       "8       (dad7db63-e19c-4420-a64d-f3052ffbba4b, Sean)  \n",
       "9     (a845f35f-3ab3-4619-9e53-259a6539af60, Nicole)  "
      ]
     },
     "execution_count": 13,
     "metadata": {},
     "output_type": "execute_result"
    }
   ],
   "source": [
    "dados.limit(10).toPandas()"
   ]
  },
  {
   "cell_type": "markdown",
   "id": "57735103",
   "metadata": {
    "id": "57735103"
   },
   "source": [
    "## DataFrame coluna Anuncio"
   ]
  },
  {
   "cell_type": "markdown",
   "id": "3dc13b81",
   "metadata": {
    "id": "3dc13b81"
   },
   "source": [
    "Como pessoa engenheira de dados temos como uma de nossas responsabilidades a disponibilização dos dados para que os usuários interessados possam realizar suas análises.\n",
    "\n",
    "Na imobiliária InsightPlaces temos um website que torna público os anúncios dos imóveis que pertencem ao portfólio da imobiliária. Este site é alimentado por uma API REST que consulta nosso sistema de banco de dados e retorna um arquivo JSON que é tratado pelo frontend e exibido na tela do usuário. A imobiliária utiliza como SGBD deste recurso (anúncios) o MongoDB que é um SGBD noSQL, ou seja, ele trabalha com dados não estruturados e suas collections são armazenadas no formato JSON.\n",
    "\n",
    "Nosso cliente nessa demanda é a equipe de ciência de dados da InsightPlaces que precisa de um conjunto de dados para criar um modelo de machine learning para possibilitar a criação de um projeto da empresa que consiste em uma ferramenta de avaliação de imóveis usados."
   ]
  },
  {
   "cell_type": "code",
   "execution_count": null,
   "id": "1dc3fde8",
   "metadata": {
    "ExecuteTime": {
     "end_time": "2022-12-06T23:18:55.644972Z",
     "start_time": "2022-12-06T23:18:55.584950Z"
    },
    "id": "1dc3fde8"
   },
   "outputs": [],
   "source": [
    "anuncio = dados\\\n",
    "    .select(\n",
    "        'anuncio.*'\n",
    "            )"
   ]
  },
  {
   "cell_type": "code",
   "execution_count": null,
   "id": "7ee13365",
   "metadata": {
    "ExecuteTime": {
     "end_time": "2022-12-06T23:18:57.505518Z",
     "start_time": "2022-12-06T23:18:56.406738Z"
    },
    "colab": {
     "base_uri": "https://localhost:8080/",
     "height": 448
    },
    "executionInfo": {
     "elapsed": 2266,
     "status": "ok",
     "timestamp": 1670515979465,
     "user": {
      "displayName": "francisco strunck",
      "userId": "02683465803792309206"
     },
     "user_tz": 180
    },
    "id": "7ee13365",
    "outputId": "03041c58-27c0-4362-c769-c4b68859d6a0"
   },
   "outputs": [
    {
     "data": {
      "text/html": [
       "\n",
       "  <div id=\"df-e3d12990-671f-4410-a766-8dcee5cd2458\">\n",
       "    <div class=\"colab-df-container\">\n",
       "      <div>\n",
       "<style scoped>\n",
       "    .dataframe tbody tr th:only-of-type {\n",
       "        vertical-align: middle;\n",
       "    }\n",
       "\n",
       "    .dataframe tbody tr th {\n",
       "        vertical-align: top;\n",
       "    }\n",
       "\n",
       "    .dataframe thead th {\n",
       "        text-align: right;\n",
       "    }\n",
       "</style>\n",
       "<table border=\"1\" class=\"dataframe\">\n",
       "  <thead>\n",
       "    <tr style=\"text-align: right;\">\n",
       "      <th></th>\n",
       "      <th>andar</th>\n",
       "      <th>area_total</th>\n",
       "      <th>area_util</th>\n",
       "      <th>banheiros</th>\n",
       "      <th>caracteristicas</th>\n",
       "      <th>endereco</th>\n",
       "      <th>id</th>\n",
       "      <th>quartos</th>\n",
       "      <th>suites</th>\n",
       "      <th>tipo_anuncio</th>\n",
       "      <th>tipo_unidade</th>\n",
       "      <th>tipo_uso</th>\n",
       "      <th>vaga</th>\n",
       "      <th>valores</th>\n",
       "    </tr>\n",
       "  </thead>\n",
       "  <tbody>\n",
       "    <tr>\n",
       "      <th>0</th>\n",
       "      <td>0</td>\n",
       "      <td>[]</td>\n",
       "      <td>[16]</td>\n",
       "      <td>[0]</td>\n",
       "      <td>[]</td>\n",
       "      <td>(Centro, 20061003, Rio de Janeiro, Rio de Jane...</td>\n",
       "      <td>47d553e0-79f2-4a46-9390-5a3c962740c2</td>\n",
       "      <td>[0]</td>\n",
       "      <td>[0]</td>\n",
       "      <td>Usado</td>\n",
       "      <td>Outros</td>\n",
       "      <td>Comercial</td>\n",
       "      <td>[1]</td>\n",
       "      <td>[(260, 107, Venda, 10000)]</td>\n",
       "    </tr>\n",
       "    <tr>\n",
       "      <th>1</th>\n",
       "      <td>0</td>\n",
       "      <td>[]</td>\n",
       "      <td>[14]</td>\n",
       "      <td>[0]</td>\n",
       "      <td>[]</td>\n",
       "      <td>(Centro, 20051040, Rio de Janeiro, Rio de Jane...</td>\n",
       "      <td>b6ffbae1-17f6-4870-9950-e998ac1c8d6a</td>\n",
       "      <td>[0]</td>\n",
       "      <td>[]</td>\n",
       "      <td>Usado</td>\n",
       "      <td>Outros</td>\n",
       "      <td>Comercial</td>\n",
       "      <td>[0]</td>\n",
       "      <td>[(260, 107, Venda, 10000)]</td>\n",
       "    </tr>\n",
       "    <tr>\n",
       "      <th>2</th>\n",
       "      <td>0</td>\n",
       "      <td>[1026]</td>\n",
       "      <td>[1026]</td>\n",
       "      <td>[0]</td>\n",
       "      <td>[]</td>\n",
       "      <td>(Maria da Graça, 20785360, Rio de Janeiro, Rio...</td>\n",
       "      <td>1fb030a5-9e3e-4a1d-93cd-cd2d8a215e11</td>\n",
       "      <td>[0]</td>\n",
       "      <td>[]</td>\n",
       "      <td>Usado</td>\n",
       "      <td>Outros</td>\n",
       "      <td>Comercial</td>\n",
       "      <td>[0]</td>\n",
       "      <td>[(None, 1613, Venda, 10000)]</td>\n",
       "    </tr>\n",
       "  </tbody>\n",
       "</table>\n",
       "</div>\n",
       "      <button class=\"colab-df-convert\" onclick=\"convertToInteractive('df-e3d12990-671f-4410-a766-8dcee5cd2458')\"\n",
       "              title=\"Convert this dataframe to an interactive table.\"\n",
       "              style=\"display:none;\">\n",
       "        \n",
       "  <svg xmlns=\"http://www.w3.org/2000/svg\" height=\"24px\"viewBox=\"0 0 24 24\"\n",
       "       width=\"24px\">\n",
       "    <path d=\"M0 0h24v24H0V0z\" fill=\"none\"/>\n",
       "    <path d=\"M18.56 5.44l.94 2.06.94-2.06 2.06-.94-2.06-.94-.94-2.06-.94 2.06-2.06.94zm-11 1L8.5 8.5l.94-2.06 2.06-.94-2.06-.94L8.5 2.5l-.94 2.06-2.06.94zm10 10l.94 2.06.94-2.06 2.06-.94-2.06-.94-.94-2.06-.94 2.06-2.06.94z\"/><path d=\"M17.41 7.96l-1.37-1.37c-.4-.4-.92-.59-1.43-.59-.52 0-1.04.2-1.43.59L10.3 9.45l-7.72 7.72c-.78.78-.78 2.05 0 2.83L4 21.41c.39.39.9.59 1.41.59.51 0 1.02-.2 1.41-.59l7.78-7.78 2.81-2.81c.8-.78.8-2.07 0-2.86zM5.41 20L4 18.59l7.72-7.72 1.47 1.35L5.41 20z\"/>\n",
       "  </svg>\n",
       "      </button>\n",
       "      \n",
       "  <style>\n",
       "    .colab-df-container {\n",
       "      display:flex;\n",
       "      flex-wrap:wrap;\n",
       "      gap: 12px;\n",
       "    }\n",
       "\n",
       "    .colab-df-convert {\n",
       "      background-color: #E8F0FE;\n",
       "      border: none;\n",
       "      border-radius: 50%;\n",
       "      cursor: pointer;\n",
       "      display: none;\n",
       "      fill: #1967D2;\n",
       "      height: 32px;\n",
       "      padding: 0 0 0 0;\n",
       "      width: 32px;\n",
       "    }\n",
       "\n",
       "    .colab-df-convert:hover {\n",
       "      background-color: #E2EBFA;\n",
       "      box-shadow: 0px 1px 2px rgba(60, 64, 67, 0.3), 0px 1px 3px 1px rgba(60, 64, 67, 0.15);\n",
       "      fill: #174EA6;\n",
       "    }\n",
       "\n",
       "    [theme=dark] .colab-df-convert {\n",
       "      background-color: #3B4455;\n",
       "      fill: #D2E3FC;\n",
       "    }\n",
       "\n",
       "    [theme=dark] .colab-df-convert:hover {\n",
       "      background-color: #434B5C;\n",
       "      box-shadow: 0px 1px 3px 1px rgba(0, 0, 0, 0.15);\n",
       "      filter: drop-shadow(0px 1px 2px rgba(0, 0, 0, 0.3));\n",
       "      fill: #FFFFFF;\n",
       "    }\n",
       "  </style>\n",
       "\n",
       "      <script>\n",
       "        const buttonEl =\n",
       "          document.querySelector('#df-e3d12990-671f-4410-a766-8dcee5cd2458 button.colab-df-convert');\n",
       "        buttonEl.style.display =\n",
       "          google.colab.kernel.accessAllowed ? 'block' : 'none';\n",
       "\n",
       "        async function convertToInteractive(key) {\n",
       "          const element = document.querySelector('#df-e3d12990-671f-4410-a766-8dcee5cd2458');\n",
       "          const dataTable =\n",
       "            await google.colab.kernel.invokeFunction('convertToInteractive',\n",
       "                                                     [key], {});\n",
       "          if (!dataTable) return;\n",
       "\n",
       "          const docLinkHtml = 'Like what you see? Visit the ' +\n",
       "            '<a target=\"_blank\" href=https://colab.research.google.com/notebooks/data_table.ipynb>data table notebook</a>'\n",
       "            + ' to learn more about interactive tables.';\n",
       "          element.innerHTML = '';\n",
       "          dataTable['output_type'] = 'display_data';\n",
       "          await google.colab.output.renderOutput(dataTable, element);\n",
       "          const docLink = document.createElement('div');\n",
       "          docLink.innerHTML = docLinkHtml;\n",
       "          element.appendChild(docLink);\n",
       "        }\n",
       "      </script>\n",
       "    </div>\n",
       "  </div>\n",
       "  "
      ],
      "text/plain": [
       "   andar area_total area_util banheiros caracteristicas  \\\n",
       "0      0         []      [16]       [0]              []   \n",
       "1      0         []      [14]       [0]              []   \n",
       "2      0     [1026]    [1026]       [0]              []   \n",
       "\n",
       "                                            endereco  \\\n",
       "0  (Centro, 20061003, Rio de Janeiro, Rio de Jane...   \n",
       "1  (Centro, 20051040, Rio de Janeiro, Rio de Jane...   \n",
       "2  (Maria da Graça, 20785360, Rio de Janeiro, Rio...   \n",
       "\n",
       "                                     id quartos suites tipo_anuncio  \\\n",
       "0  47d553e0-79f2-4a46-9390-5a3c962740c2     [0]    [0]        Usado   \n",
       "1  b6ffbae1-17f6-4870-9950-e998ac1c8d6a     [0]     []        Usado   \n",
       "2  1fb030a5-9e3e-4a1d-93cd-cd2d8a215e11     [0]     []        Usado   \n",
       "\n",
       "  tipo_unidade   tipo_uso vaga                       valores  \n",
       "0       Outros  Comercial  [1]    [(260, 107, Venda, 10000)]  \n",
       "1       Outros  Comercial  [0]    [(260, 107, Venda, 10000)]  \n",
       "2       Outros  Comercial  [0]  [(None, 1613, Venda, 10000)]  "
      ]
     },
     "execution_count": 15,
     "metadata": {},
     "output_type": "execute_result"
    }
   ],
   "source": [
    "anuncio.limit(3).toPandas()"
   ]
  },
  {
   "cell_type": "code",
   "execution_count": null,
   "id": "bbcd244c",
   "metadata": {
    "ExecuteTime": {
     "end_time": "2022-12-06T23:18:59.858430Z",
     "start_time": "2022-12-06T23:18:58.168035Z"
    },
    "colab": {
     "base_uri": "https://localhost:8080/"
    },
    "executionInfo": {
     "elapsed": 5008,
     "status": "ok",
     "timestamp": 1670515984466,
     "user": {
      "displayName": "francisco strunck",
      "userId": "02683465803792309206"
     },
     "user_tz": 180
    },
    "id": "bbcd244c",
    "outputId": "27ca9d2e-5351-4e06-fe42-6b9bf6e8a77e"
   },
   "outputs": [
    {
     "name": "stdout",
     "output_type": "stream",
     "text": [
      "+-----------+-----+\n",
      "|   tipo_uso|count|\n",
      "+-----------+-----+\n",
      "|  Comercial| 4542|\n",
      "|Residencial|84541|\n",
      "+-----------+-----+\n",
      "\n"
     ]
    }
   ],
   "source": [
    "anuncio\\\n",
    "    .select('tipo_uso')\\\n",
    "    .groupBy('tipo_uso')\\\n",
    "    .count()\\\n",
    "    .show()"
   ]
  },
  {
   "cell_type": "code",
   "execution_count": null,
   "id": "b8e0b271",
   "metadata": {
    "ExecuteTime": {
     "end_time": "2022-12-06T23:19:01.754470Z",
     "start_time": "2022-12-06T23:18:59.940404Z"
    },
    "colab": {
     "base_uri": "https://localhost:8080/"
    },
    "executionInfo": {
     "elapsed": 3820,
     "status": "ok",
     "timestamp": 1670515988269,
     "user": {
      "displayName": "francisco strunck",
      "userId": "02683465803792309206"
     },
     "user_tz": 180
    },
    "id": "b8e0b271",
    "outputId": "801205ce-43e0-4132-cc52-0768db341273"
   },
   "outputs": [
    {
     "name": "stdout",
     "output_type": "stream",
     "text": [
      "+------------+-----+\n",
      "|tipo_unidade|count|\n",
      "+------------+-----+\n",
      "|      Outros|11963|\n",
      "| Apartamento|66801|\n",
      "|        Casa|10319|\n",
      "+------------+-----+\n",
      "\n"
     ]
    }
   ],
   "source": [
    "anuncio\\\n",
    "    .select('tipo_unidade')\\\n",
    "    .groupBy('tipo_unidade')\\\n",
    "    .count()\\\n",
    "    .show()"
   ]
  },
  {
   "cell_type": "code",
   "execution_count": null,
   "id": "bf05f166",
   "metadata": {
    "ExecuteTime": {
     "end_time": "2022-12-06T23:19:03.279363Z",
     "start_time": "2022-12-06T23:19:01.755468Z"
    },
    "colab": {
     "base_uri": "https://localhost:8080/"
    },
    "executionInfo": {
     "elapsed": 4678,
     "status": "ok",
     "timestamp": 1670515992932,
     "user": {
      "displayName": "francisco strunck",
      "userId": "02683465803792309206"
     },
     "user_tz": 180
    },
    "id": "bf05f166",
    "outputId": "0863fa0b-3491-48d7-a1d0-38a5302a61e5"
   },
   "outputs": [
    {
     "name": "stdout",
     "output_type": "stream",
     "text": [
      "+-------+-----+\n",
      "|quartos|count|\n",
      "+-------+-----+\n",
      "|    [3]|29372|\n",
      "|    [2]|28375|\n",
      "|    [4]|15183|\n",
      "|    [1]| 6802|\n",
      "|    [0]| 4403|\n",
      "|    [5]| 2971|\n",
      "|     []|  803|\n",
      "|    [6]|  692|\n",
      "|    [7]|  144|\n",
      "|    [8]|   85|\n",
      "| [2, 3]|   56|\n",
      "| [1, 2]|   31|\n",
      "|   [10]|   30|\n",
      "| [3, 4]|   29|\n",
      "| [2, 4]|   22|\n",
      "|    [9]|   21|\n",
      "| [1, 3]|    9|\n",
      "| [4, 5]|    8|\n",
      "|   [12]|    8|\n",
      "|   [14]|    8|\n",
      "+-------+-----+\n",
      "only showing top 20 rows\n",
      "\n"
     ]
    }
   ],
   "source": [
    "anuncio\\\n",
    "    .select('quartos')\\\n",
    "    .groupBy('quartos')\\\n",
    "    .count()\\\n",
    "    .orderBy('count', ascending = False)\\\n",
    "    .show()"
   ]
  },
  {
   "cell_type": "code",
   "execution_count": null,
   "id": "c3826765",
   "metadata": {
    "ExecuteTime": {
     "end_time": "2022-12-06T23:19:04.748445Z",
     "start_time": "2022-12-06T23:19:03.280489Z"
    },
    "colab": {
     "base_uri": "https://localhost:8080/"
    },
    "executionInfo": {
     "elapsed": 3952,
     "status": "ok",
     "timestamp": 1670515996868,
     "user": {
      "displayName": "francisco strunck",
      "userId": "02683465803792309206"
     },
     "user_tz": 180
    },
    "id": "c3826765",
    "outputId": "a4dc2953-e936-49aa-e1d1-e8ce67edfa01"
   },
   "outputs": [
    {
     "name": "stdout",
     "output_type": "stream",
     "text": [
      "+---------+-----+\n",
      "|banheiros|count|\n",
      "+---------+-----+\n",
      "|      [2]|28029|\n",
      "|      [1]|21015|\n",
      "|      [3]|17663|\n",
      "|      [4]| 8742|\n",
      "|      [5]| 5468|\n",
      "|      [6]| 3123|\n",
      "|      [0]| 1864|\n",
      "|      [7]| 1480|\n",
      "|      [8]|  741|\n",
      "|      [9]|  266|\n",
      "|     [10]|  197|\n",
      "|       []|  173|\n",
      "|     [11]|   68|\n",
      "|     [13]|   40|\n",
      "|   [2, 3]|   40|\n",
      "|     [12]|   35|\n",
      "|   [1, 2]|   23|\n",
      "|     [14]|   17|\n",
      "|   [3, 4]|   16|\n",
      "|   [5, 6]|    9|\n",
      "+---------+-----+\n",
      "only showing top 20 rows\n",
      "\n"
     ]
    }
   ],
   "source": [
    "anuncio\\\n",
    "    .select('banheiros')\\\n",
    "    .groupBy('banheiros')\\\n",
    "    .count()\\\n",
    "    .orderBy('count', ascending = False)\\\n",
    "    .show()"
   ]
  },
  {
   "cell_type": "code",
   "execution_count": null,
   "id": "d61df52f",
   "metadata": {
    "ExecuteTime": {
     "end_time": "2022-12-06T23:19:06.568505Z",
     "start_time": "2022-12-06T23:19:04.750440Z"
    },
    "colab": {
     "base_uri": "https://localhost:8080/"
    },
    "executionInfo": {
     "elapsed": 4663,
     "status": "ok",
     "timestamp": 1670516001516,
     "user": {
      "displayName": "francisco strunck",
      "userId": "02683465803792309206"
     },
     "user_tz": 180
    },
    "id": "d61df52f",
    "outputId": "0eb3fa37-1b32-4d6f-c2bd-4ed24a1b4807"
   },
   "outputs": [
    {
     "name": "stdout",
     "output_type": "stream",
     "text": [
      "+---------+-----+\n",
      "|area_util|count|\n",
      "+---------+-----+\n",
      "|     [70]| 2546|\n",
      "|     [80]| 1875|\n",
      "|     [90]| 1694|\n",
      "|     [60]| 1654|\n",
      "|    [100]| 1604|\n",
      "|    [120]| 1445|\n",
      "|    [110]| 1322|\n",
      "|     [75]| 1286|\n",
      "|     [65]| 1256|\n",
      "|     [50]| 1240|\n",
      "|     [85]| 1083|\n",
      "|    [150]| 1047|\n",
      "|     [55]|  999|\n",
      "|     [45]|  936|\n",
      "|     [78]|  902|\n",
      "|    [140]|  829|\n",
      "|     [68]|  824|\n",
      "|    [180]|  819|\n",
      "|    [130]|  802|\n",
      "|    [160]|  781|\n",
      "+---------+-----+\n",
      "only showing top 20 rows\n",
      "\n"
     ]
    }
   ],
   "source": [
    "anuncio\\\n",
    "    .select('area_util')\\\n",
    "    .groupBy('area_util')\\\n",
    "    .count()\\\n",
    "    .orderBy('count', ascending = False)\\\n",
    "    .show()"
   ]
  },
  {
   "cell_type": "code",
   "execution_count": null,
   "id": "583a2fe8",
   "metadata": {
    "ExecuteTime": {
     "end_time": "2022-12-06T23:19:08.372737Z",
     "start_time": "2022-12-06T23:19:06.570185Z"
    },
    "colab": {
     "base_uri": "https://localhost:8080/"
    },
    "executionInfo": {
     "elapsed": 4167,
     "status": "ok",
     "timestamp": 1670516005665,
     "user": {
      "displayName": "francisco strunck",
      "userId": "02683465803792309206"
     },
     "user_tz": 180
    },
    "id": "583a2fe8",
    "outputId": "0356820d-3670-46c0-9931-854a506af8df"
   },
   "outputs": [
    {
     "name": "stdout",
     "output_type": "stream",
     "text": [
      "+----------+-----+\n",
      "|area_total|count|\n",
      "+----------+-----+\n",
      "|        []|12595|\n",
      "|      [70]| 2195|\n",
      "|      [80]| 1528|\n",
      "|     [100]| 1385|\n",
      "|      [60]| 1362|\n",
      "|      [90]| 1338|\n",
      "|     [120]| 1321|\n",
      "|      [75]| 1145|\n",
      "|     [110]| 1144|\n",
      "|      [65]| 1050|\n",
      "|      [50]| 1046|\n",
      "|     [150]|  934|\n",
      "|      [85]|  899|\n",
      "|      [55]|  827|\n",
      "|      [78]|  787|\n",
      "|     [140]|  730|\n",
      "|      [45]|  729|\n",
      "|     [130]|  723|\n",
      "|      [68]|  698|\n",
      "|     [180]|  692|\n",
      "+----------+-----+\n",
      "only showing top 20 rows\n",
      "\n"
     ]
    }
   ],
   "source": [
    "anuncio\\\n",
    "    .select('area_total')\\\n",
    "    .groupBy('area_total')\\\n",
    "    .count()\\\n",
    "    .orderBy('count', ascending = False)\\\n",
    "    .show()"
   ]
  },
  {
   "cell_type": "markdown",
   "id": "9e3ef9e1",
   "metadata": {
    "id": "9e3ef9e1"
   },
   "source": [
    "Como a formação de preços de imóveis residenciais e comerciais seguem padrões diferentes, a equipe de cientistas de dados solicitou que fossem apenas coletadas informações para imóveis residenciais. Remova os registros do tipo comercial de nosso DataFrame."
   ]
  },
  {
   "cell_type": "code",
   "execution_count": null,
   "id": "a95feb26",
   "metadata": {
    "ExecuteTime": {
     "end_time": "2022-12-06T23:19:08.420218Z",
     "start_time": "2022-12-06T23:19:08.374729Z"
    },
    "id": "a95feb26"
   },
   "outputs": [],
   "source": [
    "anuncio = anuncio.filter('tipo_uso==\"Residencial\"')"
   ]
  },
  {
   "cell_type": "code",
   "execution_count": null,
   "id": "163f2411",
   "metadata": {
    "ExecuteTime": {
     "end_time": "2022-12-06T23:19:09.527101Z",
     "start_time": "2022-12-06T23:19:08.422212Z"
    },
    "colab": {
     "base_uri": "https://localhost:8080/",
     "height": 450
    },
    "executionInfo": {
     "elapsed": 2747,
     "status": "ok",
     "timestamp": 1670516008397,
     "user": {
      "displayName": "francisco strunck",
      "userId": "02683465803792309206"
     },
     "user_tz": 180
    },
    "id": "163f2411",
    "outputId": "62c8285b-5a62-445e-b89b-f01316a56ad2"
   },
   "outputs": [
    {
     "data": {
      "text/html": [
       "\n",
       "  <div id=\"df-aab8c236-7a6d-47f9-a1dd-cc89e8e67316\">\n",
       "    <div class=\"colab-df-container\">\n",
       "      <div>\n",
       "<style scoped>\n",
       "    .dataframe tbody tr th:only-of-type {\n",
       "        vertical-align: middle;\n",
       "    }\n",
       "\n",
       "    .dataframe tbody tr th {\n",
       "        vertical-align: top;\n",
       "    }\n",
       "\n",
       "    .dataframe thead th {\n",
       "        text-align: right;\n",
       "    }\n",
       "</style>\n",
       "<table border=\"1\" class=\"dataframe\">\n",
       "  <thead>\n",
       "    <tr style=\"text-align: right;\">\n",
       "      <th></th>\n",
       "      <th>andar</th>\n",
       "      <th>area_total</th>\n",
       "      <th>area_util</th>\n",
       "      <th>banheiros</th>\n",
       "      <th>caracteristicas</th>\n",
       "      <th>endereco</th>\n",
       "      <th>id</th>\n",
       "      <th>quartos</th>\n",
       "      <th>suites</th>\n",
       "      <th>tipo_anuncio</th>\n",
       "      <th>tipo_unidade</th>\n",
       "      <th>tipo_uso</th>\n",
       "      <th>vaga</th>\n",
       "      <th>valores</th>\n",
       "    </tr>\n",
       "  </thead>\n",
       "  <tbody>\n",
       "    <tr>\n",
       "      <th>0</th>\n",
       "      <td>0</td>\n",
       "      <td>[120]</td>\n",
       "      <td>[120]</td>\n",
       "      <td>[0]</td>\n",
       "      <td>[Portão eletrônico, Condomínio fechado]</td>\n",
       "      <td>(Campo Grande, 23095071, Rio de Janeiro, Rio d...</td>\n",
       "      <td>ac6cb348-69d6-45af-9589-dc34099370d8</td>\n",
       "      <td>[0]</td>\n",
       "      <td>[]</td>\n",
       "      <td>Usado</td>\n",
       "      <td>Outros</td>\n",
       "      <td>Residencial</td>\n",
       "      <td>[]</td>\n",
       "      <td>[(80, None, Venda, 10000)]</td>\n",
       "    </tr>\n",
       "    <tr>\n",
       "      <th>1</th>\n",
       "      <td>0</td>\n",
       "      <td>[3]</td>\n",
       "      <td>[3]</td>\n",
       "      <td>[0]</td>\n",
       "      <td>[]</td>\n",
       "      <td>(São Cristóvão, 20931670, Rio de Janeiro, Rio ...</td>\n",
       "      <td>e032b908-ef42-4d4a-8125-eba4792bacbe</td>\n",
       "      <td>[0]</td>\n",
       "      <td>[]</td>\n",
       "      <td>Usado</td>\n",
       "      <td>Outros</td>\n",
       "      <td>Residencial</td>\n",
       "      <td>[]</td>\n",
       "      <td>[(0, 0, Venda, 5000)]</td>\n",
       "    </tr>\n",
       "    <tr>\n",
       "      <th>2</th>\n",
       "      <td>3</td>\n",
       "      <td>[43]</td>\n",
       "      <td>[43]</td>\n",
       "      <td>[1]</td>\n",
       "      <td>[Academia, Churrasqueira, Playground, Salão de...</td>\n",
       "      <td>(Paciência, 23585430, Rio de Janeiro, Rio de J...</td>\n",
       "      <td>d2e3a3aa-09b5-45a0-9dcd-918847cd3ca3</td>\n",
       "      <td>[2]</td>\n",
       "      <td>[]</td>\n",
       "      <td>Usado</td>\n",
       "      <td>Apartamento</td>\n",
       "      <td>Residencial</td>\n",
       "      <td>[1]</td>\n",
       "      <td>[(245, None, Venda, 15000)]</td>\n",
       "    </tr>\n",
       "  </tbody>\n",
       "</table>\n",
       "</div>\n",
       "      <button class=\"colab-df-convert\" onclick=\"convertToInteractive('df-aab8c236-7a6d-47f9-a1dd-cc89e8e67316')\"\n",
       "              title=\"Convert this dataframe to an interactive table.\"\n",
       "              style=\"display:none;\">\n",
       "        \n",
       "  <svg xmlns=\"http://www.w3.org/2000/svg\" height=\"24px\"viewBox=\"0 0 24 24\"\n",
       "       width=\"24px\">\n",
       "    <path d=\"M0 0h24v24H0V0z\" fill=\"none\"/>\n",
       "    <path d=\"M18.56 5.44l.94 2.06.94-2.06 2.06-.94-2.06-.94-.94-2.06-.94 2.06-2.06.94zm-11 1L8.5 8.5l.94-2.06 2.06-.94-2.06-.94L8.5 2.5l-.94 2.06-2.06.94zm10 10l.94 2.06.94-2.06 2.06-.94-2.06-.94-.94-2.06-.94 2.06-2.06.94z\"/><path d=\"M17.41 7.96l-1.37-1.37c-.4-.4-.92-.59-1.43-.59-.52 0-1.04.2-1.43.59L10.3 9.45l-7.72 7.72c-.78.78-.78 2.05 0 2.83L4 21.41c.39.39.9.59 1.41.59.51 0 1.02-.2 1.41-.59l7.78-7.78 2.81-2.81c.8-.78.8-2.07 0-2.86zM5.41 20L4 18.59l7.72-7.72 1.47 1.35L5.41 20z\"/>\n",
       "  </svg>\n",
       "      </button>\n",
       "      \n",
       "  <style>\n",
       "    .colab-df-container {\n",
       "      display:flex;\n",
       "      flex-wrap:wrap;\n",
       "      gap: 12px;\n",
       "    }\n",
       "\n",
       "    .colab-df-convert {\n",
       "      background-color: #E8F0FE;\n",
       "      border: none;\n",
       "      border-radius: 50%;\n",
       "      cursor: pointer;\n",
       "      display: none;\n",
       "      fill: #1967D2;\n",
       "      height: 32px;\n",
       "      padding: 0 0 0 0;\n",
       "      width: 32px;\n",
       "    }\n",
       "\n",
       "    .colab-df-convert:hover {\n",
       "      background-color: #E2EBFA;\n",
       "      box-shadow: 0px 1px 2px rgba(60, 64, 67, 0.3), 0px 1px 3px 1px rgba(60, 64, 67, 0.15);\n",
       "      fill: #174EA6;\n",
       "    }\n",
       "\n",
       "    [theme=dark] .colab-df-convert {\n",
       "      background-color: #3B4455;\n",
       "      fill: #D2E3FC;\n",
       "    }\n",
       "\n",
       "    [theme=dark] .colab-df-convert:hover {\n",
       "      background-color: #434B5C;\n",
       "      box-shadow: 0px 1px 3px 1px rgba(0, 0, 0, 0.15);\n",
       "      filter: drop-shadow(0px 1px 2px rgba(0, 0, 0, 0.3));\n",
       "      fill: #FFFFFF;\n",
       "    }\n",
       "  </style>\n",
       "\n",
       "      <script>\n",
       "        const buttonEl =\n",
       "          document.querySelector('#df-aab8c236-7a6d-47f9-a1dd-cc89e8e67316 button.colab-df-convert');\n",
       "        buttonEl.style.display =\n",
       "          google.colab.kernel.accessAllowed ? 'block' : 'none';\n",
       "\n",
       "        async function convertToInteractive(key) {\n",
       "          const element = document.querySelector('#df-aab8c236-7a6d-47f9-a1dd-cc89e8e67316');\n",
       "          const dataTable =\n",
       "            await google.colab.kernel.invokeFunction('convertToInteractive',\n",
       "                                                     [key], {});\n",
       "          if (!dataTable) return;\n",
       "\n",
       "          const docLinkHtml = 'Like what you see? Visit the ' +\n",
       "            '<a target=\"_blank\" href=https://colab.research.google.com/notebooks/data_table.ipynb>data table notebook</a>'\n",
       "            + ' to learn more about interactive tables.';\n",
       "          element.innerHTML = '';\n",
       "          dataTable['output_type'] = 'display_data';\n",
       "          await google.colab.output.renderOutput(dataTable, element);\n",
       "          const docLink = document.createElement('div');\n",
       "          docLink.innerHTML = docLinkHtml;\n",
       "          element.appendChild(docLink);\n",
       "        }\n",
       "      </script>\n",
       "    </div>\n",
       "  </div>\n",
       "  "
      ],
      "text/plain": [
       "   andar area_total area_util banheiros  \\\n",
       "0      0      [120]     [120]       [0]   \n",
       "1      0        [3]       [3]       [0]   \n",
       "2      3       [43]      [43]       [1]   \n",
       "\n",
       "                                     caracteristicas  \\\n",
       "0            [Portão eletrônico, Condomínio fechado]   \n",
       "1                                                 []   \n",
       "2  [Academia, Churrasqueira, Playground, Salão de...   \n",
       "\n",
       "                                            endereco  \\\n",
       "0  (Campo Grande, 23095071, Rio de Janeiro, Rio d...   \n",
       "1  (São Cristóvão, 20931670, Rio de Janeiro, Rio ...   \n",
       "2  (Paciência, 23585430, Rio de Janeiro, Rio de J...   \n",
       "\n",
       "                                     id quartos suites tipo_anuncio  \\\n",
       "0  ac6cb348-69d6-45af-9589-dc34099370d8     [0]     []        Usado   \n",
       "1  e032b908-ef42-4d4a-8125-eba4792bacbe     [0]     []        Usado   \n",
       "2  d2e3a3aa-09b5-45a0-9dcd-918847cd3ca3     [2]     []        Usado   \n",
       "\n",
       "  tipo_unidade     tipo_uso vaga                      valores  \n",
       "0       Outros  Residencial   []   [(80, None, Venda, 10000)]  \n",
       "1       Outros  Residencial   []        [(0, 0, Venda, 5000)]  \n",
       "2  Apartamento  Residencial  [1]  [(245, None, Venda, 15000)]  "
      ]
     },
     "execution_count": 23,
     "metadata": {},
     "output_type": "execute_result"
    }
   ],
   "source": [
    "anuncio.limit(3).toPandas()"
   ]
  },
  {
   "cell_type": "code",
   "execution_count": null,
   "id": "7c92e280",
   "metadata": {
    "ExecuteTime": {
     "end_time": "2022-12-06T23:19:10.954701Z",
     "start_time": "2022-12-06T23:19:09.530104Z"
    },
    "colab": {
     "base_uri": "https://localhost:8080/"
    },
    "executionInfo": {
     "elapsed": 4414,
     "status": "ok",
     "timestamp": 1670516012802,
     "user": {
      "displayName": "francisco strunck",
      "userId": "02683465803792309206"
     },
     "user_tz": 180
    },
    "id": "7c92e280",
    "outputId": "9e5f57b2-3d58-43e6-c614-7d5e68b15481"
   },
   "outputs": [
    {
     "name": "stdout",
     "output_type": "stream",
     "text": [
      "+-----------+-----+\n",
      "|   tipo_uso|count|\n",
      "+-----------+-----+\n",
      "|Residencial|84541|\n",
      "+-----------+-----+\n",
      "\n"
     ]
    }
   ],
   "source": [
    "anuncio\\\n",
    "    .groupBy('tipo_uso')\\\n",
    "    .count()\\\n",
    "    .show()"
   ]
  },
  {
   "cell_type": "code",
   "execution_count": null,
   "id": "1cdc77e4",
   "metadata": {
    "ExecuteTime": {
     "end_time": "2022-12-06T23:19:12.244629Z",
     "start_time": "2022-12-06T23:19:10.955696Z"
    },
    "colab": {
     "base_uri": "https://localhost:8080/"
    },
    "executionInfo": {
     "elapsed": 3586,
     "status": "ok",
     "timestamp": 1670516016363,
     "user": {
      "displayName": "francisco strunck",
      "userId": "02683465803792309206"
     },
     "user_tz": 180
    },
    "id": "1cdc77e4",
    "outputId": "cd01acd5-8419-4b21-ea2f-9d2f311772f7"
   },
   "outputs": [
    {
     "name": "stdout",
     "output_type": "stream",
     "text": [
      "+------------+-----+\n",
      "|tipo_unidade|count|\n",
      "+------------+-----+\n",
      "|      Outros| 7517|\n",
      "| Apartamento|66797|\n",
      "|        Casa|10227|\n",
      "+------------+-----+\n",
      "\n"
     ]
    }
   ],
   "source": [
    "anuncio\\\n",
    "    .select('tipo_unidade')\\\n",
    "    .groupBy('tipo_unidade')\\\n",
    "    .count()\\\n",
    "    .show()"
   ]
  },
  {
   "cell_type": "markdown",
   "id": "0123f418",
   "metadata": {
    "id": "0123f418"
   },
   "source": [
    "Temos três categorias (apartamento, casa e outros). A equipe de cientistas de dados solicitou apenas a extração de informações sobre APARTAMENTOS. Vamos fazer a filtragem apenas para estes tipo e atualizar nosso DataFrame."
   ]
  },
  {
   "cell_type": "code",
   "execution_count": null,
   "id": "d6a61caf",
   "metadata": {
    "ExecuteTime": {
     "end_time": "2022-12-06T23:19:12.260064Z",
     "start_time": "2022-12-06T23:19:12.245613Z"
    },
    "id": "d6a61caf"
   },
   "outputs": [],
   "source": [
    "anuncio = anuncio.filter('tipo_unidade==\"Apartamento\"')"
   ]
  },
  {
   "cell_type": "code",
   "execution_count": null,
   "id": "243d655d",
   "metadata": {
    "ExecuteTime": {
     "end_time": "2022-12-06T23:19:13.471696Z",
     "start_time": "2022-12-06T23:19:12.263058Z"
    },
    "colab": {
     "base_uri": "https://localhost:8080/",
     "height": 416
    },
    "executionInfo": {
     "elapsed": 2663,
     "status": "ok",
     "timestamp": 1670516019017,
     "user": {
      "displayName": "francisco strunck",
      "userId": "02683465803792309206"
     },
     "user_tz": 180
    },
    "id": "243d655d",
    "outputId": "f434ee47-714a-401d-d6c5-90195ef2f14d"
   },
   "outputs": [
    {
     "data": {
      "text/html": [
       "\n",
       "  <div id=\"df-e59f8ff9-192c-4e9c-a2d3-5bb77573e3fe\">\n",
       "    <div class=\"colab-df-container\">\n",
       "      <div>\n",
       "<style scoped>\n",
       "    .dataframe tbody tr th:only-of-type {\n",
       "        vertical-align: middle;\n",
       "    }\n",
       "\n",
       "    .dataframe tbody tr th {\n",
       "        vertical-align: top;\n",
       "    }\n",
       "\n",
       "    .dataframe thead th {\n",
       "        text-align: right;\n",
       "    }\n",
       "</style>\n",
       "<table border=\"1\" class=\"dataframe\">\n",
       "  <thead>\n",
       "    <tr style=\"text-align: right;\">\n",
       "      <th></th>\n",
       "      <th>andar</th>\n",
       "      <th>area_total</th>\n",
       "      <th>area_util</th>\n",
       "      <th>banheiros</th>\n",
       "      <th>caracteristicas</th>\n",
       "      <th>endereco</th>\n",
       "      <th>id</th>\n",
       "      <th>quartos</th>\n",
       "      <th>suites</th>\n",
       "      <th>tipo_anuncio</th>\n",
       "      <th>tipo_unidade</th>\n",
       "      <th>tipo_uso</th>\n",
       "      <th>vaga</th>\n",
       "      <th>valores</th>\n",
       "    </tr>\n",
       "  </thead>\n",
       "  <tbody>\n",
       "    <tr>\n",
       "      <th>0</th>\n",
       "      <td>3</td>\n",
       "      <td>[43]</td>\n",
       "      <td>[43]</td>\n",
       "      <td>[1]</td>\n",
       "      <td>[Academia, Churrasqueira, Playground, Salão de...</td>\n",
       "      <td>(Paciência, 23585430, Rio de Janeiro, Rio de J...</td>\n",
       "      <td>d2e3a3aa-09b5-45a0-9dcd-918847cd3ca3</td>\n",
       "      <td>[2]</td>\n",
       "      <td>[]</td>\n",
       "      <td>Usado</td>\n",
       "      <td>Apartamento</td>\n",
       "      <td>Residencial</td>\n",
       "      <td>[1]</td>\n",
       "      <td>[(245, None, Venda, 15000)]</td>\n",
       "    </tr>\n",
       "    <tr>\n",
       "      <th>1</th>\n",
       "      <td>2</td>\n",
       "      <td>[42]</td>\n",
       "      <td>[42]</td>\n",
       "      <td>[1]</td>\n",
       "      <td>[Churrasqueira, Playground, Salão de festas, C...</td>\n",
       "      <td>(Paciência, 23585430, Rio de Janeiro, Rio de J...</td>\n",
       "      <td>085bab2c-87ad-452a-bd0f-8b1451509f84</td>\n",
       "      <td>[2]</td>\n",
       "      <td>[]</td>\n",
       "      <td>Usado</td>\n",
       "      <td>Apartamento</td>\n",
       "      <td>Residencial</td>\n",
       "      <td>[1]</td>\n",
       "      <td>[(0, 0, Venda, 15000)]</td>\n",
       "    </tr>\n",
       "    <tr>\n",
       "      <th>2</th>\n",
       "      <td>1</td>\n",
       "      <td>[41]</td>\n",
       "      <td>[41]</td>\n",
       "      <td>[1]</td>\n",
       "      <td>[Portaria 24h, Condomínio fechado, Playground,...</td>\n",
       "      <td>(Guaratiba, 23036060, Rio de Janeiro, Rio de J...</td>\n",
       "      <td>18d22cbe-1b86-4764-8def-70c615f15a61</td>\n",
       "      <td>[2]</td>\n",
       "      <td>[]</td>\n",
       "      <td>Usado</td>\n",
       "      <td>Apartamento</td>\n",
       "      <td>Residencial</td>\n",
       "      <td>[1]</td>\n",
       "      <td>[(0, 0, Venda, 20000)]</td>\n",
       "    </tr>\n",
       "  </tbody>\n",
       "</table>\n",
       "</div>\n",
       "      <button class=\"colab-df-convert\" onclick=\"convertToInteractive('df-e59f8ff9-192c-4e9c-a2d3-5bb77573e3fe')\"\n",
       "              title=\"Convert this dataframe to an interactive table.\"\n",
       "              style=\"display:none;\">\n",
       "        \n",
       "  <svg xmlns=\"http://www.w3.org/2000/svg\" height=\"24px\"viewBox=\"0 0 24 24\"\n",
       "       width=\"24px\">\n",
       "    <path d=\"M0 0h24v24H0V0z\" fill=\"none\"/>\n",
       "    <path d=\"M18.56 5.44l.94 2.06.94-2.06 2.06-.94-2.06-.94-.94-2.06-.94 2.06-2.06.94zm-11 1L8.5 8.5l.94-2.06 2.06-.94-2.06-.94L8.5 2.5l-.94 2.06-2.06.94zm10 10l.94 2.06.94-2.06 2.06-.94-2.06-.94-.94-2.06-.94 2.06-2.06.94z\"/><path d=\"M17.41 7.96l-1.37-1.37c-.4-.4-.92-.59-1.43-.59-.52 0-1.04.2-1.43.59L10.3 9.45l-7.72 7.72c-.78.78-.78 2.05 0 2.83L4 21.41c.39.39.9.59 1.41.59.51 0 1.02-.2 1.41-.59l7.78-7.78 2.81-2.81c.8-.78.8-2.07 0-2.86zM5.41 20L4 18.59l7.72-7.72 1.47 1.35L5.41 20z\"/>\n",
       "  </svg>\n",
       "      </button>\n",
       "      \n",
       "  <style>\n",
       "    .colab-df-container {\n",
       "      display:flex;\n",
       "      flex-wrap:wrap;\n",
       "      gap: 12px;\n",
       "    }\n",
       "\n",
       "    .colab-df-convert {\n",
       "      background-color: #E8F0FE;\n",
       "      border: none;\n",
       "      border-radius: 50%;\n",
       "      cursor: pointer;\n",
       "      display: none;\n",
       "      fill: #1967D2;\n",
       "      height: 32px;\n",
       "      padding: 0 0 0 0;\n",
       "      width: 32px;\n",
       "    }\n",
       "\n",
       "    .colab-df-convert:hover {\n",
       "      background-color: #E2EBFA;\n",
       "      box-shadow: 0px 1px 2px rgba(60, 64, 67, 0.3), 0px 1px 3px 1px rgba(60, 64, 67, 0.15);\n",
       "      fill: #174EA6;\n",
       "    }\n",
       "\n",
       "    [theme=dark] .colab-df-convert {\n",
       "      background-color: #3B4455;\n",
       "      fill: #D2E3FC;\n",
       "    }\n",
       "\n",
       "    [theme=dark] .colab-df-convert:hover {\n",
       "      background-color: #434B5C;\n",
       "      box-shadow: 0px 1px 3px 1px rgba(0, 0, 0, 0.15);\n",
       "      filter: drop-shadow(0px 1px 2px rgba(0, 0, 0, 0.3));\n",
       "      fill: #FFFFFF;\n",
       "    }\n",
       "  </style>\n",
       "\n",
       "      <script>\n",
       "        const buttonEl =\n",
       "          document.querySelector('#df-e59f8ff9-192c-4e9c-a2d3-5bb77573e3fe button.colab-df-convert');\n",
       "        buttonEl.style.display =\n",
       "          google.colab.kernel.accessAllowed ? 'block' : 'none';\n",
       "\n",
       "        async function convertToInteractive(key) {\n",
       "          const element = document.querySelector('#df-e59f8ff9-192c-4e9c-a2d3-5bb77573e3fe');\n",
       "          const dataTable =\n",
       "            await google.colab.kernel.invokeFunction('convertToInteractive',\n",
       "                                                     [key], {});\n",
       "          if (!dataTable) return;\n",
       "\n",
       "          const docLinkHtml = 'Like what you see? Visit the ' +\n",
       "            '<a target=\"_blank\" href=https://colab.research.google.com/notebooks/data_table.ipynb>data table notebook</a>'\n",
       "            + ' to learn more about interactive tables.';\n",
       "          element.innerHTML = '';\n",
       "          dataTable['output_type'] = 'display_data';\n",
       "          await google.colab.output.renderOutput(dataTable, element);\n",
       "          const docLink = document.createElement('div');\n",
       "          docLink.innerHTML = docLinkHtml;\n",
       "          element.appendChild(docLink);\n",
       "        }\n",
       "      </script>\n",
       "    </div>\n",
       "  </div>\n",
       "  "
      ],
      "text/plain": [
       "   andar area_total area_util banheiros  \\\n",
       "0      3       [43]      [43]       [1]   \n",
       "1      2       [42]      [42]       [1]   \n",
       "2      1       [41]      [41]       [1]   \n",
       "\n",
       "                                     caracteristicas  \\\n",
       "0  [Academia, Churrasqueira, Playground, Salão de...   \n",
       "1  [Churrasqueira, Playground, Salão de festas, C...   \n",
       "2  [Portaria 24h, Condomínio fechado, Playground,...   \n",
       "\n",
       "                                            endereco  \\\n",
       "0  (Paciência, 23585430, Rio de Janeiro, Rio de J...   \n",
       "1  (Paciência, 23585430, Rio de Janeiro, Rio de J...   \n",
       "2  (Guaratiba, 23036060, Rio de Janeiro, Rio de J...   \n",
       "\n",
       "                                     id quartos suites tipo_anuncio  \\\n",
       "0  d2e3a3aa-09b5-45a0-9dcd-918847cd3ca3     [2]     []        Usado   \n",
       "1  085bab2c-87ad-452a-bd0f-8b1451509f84     [2]     []        Usado   \n",
       "2  18d22cbe-1b86-4764-8def-70c615f15a61     [2]     []        Usado   \n",
       "\n",
       "  tipo_unidade     tipo_uso vaga                      valores  \n",
       "0  Apartamento  Residencial  [1]  [(245, None, Venda, 15000)]  \n",
       "1  Apartamento  Residencial  [1]       [(0, 0, Venda, 15000)]  \n",
       "2  Apartamento  Residencial  [1]       [(0, 0, Venda, 20000)]  "
      ]
     },
     "execution_count": 27,
     "metadata": {},
     "output_type": "execute_result"
    }
   ],
   "source": [
    "anuncio.limit(3).toPandas()"
   ]
  },
  {
   "cell_type": "code",
   "execution_count": null,
   "id": "332beeeb",
   "metadata": {
    "ExecuteTime": {
     "end_time": "2022-12-06T23:19:14.859294Z",
     "start_time": "2022-12-06T23:19:13.472688Z"
    },
    "colab": {
     "base_uri": "https://localhost:8080/"
    },
    "executionInfo": {
     "elapsed": 3296,
     "status": "ok",
     "timestamp": 1670516022301,
     "user": {
      "displayName": "francisco strunck",
      "userId": "02683465803792309206"
     },
     "user_tz": 180
    },
    "id": "332beeeb",
    "outputId": "13d98e6e-f2f6-41fc-c6cd-7aad77be5426"
   },
   "outputs": [
    {
     "name": "stdout",
     "output_type": "stream",
     "text": [
      "+------------+-----+\n",
      "|tipo_unidade|count|\n",
      "+------------+-----+\n",
      "| Apartamento|66797|\n",
      "+------------+-----+\n",
      "\n"
     ]
    }
   ],
   "source": [
    "anuncio\\\n",
    "    .groupBy('tipo_unidade')\\\n",
    "    .count()\\\n",
    "    .show()"
   ]
  },
  {
   "cell_type": "markdown",
   "id": "04221461",
   "metadata": {
    "id": "04221461"
   },
   "source": [
    "**Avaliando as informações de configuração dos imóveis**\n",
    "\n",
    "As informações de configuração dos imóveis podem ser obtidas nas colunas quartos, suites, banheiros, vaga, area_total, area_util. Note que elas vêm em formato de listas e isso tem um motivo.\n",
    "\n",
    "A imobiliário InsightPlaces trabalha com dois tipos de imóveis. Imóveis usados e imóveis novos (lançamentos). Os imóveis novos geralmente são anunciados ainda em fase de construção e quando são feitos anúncios deste tipo de imóvel o que realmente é anunciado é o empreendimento e não apenas uma das unidades do empreendimento. Acontece que em um empreendimento pode ocorrer de existir mais de um tipo de configuração para os imóveis (exemplo: imóveis de 2 a 4 quartos).\n",
    "\n",
    "Para dar suporte a este tipo de anúncio os campos acima citados são configurados como listas e no caso de imóveis usados são preenchidos apenas com um valor (exemplo: imóvel de 2 quartos -> [2]) e no caso dos lançamentos podem ser preenchidos com apenas um valor (quando o empreendimento tem imóveis com a mesma configuração) ou com dois valores (quando o empreendimento apresenta imóveis com mais configurações. Exemplos: imóveis de 2 a 4 quartos -> [2, 4]).\n",
    "\n",
    "Vamos fazer um filtro segundo o tipo de anúncio para mostrar apenas os imóveis do tipo LANÇAMENTO e verificar a ocorrência destes casos de empreendimentos com imóveis com mais de uma configuração (vamos selecionar apenas as colunas quartos, suites, banheiros, vaga, area_total, area_util)."
   ]
  },
  {
   "cell_type": "code",
   "execution_count": null,
   "id": "e18e7bc8",
   "metadata": {
    "ExecuteTime": {
     "end_time": "2022-12-06T23:19:16.496799Z",
     "start_time": "2022-12-06T23:19:14.860290Z"
    },
    "colab": {
     "base_uri": "https://localhost:8080/"
    },
    "executionInfo": {
     "elapsed": 3454,
     "status": "ok",
     "timestamp": 1670516025746,
     "user": {
      "displayName": "francisco strunck",
      "userId": "02683465803792309206"
     },
     "user_tz": 180
    },
    "id": "e18e7bc8",
    "outputId": "595b2a75-6010-4e6d-ea76-0666aa408ebb"
   },
   "outputs": [
    {
     "name": "stdout",
     "output_type": "stream",
     "text": [
      "+------------+-----+\n",
      "|tipo_anuncio|count|\n",
      "+------------+-----+\n",
      "|       Usado|66562|\n",
      "|  Lançamento|  235|\n",
      "+------------+-----+\n",
      "\n"
     ]
    }
   ],
   "source": [
    "anuncio\\\n",
    "    .select('tipo_anuncio')\\\n",
    "    .groupBy('tipo_anuncio')\\\n",
    "    .count()\\\n",
    "    .show()"
   ]
  },
  {
   "cell_type": "code",
   "execution_count": null,
   "id": "1ab79cd3",
   "metadata": {
    "ExecuteTime": {
     "end_time": "2022-12-06T23:19:17.495973Z",
     "start_time": "2022-12-06T23:19:16.497865Z"
    },
    "colab": {
     "base_uri": "https://localhost:8080/"
    },
    "executionInfo": {
     "elapsed": 2484,
     "status": "ok",
     "timestamp": 1670516028206,
     "user": {
      "displayName": "francisco strunck",
      "userId": "02683465803792309206"
     },
     "user_tz": 180
    },
    "id": "1ab79cd3",
    "outputId": "b80b3a63-dd66-435a-e27d-8beb911bff0b"
   },
   "outputs": [
    {
     "name": "stdout",
     "output_type": "stream",
     "text": [
      "+-------+------+---------+----+----------+---------+\n",
      "|quartos|suites|banheiros|vaga|area_total|area_util|\n",
      "+-------+------+---------+----+----------+---------+\n",
      "|    [2]|    []|      [1]| [1]|      [43]|     [43]|\n",
      "|    [2]|    []|      [1]| [1]|      [42]|     [42]|\n",
      "|    [2]|    []|      [1]| [1]|      [41]|     [41]|\n",
      "|    [2]|    []|      [1]| [0]|      [43]|     [43]|\n",
      "|    [2]|    []|      [1]| [1]|      [43]|     [43]|\n",
      "|    [2]|   [0]|      [1]| [0]|      [43]|     [43]|\n",
      "|    [2]|    []|      [1]| [1]|      [43]|     [43]|\n",
      "|    [2]|   [0]|      [1]| [1]|      [43]|     [43]|\n",
      "|    [2]|   [0]|      [1]| [1]|      [43]|     [43]|\n",
      "|    [2]|    []|      [1]| [1]|      [43]|     [43]|\n",
      "+-------+------+---------+----+----------+---------+\n",
      "only showing top 10 rows\n",
      "\n"
     ]
    }
   ],
   "source": [
    "anuncio\\\n",
    "    .select('quartos', 'suites', 'banheiros', 'vaga', 'area_total', 'area_util')\\\n",
    "    .filter('tipo_anuncio==\"Usado\"')\\\n",
    "    .show(10)"
   ]
  },
  {
   "cell_type": "code",
   "execution_count": null,
   "id": "e908e3f2",
   "metadata": {
    "ExecuteTime": {
     "end_time": "2022-12-06T23:19:18.727678Z",
     "start_time": "2022-12-06T23:19:17.497379Z"
    },
    "colab": {
     "base_uri": "https://localhost:8080/"
    },
    "executionInfo": {
     "elapsed": 3363,
     "status": "ok",
     "timestamp": 1670516031557,
     "user": {
      "displayName": "francisco strunck",
      "userId": "02683465803792309206"
     },
     "user_tz": 180
    },
    "id": "e908e3f2",
    "outputId": "6bf6df58-f292-4bac-f5d0-03dd7e134c63"
   },
   "outputs": [
    {
     "name": "stdout",
     "output_type": "stream",
     "text": [
      "+-------+------+---------+----+----------+---------+\n",
      "|quartos|suites|banheiros|vaga|area_total|area_util|\n",
      "+-------+------+---------+----+----------+---------+\n",
      "| [1, 2]|   [0]|      [0]| [0]|        []| [41, 51]|\n",
      "| [1, 2]|   [0]|      [0]| [0]|        []|     [41]|\n",
      "|    [0]|   [0]|      [1]| [0]|        []| [21, 22]|\n",
      "|    [0]|   [0]|      [0]| [0]|        []|[20, 159]|\n",
      "|    [0]|   [0]|      [0]| [0]|        []|[22, 150]|\n",
      "|    [0]|   [0]|      [0]| [1]|        []| [20, 51]|\n",
      "|    [0]|   [0]|      [0]| [0]|        []|[27, 202]|\n",
      "| [1, 2]|   [1]|      [2]| [1]|        []|[39, 112]|\n",
      "|    [2]|   [0]|      [1]| [1]|        []| [41, 45]|\n",
      "| [2, 3]|   [0]|      [1]| [1]|        []| [43, 52]|\n",
      "+-------+------+---------+----+----------+---------+\n",
      "only showing top 10 rows\n",
      "\n"
     ]
    }
   ],
   "source": [
    "anuncio\\\n",
    "    .select('quartos', 'suites', 'banheiros', 'vaga', 'area_total', 'area_util')\\\n",
    "    .filter('tipo_anuncio==\"Lançamento\"')\\\n",
    "    .show(10)"
   ]
  },
  {
   "cell_type": "markdown",
   "id": "7da2602e",
   "metadata": {
    "id": "7da2602e"
   },
   "source": [
    "Neste contexto precisamos acrescentar duas etapas em nosso pipeline de extração e tratamento dos dados para a equipe de ciência de dados da imobiliária. Primeiro precisamos eliminar os registros de lançamentos e depois transformar os dados em formato de lista para o formato numérico.\n",
    "\n",
    "O primeiro procedimento foi um pedido do próprio time de cientistas de dados, visto que o objetivo do projeto e avaliar imóveis usados e o segundo procedimento seria um tratamento básico para possibilitar a utilização dos dados por algoritmos de machine learning."
   ]
  },
  {
   "cell_type": "markdown",
   "id": "32f2c889",
   "metadata": {
    "id": "32f2c889"
   },
   "source": [
    "**Selecione apenas os imóveis usados**"
   ]
  },
  {
   "cell_type": "code",
   "execution_count": null,
   "id": "490a8d11",
   "metadata": {
    "ExecuteTime": {
     "end_time": "2022-12-06T23:19:20.075732Z",
     "start_time": "2022-12-06T23:19:18.728675Z"
    },
    "colab": {
     "base_uri": "https://localhost:8080/"
    },
    "executionInfo": {
     "elapsed": 3050,
     "status": "ok",
     "timestamp": 1670516034594,
     "user": {
      "displayName": "francisco strunck",
      "userId": "02683465803792309206"
     },
     "user_tz": 180
    },
    "id": "490a8d11",
    "outputId": "4b48a574-beb4-45a5-c33d-ae7c15958335"
   },
   "outputs": [
    {
     "name": "stdout",
     "output_type": "stream",
     "text": [
      "+------------+-----+\n",
      "|tipo_anuncio|count|\n",
      "+------------+-----+\n",
      "|       Usado|66562|\n",
      "|  Lançamento|  235|\n",
      "+------------+-----+\n",
      "\n"
     ]
    }
   ],
   "source": [
    "anuncio\\\n",
    "    .groupBy('tipo_anuncio')\\\n",
    "    .count()\\\n",
    "    .show()"
   ]
  },
  {
   "cell_type": "code",
   "execution_count": null,
   "id": "aMNowv4z7q_L",
   "metadata": {
    "colab": {
     "base_uri": "https://localhost:8080/"
    },
    "executionInfo": {
     "elapsed": 3384,
     "status": "ok",
     "timestamp": 1670516037974,
     "user": {
      "displayName": "francisco strunck",
      "userId": "02683465803792309206"
     },
     "user_tz": 180
    },
    "id": "aMNowv4z7q_L",
    "outputId": "773946d1-7122-4037-86b4-34163cb2c524"
   },
   "outputs": [
    {
     "name": "stdout",
     "output_type": "stream",
     "text": [
      "+--------------------+--------------------+--------------------+\n",
      "|             anuncio|             imagens|             usuario|\n",
      "+--------------------+--------------------+--------------------+\n",
      "|{0, [], [16], [0]...|[{39d6282a-71f3-4...|{9d44563d-3405-4e...|\n",
      "|{0, [], [14], [0]...|[{23d2b3ab-45b0-4...|{36245be7-70fe-40...|\n",
      "|{0, [1026], [1026...|[{1da65baa-368b-4...|{9dc415d8-1397-4d...|\n",
      "|{0, [120], [120],...|[{79b542c6-49b4-4...|{9911a2df-f299-4a...|\n",
      "|{0, [3], [3], [0]...|[{e2bc497b-6510-4...|{240a7aab-12e5-40...|\n",
      "|{0, [20], [15], [...|[{2de09d46-dc0d-4...|{3c7057f5-0923-42...|\n",
      "|{3, [43], [43], [...|[{147a80d9-cd40-4...|{5a9736b5-aaa0-4a...|\n",
      "|{2, [42], [42], [...|[{35740004-063d-4...|{ec48d96a-137c-49...|\n",
      "|{0, [], [12], [0]...|[{6d3d2aec-c96f-4...|{dad7db63-e19c-44...|\n",
      "|{1, [41], [41], [...|[{3d404069-418e-4...|{a845f35f-3ab3-46...|\n",
      "|{3, [43], [43], [...|[{5b8a8de7-2088-4...|{8c8de313-45d5-4c...|\n",
      "|{0, [10], [4], [0...|[{5385da42-8276-4...|{0b1d4ee0-2bc3-4c...|\n",
      "|{0, [12], [12], [...|[{7e4c2d03-1188-4...|{d744ac23-f16e-44...|\n",
      "|{0, [17], [17], [...|[{db608e30-f3e0-4...|{edc3fcf6-4441-40...|\n",
      "|{1, [32], [32], [...|[{318d4e40-f759-4...|{84dfa72e-10dd-48...|\n",
      "|{0, [], [10], [0]...|[{9e39e46f-59f8-4...|{fc1d2b73-9d29-4c...|\n",
      "|{2, [43], [43], [...|[{3fe1c1cc-7a9c-4...|{7f2de69f-68f8-40...|\n",
      "|{3, [43], [43], [...|[{fd04f07d-cfdf-4...|{12ce772e-4aac-46...|\n",
      "|{3, [43], [43], [...|[{76f97b59-a61b-4...|{cc17fc2c-6be2-4e...|\n",
      "|{3, [43], [43], [...|[{95d9678e-491f-4...|{286649de-3099-4c...|\n",
      "+--------------------+--------------------+--------------------+\n",
      "only showing top 20 rows\n",
      "\n"
     ]
    }
   ],
   "source": [
    "dados.show()"
   ]
  },
  {
   "cell_type": "code",
   "execution_count": null,
   "id": "oOVXHcIu83Qx",
   "metadata": {
    "id": "oOVXHcIu83Qx"
   },
   "outputs": [],
   "source": [
    "data_anuncios = dados.select('anuncio.*')"
   ]
  },
  {
   "cell_type": "code",
   "execution_count": null,
   "id": "e2DuZ3Cm7wYt",
   "metadata": {
    "colab": {
     "base_uri": "https://localhost:8080/"
    },
    "executionInfo": {
     "elapsed": 3297,
     "status": "ok",
     "timestamp": 1670516041269,
     "user": {
      "displayName": "francisco strunck",
      "userId": "02683465803792309206"
     },
     "user_tz": 180
    },
    "id": "e2DuZ3Cm7wYt",
    "outputId": "618bce5a-db79-495e-93b4-4db20e257c29"
   },
   "outputs": [
    {
     "name": "stdout",
     "output_type": "stream",
     "text": [
      "+-----+----------+---------+---------+--------------------+--------------------+--------------------+-------+------+------------+------------+-----------+----+--------------------+\n",
      "|andar|area_total|area_util|banheiros|     caracteristicas|            endereco|                  id|quartos|suites|tipo_anuncio|tipo_unidade|   tipo_uso|vaga|             valores|\n",
      "+-----+----------+---------+---------+--------------------+--------------------+--------------------+-------+------+------------+------------+-----------+----+--------------------+\n",
      "|    3|      [43]|     [43]|      [1]|[Academia, Churra...|{Paciência, 23585...|d2e3a3aa-09b5-45a...|    [2]|    []|       Usado| Apartamento|Residencial| [1]|[{245, null, Vend...|\n",
      "|    2|      [42]|     [42]|      [1]|[Churrasqueira, P...|{Paciência, 23585...|085bab2c-87ad-452...|    [2]|    []|       Usado| Apartamento|Residencial| [1]|[{0, 0, Venda, 15...|\n",
      "|    1|      [41]|     [41]|      [1]|[Portaria 24h, Co...|{Guaratiba, 23036...|18d22cbe-1b86-476...|    [2]|    []|       Usado| Apartamento|Residencial| [1]|[{0, 0, Venda, 20...|\n",
      "|    3|      [43]|     [43]|      [1]|[Churrasqueira, P...|{Cosmos, 23066271...|bed8a354-9317-442...|    [2]|    []|       Usado| Apartamento|Residencial| [0]|[{285, null, Vend...|\n",
      "|    2|      [43]|     [43]|      [1]|[Academia, Churra...|{Guaratiba, 23036...|12a13315-d67f-48f...|    [2]|    []|       Usado| Apartamento|Residencial| [1]|[{245, null, Vend...|\n",
      "|    3|      [43]|     [43]|      [1]|[Churrasqueira, P...|{Cosmos, 23066271...|a2e6d7a5-0ff0-484...|    [2]|   [0]|       Usado| Apartamento|Residencial| [0]|[{285, null, Vend...|\n",
      "|    3|      [43]|     [43]|      [1]|[Churrasqueira, P...|{Paciência, 23585...|a6e3173b-c950-4db...|    [2]|    []|       Usado| Apartamento|Residencial| [1]|[{250, null, Vend...|\n",
      "|    3|      [43]|     [43]|      [1]|[Churrasqueira, P...|{Guaratiba, 23036...|2e6e5dfb-206c-496...|    [2]|   [0]|       Usado| Apartamento|Residencial| [1]|[{245, null, Vend...|\n",
      "|    3|      [43]|     [43]|      [1]|[Churrasqueira, P...|{Paciência, 23585...|99f8d0f9-95a4-461...|    [2]|   [0]|       Usado| Apartamento|Residencial| [1]|[{245, null, Vend...|\n",
      "|    4|      [43]|     [43]|      [1]|[Churrasqueira, P...|{Guaratiba, 23036...|b3f44c1a-2d50-4d5...|    [2]|    []|       Usado| Apartamento|Residencial| [1]|[{240, null, Vend...|\n",
      "|    0|      [60]|     [60]|      [1]|[Condomínio fechado]|{Pedra de Guarati...|dc99d9e1-4c63-41f...|    [2]|    []|       Usado| Apartamento|Residencial| [1]|[{0, 0, Venda, 15...|\n",
      "|    1|      [43]|     [43]|      [1]|[Churrasqueira, P...|{Cosmos, 23056630...|aa3606d8-8bcd-45e...|    [2]|    []|       Usado| Apartamento|Residencial| [1]|[{240, 0, Venda, ...|\n",
      "|    0|      [43]|     [43]|      [1]|[Churrasqueira, P...|{Campo Grande, 23...|df80b0d5-677c-4be...|    [2]|   [0]|       Usado| Apartamento|Residencial| [0]|[{245, null, Vend...|\n",
      "|    2|      [43]|     [43]|      [1]|[Academia, Churra...|{Santa Cruz, 2352...|3d6c0218-9b7d-474...|    [2]|    []|       Usado| Apartamento|Residencial| [2]|[{290, null, Vend...|\n",
      "|    3|      [43]|     [43]|      [1]|[Salão de festas,...|{Guaratiba, 23020...|304266cc-62d1-4ce...|    [2]|    []|       Usado| Apartamento|Residencial|  []|[{285, null, Vend...|\n",
      "|    4|      [55]|     [55]|      [2]|[Academia, Churra...|{Recreio dos Band...|111472a2-afa1-4a7...|    [2]|   [1]|       Usado| Apartamento|Residencial| [1]|[{0, 0, Venda, 30...|\n",
      "|    0|      [45]|     [45]|      [1]|[Playground, Pisc...|{Cosmos, 23066271...|275c1589-6537-4bf...|    [2]|   [0]|       Usado| Apartamento|Residencial| [1]|[{null, null, Ven...|\n",
      "|    5|      [42]|     [42]|      [1]|[Condomínio fecha...|{Realengo, 217251...|ab8f367f-7509-45c...|    [2]|   [0]|       Usado| Apartamento|Residencial| [0]|[{280, 0, Venda, ...|\n",
      "|    1|      [43]|     [43]|      [1]|[Churrasqueira, P...|{Cosmos, 23058001...|e0a3d370-66dd-4f5...|    [2]|    []|       Usado| Apartamento|Residencial| [1]|[{280, null, Vend...|\n",
      "|    3|        []|     [55]|      [1]|[Academia, Churra...|{Todos os Santos,...|09c8ba2d-dbf1-487...|    [2]|   [1]|       Usado| Apartamento|Residencial| [1]|[{0, 0, Venda, 26...|\n",
      "+-----+----------+---------+---------+--------------------+--------------------+--------------------+-------+------+------------+------------+-----------+----+--------------------+\n",
      "only showing top 20 rows\n",
      "\n"
     ]
    }
   ],
   "source": [
    "data_anuncios\\\n",
    "    .select('*')\\\n",
    "    .where('(tipo_uso==\"Residencial\")')\\\n",
    "    .where('tipo_unidade==\"Apartamento\"')\\\n",
    "    .where('tipo_anuncio==\"Usado\"')\\\n",
    "    .show()"
   ]
  },
  {
   "cell_type": "code",
   "execution_count": null,
   "id": "OeU8tWj99GVn",
   "metadata": {
    "id": "OeU8tWj99GVn"
   },
   "outputs": [],
   "source": [
    "dados_2 = dados\\\n",
    "    .select('anuncio.*')\\\n",
    "    .select('*')\\\n",
    "    .where('(tipo_uso==\"Residencial\")')\\\n",
    "    .where('tipo_unidade==\"Apartamento\"')\\\n",
    "    .where('tipo_anuncio==\"Usado\"')"
   ]
  },
  {
   "cell_type": "code",
   "execution_count": null,
   "id": "71ec11b2",
   "metadata": {
    "ExecuteTime": {
     "end_time": "2022-12-06T23:19:20.091677Z",
     "start_time": "2022-12-06T23:19:20.077724Z"
    },
    "id": "71ec11b2"
   },
   "outputs": [],
   "source": [
    "anuncio = anuncio.filter('tipo_anuncio==\"Usado\"')"
   ]
  },
  {
   "cell_type": "code",
   "execution_count": null,
   "id": "1995a6e5",
   "metadata": {
    "ExecuteTime": {
     "end_time": "2022-12-06T23:19:21.095729Z",
     "start_time": "2022-12-06T23:19:20.094668Z"
    },
    "colab": {
     "base_uri": "https://localhost:8080/",
     "height": 634
    },
    "executionInfo": {
     "elapsed": 3077,
     "status": "ok",
     "timestamp": 1670516044335,
     "user": {
      "displayName": "francisco strunck",
      "userId": "02683465803792309206"
     },
     "user_tz": 180
    },
    "id": "1995a6e5",
    "outputId": "ad368f2f-43aa-4633-e553-fc593d1dc2bc"
   },
   "outputs": [
    {
     "data": {
      "text/html": [
       "\n",
       "  <div id=\"df-e0459bfb-52ba-45fc-aa9a-e9f22bb54ab4\">\n",
       "    <div class=\"colab-df-container\">\n",
       "      <div>\n",
       "<style scoped>\n",
       "    .dataframe tbody tr th:only-of-type {\n",
       "        vertical-align: middle;\n",
       "    }\n",
       "\n",
       "    .dataframe tbody tr th {\n",
       "        vertical-align: top;\n",
       "    }\n",
       "\n",
       "    .dataframe thead th {\n",
       "        text-align: right;\n",
       "    }\n",
       "</style>\n",
       "<table border=\"1\" class=\"dataframe\">\n",
       "  <thead>\n",
       "    <tr style=\"text-align: right;\">\n",
       "      <th></th>\n",
       "      <th>andar</th>\n",
       "      <th>area_total</th>\n",
       "      <th>area_util</th>\n",
       "      <th>banheiros</th>\n",
       "      <th>caracteristicas</th>\n",
       "      <th>endereco</th>\n",
       "      <th>id</th>\n",
       "      <th>quartos</th>\n",
       "      <th>suites</th>\n",
       "      <th>tipo_anuncio</th>\n",
       "      <th>tipo_unidade</th>\n",
       "      <th>tipo_uso</th>\n",
       "      <th>vaga</th>\n",
       "      <th>valores</th>\n",
       "    </tr>\n",
       "  </thead>\n",
       "  <tbody>\n",
       "    <tr>\n",
       "      <th>0</th>\n",
       "      <td>3</td>\n",
       "      <td>[43]</td>\n",
       "      <td>[43]</td>\n",
       "      <td>[1]</td>\n",
       "      <td>[Academia, Churrasqueira, Playground, Salão de...</td>\n",
       "      <td>(Paciência, 23585430, Rio de Janeiro, Rio de J...</td>\n",
       "      <td>d2e3a3aa-09b5-45a0-9dcd-918847cd3ca3</td>\n",
       "      <td>[2]</td>\n",
       "      <td>[]</td>\n",
       "      <td>Usado</td>\n",
       "      <td>Apartamento</td>\n",
       "      <td>Residencial</td>\n",
       "      <td>[1]</td>\n",
       "      <td>[(245, None, Venda, 15000)]</td>\n",
       "    </tr>\n",
       "    <tr>\n",
       "      <th>1</th>\n",
       "      <td>2</td>\n",
       "      <td>[42]</td>\n",
       "      <td>[42]</td>\n",
       "      <td>[1]</td>\n",
       "      <td>[Churrasqueira, Playground, Salão de festas, C...</td>\n",
       "      <td>(Paciência, 23585430, Rio de Janeiro, Rio de J...</td>\n",
       "      <td>085bab2c-87ad-452a-bd0f-8b1451509f84</td>\n",
       "      <td>[2]</td>\n",
       "      <td>[]</td>\n",
       "      <td>Usado</td>\n",
       "      <td>Apartamento</td>\n",
       "      <td>Residencial</td>\n",
       "      <td>[1]</td>\n",
       "      <td>[(0, 0, Venda, 15000)]</td>\n",
       "    </tr>\n",
       "    <tr>\n",
       "      <th>2</th>\n",
       "      <td>1</td>\n",
       "      <td>[41]</td>\n",
       "      <td>[41]</td>\n",
       "      <td>[1]</td>\n",
       "      <td>[Portaria 24h, Condomínio fechado, Playground,...</td>\n",
       "      <td>(Guaratiba, 23036060, Rio de Janeiro, Rio de J...</td>\n",
       "      <td>18d22cbe-1b86-4764-8def-70c615f15a61</td>\n",
       "      <td>[2]</td>\n",
       "      <td>[]</td>\n",
       "      <td>Usado</td>\n",
       "      <td>Apartamento</td>\n",
       "      <td>Residencial</td>\n",
       "      <td>[1]</td>\n",
       "      <td>[(0, 0, Venda, 20000)]</td>\n",
       "    </tr>\n",
       "    <tr>\n",
       "      <th>3</th>\n",
       "      <td>3</td>\n",
       "      <td>[43]</td>\n",
       "      <td>[43]</td>\n",
       "      <td>[1]</td>\n",
       "      <td>[Churrasqueira, Piscina, Playground, Salão de ...</td>\n",
       "      <td>(Cosmos, 23066271, Rio de Janeiro, Rio de Jane...</td>\n",
       "      <td>bed8a354-9317-4426-b27e-1c798f864271</td>\n",
       "      <td>[2]</td>\n",
       "      <td>[]</td>\n",
       "      <td>Usado</td>\n",
       "      <td>Apartamento</td>\n",
       "      <td>Residencial</td>\n",
       "      <td>[0]</td>\n",
       "      <td>[(285, None, Venda, 20000)]</td>\n",
       "    </tr>\n",
       "    <tr>\n",
       "      <th>4</th>\n",
       "      <td>2</td>\n",
       "      <td>[43]</td>\n",
       "      <td>[43]</td>\n",
       "      <td>[1]</td>\n",
       "      <td>[Academia, Churrasqueira, Playground, Salão de...</td>\n",
       "      <td>(Guaratiba, 23036060, Rio de Janeiro, Rio de J...</td>\n",
       "      <td>12a13315-d67f-48f0-9497-017b83252781</td>\n",
       "      <td>[2]</td>\n",
       "      <td>[]</td>\n",
       "      <td>Usado</td>\n",
       "      <td>Apartamento</td>\n",
       "      <td>Residencial</td>\n",
       "      <td>[1]</td>\n",
       "      <td>[(245, None, Venda, 15000)]</td>\n",
       "    </tr>\n",
       "  </tbody>\n",
       "</table>\n",
       "</div>\n",
       "      <button class=\"colab-df-convert\" onclick=\"convertToInteractive('df-e0459bfb-52ba-45fc-aa9a-e9f22bb54ab4')\"\n",
       "              title=\"Convert this dataframe to an interactive table.\"\n",
       "              style=\"display:none;\">\n",
       "        \n",
       "  <svg xmlns=\"http://www.w3.org/2000/svg\" height=\"24px\"viewBox=\"0 0 24 24\"\n",
       "       width=\"24px\">\n",
       "    <path d=\"M0 0h24v24H0V0z\" fill=\"none\"/>\n",
       "    <path d=\"M18.56 5.44l.94 2.06.94-2.06 2.06-.94-2.06-.94-.94-2.06-.94 2.06-2.06.94zm-11 1L8.5 8.5l.94-2.06 2.06-.94-2.06-.94L8.5 2.5l-.94 2.06-2.06.94zm10 10l.94 2.06.94-2.06 2.06-.94-2.06-.94-.94-2.06-.94 2.06-2.06.94z\"/><path d=\"M17.41 7.96l-1.37-1.37c-.4-.4-.92-.59-1.43-.59-.52 0-1.04.2-1.43.59L10.3 9.45l-7.72 7.72c-.78.78-.78 2.05 0 2.83L4 21.41c.39.39.9.59 1.41.59.51 0 1.02-.2 1.41-.59l7.78-7.78 2.81-2.81c.8-.78.8-2.07 0-2.86zM5.41 20L4 18.59l7.72-7.72 1.47 1.35L5.41 20z\"/>\n",
       "  </svg>\n",
       "      </button>\n",
       "      \n",
       "  <style>\n",
       "    .colab-df-container {\n",
       "      display:flex;\n",
       "      flex-wrap:wrap;\n",
       "      gap: 12px;\n",
       "    }\n",
       "\n",
       "    .colab-df-convert {\n",
       "      background-color: #E8F0FE;\n",
       "      border: none;\n",
       "      border-radius: 50%;\n",
       "      cursor: pointer;\n",
       "      display: none;\n",
       "      fill: #1967D2;\n",
       "      height: 32px;\n",
       "      padding: 0 0 0 0;\n",
       "      width: 32px;\n",
       "    }\n",
       "\n",
       "    .colab-df-convert:hover {\n",
       "      background-color: #E2EBFA;\n",
       "      box-shadow: 0px 1px 2px rgba(60, 64, 67, 0.3), 0px 1px 3px 1px rgba(60, 64, 67, 0.15);\n",
       "      fill: #174EA6;\n",
       "    }\n",
       "\n",
       "    [theme=dark] .colab-df-convert {\n",
       "      background-color: #3B4455;\n",
       "      fill: #D2E3FC;\n",
       "    }\n",
       "\n",
       "    [theme=dark] .colab-df-convert:hover {\n",
       "      background-color: #434B5C;\n",
       "      box-shadow: 0px 1px 3px 1px rgba(0, 0, 0, 0.15);\n",
       "      filter: drop-shadow(0px 1px 2px rgba(0, 0, 0, 0.3));\n",
       "      fill: #FFFFFF;\n",
       "    }\n",
       "  </style>\n",
       "\n",
       "      <script>\n",
       "        const buttonEl =\n",
       "          document.querySelector('#df-e0459bfb-52ba-45fc-aa9a-e9f22bb54ab4 button.colab-df-convert');\n",
       "        buttonEl.style.display =\n",
       "          google.colab.kernel.accessAllowed ? 'block' : 'none';\n",
       "\n",
       "        async function convertToInteractive(key) {\n",
       "          const element = document.querySelector('#df-e0459bfb-52ba-45fc-aa9a-e9f22bb54ab4');\n",
       "          const dataTable =\n",
       "            await google.colab.kernel.invokeFunction('convertToInteractive',\n",
       "                                                     [key], {});\n",
       "          if (!dataTable) return;\n",
       "\n",
       "          const docLinkHtml = 'Like what you see? Visit the ' +\n",
       "            '<a target=\"_blank\" href=https://colab.research.google.com/notebooks/data_table.ipynb>data table notebook</a>'\n",
       "            + ' to learn more about interactive tables.';\n",
       "          element.innerHTML = '';\n",
       "          dataTable['output_type'] = 'display_data';\n",
       "          await google.colab.output.renderOutput(dataTable, element);\n",
       "          const docLink = document.createElement('div');\n",
       "          docLink.innerHTML = docLinkHtml;\n",
       "          element.appendChild(docLink);\n",
       "        }\n",
       "      </script>\n",
       "    </div>\n",
       "  </div>\n",
       "  "
      ],
      "text/plain": [
       "   andar area_total area_util banheiros  \\\n",
       "0      3       [43]      [43]       [1]   \n",
       "1      2       [42]      [42]       [1]   \n",
       "2      1       [41]      [41]       [1]   \n",
       "3      3       [43]      [43]       [1]   \n",
       "4      2       [43]      [43]       [1]   \n",
       "\n",
       "                                     caracteristicas  \\\n",
       "0  [Academia, Churrasqueira, Playground, Salão de...   \n",
       "1  [Churrasqueira, Playground, Salão de festas, C...   \n",
       "2  [Portaria 24h, Condomínio fechado, Playground,...   \n",
       "3  [Churrasqueira, Piscina, Playground, Salão de ...   \n",
       "4  [Academia, Churrasqueira, Playground, Salão de...   \n",
       "\n",
       "                                            endereco  \\\n",
       "0  (Paciência, 23585430, Rio de Janeiro, Rio de J...   \n",
       "1  (Paciência, 23585430, Rio de Janeiro, Rio de J...   \n",
       "2  (Guaratiba, 23036060, Rio de Janeiro, Rio de J...   \n",
       "3  (Cosmos, 23066271, Rio de Janeiro, Rio de Jane...   \n",
       "4  (Guaratiba, 23036060, Rio de Janeiro, Rio de J...   \n",
       "\n",
       "                                     id quartos suites tipo_anuncio  \\\n",
       "0  d2e3a3aa-09b5-45a0-9dcd-918847cd3ca3     [2]     []        Usado   \n",
       "1  085bab2c-87ad-452a-bd0f-8b1451509f84     [2]     []        Usado   \n",
       "2  18d22cbe-1b86-4764-8def-70c615f15a61     [2]     []        Usado   \n",
       "3  bed8a354-9317-4426-b27e-1c798f864271     [2]     []        Usado   \n",
       "4  12a13315-d67f-48f0-9497-017b83252781     [2]     []        Usado   \n",
       "\n",
       "  tipo_unidade     tipo_uso vaga                      valores  \n",
       "0  Apartamento  Residencial  [1]  [(245, None, Venda, 15000)]  \n",
       "1  Apartamento  Residencial  [1]       [(0, 0, Venda, 15000)]  \n",
       "2  Apartamento  Residencial  [1]       [(0, 0, Venda, 20000)]  \n",
       "3  Apartamento  Residencial  [0]  [(285, None, Venda, 20000)]  \n",
       "4  Apartamento  Residencial  [1]  [(245, None, Venda, 15000)]  "
      ]
     },
     "execution_count": 38,
     "metadata": {},
     "output_type": "execute_result"
    }
   ],
   "source": [
    "anuncio.limit(5).toPandas()"
   ]
  },
  {
   "cell_type": "code",
   "execution_count": null,
   "id": "7dc58cfb",
   "metadata": {
    "ExecuteTime": {
     "end_time": "2022-12-06T23:20:33.328151Z",
     "start_time": "2022-12-06T23:20:31.910912Z"
    },
    "colab": {
     "base_uri": "https://localhost:8080/"
    },
    "executionInfo": {
     "elapsed": 3820,
     "status": "ok",
     "timestamp": 1670516048145,
     "user": {
      "displayName": "francisco strunck",
      "userId": "02683465803792309206"
     },
     "user_tz": 180
    },
    "id": "7dc58cfb",
    "outputId": "f1982d0e-2999-47bc-90fc-840cc913afb0"
   },
   "outputs": [
    {
     "name": "stdout",
     "output_type": "stream",
     "text": [
      "+------------+-----+\n",
      "|tipo_anuncio|count|\n",
      "+------------+-----+\n",
      "|       Usado|66562|\n",
      "+------------+-----+\n",
      "\n"
     ]
    }
   ],
   "source": [
    "anuncio\\\n",
    "    .groupBy('tipo_anuncio')\\\n",
    "    .count()\\\n",
    "    .show()"
   ]
  },
  {
   "cell_type": "markdown",
   "id": "dec7e4b2",
   "metadata": {
    "id": "dec7e4b2"
   },
   "source": [
    "**Transforme as colunas de configuração dos imóveis de listas para inteiros**"
   ]
  },
  {
   "cell_type": "code",
   "execution_count": null,
   "id": "97c5e0d6",
   "metadata": {
    "ExecuteTime": {
     "end_time": "2022-12-06T23:20:33.977507Z",
     "start_time": "2022-12-06T23:20:33.949963Z"
    },
    "id": "97c5e0d6"
   },
   "outputs": [],
   "source": [
    "from pyspark.sql.types import DoubleType, StringType, IntegerType\n",
    "from pyspark.sql import functions as f"
   ]
  },
  {
   "cell_type": "markdown",
   "id": "2e9f4cae",
   "metadata": {
    "id": "2e9f4cae"
   },
   "source": [
    "Passo 1 - Ter certeza que temos apenas listas com apenas um elemento"
   ]
  },
  {
   "cell_type": "code",
   "execution_count": null,
   "id": "95f4fcf1",
   "metadata": {
    "ExecuteTime": {
     "end_time": "2022-12-06T23:20:36.393256Z",
     "start_time": "2022-12-06T23:20:34.798478Z"
    },
    "colab": {
     "base_uri": "https://localhost:8080/"
    },
    "executionInfo": {
     "elapsed": 2842,
     "status": "ok",
     "timestamp": 1670516050976,
     "user": {
      "displayName": "francisco strunck",
      "userId": "02683465803792309206"
     },
     "user_tz": 180
    },
    "id": "95f4fcf1",
    "outputId": "21ce9be1-2a3a-428b-bd53-5003b3a475b1"
   },
   "outputs": [
    {
     "name": "stdout",
     "output_type": "stream",
     "text": [
      "+-------+-----+\n",
      "|quartos|count|\n",
      "+-------+-----+\n",
      "|      1|66562|\n",
      "+-------+-----+\n",
      "\n"
     ]
    }
   ],
   "source": [
    "anuncio\\\n",
    "    .select(f.size(f.col('quartos')).alias('quartos'))\\\n",
    "    .groupBy('quartos')\\\n",
    "    .count()\\\n",
    "    .show()"
   ]
  },
  {
   "cell_type": "code",
   "execution_count": null,
   "id": "ab24f349",
   "metadata": {
    "ExecuteTime": {
     "end_time": "2022-12-06T23:20:36.408425Z",
     "start_time": "2022-12-06T23:20:36.393752Z"
    },
    "id": "ab24f349"
   },
   "outputs": [],
   "source": [
    "caracteristicas = ['quartos', 'suites', 'banheiros', 'vaga', 'area_total', 'area_util']"
   ]
  },
  {
   "cell_type": "markdown",
   "id": "889d8c74",
   "metadata": {
    "id": "889d8c74"
   },
   "source": [
    "**Método é o select**\n",
    "\n",
    "Na primeira célula, chamaremos o nosso dataframe empresas selecionando algumas colunas com o método .select(), que receberá as colunas que queremos selecionar dentro do parêntese. No caso, para exibirmos todas as colunas, usaremos o asterisco.\n",
    "\n",
    "Para não retornar uma visualização grande, utilizaremos o método .show(). Dentro dos parênteses incluiremos o número 5, indicando que queremos exibir os 5 primeiros registros do dataframe empresas: .show(5)."
   ]
  },
  {
   "cell_type": "markdown",
   "id": "2e299c5e",
   "metadata": {
    "id": "2e299c5e"
   },
   "source": [
    "pyspark.sql.functions.size(col)\n",
    "\n",
    "Collection function: returns the length of the array or map stored in the column.\n",
    "\n",
    "Parameters: col : Column or str\n",
    "\n",
    "https://spark.apache.org/docs/3.1.1/api/python/reference/api/pyspark.sql.functions.size.html#:~:text=functions.-,size,map%20stored%20in%20the%20column."
   ]
  },
  {
   "cell_type": "code",
   "execution_count": null,
   "id": "3006dc69",
   "metadata": {
    "ExecuteTime": {
     "end_time": "2022-12-06T23:20:39.185516Z",
     "start_time": "2022-12-06T23:20:37.677343Z"
    },
    "colab": {
     "base_uri": "https://localhost:8080/"
    },
    "executionInfo": {
     "elapsed": 3128,
     "status": "ok",
     "timestamp": 1670516054096,
     "user": {
      "displayName": "francisco strunck",
      "userId": "02683465803792309206"
     },
     "user_tz": 180
    },
    "id": "3006dc69",
    "outputId": "dec35e29-0203-40f6-d4e4-b19290682e11"
   },
   "outputs": [
    {
     "name": "stdout",
     "output_type": "stream",
     "text": [
      "+-------+-----+\n",
      "|quartos|count|\n",
      "+-------+-----+\n",
      "|    [0]|   68|\n",
      "|    [7]|   18|\n",
      "|    [6]|   87|\n",
      "|    [9]|    1|\n",
      "|    [5]|  820|\n",
      "|    [1]| 6007|\n",
      "|   [10]|    3|\n",
      "|    [3]|24266|\n",
      "|    [8]|    4|\n",
      "|   [11]|    1|\n",
      "|    [2]|25467|\n",
      "|    [4]| 9818|\n",
      "|   [15]|    1|\n",
      "|   [16]|    1|\n",
      "+-------+-----+\n",
      "\n"
     ]
    }
   ],
   "source": [
    "anuncio\\\n",
    "    .select(f.col('quartos')).alias('quartos')\\\n",
    "    .groupBy('quartos')\\\n",
    "    .count()\\\n",
    "    .show()"
   ]
  },
  {
   "cell_type": "code",
   "execution_count": null,
   "id": "39bf6ff2",
   "metadata": {
    "ExecuteTime": {
     "end_time": "2022-12-06T23:20:40.466993Z",
     "start_time": "2022-12-06T23:20:39.187423Z"
    },
    "colab": {
     "base_uri": "https://localhost:8080/"
    },
    "executionInfo": {
     "elapsed": 3077,
     "status": "ok",
     "timestamp": 1670516057157,
     "user": {
      "displayName": "francisco strunck",
      "userId": "02683465803792309206"
     },
     "user_tz": 180
    },
    "id": "39bf6ff2",
    "outputId": "eb8fbeca-25c6-4ad9-bc36-d1100464fef8"
   },
   "outputs": [
    {
     "data": {
      "text/plain": [
       "66562"
      ]
     },
     "execution_count": 44,
     "metadata": {},
     "output_type": "execute_result"
    }
   ],
   "source": [
    "anuncio\\\n",
    "    .select(f.col('quartos')).alias('quartos')\\\n",
    "    .count()"
   ]
  },
  {
   "cell_type": "code",
   "execution_count": null,
   "id": "7df02d51",
   "metadata": {
    "ExecuteTime": {
     "end_time": "2022-12-06T23:20:41.670153Z",
     "start_time": "2022-12-06T23:20:40.468905Z"
    },
    "colab": {
     "base_uri": "https://localhost:8080/"
    },
    "executionInfo": {
     "elapsed": 3172,
     "status": "ok",
     "timestamp": 1670516060315,
     "user": {
      "displayName": "francisco strunck",
      "userId": "02683465803792309206"
     },
     "user_tz": 180
    },
    "id": "7df02d51",
    "outputId": "6e99b1da-800d-4dda-b66e-8877c401d385"
   },
   "outputs": [
    {
     "name": "stdout",
     "output_type": "stream",
     "text": [
      "+-------+-----+\n",
      "|quartos|count|\n",
      "+-------+-----+\n",
      "|      1|66562|\n",
      "+-------+-----+\n",
      "\n"
     ]
    }
   ],
   "source": [
    "anuncio\\\n",
    "    .select( f.size(f.col('quartos')).alias('quartos') )\\\n",
    "    .groupBy('quartos')\\\n",
    "    .count()\\\n",
    "    .show()"
   ]
  },
  {
   "cell_type": "code",
   "execution_count": null,
   "id": "34c9115d",
   "metadata": {
    "ExecuteTime": {
     "end_time": "2022-12-06T23:20:43.391667Z",
     "start_time": "2022-12-06T23:20:41.671150Z"
    },
    "colab": {
     "base_uri": "https://localhost:8080/"
    },
    "executionInfo": {
     "elapsed": 3411,
     "status": "ok",
     "timestamp": 1670516063720,
     "user": {
      "displayName": "francisco strunck",
      "userId": "02683465803792309206"
     },
     "user_tz": 180
    },
    "id": "34c9115d",
    "outputId": "6a15b5cf-b910-4d59-deb1-658cd35c7137"
   },
   "outputs": [
    {
     "name": "stdout",
     "output_type": "stream",
     "text": [
      "+------+-----+\n",
      "|suites|count|\n",
      "+------+-----+\n",
      "|   [0]|12724|\n",
      "|   [7]|    3|\n",
      "|    []| 5554|\n",
      "|   [6]|   27|\n",
      "|   [5]|  354|\n",
      "|   [1]|33889|\n",
      "|  [10]|    1|\n",
      "|   [3]| 3751|\n",
      "|  [12]|    1|\n",
      "|   [2]| 7228|\n",
      "|   [4]| 3026|\n",
      "|  [21]|    1|\n",
      "|  [30]|    1|\n",
      "|  [20]|    2|\n",
      "+------+-----+\n",
      "\n"
     ]
    }
   ],
   "source": [
    "anuncio\\\n",
    "    .select(f.col('suites')).alias('suites')\\\n",
    "    .groupBy('suites')\\\n",
    "    .count()\\\n",
    "    .show()"
   ]
  },
  {
   "cell_type": "code",
   "execution_count": null,
   "id": "91516682",
   "metadata": {
    "ExecuteTime": {
     "end_time": "2022-12-06T23:20:44.763658Z",
     "start_time": "2022-12-06T23:20:43.393570Z"
    },
    "colab": {
     "base_uri": "https://localhost:8080/"
    },
    "executionInfo": {
     "elapsed": 7016,
     "status": "ok",
     "timestamp": 1670516070727,
     "user": {
      "displayName": "francisco strunck",
      "userId": "02683465803792309206"
     },
     "user_tz": 180
    },
    "id": "91516682",
    "outputId": "874c88c9-518f-45a5-993d-b3535c0d58d9"
   },
   "outputs": [
    {
     "data": {
      "text/plain": [
       "66562"
      ]
     },
     "execution_count": 47,
     "metadata": {},
     "output_type": "execute_result"
    }
   ],
   "source": [
    "anuncio\\\n",
    "    .select(f.col('suites')).alias('suites')\\\n",
    "    .count()"
   ]
  },
  {
   "cell_type": "code",
   "execution_count": null,
   "id": "8e520e5b",
   "metadata": {
    "ExecuteTime": {
     "end_time": "2022-12-06T23:20:46.034957Z",
     "start_time": "2022-12-06T23:20:44.765624Z"
    },
    "colab": {
     "base_uri": "https://localhost:8080/"
    },
    "executionInfo": {
     "elapsed": 3377,
     "status": "ok",
     "timestamp": 1670516074090,
     "user": {
      "displayName": "francisco strunck",
      "userId": "02683465803792309206"
     },
     "user_tz": 180
    },
    "id": "8e520e5b",
    "outputId": "285f6e29-da5a-4a20-c463-ac3d1a4456ce"
   },
   "outputs": [
    {
     "name": "stdout",
     "output_type": "stream",
     "text": [
      "+------+-----+\n",
      "|suites|count|\n",
      "+------+-----+\n",
      "|     1|61008|\n",
      "|     0| 5554|\n",
      "+------+-----+\n",
      "\n"
     ]
    }
   ],
   "source": [
    "anuncio\\\n",
    "    .select( f.size(f.col('suites')).alias('suites') )\\\n",
    "    .groupBy('suites')\\\n",
    "    .count()\\\n",
    "    .show()"
   ]
  },
  {
   "cell_type": "markdown",
   "id": "f804e094",
   "metadata": {
    "id": "f804e094"
   },
   "source": [
    "Dessa forma esse tipo de seleção \"f.size(fcol())\" olha quantos valores estão preenchidos e quantos não estão"
   ]
  },
  {
   "cell_type": "markdown",
   "id": "PKyOXGn-BNRY",
   "metadata": {
    "id": "PKyOXGn-BNRY"
   },
   "source": [
    "Determinar as listas que são um array mas deveriam ser um elemento só"
   ]
  },
  {
   "cell_type": "code",
   "execution_count": null,
   "id": "GgSc5lyaAh1e",
   "metadata": {
    "colab": {
     "base_uri": "https://localhost:8080/"
    },
    "executionInfo": {
     "elapsed": 22982,
     "status": "ok",
     "timestamp": 1670516097059,
     "user": {
      "displayName": "francisco strunck",
      "userId": "02683465803792309206"
     },
     "user_tz": 180
    },
    "id": "GgSc5lyaAh1e",
    "outputId": "ecc74558-003d-4271-e494-c173de7d778a"
   },
   "outputs": [
    {
     "name": "stdout",
     "output_type": "stream",
     "text": [
      "+----------+-----+\n",
      "|area_total|count|\n",
      "+----------+-----+\n",
      "|         1|57368|\n",
      "|         0| 9194|\n",
      "+----------+-----+\n",
      "\n",
      "+---------+-----+\n",
      "|area_util|count|\n",
      "+---------+-----+\n",
      "|        1|66562|\n",
      "+---------+-----+\n",
      "\n",
      "+---------+-----+\n",
      "|banheiros|count|\n",
      "+---------+-----+\n",
      "|        1|66562|\n",
      "+---------+-----+\n",
      "\n",
      "+-------+-----+\n",
      "|quartos|count|\n",
      "+-------+-----+\n",
      "|      1|66562|\n",
      "+-------+-----+\n",
      "\n",
      "+------+-----+\n",
      "|suites|count|\n",
      "+------+-----+\n",
      "|     1|61008|\n",
      "|     0| 5554|\n",
      "+------+-----+\n",
      "\n",
      "+----+-----+\n",
      "|vaga|count|\n",
      "+----+-----+\n",
      "|   1|63545|\n",
      "|   0| 3017|\n",
      "+----+-----+\n",
      "\n"
     ]
    }
   ],
   "source": [
    "list_array = ['area_total','area_util','banheiros','quartos','suites','vaga']\n",
    "\n",
    "for col in list_array:\n",
    "    dados_2\\\n",
    "    .select(f.size(f.col(col)).alias(col) )\\\n",
    "    .groupBy(col)\\\n",
    "    .count()\\\n",
    "    .show()"
   ]
  },
  {
   "cell_type": "code",
   "execution_count": null,
   "id": "b67b90c7",
   "metadata": {
    "ExecuteTime": {
     "end_time": "2022-12-06T23:20:54.387004Z",
     "start_time": "2022-12-06T23:20:46.034957Z"
    },
    "colab": {
     "base_uri": "https://localhost:8080/"
    },
    "executionInfo": {
     "elapsed": 19513,
     "status": "ok",
     "timestamp": 1670516116566,
     "user": {
      "displayName": "francisco strunck",
      "userId": "02683465803792309206"
     },
     "user_tz": 180
    },
    "id": "b67b90c7",
    "outputId": "63ebab42-ed71-4e01-ed34-7c65680a3c89",
    "scrolled": false
   },
   "outputs": [
    {
     "name": "stdout",
     "output_type": "stream",
     "text": [
      "+-------+-----+\n",
      "|quartos|count|\n",
      "+-------+-----+\n",
      "|      1|66562|\n",
      "+-------+-----+\n",
      "\n",
      "+------+-----+\n",
      "|suites|count|\n",
      "+------+-----+\n",
      "|     1|61008|\n",
      "|     0| 5554|\n",
      "+------+-----+\n",
      "\n",
      "+---------+-----+\n",
      "|banheiros|count|\n",
      "+---------+-----+\n",
      "|        1|66562|\n",
      "+---------+-----+\n",
      "\n",
      "+----+-----+\n",
      "|vaga|count|\n",
      "+----+-----+\n",
      "|   1|63545|\n",
      "|   0| 3017|\n",
      "+----+-----+\n",
      "\n",
      "+----------+-----+\n",
      "|area_total|count|\n",
      "+----------+-----+\n",
      "|         1|57368|\n",
      "|         0| 9194|\n",
      "+----------+-----+\n",
      "\n",
      "+---------+-----+\n",
      "|area_util|count|\n",
      "+---------+-----+\n",
      "|        1|66562|\n",
      "+---------+-----+\n",
      "\n"
     ]
    }
   ],
   "source": [
    "for col in caracteristicas:\n",
    "    anuncio\\\n",
    "    .select( f.size(f.col(col)).alias(col) )\\\n",
    "    .groupBy(col)\\\n",
    "    .count()\\\n",
    "    .show()"
   ]
  },
  {
   "cell_type": "markdown",
   "id": "f200f07b",
   "metadata": {
    "id": "f200f07b"
   },
   "source": [
    "Verificamos que as colunas suites, vaga e area_total apresentam listas vazias em alguns registros. No caso das colunas suites e vagas podemos considerar que a falta de informação indica que este atributo não existe no imóvel e portanto podemos inputar o valor zero. No caso da coluna area_total pode ser resultado de outros fatores."
   ]
  },
  {
   "cell_type": "markdown",
   "id": "c4882f1d",
   "metadata": {
    "id": "c4882f1d"
   },
   "source": [
    "**Passo 2 - Substituir as listas pelos valores**"
   ]
  },
  {
   "cell_type": "code",
   "execution_count": null,
   "id": "8a7fc7df",
   "metadata": {
    "ExecuteTime": {
     "end_time": "2022-12-06T23:21:01.567842Z",
     "start_time": "2022-12-06T23:21:00.398966Z"
    },
    "colab": {
     "base_uri": "https://localhost:8080/"
    },
    "executionInfo": {
     "elapsed": 2758,
     "status": "ok",
     "timestamp": 1670516119307,
     "user": {
      "displayName": "francisco strunck",
      "userId": "02683465803792309206"
     },
     "user_tz": 180
    },
    "id": "8a7fc7df",
    "outputId": "64fb4d5a-5c0f-4c7f-a243-30783d419b6c"
   },
   "outputs": [
    {
     "name": "stdout",
     "output_type": "stream",
     "text": [
      "+------+\n",
      "|suites|\n",
      "+------+\n",
      "|  null|\n",
      "|  null|\n",
      "|  null|\n",
      "|  null|\n",
      "|  null|\n",
      "|     0|\n",
      "|  null|\n",
      "|     0|\n",
      "|     0|\n",
      "|  null|\n",
      "|  null|\n",
      "|  null|\n",
      "|     0|\n",
      "|  null|\n",
      "|  null|\n",
      "|     1|\n",
      "|     0|\n",
      "|     0|\n",
      "|  null|\n",
      "|     1|\n",
      "+------+\n",
      "only showing top 20 rows\n",
      "\n"
     ]
    }
   ],
   "source": [
    "anuncio\\\n",
    "    .select([f.col('suites')[0].alias('suites')])\\\n",
    "    .show()"
   ]
  },
  {
   "cell_type": "code",
   "execution_count": null,
   "id": "49011f77",
   "metadata": {
    "ExecuteTime": {
     "end_time": "2022-12-06T23:21:02.083032Z",
     "start_time": "2022-12-06T23:21:02.070074Z"
    },
    "colab": {
     "base_uri": "https://localhost:8080/"
    },
    "executionInfo": {
     "elapsed": 17,
     "status": "ok",
     "timestamp": 1670516119308,
     "user": {
      "displayName": "francisco strunck",
      "userId": "02683465803792309206"
     },
     "user_tz": 180
    },
    "id": "49011f77",
    "outputId": "891e6c2d-64aa-4b4a-d228-c7f837e190f1"
   },
   "outputs": [
    {
     "data": {
      "text/plain": [
       "['andar',\n",
       " 'area_total',\n",
       " 'area_util',\n",
       " 'banheiros',\n",
       " 'caracteristicas',\n",
       " 'endereco',\n",
       " 'id',\n",
       " 'quartos',\n",
       " 'suites',\n",
       " 'tipo_anuncio',\n",
       " 'tipo_unidade',\n",
       " 'tipo_uso',\n",
       " 'vaga',\n",
       " 'valores']"
      ]
     },
     "execution_count": 52,
     "metadata": {},
     "output_type": "execute_result"
    }
   ],
   "source": [
    "anuncio.columns"
   ]
  },
  {
   "cell_type": "code",
   "execution_count": null,
   "id": "4fd7b5db",
   "metadata": {
    "ExecuteTime": {
     "end_time": "2022-12-06T23:21:02.748435Z",
     "start_time": "2022-12-06T23:21:02.644931Z"
    },
    "id": "4fd7b5db"
   },
   "outputs": [],
   "source": [
    "anuncio = anuncio\\\n",
    "    .select([f.col(c)[0].alias(c) \\\n",
    "             if c in caracteristicas \\\n",
    "             else c for c in anuncio.columns])"
   ]
  },
  {
   "cell_type": "markdown",
   "id": "8g-_arzuIWv2",
   "metadata": {
    "id": "8g-_arzuIWv2"
   },
   "source": [
    "Outra maneira:"
   ]
  },
  {
   "cell_type": "code",
   "execution_count": null,
   "id": "QDCFw3ehJDl5",
   "metadata": {
    "colab": {
     "base_uri": "https://localhost:8080/"
    },
    "executionInfo": {
     "elapsed": 2652,
     "status": "ok",
     "timestamp": 1670516121951,
     "user": {
      "displayName": "francisco strunck",
      "userId": "02683465803792309206"
     },
     "user_tz": 180
    },
    "id": "QDCFw3ehJDl5",
    "outputId": "233b9b04-dfa4-47fe-ac9d-e9853fdef405"
   },
   "outputs": [
    {
     "name": "stdout",
     "output_type": "stream",
     "text": [
      "+-----+----------+---------+---------+--------------------+--------------------+--------------------+-------+------+------------+------------+-----------+----+--------------------+\n",
      "|andar|area_total|area_util|banheiros|     caracteristicas|            endereco|                  id|quartos|suites|tipo_anuncio|tipo_unidade|   tipo_uso|vaga|             valores|\n",
      "+-----+----------+---------+---------+--------------------+--------------------+--------------------+-------+------+------------+------------+-----------+----+--------------------+\n",
      "|    3|      [43]|     [43]|      [1]|[Academia, Churra...|{Paciência, 23585...|d2e3a3aa-09b5-45a...|    [2]|    []|       Usado| Apartamento|Residencial| [1]|[{245, null, Vend...|\n",
      "|    2|      [42]|     [42]|      [1]|[Churrasqueira, P...|{Paciência, 23585...|085bab2c-87ad-452...|    [2]|    []|       Usado| Apartamento|Residencial| [1]|[{0, 0, Venda, 15...|\n",
      "|    1|      [41]|     [41]|      [1]|[Portaria 24h, Co...|{Guaratiba, 23036...|18d22cbe-1b86-476...|    [2]|    []|       Usado| Apartamento|Residencial| [1]|[{0, 0, Venda, 20...|\n",
      "|    3|      [43]|     [43]|      [1]|[Churrasqueira, P...|{Cosmos, 23066271...|bed8a354-9317-442...|    [2]|    []|       Usado| Apartamento|Residencial| [0]|[{285, null, Vend...|\n",
      "+-----+----------+---------+---------+--------------------+--------------------+--------------------+-------+------+------------+------------+-----------+----+--------------------+\n",
      "only showing top 4 rows\n",
      "\n"
     ]
    }
   ],
   "source": [
    "dados_2.show(4)"
   ]
  },
  {
   "cell_type": "code",
   "execution_count": null,
   "id": "3iiEi_qeIWYy",
   "metadata": {
    "id": "3iiEi_qeIWYy"
   },
   "outputs": [],
   "source": [
    "for c in list_array:\n",
    "  dados_2 = dados_2.withColumn(c,dados_2[c][0])"
   ]
  },
  {
   "cell_type": "code",
   "execution_count": null,
   "id": "VzEkQ9nbI2Gi",
   "metadata": {
    "colab": {
     "base_uri": "https://localhost:8080/"
    },
    "executionInfo": {
     "elapsed": 3360,
     "status": "ok",
     "timestamp": 1670516125304,
     "user": {
      "displayName": "francisco strunck",
      "userId": "02683465803792309206"
     },
     "user_tz": 180
    },
    "id": "VzEkQ9nbI2Gi",
    "outputId": "2050c01e-ef27-42f0-90d4-9dcbd992a50d"
   },
   "outputs": [
    {
     "name": "stdout",
     "output_type": "stream",
     "text": [
      "+-----+----------+---------+---------+--------------------+--------------------+--------------------+-------+------+------------+------------+-----------+----+--------------------+\n",
      "|andar|area_total|area_util|banheiros|     caracteristicas|            endereco|                  id|quartos|suites|tipo_anuncio|tipo_unidade|   tipo_uso|vaga|             valores|\n",
      "+-----+----------+---------+---------+--------------------+--------------------+--------------------+-------+------+------------+------------+-----------+----+--------------------+\n",
      "|    3|        43|       43|        1|[Academia, Churra...|{Paciência, 23585...|d2e3a3aa-09b5-45a...|      2|  null|       Usado| Apartamento|Residencial|   1|[{245, null, Vend...|\n",
      "|    2|        42|       42|        1|[Churrasqueira, P...|{Paciência, 23585...|085bab2c-87ad-452...|      2|  null|       Usado| Apartamento|Residencial|   1|[{0, 0, Venda, 15...|\n",
      "|    1|        41|       41|        1|[Portaria 24h, Co...|{Guaratiba, 23036...|18d22cbe-1b86-476...|      2|  null|       Usado| Apartamento|Residencial|   1|[{0, 0, Venda, 20...|\n",
      "|    3|        43|       43|        1|[Churrasqueira, P...|{Cosmos, 23066271...|bed8a354-9317-442...|      2|  null|       Usado| Apartamento|Residencial|   0|[{285, null, Vend...|\n",
      "+-----+----------+---------+---------+--------------------+--------------------+--------------------+-------+------+------------+------------+-----------+----+--------------------+\n",
      "only showing top 4 rows\n",
      "\n"
     ]
    }
   ],
   "source": [
    "dados_2.show(4)"
   ]
  },
  {
   "cell_type": "markdown",
   "id": "wCooEugYLtkq",
   "metadata": {
    "id": "wCooEugYLtkq"
   },
   "source": [
    "--------------------------"
   ]
  },
  {
   "cell_type": "code",
   "execution_count": null,
   "id": "4419004e",
   "metadata": {
    "ExecuteTime": {
     "end_time": "2022-12-06T23:21:04.352021Z",
     "start_time": "2022-12-06T23:21:03.365618Z"
    },
    "colab": {
     "base_uri": "https://localhost:8080/",
     "height": 1000
    },
    "executionInfo": {
     "elapsed": 3182,
     "status": "ok",
     "timestamp": 1670516128467,
     "user": {
      "displayName": "francisco strunck",
      "userId": "02683465803792309206"
     },
     "user_tz": 180
    },
    "id": "4419004e",
    "outputId": "1ddb3299-8cae-44b4-d7c2-7bbc9f7f7891"
   },
   "outputs": [
    {
     "data": {
      "text/html": [
       "\n",
       "  <div id=\"df-545bae4c-79d2-4338-a9d7-60d4b957922e\">\n",
       "    <div class=\"colab-df-container\">\n",
       "      <div>\n",
       "<style scoped>\n",
       "    .dataframe tbody tr th:only-of-type {\n",
       "        vertical-align: middle;\n",
       "    }\n",
       "\n",
       "    .dataframe tbody tr th {\n",
       "        vertical-align: top;\n",
       "    }\n",
       "\n",
       "    .dataframe thead th {\n",
       "        text-align: right;\n",
       "    }\n",
       "</style>\n",
       "<table border=\"1\" class=\"dataframe\">\n",
       "  <thead>\n",
       "    <tr style=\"text-align: right;\">\n",
       "      <th></th>\n",
       "      <th>andar</th>\n",
       "      <th>area_total</th>\n",
       "      <th>area_util</th>\n",
       "      <th>banheiros</th>\n",
       "      <th>caracteristicas</th>\n",
       "      <th>endereco</th>\n",
       "      <th>id</th>\n",
       "      <th>quartos</th>\n",
       "      <th>suites</th>\n",
       "      <th>tipo_anuncio</th>\n",
       "      <th>tipo_unidade</th>\n",
       "      <th>tipo_uso</th>\n",
       "      <th>vaga</th>\n",
       "      <th>valores</th>\n",
       "    </tr>\n",
       "  </thead>\n",
       "  <tbody>\n",
       "    <tr>\n",
       "      <th>0</th>\n",
       "      <td>3</td>\n",
       "      <td>43</td>\n",
       "      <td>43</td>\n",
       "      <td>1</td>\n",
       "      <td>[Academia, Churrasqueira, Playground, Salão de...</td>\n",
       "      <td>(Paciência, 23585430, Rio de Janeiro, Rio de J...</td>\n",
       "      <td>d2e3a3aa-09b5-45a0-9dcd-918847cd3ca3</td>\n",
       "      <td>2</td>\n",
       "      <td>NaN</td>\n",
       "      <td>Usado</td>\n",
       "      <td>Apartamento</td>\n",
       "      <td>Residencial</td>\n",
       "      <td>1</td>\n",
       "      <td>[(245, None, Venda, 15000)]</td>\n",
       "    </tr>\n",
       "    <tr>\n",
       "      <th>1</th>\n",
       "      <td>2</td>\n",
       "      <td>42</td>\n",
       "      <td>42</td>\n",
       "      <td>1</td>\n",
       "      <td>[Churrasqueira, Playground, Salão de festas, C...</td>\n",
       "      <td>(Paciência, 23585430, Rio de Janeiro, Rio de J...</td>\n",
       "      <td>085bab2c-87ad-452a-bd0f-8b1451509f84</td>\n",
       "      <td>2</td>\n",
       "      <td>NaN</td>\n",
       "      <td>Usado</td>\n",
       "      <td>Apartamento</td>\n",
       "      <td>Residencial</td>\n",
       "      <td>1</td>\n",
       "      <td>[(0, 0, Venda, 15000)]</td>\n",
       "    </tr>\n",
       "    <tr>\n",
       "      <th>2</th>\n",
       "      <td>1</td>\n",
       "      <td>41</td>\n",
       "      <td>41</td>\n",
       "      <td>1</td>\n",
       "      <td>[Portaria 24h, Condomínio fechado, Playground,...</td>\n",
       "      <td>(Guaratiba, 23036060, Rio de Janeiro, Rio de J...</td>\n",
       "      <td>18d22cbe-1b86-4764-8def-70c615f15a61</td>\n",
       "      <td>2</td>\n",
       "      <td>NaN</td>\n",
       "      <td>Usado</td>\n",
       "      <td>Apartamento</td>\n",
       "      <td>Residencial</td>\n",
       "      <td>1</td>\n",
       "      <td>[(0, 0, Venda, 20000)]</td>\n",
       "    </tr>\n",
       "    <tr>\n",
       "      <th>3</th>\n",
       "      <td>3</td>\n",
       "      <td>43</td>\n",
       "      <td>43</td>\n",
       "      <td>1</td>\n",
       "      <td>[Churrasqueira, Piscina, Playground, Salão de ...</td>\n",
       "      <td>(Cosmos, 23066271, Rio de Janeiro, Rio de Jane...</td>\n",
       "      <td>bed8a354-9317-4426-b27e-1c798f864271</td>\n",
       "      <td>2</td>\n",
       "      <td>NaN</td>\n",
       "      <td>Usado</td>\n",
       "      <td>Apartamento</td>\n",
       "      <td>Residencial</td>\n",
       "      <td>0</td>\n",
       "      <td>[(285, None, Venda, 20000)]</td>\n",
       "    </tr>\n",
       "    <tr>\n",
       "      <th>4</th>\n",
       "      <td>2</td>\n",
       "      <td>43</td>\n",
       "      <td>43</td>\n",
       "      <td>1</td>\n",
       "      <td>[Academia, Churrasqueira, Playground, Salão de...</td>\n",
       "      <td>(Guaratiba, 23036060, Rio de Janeiro, Rio de J...</td>\n",
       "      <td>12a13315-d67f-48f0-9497-017b83252781</td>\n",
       "      <td>2</td>\n",
       "      <td>NaN</td>\n",
       "      <td>Usado</td>\n",
       "      <td>Apartamento</td>\n",
       "      <td>Residencial</td>\n",
       "      <td>1</td>\n",
       "      <td>[(245, None, Venda, 15000)]</td>\n",
       "    </tr>\n",
       "    <tr>\n",
       "      <th>5</th>\n",
       "      <td>3</td>\n",
       "      <td>43</td>\n",
       "      <td>43</td>\n",
       "      <td>1</td>\n",
       "      <td>[Churrasqueira, Piscina, Playground, Salão de ...</td>\n",
       "      <td>(Cosmos, 23066271, Rio de Janeiro, Rio de Jane...</td>\n",
       "      <td>a2e6d7a5-0ff0-484d-b3d8-3a8f15e2d80e</td>\n",
       "      <td>2</td>\n",
       "      <td>0.0</td>\n",
       "      <td>Usado</td>\n",
       "      <td>Apartamento</td>\n",
       "      <td>Residencial</td>\n",
       "      <td>0</td>\n",
       "      <td>[(285, None, Venda, 20000)]</td>\n",
       "    </tr>\n",
       "    <tr>\n",
       "      <th>6</th>\n",
       "      <td>3</td>\n",
       "      <td>43</td>\n",
       "      <td>43</td>\n",
       "      <td>1</td>\n",
       "      <td>[Churrasqueira, Playground, Salão de festas, C...</td>\n",
       "      <td>(Paciência, 23585430, Rio de Janeiro, Rio de J...</td>\n",
       "      <td>a6e3173b-c950-4db4-9b7b-80c44bd75e90</td>\n",
       "      <td>2</td>\n",
       "      <td>NaN</td>\n",
       "      <td>Usado</td>\n",
       "      <td>Apartamento</td>\n",
       "      <td>Residencial</td>\n",
       "      <td>1</td>\n",
       "      <td>[(250, None, Venda, 15000)]</td>\n",
       "    </tr>\n",
       "    <tr>\n",
       "      <th>7</th>\n",
       "      <td>3</td>\n",
       "      <td>43</td>\n",
       "      <td>43</td>\n",
       "      <td>1</td>\n",
       "      <td>[Churrasqueira, Playground, Salão de festas, C...</td>\n",
       "      <td>(Guaratiba, 23036060, Rio de Janeiro, Rio de J...</td>\n",
       "      <td>2e6e5dfb-206c-4968-944b-ea4c3918b50d</td>\n",
       "      <td>2</td>\n",
       "      <td>0.0</td>\n",
       "      <td>Usado</td>\n",
       "      <td>Apartamento</td>\n",
       "      <td>Residencial</td>\n",
       "      <td>1</td>\n",
       "      <td>[(245, None, Venda, 15000)]</td>\n",
       "    </tr>\n",
       "    <tr>\n",
       "      <th>8</th>\n",
       "      <td>3</td>\n",
       "      <td>43</td>\n",
       "      <td>43</td>\n",
       "      <td>1</td>\n",
       "      <td>[Churrasqueira, Playground, Salão de festas, C...</td>\n",
       "      <td>(Paciência, 23585430, Rio de Janeiro, Rio de J...</td>\n",
       "      <td>99f8d0f9-95a4-4613-a55d-c949e7a73e90</td>\n",
       "      <td>2</td>\n",
       "      <td>0.0</td>\n",
       "      <td>Usado</td>\n",
       "      <td>Apartamento</td>\n",
       "      <td>Residencial</td>\n",
       "      <td>1</td>\n",
       "      <td>[(245, None, Venda, 15000)]</td>\n",
       "    </tr>\n",
       "    <tr>\n",
       "      <th>9</th>\n",
       "      <td>4</td>\n",
       "      <td>43</td>\n",
       "      <td>43</td>\n",
       "      <td>1</td>\n",
       "      <td>[Churrasqueira, Playground, Salão de festas, C...</td>\n",
       "      <td>(Guaratiba, 23036060, Rio de Janeiro, Rio de J...</td>\n",
       "      <td>b3f44c1a-2d50-4d56-b1fb-a94d59b55ab8</td>\n",
       "      <td>2</td>\n",
       "      <td>NaN</td>\n",
       "      <td>Usado</td>\n",
       "      <td>Apartamento</td>\n",
       "      <td>Residencial</td>\n",
       "      <td>1</td>\n",
       "      <td>[(240, None, Venda, 17999)]</td>\n",
       "    </tr>\n",
       "  </tbody>\n",
       "</table>\n",
       "</div>\n",
       "      <button class=\"colab-df-convert\" onclick=\"convertToInteractive('df-545bae4c-79d2-4338-a9d7-60d4b957922e')\"\n",
       "              title=\"Convert this dataframe to an interactive table.\"\n",
       "              style=\"display:none;\">\n",
       "        \n",
       "  <svg xmlns=\"http://www.w3.org/2000/svg\" height=\"24px\"viewBox=\"0 0 24 24\"\n",
       "       width=\"24px\">\n",
       "    <path d=\"M0 0h24v24H0V0z\" fill=\"none\"/>\n",
       "    <path d=\"M18.56 5.44l.94 2.06.94-2.06 2.06-.94-2.06-.94-.94-2.06-.94 2.06-2.06.94zm-11 1L8.5 8.5l.94-2.06 2.06-.94-2.06-.94L8.5 2.5l-.94 2.06-2.06.94zm10 10l.94 2.06.94-2.06 2.06-.94-2.06-.94-.94-2.06-.94 2.06-2.06.94z\"/><path d=\"M17.41 7.96l-1.37-1.37c-.4-.4-.92-.59-1.43-.59-.52 0-1.04.2-1.43.59L10.3 9.45l-7.72 7.72c-.78.78-.78 2.05 0 2.83L4 21.41c.39.39.9.59 1.41.59.51 0 1.02-.2 1.41-.59l7.78-7.78 2.81-2.81c.8-.78.8-2.07 0-2.86zM5.41 20L4 18.59l7.72-7.72 1.47 1.35L5.41 20z\"/>\n",
       "  </svg>\n",
       "      </button>\n",
       "      \n",
       "  <style>\n",
       "    .colab-df-container {\n",
       "      display:flex;\n",
       "      flex-wrap:wrap;\n",
       "      gap: 12px;\n",
       "    }\n",
       "\n",
       "    .colab-df-convert {\n",
       "      background-color: #E8F0FE;\n",
       "      border: none;\n",
       "      border-radius: 50%;\n",
       "      cursor: pointer;\n",
       "      display: none;\n",
       "      fill: #1967D2;\n",
       "      height: 32px;\n",
       "      padding: 0 0 0 0;\n",
       "      width: 32px;\n",
       "    }\n",
       "\n",
       "    .colab-df-convert:hover {\n",
       "      background-color: #E2EBFA;\n",
       "      box-shadow: 0px 1px 2px rgba(60, 64, 67, 0.3), 0px 1px 3px 1px rgba(60, 64, 67, 0.15);\n",
       "      fill: #174EA6;\n",
       "    }\n",
       "\n",
       "    [theme=dark] .colab-df-convert {\n",
       "      background-color: #3B4455;\n",
       "      fill: #D2E3FC;\n",
       "    }\n",
       "\n",
       "    [theme=dark] .colab-df-convert:hover {\n",
       "      background-color: #434B5C;\n",
       "      box-shadow: 0px 1px 3px 1px rgba(0, 0, 0, 0.15);\n",
       "      filter: drop-shadow(0px 1px 2px rgba(0, 0, 0, 0.3));\n",
       "      fill: #FFFFFF;\n",
       "    }\n",
       "  </style>\n",
       "\n",
       "      <script>\n",
       "        const buttonEl =\n",
       "          document.querySelector('#df-545bae4c-79d2-4338-a9d7-60d4b957922e button.colab-df-convert');\n",
       "        buttonEl.style.display =\n",
       "          google.colab.kernel.accessAllowed ? 'block' : 'none';\n",
       "\n",
       "        async function convertToInteractive(key) {\n",
       "          const element = document.querySelector('#df-545bae4c-79d2-4338-a9d7-60d4b957922e');\n",
       "          const dataTable =\n",
       "            await google.colab.kernel.invokeFunction('convertToInteractive',\n",
       "                                                     [key], {});\n",
       "          if (!dataTable) return;\n",
       "\n",
       "          const docLinkHtml = 'Like what you see? Visit the ' +\n",
       "            '<a target=\"_blank\" href=https://colab.research.google.com/notebooks/data_table.ipynb>data table notebook</a>'\n",
       "            + ' to learn more about interactive tables.';\n",
       "          element.innerHTML = '';\n",
       "          dataTable['output_type'] = 'display_data';\n",
       "          await google.colab.output.renderOutput(dataTable, element);\n",
       "          const docLink = document.createElement('div');\n",
       "          docLink.innerHTML = docLinkHtml;\n",
       "          element.appendChild(docLink);\n",
       "        }\n",
       "      </script>\n",
       "    </div>\n",
       "  </div>\n",
       "  "
      ],
      "text/plain": [
       "   andar area_total area_util  banheiros  \\\n",
       "0      3         43        43          1   \n",
       "1      2         42        42          1   \n",
       "2      1         41        41          1   \n",
       "3      3         43        43          1   \n",
       "4      2         43        43          1   \n",
       "5      3         43        43          1   \n",
       "6      3         43        43          1   \n",
       "7      3         43        43          1   \n",
       "8      3         43        43          1   \n",
       "9      4         43        43          1   \n",
       "\n",
       "                                     caracteristicas  \\\n",
       "0  [Academia, Churrasqueira, Playground, Salão de...   \n",
       "1  [Churrasqueira, Playground, Salão de festas, C...   \n",
       "2  [Portaria 24h, Condomínio fechado, Playground,...   \n",
       "3  [Churrasqueira, Piscina, Playground, Salão de ...   \n",
       "4  [Academia, Churrasqueira, Playground, Salão de...   \n",
       "5  [Churrasqueira, Piscina, Playground, Salão de ...   \n",
       "6  [Churrasqueira, Playground, Salão de festas, C...   \n",
       "7  [Churrasqueira, Playground, Salão de festas, C...   \n",
       "8  [Churrasqueira, Playground, Salão de festas, C...   \n",
       "9  [Churrasqueira, Playground, Salão de festas, C...   \n",
       "\n",
       "                                            endereco  \\\n",
       "0  (Paciência, 23585430, Rio de Janeiro, Rio de J...   \n",
       "1  (Paciência, 23585430, Rio de Janeiro, Rio de J...   \n",
       "2  (Guaratiba, 23036060, Rio de Janeiro, Rio de J...   \n",
       "3  (Cosmos, 23066271, Rio de Janeiro, Rio de Jane...   \n",
       "4  (Guaratiba, 23036060, Rio de Janeiro, Rio de J...   \n",
       "5  (Cosmos, 23066271, Rio de Janeiro, Rio de Jane...   \n",
       "6  (Paciência, 23585430, Rio de Janeiro, Rio de J...   \n",
       "7  (Guaratiba, 23036060, Rio de Janeiro, Rio de J...   \n",
       "8  (Paciência, 23585430, Rio de Janeiro, Rio de J...   \n",
       "9  (Guaratiba, 23036060, Rio de Janeiro, Rio de J...   \n",
       "\n",
       "                                     id  quartos  suites tipo_anuncio  \\\n",
       "0  d2e3a3aa-09b5-45a0-9dcd-918847cd3ca3        2     NaN        Usado   \n",
       "1  085bab2c-87ad-452a-bd0f-8b1451509f84        2     NaN        Usado   \n",
       "2  18d22cbe-1b86-4764-8def-70c615f15a61        2     NaN        Usado   \n",
       "3  bed8a354-9317-4426-b27e-1c798f864271        2     NaN        Usado   \n",
       "4  12a13315-d67f-48f0-9497-017b83252781        2     NaN        Usado   \n",
       "5  a2e6d7a5-0ff0-484d-b3d8-3a8f15e2d80e        2     0.0        Usado   \n",
       "6  a6e3173b-c950-4db4-9b7b-80c44bd75e90        2     NaN        Usado   \n",
       "7  2e6e5dfb-206c-4968-944b-ea4c3918b50d        2     0.0        Usado   \n",
       "8  99f8d0f9-95a4-4613-a55d-c949e7a73e90        2     0.0        Usado   \n",
       "9  b3f44c1a-2d50-4d56-b1fb-a94d59b55ab8        2     NaN        Usado   \n",
       "\n",
       "  tipo_unidade     tipo_uso  vaga                      valores  \n",
       "0  Apartamento  Residencial     1  [(245, None, Venda, 15000)]  \n",
       "1  Apartamento  Residencial     1       [(0, 0, Venda, 15000)]  \n",
       "2  Apartamento  Residencial     1       [(0, 0, Venda, 20000)]  \n",
       "3  Apartamento  Residencial     0  [(285, None, Venda, 20000)]  \n",
       "4  Apartamento  Residencial     1  [(245, None, Venda, 15000)]  \n",
       "5  Apartamento  Residencial     0  [(285, None, Venda, 20000)]  \n",
       "6  Apartamento  Residencial     1  [(250, None, Venda, 15000)]  \n",
       "7  Apartamento  Residencial     1  [(245, None, Venda, 15000)]  \n",
       "8  Apartamento  Residencial     1  [(245, None, Venda, 15000)]  \n",
       "9  Apartamento  Residencial     1  [(240, None, Venda, 17999)]  "
      ]
     },
     "execution_count": 57,
     "metadata": {},
     "output_type": "execute_result"
    }
   ],
   "source": [
    "anuncio.limit(5).toPandas()"
   ]
  },
  {
   "cell_type": "code",
   "execution_count": null,
   "id": "e11cc233",
   "metadata": {
    "id": "e11cc233"
   },
   "outputs": [],
   "source": []
  },
  {
   "cell_type": "markdown",
   "id": "fdf9ac01",
   "metadata": {
    "id": "fdf9ac01"
   },
   "source": [
    "**Tratamento para as informações sobre localização**"
   ]
  },
  {
   "cell_type": "markdown",
   "id": "c1df6ac0",
   "metadata": {
    "id": "c1df6ac0"
   },
   "source": [
    "A InsightPlaces opera apenas com imóveis na cidade do Rio de Janeiro e a equipe de ciência de dados nos solicitou que apenas as informações sobre bairro e zona da cidade fossem extraídas. Vamos analisar a coluna endereco e transformar apenas as informações sobre bairro e zona em colunas de nosso DataFrame."
   ]
  },
  {
   "cell_type": "code",
   "execution_count": null,
   "id": "8b54094f",
   "metadata": {
    "ExecuteTime": {
     "end_time": "2022-12-06T23:21:06.537194Z",
     "start_time": "2022-12-06T23:21:05.494862Z"
    },
    "colab": {
     "base_uri": "https://localhost:8080/"
    },
    "executionInfo": {
     "elapsed": 2010,
     "status": "ok",
     "timestamp": 1670516130472,
     "user": {
      "displayName": "francisco strunck",
      "userId": "02683465803792309206"
     },
     "user_tz": 180
    },
    "id": "8b54094f",
    "outputId": "df3cb67b-9f57-4473-9eb6-752b4bf48eb2"
   },
   "outputs": [
    {
     "name": "stdout",
     "output_type": "stream",
     "text": [
      "+-----+----------+---------+---------+--------------------+--------------------+--------------------+-------+------+------------+------------+-----------+----+--------------------+\n",
      "|andar|area_total|area_util|banheiros|     caracteristicas|            endereco|                  id|quartos|suites|tipo_anuncio|tipo_unidade|   tipo_uso|vaga|             valores|\n",
      "+-----+----------+---------+---------+--------------------+--------------------+--------------------+-------+------+------------+------------+-----------+----+--------------------+\n",
      "|    3|        43|       43|        1|[Academia, Churra...|{Paciência, 23585...|d2e3a3aa-09b5-45a...|      2|  null|       Usado| Apartamento|Residencial|   1|[{245, null, Vend...|\n",
      "|    2|        42|       42|        1|[Churrasqueira, P...|{Paciência, 23585...|085bab2c-87ad-452...|      2|  null|       Usado| Apartamento|Residencial|   1|[{0, 0, Venda, 15...|\n",
      "|    1|        41|       41|        1|[Portaria 24h, Co...|{Guaratiba, 23036...|18d22cbe-1b86-476...|      2|  null|       Usado| Apartamento|Residencial|   1|[{0, 0, Venda, 20...|\n",
      "|    3|        43|       43|        1|[Churrasqueira, P...|{Cosmos, 23066271...|bed8a354-9317-442...|      2|  null|       Usado| Apartamento|Residencial|   0|[{285, null, Vend...|\n",
      "|    2|        43|       43|        1|[Academia, Churra...|{Guaratiba, 23036...|12a13315-d67f-48f...|      2|  null|       Usado| Apartamento|Residencial|   1|[{245, null, Vend...|\n",
      "|    3|        43|       43|        1|[Churrasqueira, P...|{Cosmos, 23066271...|a2e6d7a5-0ff0-484...|      2|     0|       Usado| Apartamento|Residencial|   0|[{285, null, Vend...|\n",
      "|    3|        43|       43|        1|[Churrasqueira, P...|{Paciência, 23585...|a6e3173b-c950-4db...|      2|  null|       Usado| Apartamento|Residencial|   1|[{250, null, Vend...|\n",
      "|    3|        43|       43|        1|[Churrasqueira, P...|{Guaratiba, 23036...|2e6e5dfb-206c-496...|      2|     0|       Usado| Apartamento|Residencial|   1|[{245, null, Vend...|\n",
      "|    3|        43|       43|        1|[Churrasqueira, P...|{Paciência, 23585...|99f8d0f9-95a4-461...|      2|     0|       Usado| Apartamento|Residencial|   1|[{245, null, Vend...|\n",
      "|    4|        43|       43|        1|[Churrasqueira, P...|{Guaratiba, 23036...|b3f44c1a-2d50-4d5...|      2|  null|       Usado| Apartamento|Residencial|   1|[{240, null, Vend...|\n",
      "|    0|        60|       60|        1|[Condomínio fechado]|{Pedra de Guarati...|dc99d9e1-4c63-41f...|      2|  null|       Usado| Apartamento|Residencial|   1|[{0, 0, Venda, 15...|\n",
      "|    1|        43|       43|        1|[Churrasqueira, P...|{Cosmos, 23056630...|aa3606d8-8bcd-45e...|      2|  null|       Usado| Apartamento|Residencial|   1|[{240, 0, Venda, ...|\n",
      "|    0|        43|       43|        1|[Churrasqueira, P...|{Campo Grande, 23...|df80b0d5-677c-4be...|      2|     0|       Usado| Apartamento|Residencial|   0|[{245, null, Vend...|\n",
      "|    2|        43|       43|        1|[Academia, Churra...|{Santa Cruz, 2352...|3d6c0218-9b7d-474...|      2|  null|       Usado| Apartamento|Residencial|   2|[{290, null, Vend...|\n",
      "|    3|        43|       43|        1|[Salão de festas,...|{Guaratiba, 23020...|304266cc-62d1-4ce...|      2|  null|       Usado| Apartamento|Residencial|null|[{285, null, Vend...|\n",
      "|    4|        55|       55|        2|[Academia, Churra...|{Recreio dos Band...|111472a2-afa1-4a7...|      2|     1|       Usado| Apartamento|Residencial|   1|[{0, 0, Venda, 30...|\n",
      "|    0|        45|       45|        1|[Playground, Pisc...|{Cosmos, 23066271...|275c1589-6537-4bf...|      2|     0|       Usado| Apartamento|Residencial|   1|[{null, null, Ven...|\n",
      "|    5|        42|       42|        1|[Condomínio fecha...|{Realengo, 217251...|ab8f367f-7509-45c...|      2|     0|       Usado| Apartamento|Residencial|   0|[{280, 0, Venda, ...|\n",
      "|    1|        43|       43|        1|[Churrasqueira, P...|{Cosmos, 23058001...|e0a3d370-66dd-4f5...|      2|  null|       Usado| Apartamento|Residencial|   1|[{280, null, Vend...|\n",
      "|    3|      null|       55|        1|[Academia, Churra...|{Todos os Santos,...|09c8ba2d-dbf1-487...|      2|     1|       Usado| Apartamento|Residencial|   1|[{0, 0, Venda, 26...|\n",
      "+-----+----------+---------+---------+--------------------+--------------------+--------------------+-------+------+------------+------------+-----------+----+--------------------+\n",
      "only showing top 20 rows\n",
      "\n"
     ]
    }
   ],
   "source": [
    "anuncio\\\n",
    "    .show(5)"
   ]
  },
  {
   "cell_type": "code",
   "execution_count": null,
   "id": "ec33ed56",
   "metadata": {
    "ExecuteTime": {
     "end_time": "2022-12-06T23:21:07.560207Z",
     "start_time": "2022-12-06T23:21:06.538190Z"
    },
    "colab": {
     "base_uri": "https://localhost:8080/"
    },
    "executionInfo": {
     "elapsed": 2709,
     "status": "ok",
     "timestamp": 1670516133175,
     "user": {
      "displayName": "francisco strunck",
      "userId": "02683465803792309206"
     },
     "user_tz": 180
    },
    "id": "ec33ed56",
    "outputId": "bde3227c-338f-4cbe-cce8-6668b1695533"
   },
   "outputs": [
    {
     "name": "stdout",
     "output_type": "stream",
     "text": [
      "+--------------------+\n",
      "|            endereco|\n",
      "+--------------------+\n",
      "|{Paciência, 23585...|\n",
      "|{Paciência, 23585...|\n",
      "|{Guaratiba, 23036...|\n",
      "|{Cosmos, 23066271...|\n",
      "|{Guaratiba, 23036...|\n",
      "|{Cosmos, 23066271...|\n",
      "|{Paciência, 23585...|\n",
      "|{Guaratiba, 23036...|\n",
      "|{Paciência, 23585...|\n",
      "|{Guaratiba, 23036...|\n",
      "|{Pedra de Guarati...|\n",
      "|{Cosmos, 23056630...|\n",
      "|{Campo Grande, 23...|\n",
      "|{Santa Cruz, 2352...|\n",
      "|{Guaratiba, 23020...|\n",
      "|{Recreio dos Band...|\n",
      "|{Cosmos, 23066271...|\n",
      "|{Realengo, 217251...|\n",
      "|{Cosmos, 23058001...|\n",
      "|{Todos os Santos,...|\n",
      "+--------------------+\n",
      "only showing top 20 rows\n",
      "\n"
     ]
    }
   ],
   "source": [
    "anuncio\\\n",
    "    .select('endereco')\\\n",
    "    .show(5)"
   ]
  },
  {
   "cell_type": "code",
   "execution_count": null,
   "id": "dd11636e",
   "metadata": {
    "ExecuteTime": {
     "end_time": "2022-12-06T23:21:08.718745Z",
     "start_time": "2022-12-06T23:21:07.562173Z"
    },
    "colab": {
     "base_uri": "https://localhost:8080/"
    },
    "executionInfo": {
     "elapsed": 4045,
     "status": "ok",
     "timestamp": 1670516137207,
     "user": {
      "displayName": "francisco strunck",
      "userId": "02683465803792309206"
     },
     "user_tz": 180
    },
    "id": "dd11636e",
    "outputId": "ac03393b-0905-4e41-ca62-fcbe16351a18"
   },
   "outputs": [
    {
     "name": "stdout",
     "output_type": "stream",
     "text": [
      "+--------------------+--------+--------------+--------------+----------+----------+----+--------------------+----------+\n",
      "|              bairro|     cep|        cidade|        estado|  latitude| longitude|pais|                 rua|      zona|\n",
      "+--------------------+--------+--------------+--------------+----------+----------+----+--------------------+----------+\n",
      "|           Paciência|23585430|Rio de Janeiro|Rio de Janeiro|-22.919851|-43.634034|  BR|Estrada de Santa ...|Zona Oeste|\n",
      "|           Paciência|23585430|Rio de Janeiro|Rio de Janeiro|-22.928108|-43.635375|  BR|Estrada de Santa ...|Zona Oeste|\n",
      "|           Guaratiba|23036060|Rio de Janeiro|Rio de Janeiro|-22.948756|-43.582824|  BR|Estrada Cabuçu de...|Zona Oeste|\n",
      "|              Cosmos|23066271|Rio de Janeiro|Rio de Janeiro|-22.888194|-43.629602|  BR|Estrada da Paciência|Zona Oeste|\n",
      "|           Guaratiba|23036060|Rio de Janeiro|Rio de Janeiro|-22.948291|-43.582205|  BR|Estrada Cabuçu de...|Zona Oeste|\n",
      "|              Cosmos|23066271|Rio de Janeiro|Rio de Janeiro|-22.888194|-43.629602|  BR|Estrada da Paciência|Zona Oeste|\n",
      "|           Paciência|23585430|Rio de Janeiro|Rio de Janeiro|-22.919851|-43.634034|  BR|Estrada de Santa ...|Zona Oeste|\n",
      "|           Guaratiba|23036060|Rio de Janeiro|Rio de Janeiro|-22.948291|-43.582205|  BR|Estrada Cabuçu de...|Zona Oeste|\n",
      "|           Paciência|23585430|Rio de Janeiro|Rio de Janeiro|-22.919851|-43.634034|  BR|Estrada de Santa ...|Zona Oeste|\n",
      "|           Guaratiba|23036060|Rio de Janeiro|Rio de Janeiro|-22.948291|-43.582205|  BR|Estrada Cabuçu de...|Zona Oeste|\n",
      "|  Pedra de Guaratiba|23025018|Rio de Janeiro|Rio de Janeiro|-22.991393|-43.628042|  BR|Rua Cento e Trint...|Zona Oeste|\n",
      "|              Cosmos|23056630|Rio de Janeiro|Rio de Janeiro|-22.918594|-43.611184|  BR|   Rua das Amoreiras|Zona Oeste|\n",
      "|        Campo Grande|23070600|Rio de Janeiro|Rio de Janeiro|-22.883694|-43.593646|  BR|    Rua Constituinte|Zona Oeste|\n",
      "|          Santa Cruz|23520560|Rio de Janeiro|Rio de Janeiro|-22.945648|-43.640029|  BR|Estrada de Santa ...|Zona Oeste|\n",
      "|           Guaratiba|23020135|Rio de Janeiro|Rio de Janeiro|-22.936475|-43.583306|  BR|   Rua Seis de Julho|Zona Oeste|\n",
      "|Recreio dos Bande...|22790880|Rio de Janeiro|Rio de Janeiro|-23.022323|-43.509961|  BR|Rua Luiz Carlos S...|Zona Oeste|\n",
      "|              Cosmos|23066271|Rio de Janeiro|Rio de Janeiro| -22.88939|-43.629587|  BR|Estrada da Paciência|Zona Oeste|\n",
      "|            Realengo|21725180|Rio de Janeiro|Rio de Janeiro|-22.857776|-43.448282|  BR| Rua Hélio do Amaral|Zona Oeste|\n",
      "|              Cosmos|23058001|Rio de Janeiro|Rio de Janeiro|-22.915615| -43.61736|  BR|Avenida Cesário d...|Zona Oeste|\n",
      "|     Todos os Santos|20770240|Rio de Janeiro|Rio de Janeiro|-22.896488|-43.282714|  BR|  Rua José Bonifácio|Zona Norte|\n",
      "+--------------------+--------+--------------+--------------+----------+----------+----+--------------------+----------+\n",
      "only showing top 20 rows\n",
      "\n"
     ]
    }
   ],
   "source": [
    "anuncio\\\n",
    "    .select('endereco.*')\\\n",
    "    .show(5)"
   ]
  },
  {
   "cell_type": "code",
   "execution_count": null,
   "id": "55640a50",
   "metadata": {
    "ExecuteTime": {
     "end_time": "2022-12-06T23:21:09.899533Z",
     "start_time": "2022-12-06T23:21:08.720668Z"
    },
    "colab": {
     "base_uri": "https://localhost:8080/"
    },
    "executionInfo": {
     "elapsed": 5098,
     "status": "ok",
     "timestamp": 1670516142299,
     "user": {
      "displayName": "francisco strunck",
      "userId": "02683465803792309206"
     },
     "user_tz": 180
    },
    "id": "55640a50",
    "outputId": "718e0d96-321c-4c2c-f295-2541d87d7d4d"
   },
   "outputs": [
    {
     "name": "stdout",
     "output_type": "stream",
     "text": [
      "+--------------------+----------+\n",
      "|              bairro|      zona|\n",
      "+--------------------+----------+\n",
      "|           Paciência|Zona Oeste|\n",
      "|           Paciência|Zona Oeste|\n",
      "|           Guaratiba|Zona Oeste|\n",
      "|              Cosmos|Zona Oeste|\n",
      "|           Guaratiba|Zona Oeste|\n",
      "|              Cosmos|Zona Oeste|\n",
      "|           Paciência|Zona Oeste|\n",
      "|           Guaratiba|Zona Oeste|\n",
      "|           Paciência|Zona Oeste|\n",
      "|           Guaratiba|Zona Oeste|\n",
      "|  Pedra de Guaratiba|Zona Oeste|\n",
      "|              Cosmos|Zona Oeste|\n",
      "|        Campo Grande|Zona Oeste|\n",
      "|          Santa Cruz|Zona Oeste|\n",
      "|           Guaratiba|Zona Oeste|\n",
      "|Recreio dos Bande...|Zona Oeste|\n",
      "|              Cosmos|Zona Oeste|\n",
      "|            Realengo|Zona Oeste|\n",
      "|              Cosmos|Zona Oeste|\n",
      "|     Todos os Santos|Zona Norte|\n",
      "+--------------------+----------+\n",
      "only showing top 20 rows\n",
      "\n"
     ]
    }
   ],
   "source": [
    "anuncio\\\n",
    "    .select('endereco.bairro', 'endereco.zona')\\\n",
    "    .show(5)"
   ]
  },
  {
   "cell_type": "code",
   "execution_count": null,
   "id": "1b48c175",
   "metadata": {
    "ExecuteTime": {
     "end_time": "2022-12-06T23:21:10.930092Z",
     "start_time": "2022-12-06T23:21:09.901442Z"
    },
    "colab": {
     "base_uri": "https://localhost:8080/",
     "height": 364
    },
    "executionInfo": {
     "elapsed": 4403,
     "status": "ok",
     "timestamp": 1670516146699,
     "user": {
      "displayName": "francisco strunck",
      "userId": "02683465803792309206"
     },
     "user_tz": 180
    },
    "id": "1b48c175",
    "outputId": "029c6f3f-63ae-4602-b733-5582552815f1"
   },
   "outputs": [
    {
     "data": {
      "text/html": [
       "\n",
       "  <div id=\"df-7fa578de-c47c-45c4-898c-8ebd189bdfad\">\n",
       "    <div class=\"colab-df-container\">\n",
       "      <div>\n",
       "<style scoped>\n",
       "    .dataframe tbody tr th:only-of-type {\n",
       "        vertical-align: middle;\n",
       "    }\n",
       "\n",
       "    .dataframe tbody tr th {\n",
       "        vertical-align: top;\n",
       "    }\n",
       "\n",
       "    .dataframe thead th {\n",
       "        text-align: right;\n",
       "    }\n",
       "</style>\n",
       "<table border=\"1\" class=\"dataframe\">\n",
       "  <thead>\n",
       "    <tr style=\"text-align: right;\">\n",
       "      <th></th>\n",
       "      <th>andar</th>\n",
       "      <th>area_total</th>\n",
       "      <th>area_util</th>\n",
       "      <th>banheiros</th>\n",
       "      <th>caracteristicas</th>\n",
       "      <th>id</th>\n",
       "      <th>quartos</th>\n",
       "      <th>suites</th>\n",
       "      <th>tipo_anuncio</th>\n",
       "      <th>tipo_unidade</th>\n",
       "      <th>tipo_uso</th>\n",
       "      <th>vaga</th>\n",
       "      <th>valores</th>\n",
       "      <th>bairro</th>\n",
       "      <th>zona</th>\n",
       "    </tr>\n",
       "  </thead>\n",
       "  <tbody>\n",
       "    <tr>\n",
       "      <th>0</th>\n",
       "      <td>3</td>\n",
       "      <td>43</td>\n",
       "      <td>43</td>\n",
       "      <td>1</td>\n",
       "      <td>[Academia, Churrasqueira, Playground, Salão de...</td>\n",
       "      <td>d2e3a3aa-09b5-45a0-9dcd-918847cd3ca3</td>\n",
       "      <td>2</td>\n",
       "      <td>NaN</td>\n",
       "      <td>Usado</td>\n",
       "      <td>Apartamento</td>\n",
       "      <td>Residencial</td>\n",
       "      <td>1</td>\n",
       "      <td>[(245, None, Venda, 15000)]</td>\n",
       "      <td>Paciência</td>\n",
       "      <td>Zona Oeste</td>\n",
       "    </tr>\n",
       "    <tr>\n",
       "      <th>1</th>\n",
       "      <td>2</td>\n",
       "      <td>42</td>\n",
       "      <td>42</td>\n",
       "      <td>1</td>\n",
       "      <td>[Churrasqueira, Playground, Salão de festas, C...</td>\n",
       "      <td>085bab2c-87ad-452a-bd0f-8b1451509f84</td>\n",
       "      <td>2</td>\n",
       "      <td>NaN</td>\n",
       "      <td>Usado</td>\n",
       "      <td>Apartamento</td>\n",
       "      <td>Residencial</td>\n",
       "      <td>1</td>\n",
       "      <td>[(0, 0, Venda, 15000)]</td>\n",
       "      <td>Paciência</td>\n",
       "      <td>Zona Oeste</td>\n",
       "    </tr>\n",
       "    <tr>\n",
       "      <th>2</th>\n",
       "      <td>1</td>\n",
       "      <td>41</td>\n",
       "      <td>41</td>\n",
       "      <td>1</td>\n",
       "      <td>[Portaria 24h, Condomínio fechado, Playground,...</td>\n",
       "      <td>18d22cbe-1b86-4764-8def-70c615f15a61</td>\n",
       "      <td>2</td>\n",
       "      <td>NaN</td>\n",
       "      <td>Usado</td>\n",
       "      <td>Apartamento</td>\n",
       "      <td>Residencial</td>\n",
       "      <td>1</td>\n",
       "      <td>[(0, 0, Venda, 20000)]</td>\n",
       "      <td>Guaratiba</td>\n",
       "      <td>Zona Oeste</td>\n",
       "    </tr>\n",
       "  </tbody>\n",
       "</table>\n",
       "</div>\n",
       "      <button class=\"colab-df-convert\" onclick=\"convertToInteractive('df-7fa578de-c47c-45c4-898c-8ebd189bdfad')\"\n",
       "              title=\"Convert this dataframe to an interactive table.\"\n",
       "              style=\"display:none;\">\n",
       "        \n",
       "  <svg xmlns=\"http://www.w3.org/2000/svg\" height=\"24px\"viewBox=\"0 0 24 24\"\n",
       "       width=\"24px\">\n",
       "    <path d=\"M0 0h24v24H0V0z\" fill=\"none\"/>\n",
       "    <path d=\"M18.56 5.44l.94 2.06.94-2.06 2.06-.94-2.06-.94-.94-2.06-.94 2.06-2.06.94zm-11 1L8.5 8.5l.94-2.06 2.06-.94-2.06-.94L8.5 2.5l-.94 2.06-2.06.94zm10 10l.94 2.06.94-2.06 2.06-.94-2.06-.94-.94-2.06-.94 2.06-2.06.94z\"/><path d=\"M17.41 7.96l-1.37-1.37c-.4-.4-.92-.59-1.43-.59-.52 0-1.04.2-1.43.59L10.3 9.45l-7.72 7.72c-.78.78-.78 2.05 0 2.83L4 21.41c.39.39.9.59 1.41.59.51 0 1.02-.2 1.41-.59l7.78-7.78 2.81-2.81c.8-.78.8-2.07 0-2.86zM5.41 20L4 18.59l7.72-7.72 1.47 1.35L5.41 20z\"/>\n",
       "  </svg>\n",
       "      </button>\n",
       "      \n",
       "  <style>\n",
       "    .colab-df-container {\n",
       "      display:flex;\n",
       "      flex-wrap:wrap;\n",
       "      gap: 12px;\n",
       "    }\n",
       "\n",
       "    .colab-df-convert {\n",
       "      background-color: #E8F0FE;\n",
       "      border: none;\n",
       "      border-radius: 50%;\n",
       "      cursor: pointer;\n",
       "      display: none;\n",
       "      fill: #1967D2;\n",
       "      height: 32px;\n",
       "      padding: 0 0 0 0;\n",
       "      width: 32px;\n",
       "    }\n",
       "\n",
       "    .colab-df-convert:hover {\n",
       "      background-color: #E2EBFA;\n",
       "      box-shadow: 0px 1px 2px rgba(60, 64, 67, 0.3), 0px 1px 3px 1px rgba(60, 64, 67, 0.15);\n",
       "      fill: #174EA6;\n",
       "    }\n",
       "\n",
       "    [theme=dark] .colab-df-convert {\n",
       "      background-color: #3B4455;\n",
       "      fill: #D2E3FC;\n",
       "    }\n",
       "\n",
       "    [theme=dark] .colab-df-convert:hover {\n",
       "      background-color: #434B5C;\n",
       "      box-shadow: 0px 1px 3px 1px rgba(0, 0, 0, 0.15);\n",
       "      filter: drop-shadow(0px 1px 2px rgba(0, 0, 0, 0.3));\n",
       "      fill: #FFFFFF;\n",
       "    }\n",
       "  </style>\n",
       "\n",
       "      <script>\n",
       "        const buttonEl =\n",
       "          document.querySelector('#df-7fa578de-c47c-45c4-898c-8ebd189bdfad button.colab-df-convert');\n",
       "        buttonEl.style.display =\n",
       "          google.colab.kernel.accessAllowed ? 'block' : 'none';\n",
       "\n",
       "        async function convertToInteractive(key) {\n",
       "          const element = document.querySelector('#df-7fa578de-c47c-45c4-898c-8ebd189bdfad');\n",
       "          const dataTable =\n",
       "            await google.colab.kernel.invokeFunction('convertToInteractive',\n",
       "                                                     [key], {});\n",
       "          if (!dataTable) return;\n",
       "\n",
       "          const docLinkHtml = 'Like what you see? Visit the ' +\n",
       "            '<a target=\"_blank\" href=https://colab.research.google.com/notebooks/data_table.ipynb>data table notebook</a>'\n",
       "            + ' to learn more about interactive tables.';\n",
       "          element.innerHTML = '';\n",
       "          dataTable['output_type'] = 'display_data';\n",
       "          await google.colab.output.renderOutput(dataTable, element);\n",
       "          const docLink = document.createElement('div');\n",
       "          docLink.innerHTML = docLinkHtml;\n",
       "          element.appendChild(docLink);\n",
       "        }\n",
       "      </script>\n",
       "    </div>\n",
       "  </div>\n",
       "  "
      ],
      "text/plain": [
       "   andar area_total area_util  banheiros  \\\n",
       "0      3         43        43          1   \n",
       "1      2         42        42          1   \n",
       "2      1         41        41          1   \n",
       "\n",
       "                                     caracteristicas  \\\n",
       "0  [Academia, Churrasqueira, Playground, Salão de...   \n",
       "1  [Churrasqueira, Playground, Salão de festas, C...   \n",
       "2  [Portaria 24h, Condomínio fechado, Playground,...   \n",
       "\n",
       "                                     id  quartos  suites tipo_anuncio  \\\n",
       "0  d2e3a3aa-09b5-45a0-9dcd-918847cd3ca3        2     NaN        Usado   \n",
       "1  085bab2c-87ad-452a-bd0f-8b1451509f84        2     NaN        Usado   \n",
       "2  18d22cbe-1b86-4764-8def-70c615f15a61        2     NaN        Usado   \n",
       "\n",
       "  tipo_unidade     tipo_uso  vaga                      valores     bairro  \\\n",
       "0  Apartamento  Residencial     1  [(245, None, Venda, 15000)]  Paciência   \n",
       "1  Apartamento  Residencial     1       [(0, 0, Venda, 15000)]  Paciência   \n",
       "2  Apartamento  Residencial     1       [(0, 0, Venda, 20000)]  Guaratiba   \n",
       "\n",
       "         zona  \n",
       "0  Zona Oeste  \n",
       "1  Zona Oeste  \n",
       "2  Zona Oeste  "
      ]
     },
     "execution_count": 62,
     "metadata": {},
     "output_type": "execute_result"
    }
   ],
   "source": [
    "anuncio\\\n",
    "    .select('*',  'endereco.bairro', 'endereco.zona')\\\n",
    "    .drop('endereco')\\\n",
    "    .limit(3).toPandas()"
   ]
  },
  {
   "cell_type": "code",
   "execution_count": null,
   "id": "FnQXmCzJ_iPW",
   "metadata": {
    "colab": {
     "base_uri": "https://localhost:8080/"
    },
    "executionInfo": {
     "elapsed": 4290,
     "status": "ok",
     "timestamp": 1670516150980,
     "user": {
      "displayName": "francisco strunck",
      "userId": "02683465803792309206"
     },
     "user_tz": 180
    },
    "id": "FnQXmCzJ_iPW",
    "outputId": "cf90e677-6853-4661-ca12-2d6eefecc3db"
   },
   "outputs": [
    {
     "name": "stdout",
     "output_type": "stream",
     "text": [
      "+-----+----------+---------+---------+--------------------+--------------------+-------+------+------------+------------+-----------+----+--------------------+--------------------+----------+\n",
      "|andar|area_total|area_util|banheiros|     caracteristicas|                  id|quartos|suites|tipo_anuncio|tipo_unidade|   tipo_uso|vaga|             valores|              bairro|      zona|\n",
      "+-----+----------+---------+---------+--------------------+--------------------+-------+------+------------+------------+-----------+----+--------------------+--------------------+----------+\n",
      "|    3|        43|       43|        1|[Academia, Churra...|d2e3a3aa-09b5-45a...|      2|  null|       Usado| Apartamento|Residencial|   1|[{245, null, Vend...|           Paciência|Zona Oeste|\n",
      "|    2|        42|       42|        1|[Churrasqueira, P...|085bab2c-87ad-452...|      2|  null|       Usado| Apartamento|Residencial|   1|[{0, 0, Venda, 15...|           Paciência|Zona Oeste|\n",
      "|    1|        41|       41|        1|[Portaria 24h, Co...|18d22cbe-1b86-476...|      2|  null|       Usado| Apartamento|Residencial|   1|[{0, 0, Venda, 20...|           Guaratiba|Zona Oeste|\n",
      "|    3|        43|       43|        1|[Churrasqueira, P...|bed8a354-9317-442...|      2|  null|       Usado| Apartamento|Residencial|   0|[{285, null, Vend...|              Cosmos|Zona Oeste|\n",
      "|    2|        43|       43|        1|[Academia, Churra...|12a13315-d67f-48f...|      2|  null|       Usado| Apartamento|Residencial|   1|[{245, null, Vend...|           Guaratiba|Zona Oeste|\n",
      "|    3|        43|       43|        1|[Churrasqueira, P...|a2e6d7a5-0ff0-484...|      2|     0|       Usado| Apartamento|Residencial|   0|[{285, null, Vend...|              Cosmos|Zona Oeste|\n",
      "|    3|        43|       43|        1|[Churrasqueira, P...|a6e3173b-c950-4db...|      2|  null|       Usado| Apartamento|Residencial|   1|[{250, null, Vend...|           Paciência|Zona Oeste|\n",
      "|    3|        43|       43|        1|[Churrasqueira, P...|2e6e5dfb-206c-496...|      2|     0|       Usado| Apartamento|Residencial|   1|[{245, null, Vend...|           Guaratiba|Zona Oeste|\n",
      "|    3|        43|       43|        1|[Churrasqueira, P...|99f8d0f9-95a4-461...|      2|     0|       Usado| Apartamento|Residencial|   1|[{245, null, Vend...|           Paciência|Zona Oeste|\n",
      "|    4|        43|       43|        1|[Churrasqueira, P...|b3f44c1a-2d50-4d5...|      2|  null|       Usado| Apartamento|Residencial|   1|[{240, null, Vend...|           Guaratiba|Zona Oeste|\n",
      "|    0|        60|       60|        1|[Condomínio fechado]|dc99d9e1-4c63-41f...|      2|  null|       Usado| Apartamento|Residencial|   1|[{0, 0, Venda, 15...|  Pedra de Guaratiba|Zona Oeste|\n",
      "|    1|        43|       43|        1|[Churrasqueira, P...|aa3606d8-8bcd-45e...|      2|  null|       Usado| Apartamento|Residencial|   1|[{240, 0, Venda, ...|              Cosmos|Zona Oeste|\n",
      "|    0|        43|       43|        1|[Churrasqueira, P...|df80b0d5-677c-4be...|      2|     0|       Usado| Apartamento|Residencial|   0|[{245, null, Vend...|        Campo Grande|Zona Oeste|\n",
      "|    2|        43|       43|        1|[Academia, Churra...|3d6c0218-9b7d-474...|      2|  null|       Usado| Apartamento|Residencial|   2|[{290, null, Vend...|          Santa Cruz|Zona Oeste|\n",
      "|    3|        43|       43|        1|[Salão de festas,...|304266cc-62d1-4ce...|      2|  null|       Usado| Apartamento|Residencial|null|[{285, null, Vend...|           Guaratiba|Zona Oeste|\n",
      "|    4|        55|       55|        2|[Academia, Churra...|111472a2-afa1-4a7...|      2|     1|       Usado| Apartamento|Residencial|   1|[{0, 0, Venda, 30...|Recreio dos Bande...|Zona Oeste|\n",
      "|    0|        45|       45|        1|[Playground, Pisc...|275c1589-6537-4bf...|      2|     0|       Usado| Apartamento|Residencial|   1|[{null, null, Ven...|              Cosmos|Zona Oeste|\n",
      "|    5|        42|       42|        1|[Condomínio fecha...|ab8f367f-7509-45c...|      2|     0|       Usado| Apartamento|Residencial|   0|[{280, 0, Venda, ...|            Realengo|Zona Oeste|\n",
      "|    1|        43|       43|        1|[Churrasqueira, P...|e0a3d370-66dd-4f5...|      2|  null|       Usado| Apartamento|Residencial|   1|[{280, null, Vend...|              Cosmos|Zona Oeste|\n",
      "|    3|      null|       55|        1|[Academia, Churra...|09c8ba2d-dbf1-487...|      2|     1|       Usado| Apartamento|Residencial|   1|[{0, 0, Venda, 26...|     Todos os Santos|Zona Norte|\n",
      "+-----+----------+---------+---------+--------------------+--------------------+-------+------+------------+------------+-----------+----+--------------------+--------------------+----------+\n",
      "only showing top 20 rows\n",
      "\n"
     ]
    }
   ],
   "source": [
    "dados_2\\\n",
    "    .withColumn('bairro', dados_2.endereco.bairro)\\\n",
    "    .withColumn('zona', dados_2.endereco.zona)\\\n",
    "    .drop(dados_2.endereco)\\\n",
    "    .show(10)"
   ]
  },
  {
   "cell_type": "code",
   "execution_count": null,
   "id": "74f4b0f3",
   "metadata": {
    "ExecuteTime": {
     "end_time": "2022-12-06T23:21:10.961990Z",
     "start_time": "2022-12-06T23:21:10.932085Z"
    },
    "id": "74f4b0f3"
   },
   "outputs": [],
   "source": [
    "anuncio=anuncio\\\n",
    "    .select('*',  'endereco.bairro', 'endereco.zona')\\\n",
    "    .drop('endereco')"
   ]
  },
  {
   "cell_type": "markdown",
   "id": "b5d65a41",
   "metadata": {
    "id": "b5d65a41"
   },
   "source": [
    "**Tratamento para a coluna de valores**"
   ]
  },
  {
   "cell_type": "markdown",
   "id": "3d5f464b",
   "metadata": {
    "id": "3d5f464b"
   },
   "source": [
    "Segundo o time de cientistas de dados essa é a informação mais importante. Na verdade temos mais de uma informação neste campo. Vamos entender sua estrutura."
   ]
  },
  {
   "cell_type": "code",
   "execution_count": null,
   "id": "2cadbff3",
   "metadata": {
    "ExecuteTime": {
     "end_time": "2022-12-06T23:21:10.977930Z",
     "start_time": "2022-12-06T23:21:10.964975Z"
    },
    "colab": {
     "base_uri": "https://localhost:8080/"
    },
    "executionInfo": {
     "elapsed": 12,
     "status": "ok",
     "timestamp": 1670516150981,
     "user": {
      "displayName": "francisco strunck",
      "userId": "02683465803792309206"
     },
     "user_tz": 180
    },
    "id": "2cadbff3",
    "outputId": "073caf85-3a90-419f-aa10-4b23902c0247"
   },
   "outputs": [
    {
     "name": "stdout",
     "output_type": "stream",
     "text": [
      "root\n",
      " |-- andar: long (nullable = true)\n",
      " |-- area_total: string (nullable = true)\n",
      " |-- area_util: string (nullable = true)\n",
      " |-- banheiros: long (nullable = true)\n",
      " |-- caracteristicas: array (nullable = true)\n",
      " |    |-- element: string (containsNull = true)\n",
      " |-- id: string (nullable = true)\n",
      " |-- quartos: long (nullable = true)\n",
      " |-- suites: long (nullable = true)\n",
      " |-- tipo_anuncio: string (nullable = true)\n",
      " |-- tipo_unidade: string (nullable = true)\n",
      " |-- tipo_uso: string (nullable = true)\n",
      " |-- vaga: long (nullable = true)\n",
      " |-- valores: array (nullable = true)\n",
      " |    |-- element: struct (containsNull = true)\n",
      " |    |    |-- condominio: string (nullable = true)\n",
      " |    |    |-- iptu: string (nullable = true)\n",
      " |    |    |-- tipo: string (nullable = true)\n",
      " |    |    |-- valor: string (nullable = true)\n",
      " |-- bairro: string (nullable = true)\n",
      " |-- zona: string (nullable = true)\n",
      "\n"
     ]
    }
   ],
   "source": [
    "anuncio.printSchema()"
   ]
  },
  {
   "cell_type": "markdown",
   "id": "9a120edd",
   "metadata": {
    "id": "9a120edd"
   },
   "source": [
    "Note que valores é do tipo array, ou seja, uma lista que contém elementos. E estes elementos são dicionários com as informações de condominio, iptu, tipo, e valor\n",
    "\n",
    "A InsightPlaces permite que o anunciante crie um anúncio com duas opções de valor. O cliente pode criar um anúncio que mostre tanto o valor de venda do imóvel como também o seu valor de locação, juntamente com os valores de taxa de condomínio (quando houver) e taxa de IPTU. Estes valores são diferenciado pelo campo tipo que pode assumir os valores Venda e Aluguel.\n",
    "\n",
    "Como se trata de um estudo sobre o preço de venda dos imóveis, o time de cientistas de dados solicitou apenas as informações do tipo VENDA.\n",
    "\n",
    "Selecione apenas os valores de venda com os respectivos valores de condomínio e iptu."
   ]
  },
  {
   "cell_type": "code",
   "execution_count": null,
   "id": "d37f2aeb",
   "metadata": {
    "ExecuteTime": {
     "end_time": "2022-12-06T23:21:12.928625Z",
     "start_time": "2022-12-06T23:21:11.702039Z"
    },
    "colab": {
     "base_uri": "https://localhost:8080/",
     "height": 530
    },
    "executionInfo": {
     "elapsed": 3762,
     "status": "ok",
     "timestamp": 1670516154738,
     "user": {
      "displayName": "francisco strunck",
      "userId": "02683465803792309206"
     },
     "user_tz": 180
    },
    "id": "d37f2aeb",
    "outputId": "a2aac0f2-b33e-46ed-80b7-a22aa8d44230"
   },
   "outputs": [
    {
     "data": {
      "text/html": [
       "\n",
       "  <div id=\"df-8579ade9-a45a-4e60-97c1-4d5882410724\">\n",
       "    <div class=\"colab-df-container\">\n",
       "      <div>\n",
       "<style scoped>\n",
       "    .dataframe tbody tr th:only-of-type {\n",
       "        vertical-align: middle;\n",
       "    }\n",
       "\n",
       "    .dataframe tbody tr th {\n",
       "        vertical-align: top;\n",
       "    }\n",
       "\n",
       "    .dataframe thead th {\n",
       "        text-align: right;\n",
       "    }\n",
       "</style>\n",
       "<table border=\"1\" class=\"dataframe\">\n",
       "  <thead>\n",
       "    <tr style=\"text-align: right;\">\n",
       "      <th></th>\n",
       "      <th>andar</th>\n",
       "      <th>area_total</th>\n",
       "      <th>area_util</th>\n",
       "      <th>banheiros</th>\n",
       "      <th>caracteristicas</th>\n",
       "      <th>id</th>\n",
       "      <th>quartos</th>\n",
       "      <th>suites</th>\n",
       "      <th>tipo_anuncio</th>\n",
       "      <th>tipo_unidade</th>\n",
       "      <th>tipo_uso</th>\n",
       "      <th>vaga</th>\n",
       "      <th>valores</th>\n",
       "      <th>bairro</th>\n",
       "      <th>zona</th>\n",
       "    </tr>\n",
       "  </thead>\n",
       "  <tbody>\n",
       "    <tr>\n",
       "      <th>0</th>\n",
       "      <td>3</td>\n",
       "      <td>43</td>\n",
       "      <td>43</td>\n",
       "      <td>1</td>\n",
       "      <td>[Academia, Churrasqueira, Playground, Salão de...</td>\n",
       "      <td>d2e3a3aa-09b5-45a0-9dcd-918847cd3ca3</td>\n",
       "      <td>2</td>\n",
       "      <td>NaN</td>\n",
       "      <td>Usado</td>\n",
       "      <td>Apartamento</td>\n",
       "      <td>Residencial</td>\n",
       "      <td>1</td>\n",
       "      <td>[(245, None, Venda, 15000)]</td>\n",
       "      <td>Paciência</td>\n",
       "      <td>Zona Oeste</td>\n",
       "    </tr>\n",
       "    <tr>\n",
       "      <th>1</th>\n",
       "      <td>2</td>\n",
       "      <td>42</td>\n",
       "      <td>42</td>\n",
       "      <td>1</td>\n",
       "      <td>[Churrasqueira, Playground, Salão de festas, C...</td>\n",
       "      <td>085bab2c-87ad-452a-bd0f-8b1451509f84</td>\n",
       "      <td>2</td>\n",
       "      <td>NaN</td>\n",
       "      <td>Usado</td>\n",
       "      <td>Apartamento</td>\n",
       "      <td>Residencial</td>\n",
       "      <td>1</td>\n",
       "      <td>[(0, 0, Venda, 15000)]</td>\n",
       "      <td>Paciência</td>\n",
       "      <td>Zona Oeste</td>\n",
       "    </tr>\n",
       "    <tr>\n",
       "      <th>2</th>\n",
       "      <td>1</td>\n",
       "      <td>41</td>\n",
       "      <td>41</td>\n",
       "      <td>1</td>\n",
       "      <td>[Portaria 24h, Condomínio fechado, Playground,...</td>\n",
       "      <td>18d22cbe-1b86-4764-8def-70c615f15a61</td>\n",
       "      <td>2</td>\n",
       "      <td>NaN</td>\n",
       "      <td>Usado</td>\n",
       "      <td>Apartamento</td>\n",
       "      <td>Residencial</td>\n",
       "      <td>1</td>\n",
       "      <td>[(0, 0, Venda, 20000)]</td>\n",
       "      <td>Guaratiba</td>\n",
       "      <td>Zona Oeste</td>\n",
       "    </tr>\n",
       "    <tr>\n",
       "      <th>3</th>\n",
       "      <td>3</td>\n",
       "      <td>43</td>\n",
       "      <td>43</td>\n",
       "      <td>1</td>\n",
       "      <td>[Churrasqueira, Piscina, Playground, Salão de ...</td>\n",
       "      <td>bed8a354-9317-4426-b27e-1c798f864271</td>\n",
       "      <td>2</td>\n",
       "      <td>NaN</td>\n",
       "      <td>Usado</td>\n",
       "      <td>Apartamento</td>\n",
       "      <td>Residencial</td>\n",
       "      <td>0</td>\n",
       "      <td>[(285, None, Venda, 20000)]</td>\n",
       "      <td>Cosmos</td>\n",
       "      <td>Zona Oeste</td>\n",
       "    </tr>\n",
       "    <tr>\n",
       "      <th>4</th>\n",
       "      <td>2</td>\n",
       "      <td>43</td>\n",
       "      <td>43</td>\n",
       "      <td>1</td>\n",
       "      <td>[Academia, Churrasqueira, Playground, Salão de...</td>\n",
       "      <td>12a13315-d67f-48f0-9497-017b83252781</td>\n",
       "      <td>2</td>\n",
       "      <td>NaN</td>\n",
       "      <td>Usado</td>\n",
       "      <td>Apartamento</td>\n",
       "      <td>Residencial</td>\n",
       "      <td>1</td>\n",
       "      <td>[(245, None, Venda, 15000)]</td>\n",
       "      <td>Guaratiba</td>\n",
       "      <td>Zona Oeste</td>\n",
       "    </tr>\n",
       "  </tbody>\n",
       "</table>\n",
       "</div>\n",
       "      <button class=\"colab-df-convert\" onclick=\"convertToInteractive('df-8579ade9-a45a-4e60-97c1-4d5882410724')\"\n",
       "              title=\"Convert this dataframe to an interactive table.\"\n",
       "              style=\"display:none;\">\n",
       "        \n",
       "  <svg xmlns=\"http://www.w3.org/2000/svg\" height=\"24px\"viewBox=\"0 0 24 24\"\n",
       "       width=\"24px\">\n",
       "    <path d=\"M0 0h24v24H0V0z\" fill=\"none\"/>\n",
       "    <path d=\"M18.56 5.44l.94 2.06.94-2.06 2.06-.94-2.06-.94-.94-2.06-.94 2.06-2.06.94zm-11 1L8.5 8.5l.94-2.06 2.06-.94-2.06-.94L8.5 2.5l-.94 2.06-2.06.94zm10 10l.94 2.06.94-2.06 2.06-.94-2.06-.94-.94-2.06-.94 2.06-2.06.94z\"/><path d=\"M17.41 7.96l-1.37-1.37c-.4-.4-.92-.59-1.43-.59-.52 0-1.04.2-1.43.59L10.3 9.45l-7.72 7.72c-.78.78-.78 2.05 0 2.83L4 21.41c.39.39.9.59 1.41.59.51 0 1.02-.2 1.41-.59l7.78-7.78 2.81-2.81c.8-.78.8-2.07 0-2.86zM5.41 20L4 18.59l7.72-7.72 1.47 1.35L5.41 20z\"/>\n",
       "  </svg>\n",
       "      </button>\n",
       "      \n",
       "  <style>\n",
       "    .colab-df-container {\n",
       "      display:flex;\n",
       "      flex-wrap:wrap;\n",
       "      gap: 12px;\n",
       "    }\n",
       "\n",
       "    .colab-df-convert {\n",
       "      background-color: #E8F0FE;\n",
       "      border: none;\n",
       "      border-radius: 50%;\n",
       "      cursor: pointer;\n",
       "      display: none;\n",
       "      fill: #1967D2;\n",
       "      height: 32px;\n",
       "      padding: 0 0 0 0;\n",
       "      width: 32px;\n",
       "    }\n",
       "\n",
       "    .colab-df-convert:hover {\n",
       "      background-color: #E2EBFA;\n",
       "      box-shadow: 0px 1px 2px rgba(60, 64, 67, 0.3), 0px 1px 3px 1px rgba(60, 64, 67, 0.15);\n",
       "      fill: #174EA6;\n",
       "    }\n",
       "\n",
       "    [theme=dark] .colab-df-convert {\n",
       "      background-color: #3B4455;\n",
       "      fill: #D2E3FC;\n",
       "    }\n",
       "\n",
       "    [theme=dark] .colab-df-convert:hover {\n",
       "      background-color: #434B5C;\n",
       "      box-shadow: 0px 1px 3px 1px rgba(0, 0, 0, 0.15);\n",
       "      filter: drop-shadow(0px 1px 2px rgba(0, 0, 0, 0.3));\n",
       "      fill: #FFFFFF;\n",
       "    }\n",
       "  </style>\n",
       "\n",
       "      <script>\n",
       "        const buttonEl =\n",
       "          document.querySelector('#df-8579ade9-a45a-4e60-97c1-4d5882410724 button.colab-df-convert');\n",
       "        buttonEl.style.display =\n",
       "          google.colab.kernel.accessAllowed ? 'block' : 'none';\n",
       "\n",
       "        async function convertToInteractive(key) {\n",
       "          const element = document.querySelector('#df-8579ade9-a45a-4e60-97c1-4d5882410724');\n",
       "          const dataTable =\n",
       "            await google.colab.kernel.invokeFunction('convertToInteractive',\n",
       "                                                     [key], {});\n",
       "          if (!dataTable) return;\n",
       "\n",
       "          const docLinkHtml = 'Like what you see? Visit the ' +\n",
       "            '<a target=\"_blank\" href=https://colab.research.google.com/notebooks/data_table.ipynb>data table notebook</a>'\n",
       "            + ' to learn more about interactive tables.';\n",
       "          element.innerHTML = '';\n",
       "          dataTable['output_type'] = 'display_data';\n",
       "          await google.colab.output.renderOutput(dataTable, element);\n",
       "          const docLink = document.createElement('div');\n",
       "          docLink.innerHTML = docLinkHtml;\n",
       "          element.appendChild(docLink);\n",
       "        }\n",
       "      </script>\n",
       "    </div>\n",
       "  </div>\n",
       "  "
      ],
      "text/plain": [
       "   andar area_total area_util  banheiros  \\\n",
       "0      3         43        43          1   \n",
       "1      2         42        42          1   \n",
       "2      1         41        41          1   \n",
       "3      3         43        43          1   \n",
       "4      2         43        43          1   \n",
       "\n",
       "                                     caracteristicas  \\\n",
       "0  [Academia, Churrasqueira, Playground, Salão de...   \n",
       "1  [Churrasqueira, Playground, Salão de festas, C...   \n",
       "2  [Portaria 24h, Condomínio fechado, Playground,...   \n",
       "3  [Churrasqueira, Piscina, Playground, Salão de ...   \n",
       "4  [Academia, Churrasqueira, Playground, Salão de...   \n",
       "\n",
       "                                     id  quartos  suites tipo_anuncio  \\\n",
       "0  d2e3a3aa-09b5-45a0-9dcd-918847cd3ca3        2     NaN        Usado   \n",
       "1  085bab2c-87ad-452a-bd0f-8b1451509f84        2     NaN        Usado   \n",
       "2  18d22cbe-1b86-4764-8def-70c615f15a61        2     NaN        Usado   \n",
       "3  bed8a354-9317-4426-b27e-1c798f864271        2     NaN        Usado   \n",
       "4  12a13315-d67f-48f0-9497-017b83252781        2     NaN        Usado   \n",
       "\n",
       "  tipo_unidade     tipo_uso  vaga                      valores     bairro  \\\n",
       "0  Apartamento  Residencial     1  [(245, None, Venda, 15000)]  Paciência   \n",
       "1  Apartamento  Residencial     1       [(0, 0, Venda, 15000)]  Paciência   \n",
       "2  Apartamento  Residencial     1       [(0, 0, Venda, 20000)]  Guaratiba   \n",
       "3  Apartamento  Residencial     0  [(285, None, Venda, 20000)]     Cosmos   \n",
       "4  Apartamento  Residencial     1  [(245, None, Venda, 15000)]  Guaratiba   \n",
       "\n",
       "         zona  \n",
       "0  Zona Oeste  \n",
       "1  Zona Oeste  \n",
       "2  Zona Oeste  \n",
       "3  Zona Oeste  \n",
       "4  Zona Oeste  "
      ]
     },
     "execution_count": 66,
     "metadata": {},
     "output_type": "execute_result"
    }
   ],
   "source": [
    "anuncio.limit(5).toPandas()"
   ]
  },
  {
   "cell_type": "code",
   "execution_count": null,
   "id": "be03df9a",
   "metadata": {
    "ExecuteTime": {
     "end_time": "2022-12-06T23:21:14.285565Z",
     "start_time": "2022-12-06T23:21:12.930536Z"
    },
    "colab": {
     "base_uri": "https://localhost:8080/",
     "height": 143
    },
    "executionInfo": {
     "elapsed": 3642,
     "status": "ok",
     "timestamp": 1670516158370,
     "user": {
      "displayName": "francisco strunck",
      "userId": "02683465803792309206"
     },
     "user_tz": 180
    },
    "id": "be03df9a",
    "outputId": "1600b122-3c05-4242-8fa2-2a5490cc23d1"
   },
   "outputs": [
    {
     "data": {
      "text/html": [
       "\n",
       "  <div id=\"df-ac4bbcd0-45bc-415e-a4c1-8c191c942f76\">\n",
       "    <div class=\"colab-df-container\">\n",
       "      <div>\n",
       "<style scoped>\n",
       "    .dataframe tbody tr th:only-of-type {\n",
       "        vertical-align: middle;\n",
       "    }\n",
       "\n",
       "    .dataframe tbody tr th {\n",
       "        vertical-align: top;\n",
       "    }\n",
       "\n",
       "    .dataframe thead th {\n",
       "        text-align: right;\n",
       "    }\n",
       "</style>\n",
       "<table border=\"1\" class=\"dataframe\">\n",
       "  <thead>\n",
       "    <tr style=\"text-align: right;\">\n",
       "      <th></th>\n",
       "      <th>valores</th>\n",
       "    </tr>\n",
       "  </thead>\n",
       "  <tbody>\n",
       "    <tr>\n",
       "      <th>0</th>\n",
       "      <td>[(245, None, Venda, 15000)]</td>\n",
       "    </tr>\n",
       "    <tr>\n",
       "      <th>1</th>\n",
       "      <td>[(0, 0, Venda, 15000)]</td>\n",
       "    </tr>\n",
       "    <tr>\n",
       "      <th>2</th>\n",
       "      <td>[(0, 0, Venda, 20000)]</td>\n",
       "    </tr>\n",
       "  </tbody>\n",
       "</table>\n",
       "</div>\n",
       "      <button class=\"colab-df-convert\" onclick=\"convertToInteractive('df-ac4bbcd0-45bc-415e-a4c1-8c191c942f76')\"\n",
       "              title=\"Convert this dataframe to an interactive table.\"\n",
       "              style=\"display:none;\">\n",
       "        \n",
       "  <svg xmlns=\"http://www.w3.org/2000/svg\" height=\"24px\"viewBox=\"0 0 24 24\"\n",
       "       width=\"24px\">\n",
       "    <path d=\"M0 0h24v24H0V0z\" fill=\"none\"/>\n",
       "    <path d=\"M18.56 5.44l.94 2.06.94-2.06 2.06-.94-2.06-.94-.94-2.06-.94 2.06-2.06.94zm-11 1L8.5 8.5l.94-2.06 2.06-.94-2.06-.94L8.5 2.5l-.94 2.06-2.06.94zm10 10l.94 2.06.94-2.06 2.06-.94-2.06-.94-.94-2.06-.94 2.06-2.06.94z\"/><path d=\"M17.41 7.96l-1.37-1.37c-.4-.4-.92-.59-1.43-.59-.52 0-1.04.2-1.43.59L10.3 9.45l-7.72 7.72c-.78.78-.78 2.05 0 2.83L4 21.41c.39.39.9.59 1.41.59.51 0 1.02-.2 1.41-.59l7.78-7.78 2.81-2.81c.8-.78.8-2.07 0-2.86zM5.41 20L4 18.59l7.72-7.72 1.47 1.35L5.41 20z\"/>\n",
       "  </svg>\n",
       "      </button>\n",
       "      \n",
       "  <style>\n",
       "    .colab-df-container {\n",
       "      display:flex;\n",
       "      flex-wrap:wrap;\n",
       "      gap: 12px;\n",
       "    }\n",
       "\n",
       "    .colab-df-convert {\n",
       "      background-color: #E8F0FE;\n",
       "      border: none;\n",
       "      border-radius: 50%;\n",
       "      cursor: pointer;\n",
       "      display: none;\n",
       "      fill: #1967D2;\n",
       "      height: 32px;\n",
       "      padding: 0 0 0 0;\n",
       "      width: 32px;\n",
       "    }\n",
       "\n",
       "    .colab-df-convert:hover {\n",
       "      background-color: #E2EBFA;\n",
       "      box-shadow: 0px 1px 2px rgba(60, 64, 67, 0.3), 0px 1px 3px 1px rgba(60, 64, 67, 0.15);\n",
       "      fill: #174EA6;\n",
       "    }\n",
       "\n",
       "    [theme=dark] .colab-df-convert {\n",
       "      background-color: #3B4455;\n",
       "      fill: #D2E3FC;\n",
       "    }\n",
       "\n",
       "    [theme=dark] .colab-df-convert:hover {\n",
       "      background-color: #434B5C;\n",
       "      box-shadow: 0px 1px 3px 1px rgba(0, 0, 0, 0.15);\n",
       "      filter: drop-shadow(0px 1px 2px rgba(0, 0, 0, 0.3));\n",
       "      fill: #FFFFFF;\n",
       "    }\n",
       "  </style>\n",
       "\n",
       "      <script>\n",
       "        const buttonEl =\n",
       "          document.querySelector('#df-ac4bbcd0-45bc-415e-a4c1-8c191c942f76 button.colab-df-convert');\n",
       "        buttonEl.style.display =\n",
       "          google.colab.kernel.accessAllowed ? 'block' : 'none';\n",
       "\n",
       "        async function convertToInteractive(key) {\n",
       "          const element = document.querySelector('#df-ac4bbcd0-45bc-415e-a4c1-8c191c942f76');\n",
       "          const dataTable =\n",
       "            await google.colab.kernel.invokeFunction('convertToInteractive',\n",
       "                                                     [key], {});\n",
       "          if (!dataTable) return;\n",
       "\n",
       "          const docLinkHtml = 'Like what you see? Visit the ' +\n",
       "            '<a target=\"_blank\" href=https://colab.research.google.com/notebooks/data_table.ipynb>data table notebook</a>'\n",
       "            + ' to learn more about interactive tables.';\n",
       "          element.innerHTML = '';\n",
       "          dataTable['output_type'] = 'display_data';\n",
       "          await google.colab.output.renderOutput(dataTable, element);\n",
       "          const docLink = document.createElement('div');\n",
       "          docLink.innerHTML = docLinkHtml;\n",
       "          element.appendChild(docLink);\n",
       "        }\n",
       "      </script>\n",
       "    </div>\n",
       "  </div>\n",
       "  "
      ],
      "text/plain": [
       "                       valores\n",
       "0  [(245, None, Venda, 15000)]\n",
       "1       [(0, 0, Venda, 15000)]\n",
       "2       [(0, 0, Venda, 20000)]"
      ]
     },
     "execution_count": 67,
     "metadata": {},
     "output_type": "execute_result"
    }
   ],
   "source": [
    "anuncio\\\n",
    "    .select('valores')\\\n",
    "    .limit(3).toPandas()"
   ]
  },
  {
   "cell_type": "code",
   "execution_count": null,
   "id": "b3b61cbe",
   "metadata": {
    "ExecuteTime": {
     "end_time": "2022-12-06T23:21:15.641813Z",
     "start_time": "2022-12-06T23:21:14.287549Z"
    },
    "colab": {
     "base_uri": "https://localhost:8080/"
    },
    "executionInfo": {
     "elapsed": 3932,
     "status": "ok",
     "timestamp": 1670516162590,
     "user": {
      "displayName": "francisco strunck",
      "userId": "02683465803792309206"
     },
     "user_tz": 180
    },
    "id": "b3b61cbe",
    "outputId": "352a3eb9-d827-49de-ae83-1b35569a4112"
   },
   "outputs": [
    {
     "name": "stdout",
     "output_type": "stream",
     "text": [
      "+-------+\n",
      "|  valor|\n",
      "+-------+\n",
      "|[15000]|\n",
      "|[15000]|\n",
      "|[20000]|\n",
      "|[20000]|\n",
      "|[15000]|\n",
      "|[20000]|\n",
      "|[15000]|\n",
      "|[15000]|\n",
      "|[15000]|\n",
      "|[17999]|\n",
      "|[15000]|\n",
      "|[19999]|\n",
      "|[19999]|\n",
      "|[25000]|\n",
      "|[29999]|\n",
      "|[30000]|\n",
      "|[30000]|\n",
      "|[25000]|\n",
      "|[27999]|\n",
      "|[26000]|\n",
      "+-------+\n",
      "only showing top 20 rows\n",
      "\n"
     ]
    }
   ],
   "source": [
    "anuncio\\\n",
    "    .select('valores.valor')\\\n",
    "    .show(5)"
   ]
  },
  {
   "cell_type": "code",
   "execution_count": null,
   "id": "e5b91f33",
   "metadata": {
    "ExecuteTime": {
     "end_time": "2022-12-06T23:21:15.716034Z",
     "start_time": "2022-12-06T23:21:15.641813Z"
    },
    "colab": {
     "base_uri": "https://localhost:8080/"
    },
    "executionInfo": {
     "elapsed": 27,
     "status": "ok",
     "timestamp": 1670516162591,
     "user": {
      "displayName": "francisco strunck",
      "userId": "02683465803792309206"
     },
     "user_tz": 180
    },
    "id": "e5b91f33",
    "outputId": "e93c62f7-944e-4524-a5d5-431917bd1025"
   },
   "outputs": [
    {
     "data": {
      "text/plain": [
       "DataFrame[valores: struct<condominio:string,iptu:string,tipo:string,valor:string>]"
      ]
     },
     "execution_count": 69,
     "metadata": {},
     "output_type": "execute_result"
    }
   ],
   "source": [
    "anuncio\\\n",
    "    .select([f.col('valores')[0].alias('valores')])"
   ]
  },
  {
   "cell_type": "code",
   "execution_count": null,
   "id": "EIj8sQfPFPzh",
   "metadata": {
    "colab": {
     "base_uri": "https://localhost:8080/"
    },
    "executionInfo": {
     "elapsed": 15,
     "status": "ok",
     "timestamp": 1670516162591,
     "user": {
      "displayName": "francisco strunck",
      "userId": "02683465803792309206"
     },
     "user_tz": 180
    },
    "id": "EIj8sQfPFPzh",
    "outputId": "d810a5a6-7946-4e7d-bbd2-86533879b9ca"
   },
   "outputs": [
    {
     "data": {
      "text/plain": [
       "Column<'valores[iptu][0]'>"
      ]
     },
     "execution_count": 70,
     "metadata": {},
     "output_type": "execute_result"
    }
   ],
   "source": [
    "dados_2.valores.iptu[0]"
   ]
  },
  {
   "cell_type": "code",
   "execution_count": null,
   "id": "44f29af8",
   "metadata": {
    "ExecuteTime": {
     "end_time": "2022-12-06T23:21:17.141341Z",
     "start_time": "2022-12-06T23:21:15.716869Z"
    },
    "colab": {
     "base_uri": "https://localhost:8080/"
    },
    "executionInfo": {
     "elapsed": 3244,
     "status": "ok",
     "timestamp": 1670516165828,
     "user": {
      "displayName": "francisco strunck",
      "userId": "02683465803792309206"
     },
     "user_tz": 180
    },
    "id": "44f29af8",
    "outputId": "2572e5c1-a6e2-447f-c2a0-eda8c9d1e16e"
   },
   "outputs": [
    {
     "name": "stdout",
     "output_type": "stream",
     "text": [
      "+--------------------+\n",
      "|             valores|\n",
      "+--------------------+\n",
      "|[{245, null, Vend...|\n",
      "|[{0, 0, Venda, 15...|\n",
      "|[{0, 0, Venda, 20...|\n",
      "|[{285, null, Vend...|\n",
      "|[{245, null, Vend...|\n",
      "|[{285, null, Vend...|\n",
      "|[{250, null, Vend...|\n",
      "|[{245, null, Vend...|\n",
      "|[{245, null, Vend...|\n",
      "|[{240, null, Vend...|\n",
      "|[{0, 0, Venda, 15...|\n",
      "|[{240, 0, Venda, ...|\n",
      "|[{245, null, Vend...|\n",
      "|[{290, null, Vend...|\n",
      "|[{285, null, Vend...|\n",
      "|[{0, 0, Venda, 30...|\n",
      "|[{null, null, Ven...|\n",
      "|[{280, 0, Venda, ...|\n",
      "|[{280, null, Vend...|\n",
      "|[{0, 0, Venda, 26...|\n",
      "+--------------------+\n",
      "only showing top 20 rows\n",
      "\n"
     ]
    }
   ],
   "source": [
    "anuncio\\\n",
    "    .select([f.col('valores')])\\\n",
    "    .show(5)"
   ]
  },
  {
   "cell_type": "code",
   "execution_count": null,
   "id": "216b8a01",
   "metadata": {
    "ExecuteTime": {
     "end_time": "2022-12-06T23:21:17.172272Z",
     "start_time": "2022-12-06T23:21:17.142798Z"
    },
    "colab": {
     "base_uri": "https://localhost:8080/"
    },
    "executionInfo": {
     "elapsed": 11,
     "status": "ok",
     "timestamp": 1670516165828,
     "user": {
      "displayName": "francisco strunck",
      "userId": "02683465803792309206"
     },
     "user_tz": 180
    },
    "id": "216b8a01",
    "outputId": "7bbc38bd-6bf8-4c93-c82f-f890cac4ff81"
   },
   "outputs": [
    {
     "data": {
      "text/plain": [
       "DataFrame[valores: array<struct<condominio:string,iptu:string,tipo:string,valor:string>>]"
      ]
     },
     "execution_count": 72,
     "metadata": {},
     "output_type": "execute_result"
    }
   ],
   "source": [
    "anuncio\\\n",
    "    .select([f.col('valores')])"
   ]
  },
  {
   "cell_type": "code",
   "execution_count": null,
   "id": "a7937df3",
   "metadata": {
    "ExecuteTime": {
     "end_time": "2022-12-06T23:21:18.682482Z",
     "start_time": "2022-12-06T23:21:17.174204Z"
    },
    "colab": {
     "base_uri": "https://localhost:8080/"
    },
    "executionInfo": {
     "elapsed": 4120,
     "status": "ok",
     "timestamp": 1670516169943,
     "user": {
      "displayName": "francisco strunck",
      "userId": "02683465803792309206"
     },
     "user_tz": 180
    },
    "id": "a7937df3",
    "outputId": "80c48970-8fcc-475c-9d31-bfd512c5940d"
   },
   "outputs": [
    {
     "name": "stdout",
     "output_type": "stream",
     "text": [
      "+--------------------+\n",
      "|             valores|\n",
      "+--------------------+\n",
      "|[{245, null, Vend...|\n",
      "|[{0, 0, Venda, 15...|\n",
      "|[{0, 0, Venda, 20...|\n",
      "|[{285, null, Vend...|\n",
      "|[{245, null, Vend...|\n",
      "|[{285, null, Vend...|\n",
      "|[{250, null, Vend...|\n",
      "|[{245, null, Vend...|\n",
      "|[{245, null, Vend...|\n",
      "|[{240, null, Vend...|\n",
      "|[{0, 0, Venda, 15...|\n",
      "|[{240, 0, Venda, ...|\n",
      "|[{245, null, Vend...|\n",
      "|[{290, null, Vend...|\n",
      "|[{285, null, Vend...|\n",
      "|[{0, 0, Venda, 30...|\n",
      "|[{null, null, Ven...|\n",
      "|[{280, 0, Venda, ...|\n",
      "|[{280, null, Vend...|\n",
      "|[{0, 0, Venda, 26...|\n",
      "+--------------------+\n",
      "only showing top 20 rows\n",
      "\n"
     ]
    }
   ],
   "source": [
    "anuncio\\\n",
    "    .select('valores')\\\n",
    "    .show(5)"
   ]
  },
  {
   "cell_type": "code",
   "execution_count": null,
   "id": "3c51305e",
   "metadata": {
    "ExecuteTime": {
     "end_time": "2022-12-06T23:21:18.698208Z",
     "start_time": "2022-12-06T23:21:18.683477Z"
    },
    "colab": {
     "base_uri": "https://localhost:8080/"
    },
    "executionInfo": {
     "elapsed": 27,
     "status": "ok",
     "timestamp": 1670516169944,
     "user": {
      "displayName": "francisco strunck",
      "userId": "02683465803792309206"
     },
     "user_tz": 180
    },
    "id": "3c51305e",
    "outputId": "b352da12-8f5d-4429-ddd7-b0a1af81de1b"
   },
   "outputs": [
    {
     "name": "stdout",
     "output_type": "stream",
     "text": [
      "root\n",
      " |-- andar: long (nullable = true)\n",
      " |-- area_total: string (nullable = true)\n",
      " |-- area_util: string (nullable = true)\n",
      " |-- banheiros: long (nullable = true)\n",
      " |-- caracteristicas: array (nullable = true)\n",
      " |    |-- element: string (containsNull = true)\n",
      " |-- id: string (nullable = true)\n",
      " |-- quartos: long (nullable = true)\n",
      " |-- suites: long (nullable = true)\n",
      " |-- tipo_anuncio: string (nullable = true)\n",
      " |-- tipo_unidade: string (nullable = true)\n",
      " |-- tipo_uso: string (nullable = true)\n",
      " |-- vaga: long (nullable = true)\n",
      " |-- valores: array (nullable = true)\n",
      " |    |-- element: struct (containsNull = true)\n",
      " |    |    |-- condominio: string (nullable = true)\n",
      " |    |    |-- iptu: string (nullable = true)\n",
      " |    |    |-- tipo: string (nullable = true)\n",
      " |    |    |-- valor: string (nullable = true)\n",
      " |-- bairro: string (nullable = true)\n",
      " |-- zona: string (nullable = true)\n",
      "\n"
     ]
    }
   ],
   "source": [
    "anuncio.printSchema()"
   ]
  },
  {
   "cell_type": "code",
   "execution_count": null,
   "id": "8d5d02b6",
   "metadata": {
    "ExecuteTime": {
     "end_time": "2022-12-06T23:21:20.386314Z",
     "start_time": "2022-12-06T23:21:19.125836Z"
    },
    "colab": {
     "base_uri": "https://localhost:8080/"
    },
    "executionInfo": {
     "elapsed": 2433,
     "status": "ok",
     "timestamp": 1670516172361,
     "user": {
      "displayName": "francisco strunck",
      "userId": "02683465803792309206"
     },
     "user_tz": 180
    },
    "id": "8d5d02b6",
    "outputId": "ec2e2595-df85-4b89-cd8b-d7e0b068498b"
   },
   "outputs": [
    {
     "name": "stdout",
     "output_type": "stream",
     "text": [
      "+-------+\n",
      "|   tipo|\n",
      "+-------+\n",
      "|[Venda]|\n",
      "|[Venda]|\n",
      "|[Venda]|\n",
      "|[Venda]|\n",
      "+-------+\n",
      "only showing top 4 rows\n",
      "\n"
     ]
    }
   ],
   "source": [
    "anuncio\\\n",
    "    .select('valores.tipo')\\\n",
    "    .show(4)"
   ]
  },
  {
   "cell_type": "code",
   "execution_count": null,
   "id": "ccb1e0bb",
   "metadata": {
    "ExecuteTime": {
     "end_time": "2022-12-06T23:21:22.113906Z",
     "start_time": "2022-12-06T23:21:21.037570Z"
    },
    "colab": {
     "base_uri": "https://localhost:8080/"
    },
    "executionInfo": {
     "elapsed": 3013,
     "status": "ok",
     "timestamp": 1670516175370,
     "user": {
      "displayName": "francisco strunck",
      "userId": "02683465803792309206"
     },
     "user_tz": 180
    },
    "id": "ccb1e0bb",
    "outputId": "7e9b63c1-a624-4b20-a149-e99ee3e002ae"
   },
   "outputs": [
    {
     "name": "stdout",
     "output_type": "stream",
     "text": [
      "+--------------------+\n",
      "|             valores|\n",
      "+--------------------+\n",
      "|[{245, null, Vend...|\n",
      "|[{0, 0, Venda, 15...|\n",
      "|[{0, 0, Venda, 20...|\n",
      "|[{285, null, Vend...|\n",
      "+--------------------+\n",
      "only showing top 4 rows\n",
      "\n"
     ]
    }
   ],
   "source": [
    "anuncio\\\n",
    "    .select('valores')\\\n",
    "    .show(4)"
   ]
  },
  {
   "cell_type": "code",
   "execution_count": null,
   "id": "c36155e7",
   "metadata": {
    "ExecuteTime": {
     "end_time": "2022-12-06T23:21:23.320390Z",
     "start_time": "2022-12-06T23:21:22.114812Z"
    },
    "colab": {
     "base_uri": "https://localhost:8080/"
    },
    "executionInfo": {
     "elapsed": 3284,
     "status": "ok",
     "timestamp": 1670516178648,
     "user": {
      "displayName": "francisco strunck",
      "userId": "02683465803792309206"
     },
     "user_tz": 180
    },
    "id": "c36155e7",
    "outputId": "fcde1fd1-50bf-43fa-e85f-0b3b31fc3cfc"
   },
   "outputs": [
    {
     "name": "stdout",
     "output_type": "stream",
     "text": [
      "+----------+----+-----+-----+\n",
      "|condominio|iptu| tipo|valor|\n",
      "+----------+----+-----+-----+\n",
      "|       245|null|Venda|15000|\n",
      "|         0|   0|Venda|15000|\n",
      "|         0|   0|Venda|20000|\n",
      "|       285|null|Venda|20000|\n",
      "+----------+----+-----+-----+\n",
      "only showing top 4 rows\n",
      "\n"
     ]
    }
   ],
   "source": [
    "anuncio\\\n",
    "    .select(f.explode('valores').alias('valores'))\\\n",
    "    .select('valores.*')\\\n",
    "    .show(4)"
   ]
  },
  {
   "cell_type": "code",
   "execution_count": null,
   "id": "y3HrwQ80GDy_",
   "metadata": {
    "colab": {
     "base_uri": "https://localhost:8080/"
    },
    "executionInfo": {
     "elapsed": 18,
     "status": "ok",
     "timestamp": 1670516178649,
     "user": {
      "displayName": "francisco strunck",
      "userId": "02683465803792309206"
     },
     "user_tz": 180
    },
    "id": "y3HrwQ80GDy_",
    "outputId": "9ddee646-0ba7-428f-bbbe-bf722e9d48c5"
   },
   "outputs": [
    {
     "name": "stdout",
     "output_type": "stream",
     "text": [
      "root\n",
      " |-- andar: long (nullable = true)\n",
      " |-- area_total: string (nullable = true)\n",
      " |-- area_util: string (nullable = true)\n",
      " |-- banheiros: long (nullable = true)\n",
      " |-- caracteristicas: array (nullable = true)\n",
      " |    |-- element: string (containsNull = true)\n",
      " |-- endereco: struct (nullable = true)\n",
      " |    |-- bairro: string (nullable = true)\n",
      " |    |-- cep: string (nullable = true)\n",
      " |    |-- cidade: string (nullable = true)\n",
      " |    |-- estado: string (nullable = true)\n",
      " |    |-- latitude: double (nullable = true)\n",
      " |    |-- longitude: double (nullable = true)\n",
      " |    |-- pais: string (nullable = true)\n",
      " |    |-- rua: string (nullable = true)\n",
      " |    |-- zona: string (nullable = true)\n",
      " |-- id: string (nullable = true)\n",
      " |-- quartos: long (nullable = true)\n",
      " |-- suites: long (nullable = true)\n",
      " |-- tipo_anuncio: string (nullable = true)\n",
      " |-- tipo_unidade: string (nullable = true)\n",
      " |-- tipo_uso: string (nullable = true)\n",
      " |-- vaga: long (nullable = true)\n",
      " |-- valores: array (nullable = true)\n",
      " |    |-- element: struct (containsNull = true)\n",
      " |    |    |-- condominio: string (nullable = true)\n",
      " |    |    |-- iptu: string (nullable = true)\n",
      " |    |    |-- tipo: string (nullable = true)\n",
      " |    |    |-- valor: string (nullable = true)\n",
      "\n"
     ]
    }
   ],
   "source": [
    "dados_2.printSchema()"
   ]
  },
  {
   "cell_type": "code",
   "execution_count": null,
   "id": "I8qbD1wIFuNl",
   "metadata": {
    "colab": {
     "base_uri": "https://localhost:8080/"
    },
    "executionInfo": {
     "elapsed": 3879,
     "status": "ok",
     "timestamp": 1670516182512,
     "user": {
      "displayName": "francisco strunck",
      "userId": "02683465803792309206"
     },
     "user_tz": 180
    },
    "id": "I8qbD1wIFuNl",
    "outputId": "cb80536f-af5a-444d-a24b-8aea6c380fc1"
   },
   "outputs": [
    {
     "name": "stdout",
     "output_type": "stream",
     "text": [
      "+-----+----------+---------+---------+--------------------+--------------------+--------------------+-------+------+------------+------------+-----------+----+----------+----+-------+-------+\n",
      "|andar|area_total|area_util|banheiros|     caracteristicas|            endereco|                  id|quartos|suites|tipo_anuncio|tipo_unidade|   tipo_uso|vaga|condominio|iptu|   tipo|  valor|\n",
      "+-----+----------+---------+---------+--------------------+--------------------+--------------------+-------+------+------------+------------+-----------+----+----------+----+-------+-------+\n",
      "|    3|        43|       43|        1|[Academia, Churra...|{Paciência, 23585...|d2e3a3aa-09b5-45a...|      2|  null|       Usado| Apartamento|Residencial|   1|       245|null|[Venda]|[15000]|\n",
      "|    2|        42|       42|        1|[Churrasqueira, P...|{Paciência, 23585...|085bab2c-87ad-452...|      2|  null|       Usado| Apartamento|Residencial|   1|         0|   0|[Venda]|[15000]|\n",
      "|    1|        41|       41|        1|[Portaria 24h, Co...|{Guaratiba, 23036...|18d22cbe-1b86-476...|      2|  null|       Usado| Apartamento|Residencial|   1|         0|   0|[Venda]|[20000]|\n",
      "|    3|        43|       43|        1|[Churrasqueira, P...|{Cosmos, 23066271...|bed8a354-9317-442...|      2|  null|       Usado| Apartamento|Residencial|   0|       285|null|[Venda]|[20000]|\n",
      "|    2|        43|       43|        1|[Academia, Churra...|{Guaratiba, 23036...|12a13315-d67f-48f...|      2|  null|       Usado| Apartamento|Residencial|   1|       245|null|[Venda]|[15000]|\n",
      "|    3|        43|       43|        1|[Churrasqueira, P...|{Cosmos, 23066271...|a2e6d7a5-0ff0-484...|      2|     0|       Usado| Apartamento|Residencial|   0|       285|null|[Venda]|[20000]|\n",
      "|    3|        43|       43|        1|[Churrasqueira, P...|{Paciência, 23585...|a6e3173b-c950-4db...|      2|  null|       Usado| Apartamento|Residencial|   1|       250|null|[Venda]|[15000]|\n",
      "|    3|        43|       43|        1|[Churrasqueira, P...|{Guaratiba, 23036...|2e6e5dfb-206c-496...|      2|     0|       Usado| Apartamento|Residencial|   1|       245|null|[Venda]|[15000]|\n",
      "|    3|        43|       43|        1|[Churrasqueira, P...|{Paciência, 23585...|99f8d0f9-95a4-461...|      2|     0|       Usado| Apartamento|Residencial|   1|       245|null|[Venda]|[15000]|\n",
      "|    4|        43|       43|        1|[Churrasqueira, P...|{Guaratiba, 23036...|b3f44c1a-2d50-4d5...|      2|  null|       Usado| Apartamento|Residencial|   1|       240|null|[Venda]|[17999]|\n",
      "|    0|        60|       60|        1|[Condomínio fechado]|{Pedra de Guarati...|dc99d9e1-4c63-41f...|      2|  null|       Usado| Apartamento|Residencial|   1|         0|   0|[Venda]|[15000]|\n",
      "|    1|        43|       43|        1|[Churrasqueira, P...|{Cosmos, 23056630...|aa3606d8-8bcd-45e...|      2|  null|       Usado| Apartamento|Residencial|   1|       240|   0|[Venda]|[19999]|\n",
      "|    0|        43|       43|        1|[Churrasqueira, P...|{Campo Grande, 23...|df80b0d5-677c-4be...|      2|     0|       Usado| Apartamento|Residencial|   0|       245|null|[Venda]|[19999]|\n",
      "|    2|        43|       43|        1|[Academia, Churra...|{Santa Cruz, 2352...|3d6c0218-9b7d-474...|      2|  null|       Usado| Apartamento|Residencial|   2|       290|null|[Venda]|[25000]|\n",
      "|    3|        43|       43|        1|[Salão de festas,...|{Guaratiba, 23020...|304266cc-62d1-4ce...|      2|  null|       Usado| Apartamento|Residencial|null|       285|null|[Venda]|[29999]|\n",
      "|    4|        55|       55|        2|[Academia, Churra...|{Recreio dos Band...|111472a2-afa1-4a7...|      2|     1|       Usado| Apartamento|Residencial|   1|         0|   0|[Venda]|[30000]|\n",
      "|    0|        45|       45|        1|[Playground, Pisc...|{Cosmos, 23066271...|275c1589-6537-4bf...|      2|     0|       Usado| Apartamento|Residencial|   1|      null|null|[Venda]|[30000]|\n",
      "|    5|        42|       42|        1|[Condomínio fecha...|{Realengo, 217251...|ab8f367f-7509-45c...|      2|     0|       Usado| Apartamento|Residencial|   0|       280|   0|[Venda]|[25000]|\n",
      "|    1|        43|       43|        1|[Churrasqueira, P...|{Cosmos, 23058001...|e0a3d370-66dd-4f5...|      2|  null|       Usado| Apartamento|Residencial|   1|       280|null|[Venda]|[27999]|\n",
      "|    3|      null|       55|        1|[Academia, Churra...|{Todos os Santos,...|09c8ba2d-dbf1-487...|      2|     1|       Usado| Apartamento|Residencial|   1|         0|   0|[Venda]|[26000]|\n",
      "+-----+----------+---------+---------+--------------------+--------------------+--------------------+-------+------+------------+------------+-----------+----+----------+----+-------+-------+\n",
      "only showing top 20 rows\n",
      "\n"
     ]
    }
   ],
   "source": [
    "dados_2\\\n",
    "    .withColumn('condominio', dados_2.valores.condominio[0])\\\n",
    "    .withColumn('iptu', dados_2.valores.iptu[0])\\\n",
    "    .withColumn('tipo', dados_2.valores.tipo)\\\n",
    "    .withColumn('valor', dados_2.valores.valor)\\\n",
    "    .drop(dados_2.valores)\\\n",
    "    .show(8)"
   ]
  },
  {
   "cell_type": "code",
   "execution_count": null,
   "id": "Q2tfhULFMEod",
   "metadata": {
    "id": "Q2tfhULFMEod"
   },
   "outputs": [],
   "source": [
    "dados_3 = dados_2\\\n",
    "    .withColumn('condominio', dados_2.valores.condominio[0])\\\n",
    "    .withColumn('iptu', dados_2.valores.iptu[0])\\\n",
    "    .withColumn('tipo', dados_2.valores.tipo[0])\\\n",
    "    .withColumn('valor', dados_2.valores.valor[0])\\\n",
    "    .drop(dados_2.valores)"
   ]
  },
  {
   "cell_type": "code",
   "execution_count": null,
   "id": "-69JHXt-MKCh",
   "metadata": {
    "colab": {
     "base_uri": "https://localhost:8080/"
    },
    "executionInfo": {
     "elapsed": 3534,
     "status": "ok",
     "timestamp": 1670516186447,
     "user": {
      "displayName": "francisco strunck",
      "userId": "02683465803792309206"
     },
     "user_tz": 180
    },
    "id": "-69JHXt-MKCh",
    "outputId": "ba167687-0747-40ef-958a-02b73890fba9"
   },
   "outputs": [
    {
     "name": "stdout",
     "output_type": "stream",
     "text": [
      "+-----+----------+---------+---------+--------------------+--------------------+--------------------+-------+------+------------+------------+-----------+----+----------+----+-----+-----+\n",
      "|andar|area_total|area_util|banheiros|     caracteristicas|            endereco|                  id|quartos|suites|tipo_anuncio|tipo_unidade|   tipo_uso|vaga|condominio|iptu| tipo|valor|\n",
      "+-----+----------+---------+---------+--------------------+--------------------+--------------------+-------+------+------------+------------+-----------+----+----------+----+-----+-----+\n",
      "|    3|        43|       43|        1|[Academia, Churra...|{Paciência, 23585...|d2e3a3aa-09b5-45a...|      2|  null|       Usado| Apartamento|Residencial|   1|       245|null|Venda|15000|\n",
      "|    2|        42|       42|        1|[Churrasqueira, P...|{Paciência, 23585...|085bab2c-87ad-452...|      2|  null|       Usado| Apartamento|Residencial|   1|         0|   0|Venda|15000|\n",
      "|    1|        41|       41|        1|[Portaria 24h, Co...|{Guaratiba, 23036...|18d22cbe-1b86-476...|      2|  null|       Usado| Apartamento|Residencial|   1|         0|   0|Venda|20000|\n",
      "+-----+----------+---------+---------+--------------------+--------------------+--------------------+-------+------+------------+------------+-----------+----+----------+----+-----+-----+\n",
      "only showing top 3 rows\n",
      "\n"
     ]
    }
   ],
   "source": [
    "dados_3.show(3)"
   ]
  },
  {
   "cell_type": "code",
   "execution_count": null,
   "id": "6a713016",
   "metadata": {
    "ExecuteTime": {
     "end_time": "2022-12-06T23:21:24.452185Z",
     "start_time": "2022-12-06T23:21:23.322137Z"
    },
    "colab": {
     "base_uri": "https://localhost:8080/"
    },
    "executionInfo": {
     "elapsed": 4500,
     "status": "ok",
     "timestamp": 1670516190941,
     "user": {
      "displayName": "francisco strunck",
      "userId": "02683465803792309206"
     },
     "user_tz": 180
    },
    "id": "6a713016",
    "outputId": "1ff54809-5db6-40b8-e055-fb3777200f8e"
   },
   "outputs": [
    {
     "name": "stdout",
     "output_type": "stream",
     "text": [
      "+----------+----+-----+-----+\n",
      "|condominio|iptu| tipo|valor|\n",
      "+----------+----+-----+-----+\n",
      "|       245|null|Venda|15000|\n",
      "|         0|   0|Venda|15000|\n",
      "|         0|   0|Venda|20000|\n",
      "|       285|null|Venda|20000|\n",
      "|       245|null|Venda|15000|\n",
      "|       285|null|Venda|20000|\n",
      "|       250|null|Venda|15000|\n",
      "|       245|null|Venda|15000|\n",
      "|       245|null|Venda|15000|\n",
      "|       240|null|Venda|17999|\n",
      "|         0|   0|Venda|15000|\n",
      "|       240|   0|Venda|19999|\n",
      "|       245|null|Venda|19999|\n",
      "|       290|null|Venda|25000|\n",
      "|       285|null|Venda|29999|\n",
      "|         0|   0|Venda|30000|\n",
      "|      null|null|Venda|30000|\n",
      "|       280|   0|Venda|25000|\n",
      "|       280|null|Venda|27999|\n",
      "|         0|   0|Venda|26000|\n",
      "+----------+----+-----+-----+\n",
      "only showing top 20 rows\n",
      "\n"
     ]
    }
   ],
   "source": [
    "anuncio\\\n",
    "    .select(f.explode('valores').alias('valores'))\\\n",
    "    .select('valores.*')\\\n",
    "    .filter('valores.tipo==\"Venda\"')\\\n",
    "    .show(8)"
   ]
  },
  {
   "cell_type": "code",
   "execution_count": null,
   "id": "1184ba6a",
   "metadata": {
    "ExecuteTime": {
     "end_time": "2022-12-06T23:21:25.568829Z",
     "start_time": "2022-12-06T23:21:24.453884Z"
    },
    "colab": {
     "base_uri": "https://localhost:8080/"
    },
    "executionInfo": {
     "elapsed": 2462,
     "status": "ok",
     "timestamp": 1670516193395,
     "user": {
      "displayName": "francisco strunck",
      "userId": "02683465803792309206"
     },
     "user_tz": 180
    },
    "id": "1184ba6a",
    "outputId": "bff2dab5-8105-47a9-e0b9-ba2b895bf329"
   },
   "outputs": [
    {
     "name": "stdout",
     "output_type": "stream",
     "text": [
      "+------------------------------------+----------+----+-----+-----+\n",
      "|id                                  |condominio|iptu|tipo |valor|\n",
      "+------------------------------------+----------+----+-----+-----+\n",
      "|d2e3a3aa-09b5-45a0-9dcd-918847cd3ca3|245       |null|Venda|15000|\n",
      "|085bab2c-87ad-452a-bd0f-8b1451509f84|0         |0   |Venda|15000|\n",
      "|18d22cbe-1b86-4764-8def-70c615f15a61|0         |0   |Venda|20000|\n",
      "|bed8a354-9317-4426-b27e-1c798f864271|285       |null|Venda|20000|\n",
      "|12a13315-d67f-48f0-9497-017b83252781|245       |null|Venda|15000|\n",
      "|a2e6d7a5-0ff0-484d-b3d8-3a8f15e2d80e|285       |null|Venda|20000|\n",
      "|a6e3173b-c950-4db4-9b7b-80c44bd75e90|250       |null|Venda|15000|\n",
      "|2e6e5dfb-206c-4968-944b-ea4c3918b50d|245       |null|Venda|15000|\n",
      "|99f8d0f9-95a4-4613-a55d-c949e7a73e90|245       |null|Venda|15000|\n",
      "|b3f44c1a-2d50-4d56-b1fb-a94d59b55ab8|240       |null|Venda|17999|\n",
      "|dc99d9e1-4c63-41f7-a53d-678b2b3ccb52|0         |0   |Venda|15000|\n",
      "|aa3606d8-8bcd-45ec-a609-d68a58a12014|240       |0   |Venda|19999|\n",
      "|df80b0d5-677c-4be7-93c4-ddef578125ac|245       |null|Venda|19999|\n",
      "|3d6c0218-9b7d-474b-9a44-cd3e005375f9|290       |null|Venda|25000|\n",
      "|304266cc-62d1-4ce7-909b-21198c306839|285       |null|Venda|29999|\n",
      "|111472a2-afa1-4a73-a8b3-3588ffba362c|0         |0   |Venda|30000|\n",
      "|275c1589-6537-4bf7-9504-74410dbf01fc|null      |null|Venda|30000|\n",
      "|ab8f367f-7509-45c7-ad9a-f51f84584376|280       |0   |Venda|25000|\n",
      "|e0a3d370-66dd-4f50-a3d9-cf09c8212318|280       |null|Venda|27999|\n",
      "|09c8ba2d-dbf1-4879-ba5b-1345355dc415|0         |0   |Venda|26000|\n",
      "+------------------------------------+----------+----+-----+-----+\n",
      "only showing top 20 rows\n",
      "\n"
     ]
    }
   ],
   "source": [
    "anuncio\\\n",
    "    .select('id', f.explode('valores').alias('valores'))\\\n",
    "    .select('id', 'valores.*')\\\n",
    "    .show(8, truncate=False)"
   ]
  },
  {
   "cell_type": "code",
   "execution_count": null,
   "id": "7dd8a6e5",
   "metadata": {
    "ExecuteTime": {
     "end_time": "2022-12-06T23:21:25.614784Z",
     "start_time": "2022-12-06T23:21:25.571227Z"
    },
    "id": "7dd8a6e5"
   },
   "outputs": [],
   "source": [
    "valores = anuncio\\\n",
    "    .select('id', f.explode('valores').alias('valores'))\\\n",
    "    .select('id', 'valores.*')\\\n",
    "    .filter('valores.tipo==\"Venda\"')"
   ]
  },
  {
   "cell_type": "code",
   "execution_count": null,
   "id": "a0899197",
   "metadata": {
    "ExecuteTime": {
     "end_time": "2022-12-06T23:21:27.359494Z",
     "start_time": "2022-12-06T23:21:25.916179Z"
    },
    "colab": {
     "base_uri": "https://localhost:8080/",
     "height": 364
    },
    "executionInfo": {
     "elapsed": 3027,
     "status": "ok",
     "timestamp": 1670516196414,
     "user": {
      "displayName": "francisco strunck",
      "userId": "02683465803792309206"
     },
     "user_tz": 180
    },
    "id": "a0899197",
    "outputId": "b6f035e9-cc63-428a-d5b2-cd8e45858763"
   },
   "outputs": [
    {
     "data": {
      "text/html": [
       "\n",
       "  <div id=\"df-c3b6004a-3f41-4ccb-8c06-a69aa9ab0ac0\">\n",
       "    <div class=\"colab-df-container\">\n",
       "      <div>\n",
       "<style scoped>\n",
       "    .dataframe tbody tr th:only-of-type {\n",
       "        vertical-align: middle;\n",
       "    }\n",
       "\n",
       "    .dataframe tbody tr th {\n",
       "        vertical-align: top;\n",
       "    }\n",
       "\n",
       "    .dataframe thead th {\n",
       "        text-align: right;\n",
       "    }\n",
       "</style>\n",
       "<table border=\"1\" class=\"dataframe\">\n",
       "  <thead>\n",
       "    <tr style=\"text-align: right;\">\n",
       "      <th></th>\n",
       "      <th>andar</th>\n",
       "      <th>area_total</th>\n",
       "      <th>area_util</th>\n",
       "      <th>banheiros</th>\n",
       "      <th>caracteristicas</th>\n",
       "      <th>id</th>\n",
       "      <th>quartos</th>\n",
       "      <th>suites</th>\n",
       "      <th>tipo_anuncio</th>\n",
       "      <th>tipo_unidade</th>\n",
       "      <th>tipo_uso</th>\n",
       "      <th>vaga</th>\n",
       "      <th>valores</th>\n",
       "      <th>bairro</th>\n",
       "      <th>zona</th>\n",
       "      <th>valores</th>\n",
       "    </tr>\n",
       "  </thead>\n",
       "  <tbody>\n",
       "    <tr>\n",
       "      <th>0</th>\n",
       "      <td>3</td>\n",
       "      <td>43</td>\n",
       "      <td>43</td>\n",
       "      <td>1</td>\n",
       "      <td>[Academia, Churrasqueira, Playground, Salão de...</td>\n",
       "      <td>d2e3a3aa-09b5-45a0-9dcd-918847cd3ca3</td>\n",
       "      <td>2</td>\n",
       "      <td>NaN</td>\n",
       "      <td>Usado</td>\n",
       "      <td>Apartamento</td>\n",
       "      <td>Residencial</td>\n",
       "      <td>1</td>\n",
       "      <td>[(245, None, Venda, 15000)]</td>\n",
       "      <td>Paciência</td>\n",
       "      <td>Zona Oeste</td>\n",
       "      <td>[(245, None, Venda, 15000)]</td>\n",
       "    </tr>\n",
       "    <tr>\n",
       "      <th>1</th>\n",
       "      <td>2</td>\n",
       "      <td>42</td>\n",
       "      <td>42</td>\n",
       "      <td>1</td>\n",
       "      <td>[Churrasqueira, Playground, Salão de festas, C...</td>\n",
       "      <td>085bab2c-87ad-452a-bd0f-8b1451509f84</td>\n",
       "      <td>2</td>\n",
       "      <td>NaN</td>\n",
       "      <td>Usado</td>\n",
       "      <td>Apartamento</td>\n",
       "      <td>Residencial</td>\n",
       "      <td>1</td>\n",
       "      <td>[(0, 0, Venda, 15000)]</td>\n",
       "      <td>Paciência</td>\n",
       "      <td>Zona Oeste</td>\n",
       "      <td>[(0, 0, Venda, 15000)]</td>\n",
       "    </tr>\n",
       "    <tr>\n",
       "      <th>2</th>\n",
       "      <td>1</td>\n",
       "      <td>41</td>\n",
       "      <td>41</td>\n",
       "      <td>1</td>\n",
       "      <td>[Portaria 24h, Condomínio fechado, Playground,...</td>\n",
       "      <td>18d22cbe-1b86-4764-8def-70c615f15a61</td>\n",
       "      <td>2</td>\n",
       "      <td>NaN</td>\n",
       "      <td>Usado</td>\n",
       "      <td>Apartamento</td>\n",
       "      <td>Residencial</td>\n",
       "      <td>1</td>\n",
       "      <td>[(0, 0, Venda, 20000)]</td>\n",
       "      <td>Guaratiba</td>\n",
       "      <td>Zona Oeste</td>\n",
       "      <td>[(0, 0, Venda, 20000)]</td>\n",
       "    </tr>\n",
       "  </tbody>\n",
       "</table>\n",
       "</div>\n",
       "      <button class=\"colab-df-convert\" onclick=\"convertToInteractive('df-c3b6004a-3f41-4ccb-8c06-a69aa9ab0ac0')\"\n",
       "              title=\"Convert this dataframe to an interactive table.\"\n",
       "              style=\"display:none;\">\n",
       "        \n",
       "  <svg xmlns=\"http://www.w3.org/2000/svg\" height=\"24px\"viewBox=\"0 0 24 24\"\n",
       "       width=\"24px\">\n",
       "    <path d=\"M0 0h24v24H0V0z\" fill=\"none\"/>\n",
       "    <path d=\"M18.56 5.44l.94 2.06.94-2.06 2.06-.94-2.06-.94-.94-2.06-.94 2.06-2.06.94zm-11 1L8.5 8.5l.94-2.06 2.06-.94-2.06-.94L8.5 2.5l-.94 2.06-2.06.94zm10 10l.94 2.06.94-2.06 2.06-.94-2.06-.94-.94-2.06-.94 2.06-2.06.94z\"/><path d=\"M17.41 7.96l-1.37-1.37c-.4-.4-.92-.59-1.43-.59-.52 0-1.04.2-1.43.59L10.3 9.45l-7.72 7.72c-.78.78-.78 2.05 0 2.83L4 21.41c.39.39.9.59 1.41.59.51 0 1.02-.2 1.41-.59l7.78-7.78 2.81-2.81c.8-.78.8-2.07 0-2.86zM5.41 20L4 18.59l7.72-7.72 1.47 1.35L5.41 20z\"/>\n",
       "  </svg>\n",
       "      </button>\n",
       "      \n",
       "  <style>\n",
       "    .colab-df-container {\n",
       "      display:flex;\n",
       "      flex-wrap:wrap;\n",
       "      gap: 12px;\n",
       "    }\n",
       "\n",
       "    .colab-df-convert {\n",
       "      background-color: #E8F0FE;\n",
       "      border: none;\n",
       "      border-radius: 50%;\n",
       "      cursor: pointer;\n",
       "      display: none;\n",
       "      fill: #1967D2;\n",
       "      height: 32px;\n",
       "      padding: 0 0 0 0;\n",
       "      width: 32px;\n",
       "    }\n",
       "\n",
       "    .colab-df-convert:hover {\n",
       "      background-color: #E2EBFA;\n",
       "      box-shadow: 0px 1px 2px rgba(60, 64, 67, 0.3), 0px 1px 3px 1px rgba(60, 64, 67, 0.15);\n",
       "      fill: #174EA6;\n",
       "    }\n",
       "\n",
       "    [theme=dark] .colab-df-convert {\n",
       "      background-color: #3B4455;\n",
       "      fill: #D2E3FC;\n",
       "    }\n",
       "\n",
       "    [theme=dark] .colab-df-convert:hover {\n",
       "      background-color: #434B5C;\n",
       "      box-shadow: 0px 1px 3px 1px rgba(0, 0, 0, 0.15);\n",
       "      filter: drop-shadow(0px 1px 2px rgba(0, 0, 0, 0.3));\n",
       "      fill: #FFFFFF;\n",
       "    }\n",
       "  </style>\n",
       "\n",
       "      <script>\n",
       "        const buttonEl =\n",
       "          document.querySelector('#df-c3b6004a-3f41-4ccb-8c06-a69aa9ab0ac0 button.colab-df-convert');\n",
       "        buttonEl.style.display =\n",
       "          google.colab.kernel.accessAllowed ? 'block' : 'none';\n",
       "\n",
       "        async function convertToInteractive(key) {\n",
       "          const element = document.querySelector('#df-c3b6004a-3f41-4ccb-8c06-a69aa9ab0ac0');\n",
       "          const dataTable =\n",
       "            await google.colab.kernel.invokeFunction('convertToInteractive',\n",
       "                                                     [key], {});\n",
       "          if (!dataTable) return;\n",
       "\n",
       "          const docLinkHtml = 'Like what you see? Visit the ' +\n",
       "            '<a target=\"_blank\" href=https://colab.research.google.com/notebooks/data_table.ipynb>data table notebook</a>'\n",
       "            + ' to learn more about interactive tables.';\n",
       "          element.innerHTML = '';\n",
       "          dataTable['output_type'] = 'display_data';\n",
       "          await google.colab.output.renderOutput(dataTable, element);\n",
       "          const docLink = document.createElement('div');\n",
       "          docLink.innerHTML = docLinkHtml;\n",
       "          element.appendChild(docLink);\n",
       "        }\n",
       "      </script>\n",
       "    </div>\n",
       "  </div>\n",
       "  "
      ],
      "text/plain": [
       "   andar area_total area_util  banheiros  \\\n",
       "0      3         43        43          1   \n",
       "1      2         42        42          1   \n",
       "2      1         41        41          1   \n",
       "\n",
       "                                     caracteristicas  \\\n",
       "0  [Academia, Churrasqueira, Playground, Salão de...   \n",
       "1  [Churrasqueira, Playground, Salão de festas, C...   \n",
       "2  [Portaria 24h, Condomínio fechado, Playground,...   \n",
       "\n",
       "                                     id  quartos  suites tipo_anuncio  \\\n",
       "0  d2e3a3aa-09b5-45a0-9dcd-918847cd3ca3        2     NaN        Usado   \n",
       "1  085bab2c-87ad-452a-bd0f-8b1451509f84        2     NaN        Usado   \n",
       "2  18d22cbe-1b86-4764-8def-70c615f15a61        2     NaN        Usado   \n",
       "\n",
       "  tipo_unidade     tipo_uso  vaga                      valores     bairro  \\\n",
       "0  Apartamento  Residencial     1  [(245, None, Venda, 15000)]  Paciência   \n",
       "1  Apartamento  Residencial     1       [(0, 0, Venda, 15000)]  Paciência   \n",
       "2  Apartamento  Residencial     1       [(0, 0, Venda, 20000)]  Guaratiba   \n",
       "\n",
       "         zona                      valores  \n",
       "0  Zona Oeste  [(245, None, Venda, 15000)]  \n",
       "1  Zona Oeste       [(0, 0, Venda, 15000)]  \n",
       "2  Zona Oeste       [(0, 0, Venda, 20000)]  "
      ]
     },
     "execution_count": 85,
     "metadata": {},
     "output_type": "execute_result"
    }
   ],
   "source": [
    "anuncio\\\n",
    "    .select('*',  'valores')\\\n",
    "    .limit(3).toPandas()"
   ]
  },
  {
   "cell_type": "code",
   "execution_count": null,
   "id": "da05fa85",
   "metadata": {
    "ExecuteTime": {
     "end_time": "2022-12-06T23:21:31.844147Z",
     "start_time": "2022-12-06T23:21:27.822751Z"
    },
    "colab": {
     "base_uri": "https://localhost:8080/",
     "height": 947
    },
    "executionInfo": {
     "elapsed": 9817,
     "status": "ok",
     "timestamp": 1670516206224,
     "user": {
      "displayName": "francisco strunck",
      "userId": "02683465803792309206"
     },
     "user_tz": 180
    },
    "id": "da05fa85",
    "outputId": "c4f3455b-3642-4b83-cac5-e881a2b4a9ca"
   },
   "outputs": [
    {
     "data": {
      "text/html": [
       "\n",
       "  <div id=\"df-df9022e0-3704-467e-9ca9-163ba691c453\">\n",
       "    <div class=\"colab-df-container\">\n",
       "      <div>\n",
       "<style scoped>\n",
       "    .dataframe tbody tr th:only-of-type {\n",
       "        vertical-align: middle;\n",
       "    }\n",
       "\n",
       "    .dataframe tbody tr th {\n",
       "        vertical-align: top;\n",
       "    }\n",
       "\n",
       "    .dataframe thead th {\n",
       "        text-align: right;\n",
       "    }\n",
       "</style>\n",
       "<table border=\"1\" class=\"dataframe\">\n",
       "  <thead>\n",
       "    <tr style=\"text-align: right;\">\n",
       "      <th></th>\n",
       "      <th>id</th>\n",
       "      <th>andar</th>\n",
       "      <th>area_total</th>\n",
       "      <th>area_util</th>\n",
       "      <th>banheiros</th>\n",
       "      <th>caracteristicas</th>\n",
       "      <th>quartos</th>\n",
       "      <th>suites</th>\n",
       "      <th>tipo_anuncio</th>\n",
       "      <th>tipo_unidade</th>\n",
       "      <th>tipo_uso</th>\n",
       "      <th>vaga</th>\n",
       "      <th>bairro</th>\n",
       "      <th>zona</th>\n",
       "      <th>condominio</th>\n",
       "      <th>iptu</th>\n",
       "      <th>tipo</th>\n",
       "      <th>valor</th>\n",
       "    </tr>\n",
       "  </thead>\n",
       "  <tbody>\n",
       "    <tr>\n",
       "      <th>0</th>\n",
       "      <td>03a386b6-7ab8-4eff-891d-f8a16efc1989</td>\n",
       "      <td>0</td>\n",
       "      <td>43</td>\n",
       "      <td>43</td>\n",
       "      <td>1</td>\n",
       "      <td>[Churrasqueira, Academia, Playground, Salão de...</td>\n",
       "      <td>2</td>\n",
       "      <td>NaN</td>\n",
       "      <td>Usado</td>\n",
       "      <td>Apartamento</td>\n",
       "      <td>Residencial</td>\n",
       "      <td>1</td>\n",
       "      <td>Realengo</td>\n",
       "      <td>Zona Oeste</td>\n",
       "      <td>285</td>\n",
       "      <td>None</td>\n",
       "      <td>Venda</td>\n",
       "      <td>22999</td>\n",
       "    </tr>\n",
       "    <tr>\n",
       "      <th>1</th>\n",
       "      <td>1fe78d41-b8e0-4d21-a1a8-72cb7863f441</td>\n",
       "      <td>0</td>\n",
       "      <td>44</td>\n",
       "      <td>44</td>\n",
       "      <td>1</td>\n",
       "      <td>[]</td>\n",
       "      <td>2</td>\n",
       "      <td>0.0</td>\n",
       "      <td>Usado</td>\n",
       "      <td>Apartamento</td>\n",
       "      <td>Residencial</td>\n",
       "      <td>0</td>\n",
       "      <td>Irajá</td>\n",
       "      <td>Zona Norte</td>\n",
       "      <td>170</td>\n",
       "      <td>0</td>\n",
       "      <td>Venda</td>\n",
       "      <td>110000</td>\n",
       "    </tr>\n",
       "    <tr>\n",
       "      <th>2</th>\n",
       "      <td>1fa1c1e5-e98c-433f-9675-1b43d7d6da01</td>\n",
       "      <td>4</td>\n",
       "      <td>None</td>\n",
       "      <td>55</td>\n",
       "      <td>1</td>\n",
       "      <td>[]</td>\n",
       "      <td>2</td>\n",
       "      <td>0.0</td>\n",
       "      <td>Usado</td>\n",
       "      <td>Apartamento</td>\n",
       "      <td>Residencial</td>\n",
       "      <td>1</td>\n",
       "      <td>Cosmos</td>\n",
       "      <td>Zona Oeste</td>\n",
       "      <td>None</td>\n",
       "      <td>None</td>\n",
       "      <td>Venda</td>\n",
       "      <td>115000</td>\n",
       "    </tr>\n",
       "    <tr>\n",
       "      <th>3</th>\n",
       "      <td>a6ab01ae-3d40-40e7-bb6a-f2334e0abbe0</td>\n",
       "      <td>2</td>\n",
       "      <td>None</td>\n",
       "      <td>55</td>\n",
       "      <td>1</td>\n",
       "      <td>[]</td>\n",
       "      <td>2</td>\n",
       "      <td>0.0</td>\n",
       "      <td>Usado</td>\n",
       "      <td>Apartamento</td>\n",
       "      <td>Residencial</td>\n",
       "      <td>0</td>\n",
       "      <td>Tomás Coelho</td>\n",
       "      <td>Zona Norte</td>\n",
       "      <td>None</td>\n",
       "      <td>None</td>\n",
       "      <td>Venda</td>\n",
       "      <td>115000</td>\n",
       "    </tr>\n",
       "    <tr>\n",
       "      <th>4</th>\n",
       "      <td>1d8ff7a2-16bd-4e3f-a92e-1b85f923ebb0</td>\n",
       "      <td>0</td>\n",
       "      <td>None</td>\n",
       "      <td>50</td>\n",
       "      <td>1</td>\n",
       "      <td>[]</td>\n",
       "      <td>1</td>\n",
       "      <td>NaN</td>\n",
       "      <td>Usado</td>\n",
       "      <td>Apartamento</td>\n",
       "      <td>Residencial</td>\n",
       "      <td>0</td>\n",
       "      <td>Centro</td>\n",
       "      <td>Zona Central</td>\n",
       "      <td>1300</td>\n",
       "      <td>2679</td>\n",
       "      <td>Venda</td>\n",
       "      <td>125000</td>\n",
       "    </tr>\n",
       "    <tr>\n",
       "      <th>5</th>\n",
       "      <td>40a2cbde-946b-42da-b7f2-b80057c7a47f</td>\n",
       "      <td>2</td>\n",
       "      <td>47</td>\n",
       "      <td>47</td>\n",
       "      <td>1</td>\n",
       "      <td>[Condomínio fechado, Portaria 24h, Salão de fe...</td>\n",
       "      <td>2</td>\n",
       "      <td>0.0</td>\n",
       "      <td>Usado</td>\n",
       "      <td>Apartamento</td>\n",
       "      <td>Residencial</td>\n",
       "      <td>1</td>\n",
       "      <td>Campo Grande</td>\n",
       "      <td>Zona Oeste</td>\n",
       "      <td>380</td>\n",
       "      <td>None</td>\n",
       "      <td>Venda</td>\n",
       "      <td>138000</td>\n",
       "    </tr>\n",
       "    <tr>\n",
       "      <th>6</th>\n",
       "      <td>be269ddf-a4a3-4a72-bd54-93cdccf512dd</td>\n",
       "      <td>0</td>\n",
       "      <td>17089</td>\n",
       "      <td>45</td>\n",
       "      <td>1</td>\n",
       "      <td>[Churrasqueira, Condomínio fechado, Piscina]</td>\n",
       "      <td>2</td>\n",
       "      <td>0.0</td>\n",
       "      <td>Usado</td>\n",
       "      <td>Apartamento</td>\n",
       "      <td>Residencial</td>\n",
       "      <td>1</td>\n",
       "      <td>Campo Grande</td>\n",
       "      <td>Zona Oeste</td>\n",
       "      <td>356</td>\n",
       "      <td>0</td>\n",
       "      <td>Venda</td>\n",
       "      <td>140000</td>\n",
       "    </tr>\n",
       "    <tr>\n",
       "      <th>7</th>\n",
       "      <td>4b7e3d59-34fd-4bac-9232-1015cb3b3a24</td>\n",
       "      <td>3</td>\n",
       "      <td>48</td>\n",
       "      <td>48</td>\n",
       "      <td>1</td>\n",
       "      <td>[Churrasqueira, Piscina, Playground, Salão de ...</td>\n",
       "      <td>2</td>\n",
       "      <td>NaN</td>\n",
       "      <td>Usado</td>\n",
       "      <td>Apartamento</td>\n",
       "      <td>Residencial</td>\n",
       "      <td>1</td>\n",
       "      <td>Campo Grande</td>\n",
       "      <td>Zona Oeste</td>\n",
       "      <td>0</td>\n",
       "      <td>0</td>\n",
       "      <td>Venda</td>\n",
       "      <td>150000</td>\n",
       "    </tr>\n",
       "    <tr>\n",
       "      <th>8</th>\n",
       "      <td>a1a0c2ac-4fa8-4b02-a087-f9d76b6bccb7</td>\n",
       "      <td>9</td>\n",
       "      <td>None</td>\n",
       "      <td>55</td>\n",
       "      <td>1</td>\n",
       "      <td>[Churrasqueira, Elevador, Salão de festas, Con...</td>\n",
       "      <td>2</td>\n",
       "      <td>NaN</td>\n",
       "      <td>Usado</td>\n",
       "      <td>Apartamento</td>\n",
       "      <td>Residencial</td>\n",
       "      <td>1</td>\n",
       "      <td>Freguesia (Jacarepaguá)</td>\n",
       "      <td>Zona Oeste</td>\n",
       "      <td>780</td>\n",
       "      <td>660</td>\n",
       "      <td>Venda</td>\n",
       "      <td>160000</td>\n",
       "    </tr>\n",
       "    <tr>\n",
       "      <th>9</th>\n",
       "      <td>390d2b88-e06d-47e5-ba7f-a680130ac5f0</td>\n",
       "      <td>0</td>\n",
       "      <td>70</td>\n",
       "      <td>70</td>\n",
       "      <td>2</td>\n",
       "      <td>[Salão de festas]</td>\n",
       "      <td>2</td>\n",
       "      <td>0.0</td>\n",
       "      <td>Usado</td>\n",
       "      <td>Apartamento</td>\n",
       "      <td>Residencial</td>\n",
       "      <td>1</td>\n",
       "      <td>Praça Seca</td>\n",
       "      <td>Zona Oeste</td>\n",
       "      <td>420000</td>\n",
       "      <td>None</td>\n",
       "      <td>Venda</td>\n",
       "      <td>159000</td>\n",
       "    </tr>\n",
       "  </tbody>\n",
       "</table>\n",
       "</div>\n",
       "      <button class=\"colab-df-convert\" onclick=\"convertToInteractive('df-df9022e0-3704-467e-9ca9-163ba691c453')\"\n",
       "              title=\"Convert this dataframe to an interactive table.\"\n",
       "              style=\"display:none;\">\n",
       "        \n",
       "  <svg xmlns=\"http://www.w3.org/2000/svg\" height=\"24px\"viewBox=\"0 0 24 24\"\n",
       "       width=\"24px\">\n",
       "    <path d=\"M0 0h24v24H0V0z\" fill=\"none\"/>\n",
       "    <path d=\"M18.56 5.44l.94 2.06.94-2.06 2.06-.94-2.06-.94-.94-2.06-.94 2.06-2.06.94zm-11 1L8.5 8.5l.94-2.06 2.06-.94-2.06-.94L8.5 2.5l-.94 2.06-2.06.94zm10 10l.94 2.06.94-2.06 2.06-.94-2.06-.94-.94-2.06-.94 2.06-2.06.94z\"/><path d=\"M17.41 7.96l-1.37-1.37c-.4-.4-.92-.59-1.43-.59-.52 0-1.04.2-1.43.59L10.3 9.45l-7.72 7.72c-.78.78-.78 2.05 0 2.83L4 21.41c.39.39.9.59 1.41.59.51 0 1.02-.2 1.41-.59l7.78-7.78 2.81-2.81c.8-.78.8-2.07 0-2.86zM5.41 20L4 18.59l7.72-7.72 1.47 1.35L5.41 20z\"/>\n",
       "  </svg>\n",
       "      </button>\n",
       "      \n",
       "  <style>\n",
       "    .colab-df-container {\n",
       "      display:flex;\n",
       "      flex-wrap:wrap;\n",
       "      gap: 12px;\n",
       "    }\n",
       "\n",
       "    .colab-df-convert {\n",
       "      background-color: #E8F0FE;\n",
       "      border: none;\n",
       "      border-radius: 50%;\n",
       "      cursor: pointer;\n",
       "      display: none;\n",
       "      fill: #1967D2;\n",
       "      height: 32px;\n",
       "      padding: 0 0 0 0;\n",
       "      width: 32px;\n",
       "    }\n",
       "\n",
       "    .colab-df-convert:hover {\n",
       "      background-color: #E2EBFA;\n",
       "      box-shadow: 0px 1px 2px rgba(60, 64, 67, 0.3), 0px 1px 3px 1px rgba(60, 64, 67, 0.15);\n",
       "      fill: #174EA6;\n",
       "    }\n",
       "\n",
       "    [theme=dark] .colab-df-convert {\n",
       "      background-color: #3B4455;\n",
       "      fill: #D2E3FC;\n",
       "    }\n",
       "\n",
       "    [theme=dark] .colab-df-convert:hover {\n",
       "      background-color: #434B5C;\n",
       "      box-shadow: 0px 1px 3px 1px rgba(0, 0, 0, 0.15);\n",
       "      filter: drop-shadow(0px 1px 2px rgba(0, 0, 0, 0.3));\n",
       "      fill: #FFFFFF;\n",
       "    }\n",
       "  </style>\n",
       "\n",
       "      <script>\n",
       "        const buttonEl =\n",
       "          document.querySelector('#df-df9022e0-3704-467e-9ca9-163ba691c453 button.colab-df-convert');\n",
       "        buttonEl.style.display =\n",
       "          google.colab.kernel.accessAllowed ? 'block' : 'none';\n",
       "\n",
       "        async function convertToInteractive(key) {\n",
       "          const element = document.querySelector('#df-df9022e0-3704-467e-9ca9-163ba691c453');\n",
       "          const dataTable =\n",
       "            await google.colab.kernel.invokeFunction('convertToInteractive',\n",
       "                                                     [key], {});\n",
       "          if (!dataTable) return;\n",
       "\n",
       "          const docLinkHtml = 'Like what you see? Visit the ' +\n",
       "            '<a target=\"_blank\" href=https://colab.research.google.com/notebooks/data_table.ipynb>data table notebook</a>'\n",
       "            + ' to learn more about interactive tables.';\n",
       "          element.innerHTML = '';\n",
       "          dataTable['output_type'] = 'display_data';\n",
       "          await google.colab.output.renderOutput(dataTable, element);\n",
       "          const docLink = document.createElement('div');\n",
       "          docLink.innerHTML = docLinkHtml;\n",
       "          element.appendChild(docLink);\n",
       "        }\n",
       "      </script>\n",
       "    </div>\n",
       "  </div>\n",
       "  "
      ],
      "text/plain": [
       "                                     id  andar area_total area_util  \\\n",
       "0  03a386b6-7ab8-4eff-891d-f8a16efc1989      0         43        43   \n",
       "1  1fe78d41-b8e0-4d21-a1a8-72cb7863f441      0         44        44   \n",
       "2  1fa1c1e5-e98c-433f-9675-1b43d7d6da01      4       None        55   \n",
       "3  a6ab01ae-3d40-40e7-bb6a-f2334e0abbe0      2       None        55   \n",
       "4  1d8ff7a2-16bd-4e3f-a92e-1b85f923ebb0      0       None        50   \n",
       "5  40a2cbde-946b-42da-b7f2-b80057c7a47f      2         47        47   \n",
       "6  be269ddf-a4a3-4a72-bd54-93cdccf512dd      0      17089        45   \n",
       "7  4b7e3d59-34fd-4bac-9232-1015cb3b3a24      3         48        48   \n",
       "8  a1a0c2ac-4fa8-4b02-a087-f9d76b6bccb7      9       None        55   \n",
       "9  390d2b88-e06d-47e5-ba7f-a680130ac5f0      0         70        70   \n",
       "\n",
       "   banheiros                                    caracteristicas  quartos  \\\n",
       "0          1  [Churrasqueira, Academia, Playground, Salão de...        2   \n",
       "1          1                                                 []        2   \n",
       "2          1                                                 []        2   \n",
       "3          1                                                 []        2   \n",
       "4          1                                                 []        1   \n",
       "5          1  [Condomínio fechado, Portaria 24h, Salão de fe...        2   \n",
       "6          1       [Churrasqueira, Condomínio fechado, Piscina]        2   \n",
       "7          1  [Churrasqueira, Piscina, Playground, Salão de ...        2   \n",
       "8          1  [Churrasqueira, Elevador, Salão de festas, Con...        2   \n",
       "9          2                                  [Salão de festas]        2   \n",
       "\n",
       "   suites tipo_anuncio tipo_unidade     tipo_uso  vaga  \\\n",
       "0     NaN        Usado  Apartamento  Residencial     1   \n",
       "1     0.0        Usado  Apartamento  Residencial     0   \n",
       "2     0.0        Usado  Apartamento  Residencial     1   \n",
       "3     0.0        Usado  Apartamento  Residencial     0   \n",
       "4     NaN        Usado  Apartamento  Residencial     0   \n",
       "5     0.0        Usado  Apartamento  Residencial     1   \n",
       "6     0.0        Usado  Apartamento  Residencial     1   \n",
       "7     NaN        Usado  Apartamento  Residencial     1   \n",
       "8     NaN        Usado  Apartamento  Residencial     1   \n",
       "9     0.0        Usado  Apartamento  Residencial     1   \n",
       "\n",
       "                    bairro          zona condominio  iptu   tipo   valor  \n",
       "0                 Realengo    Zona Oeste        285  None  Venda   22999  \n",
       "1                    Irajá    Zona Norte        170     0  Venda  110000  \n",
       "2                   Cosmos    Zona Oeste       None  None  Venda  115000  \n",
       "3             Tomás Coelho    Zona Norte       None  None  Venda  115000  \n",
       "4                   Centro  Zona Central       1300  2679  Venda  125000  \n",
       "5             Campo Grande    Zona Oeste        380  None  Venda  138000  \n",
       "6             Campo Grande    Zona Oeste        356     0  Venda  140000  \n",
       "7             Campo Grande    Zona Oeste          0     0  Venda  150000  \n",
       "8  Freguesia (Jacarepaguá)    Zona Oeste        780   660  Venda  160000  \n",
       "9               Praça Seca    Zona Oeste     420000  None  Venda  159000  "
      ]
     },
     "execution_count": 86,
     "metadata": {},
     "output_type": "execute_result"
    }
   ],
   "source": [
    "anuncio.join(valores, 'id', how='inner')\\\n",
    "    .drop('valores')\\\n",
    "    .limit(6).toPandas()"
   ]
  },
  {
   "cell_type": "code",
   "execution_count": null,
   "id": "623f9bca",
   "metadata": {
    "ExecuteTime": {
     "end_time": "2022-12-06T23:21:32.253480Z",
     "start_time": "2022-12-06T23:21:32.221587Z"
    },
    "id": "623f9bca"
   },
   "outputs": [],
   "source": [
    "anuncio = anuncio.join(valores, 'id', how='inner')\\\n",
    "    .drop('valores')"
   ]
  },
  {
   "cell_type": "code",
   "execution_count": null,
   "id": "c739b29c",
   "metadata": {
    "ExecuteTime": {
     "end_time": "2022-12-06T23:21:32.675134Z",
     "start_time": "2022-12-06T23:21:32.662256Z"
    },
    "colab": {
     "base_uri": "https://localhost:8080/"
    },
    "executionInfo": {
     "elapsed": 8056,
     "status": "ok",
     "timestamp": 1670516214277,
     "user": {
      "displayName": "francisco strunck",
      "userId": "02683465803792309206"
     },
     "user_tz": 180
    },
    "id": "c739b29c",
    "outputId": "5e3a7898-b280-4068-daea-bebd8044030e"
   },
   "outputs": [
    {
     "name": "stdout",
     "output_type": "stream",
     "text": [
      "+--------------------+-----+----------+---------+---------+--------------------+-------+------+------------+------------+-----------+----+--------+----------+----------+----+-----+------+\n",
      "|                  id|andar|area_total|area_util|banheiros|     caracteristicas|quartos|suites|tipo_anuncio|tipo_unidade|   tipo_uso|vaga|  bairro|      zona|condominio|iptu| tipo| valor|\n",
      "+--------------------+-----+----------+---------+---------+--------------------+-------+------+------------+------------+-----------+----+--------+----------+----------+----+-----+------+\n",
      "|03a386b6-7ab8-4ef...|    0|        43|       43|        1|[Churrasqueira, A...|      2|  null|       Usado| Apartamento|Residencial|   1|Realengo|Zona Oeste|       285|null|Venda| 22999|\n",
      "|1fe78d41-b8e0-4d2...|    0|        44|       44|        1|                  []|      2|     0|       Usado| Apartamento|Residencial|   0|   Irajá|Zona Norte|       170|   0|Venda|110000|\n",
      "|1fa1c1e5-e98c-433...|    4|      null|       55|        1|                  []|      2|     0|       Usado| Apartamento|Residencial|   1|  Cosmos|Zona Oeste|      null|null|Venda|115000|\n",
      "+--------------------+-----+----------+---------+---------+--------------------+-------+------+------------+------------+-----------+----+--------+----------+----------+----+-----+------+\n",
      "only showing top 3 rows\n",
      "\n"
     ]
    }
   ],
   "source": [
    "anuncio.show(3)"
   ]
  },
  {
   "cell_type": "markdown",
   "id": "k-63LJpLMngQ",
   "metadata": {
    "id": "k-63LJpLMngQ"
   },
   "source": [
    "Outra maneira:"
   ]
  },
  {
   "cell_type": "code",
   "execution_count": null,
   "id": "ccoDp-v-MnJI",
   "metadata": {
    "colab": {
     "base_uri": "https://localhost:8080/"
    },
    "executionInfo": {
     "elapsed": 4187,
     "status": "ok",
     "timestamp": 1670516218461,
     "user": {
      "displayName": "francisco strunck",
      "userId": "02683465803792309206"
     },
     "user_tz": 180
    },
    "id": "ccoDp-v-MnJI",
    "outputId": "20ba6fbc-8aed-42a0-d4cc-041a4d8cef03"
   },
   "outputs": [
    {
     "name": "stdout",
     "output_type": "stream",
     "text": [
      "+-----+----------+---------+---------+--------------------+--------------------+--------------------+-------+------+------------+------------+-----------+----+----------+----+-----+-----+\n",
      "|andar|area_total|area_util|banheiros|     caracteristicas|            endereco|                  id|quartos|suites|tipo_anuncio|tipo_unidade|   tipo_uso|vaga|condominio|iptu| tipo|valor|\n",
      "+-----+----------+---------+---------+--------------------+--------------------+--------------------+-------+------+------------+------------+-----------+----+----------+----+-----+-----+\n",
      "|    3|        43|       43|        1|[Academia, Churra...|{Paciência, 23585...|d2e3a3aa-09b5-45a...|      2|  null|       Usado| Apartamento|Residencial|   1|       245|null|Venda|15000|\n",
      "|    2|        42|       42|        1|[Churrasqueira, P...|{Paciência, 23585...|085bab2c-87ad-452...|      2|  null|       Usado| Apartamento|Residencial|   1|         0|   0|Venda|15000|\n",
      "|    1|        41|       41|        1|[Portaria 24h, Co...|{Guaratiba, 23036...|18d22cbe-1b86-476...|      2|  null|       Usado| Apartamento|Residencial|   1|         0|   0|Venda|20000|\n",
      "+-----+----------+---------+---------+--------------------+--------------------+--------------------+-------+------+------------+------------+-----------+----+----------+----+-----+-----+\n",
      "only showing top 3 rows\n",
      "\n"
     ]
    }
   ],
   "source": [
    "dados_3\\\n",
    "    .select('*')\\\n",
    "    .show(3)"
   ]
  },
  {
   "cell_type": "code",
   "execution_count": null,
   "id": "1OVUeHwiM-wZ",
   "metadata": {
    "colab": {
     "base_uri": "https://localhost:8080/"
    },
    "executionInfo": {
     "elapsed": 3556,
     "status": "ok",
     "timestamp": 1670516222012,
     "user": {
      "displayName": "francisco strunck",
      "userId": "02683465803792309206"
     },
     "user_tz": 180
    },
    "id": "1OVUeHwiM-wZ",
    "outputId": "1b328c51-cee0-4640-ece5-1e6f9f5eaf2c"
   },
   "outputs": [
    {
     "data": {
      "text/plain": [
       "66562"
      ]
     },
     "execution_count": 90,
     "metadata": {},
     "output_type": "execute_result"
    }
   ],
   "source": [
    "dados_3.count()"
   ]
  },
  {
   "cell_type": "code",
   "execution_count": null,
   "id": "09ymYeF3M3ZC",
   "metadata": {
    "colab": {
     "base_uri": "https://localhost:8080/"
    },
    "executionInfo": {
     "elapsed": 3227,
     "status": "ok",
     "timestamp": 1670516225233,
     "user": {
      "displayName": "francisco strunck",
      "userId": "02683465803792309206"
     },
     "user_tz": 180
    },
    "id": "09ymYeF3M3ZC",
    "outputId": "0f734678-bb6d-4e37-a87c-d824d03ca9db"
   },
   "outputs": [
    {
     "name": "stdout",
     "output_type": "stream",
     "text": [
      "+-----+----------+---------+---------+--------------------+--------------------+--------------------+-------+------+------------+------------+-----------+----+----------+----+-----+-----+\n",
      "|andar|area_total|area_util|banheiros|     caracteristicas|            endereco|                  id|quartos|suites|tipo_anuncio|tipo_unidade|   tipo_uso|vaga|condominio|iptu| tipo|valor|\n",
      "+-----+----------+---------+---------+--------------------+--------------------+--------------------+-------+------+------------+------------+-----------+----+----------+----+-----+-----+\n",
      "|    3|        43|       43|        1|[Academia, Churra...|{Paciência, 23585...|d2e3a3aa-09b5-45a...|      2|  null|       Usado| Apartamento|Residencial|   1|       245|null|Venda|15000|\n",
      "|    2|        42|       42|        1|[Churrasqueira, P...|{Paciência, 23585...|085bab2c-87ad-452...|      2|  null|       Usado| Apartamento|Residencial|   1|         0|   0|Venda|15000|\n",
      "|    1|        41|       41|        1|[Portaria 24h, Co...|{Guaratiba, 23036...|18d22cbe-1b86-476...|      2|  null|       Usado| Apartamento|Residencial|   1|         0|   0|Venda|20000|\n",
      "+-----+----------+---------+---------+--------------------+--------------------+--------------------+-------+------+------------+------------+-----------+----+----------+----+-----+-----+\n",
      "only showing top 3 rows\n",
      "\n"
     ]
    }
   ],
   "source": [
    "dados_3\\\n",
    "    .select('*')\\\n",
    "    .where('tipo==\"Venda\"')\\\n",
    "    .show(3)"
   ]
  },
  {
   "cell_type": "code",
   "execution_count": null,
   "id": "l-Lb1yCmM3Wr",
   "metadata": {
    "colab": {
     "base_uri": "https://localhost:8080/"
    },
    "executionInfo": {
     "elapsed": 4071,
     "status": "ok",
     "timestamp": 1670516229292,
     "user": {
      "displayName": "francisco strunck",
      "userId": "02683465803792309206"
     },
     "user_tz": 180
    },
    "id": "l-Lb1yCmM3Wr",
    "outputId": "2c193950-4e0a-4ffa-9deb-0aee9459b15c"
   },
   "outputs": [
    {
     "data": {
      "text/plain": [
       "66348"
      ]
     },
     "execution_count": 92,
     "metadata": {},
     "output_type": "execute_result"
    }
   ],
   "source": [
    "dados_3\\\n",
    "    .select('*')\\\n",
    "    .where('tipo==\"Venda\"')\\\n",
    "    .count()"
   ]
  },
  {
   "cell_type": "code",
   "execution_count": null,
   "id": "fN6AVu1FM3UN",
   "metadata": {
    "id": "fN6AVu1FM3UN"
   },
   "outputs": [],
   "source": [
    "dados_4 = dados_3\\\n",
    "    .select('*')\\\n",
    "    .where('tipo==\"Venda\"')"
   ]
  },
  {
   "cell_type": "code",
   "execution_count": null,
   "id": "5xRg79QaNuQN",
   "metadata": {
    "id": "5xRg79QaNuQN"
   },
   "outputs": [],
   "source": [
    "dados_5 = dados_4\\\n",
    "    .withColumn('bairro', dados_4.endereco.bairro)\\\n",
    "    .withColumn('zona', dados_4.endereco.zona)\\\n",
    "    .drop(dados_4.endereco)"
   ]
  },
  {
   "cell_type": "code",
   "execution_count": null,
   "id": "EEi2zDmKM3Rv",
   "metadata": {
    "colab": {
     "base_uri": "https://localhost:8080/"
    },
    "executionInfo": {
     "elapsed": 18,
     "status": "ok",
     "timestamp": 1670516229294,
     "user": {
      "displayName": "francisco strunck",
      "userId": "02683465803792309206"
     },
     "user_tz": 180
    },
    "id": "EEi2zDmKM3Rv",
    "outputId": "36a46284-9fe4-4ddd-f09f-e6bd9161ff15"
   },
   "outputs": [
    {
     "name": "stdout",
     "output_type": "stream",
     "text": [
      "root\n",
      " |-- andar: long (nullable = true)\n",
      " |-- area_total: string (nullable = true)\n",
      " |-- area_util: string (nullable = true)\n",
      " |-- banheiros: long (nullable = true)\n",
      " |-- caracteristicas: array (nullable = true)\n",
      " |    |-- element: string (containsNull = true)\n",
      " |-- id: string (nullable = true)\n",
      " |-- quartos: long (nullable = true)\n",
      " |-- suites: long (nullable = true)\n",
      " |-- tipo_anuncio: string (nullable = true)\n",
      " |-- tipo_unidade: string (nullable = true)\n",
      " |-- tipo_uso: string (nullable = true)\n",
      " |-- vaga: long (nullable = true)\n",
      " |-- condominio: string (nullable = true)\n",
      " |-- iptu: string (nullable = true)\n",
      " |-- tipo: string (nullable = true)\n",
      " |-- valor: string (nullable = true)\n",
      " |-- bairro: string (nullable = true)\n",
      " |-- zona: string (nullable = true)\n",
      "\n"
     ]
    }
   ],
   "source": [
    "dados_5.printSchema()"
   ]
  },
  {
   "cell_type": "code",
   "execution_count": null,
   "id": "KsN2MXJHM3PZ",
   "metadata": {
    "id": "KsN2MXJHM3PZ"
   },
   "outputs": [],
   "source": []
  },
  {
   "cell_type": "markdown",
   "id": "318bdd6a",
   "metadata": {
    "id": "318bdd6a"
   },
   "source": [
    "## Salvando"
   ]
  },
  {
   "cell_type": "code",
   "execution_count": null,
   "id": "5a2f90a3",
   "metadata": {
    "ExecuteTime": {
     "end_time": "2022-12-06T23:21:41.714268Z",
     "start_time": "2022-12-06T23:21:37.267455Z"
    },
    "id": "5a2f90a3"
   },
   "outputs": [],
   "source": [
    "anuncio.write.parquet(\n",
    "    path='Dados/dataset_transformado_parquet',\n",
    "    mode='overwrite'\n",
    ")"
   ]
  },
  {
   "cell_type": "code",
   "execution_count": null,
   "id": "f2cbd0e9",
   "metadata": {
    "id": "f2cbd0e9"
   },
   "outputs": [],
   "source": [
    "anuncio_parquet = spark.read.parquet(\n",
    "    'Dados/dataset_transformado_parquet'\n",
    ")"
   ]
  },
  {
   "cell_type": "code",
   "execution_count": null,
   "id": "f4f94883",
   "metadata": {
    "colab": {
     "base_uri": "https://localhost:8080/"
    },
    "executionInfo": {
     "elapsed": 4,
     "status": "ok",
     "timestamp": 1670516239667,
     "user": {
      "displayName": "francisco strunck",
      "userId": "02683465803792309206"
     },
     "user_tz": 180
    },
    "id": "f4f94883",
    "outputId": "48ab9e0a-5dd5-4572-ccd6-16d12f78ff61"
   },
   "outputs": [
    {
     "name": "stdout",
     "output_type": "stream",
     "text": [
      "root\n",
      " |-- id: string (nullable = true)\n",
      " |-- andar: long (nullable = true)\n",
      " |-- area_total: string (nullable = true)\n",
      " |-- area_util: string (nullable = true)\n",
      " |-- banheiros: long (nullable = true)\n",
      " |-- caracteristicas: array (nullable = true)\n",
      " |    |-- element: string (containsNull = true)\n",
      " |-- quartos: long (nullable = true)\n",
      " |-- suites: long (nullable = true)\n",
      " |-- tipo_anuncio: string (nullable = true)\n",
      " |-- tipo_unidade: string (nullable = true)\n",
      " |-- tipo_uso: string (nullable = true)\n",
      " |-- vaga: long (nullable = true)\n",
      " |-- bairro: string (nullable = true)\n",
      " |-- zona: string (nullable = true)\n",
      " |-- condominio: string (nullable = true)\n",
      " |-- iptu: string (nullable = true)\n",
      " |-- tipo: string (nullable = true)\n",
      " |-- valor: string (nullable = true)\n",
      "\n"
     ]
    }
   ],
   "source": [
    "\n",
    "anuncio_parquet.printSchema()"
   ]
  },
  {
   "cell_type": "code",
   "execution_count": null,
   "id": "ac67aac8",
   "metadata": {
    "colab": {
     "base_uri": "https://localhost:8080/",
     "height": 530
    },
    "executionInfo": {
     "elapsed": 410,
     "status": "ok",
     "timestamp": 1670516240075,
     "user": {
      "displayName": "francisco strunck",
      "userId": "02683465803792309206"
     },
     "user_tz": 180
    },
    "id": "ac67aac8",
    "outputId": "1982d98f-20b6-4bdd-be09-f28b3f7faaf7"
   },
   "outputs": [
    {
     "data": {
      "text/html": [
       "\n",
       "  <div id=\"df-07709e6d-2f7c-4438-9459-49efc89541f5\">\n",
       "    <div class=\"colab-df-container\">\n",
       "      <div>\n",
       "<style scoped>\n",
       "    .dataframe tbody tr th:only-of-type {\n",
       "        vertical-align: middle;\n",
       "    }\n",
       "\n",
       "    .dataframe tbody tr th {\n",
       "        vertical-align: top;\n",
       "    }\n",
       "\n",
       "    .dataframe thead th {\n",
       "        text-align: right;\n",
       "    }\n",
       "</style>\n",
       "<table border=\"1\" class=\"dataframe\">\n",
       "  <thead>\n",
       "    <tr style=\"text-align: right;\">\n",
       "      <th></th>\n",
       "      <th>id</th>\n",
       "      <th>andar</th>\n",
       "      <th>area_total</th>\n",
       "      <th>area_util</th>\n",
       "      <th>banheiros</th>\n",
       "      <th>caracteristicas</th>\n",
       "      <th>quartos</th>\n",
       "      <th>suites</th>\n",
       "      <th>tipo_anuncio</th>\n",
       "      <th>tipo_unidade</th>\n",
       "      <th>tipo_uso</th>\n",
       "      <th>vaga</th>\n",
       "      <th>bairro</th>\n",
       "      <th>zona</th>\n",
       "      <th>condominio</th>\n",
       "      <th>iptu</th>\n",
       "      <th>tipo</th>\n",
       "      <th>valor</th>\n",
       "    </tr>\n",
       "  </thead>\n",
       "  <tbody>\n",
       "    <tr>\n",
       "      <th>0</th>\n",
       "      <td>03a386b6-7ab8-4eff-891d-f8a16efc1989</td>\n",
       "      <td>0</td>\n",
       "      <td>43</td>\n",
       "      <td>43</td>\n",
       "      <td>1</td>\n",
       "      <td>[Churrasqueira, Academia, Playground, Salão de...</td>\n",
       "      <td>2</td>\n",
       "      <td>NaN</td>\n",
       "      <td>Usado</td>\n",
       "      <td>Apartamento</td>\n",
       "      <td>Residencial</td>\n",
       "      <td>1</td>\n",
       "      <td>Realengo</td>\n",
       "      <td>Zona Oeste</td>\n",
       "      <td>285</td>\n",
       "      <td>None</td>\n",
       "      <td>Venda</td>\n",
       "      <td>22999</td>\n",
       "    </tr>\n",
       "    <tr>\n",
       "      <th>1</th>\n",
       "      <td>1fe78d41-b8e0-4d21-a1a8-72cb7863f441</td>\n",
       "      <td>0</td>\n",
       "      <td>44</td>\n",
       "      <td>44</td>\n",
       "      <td>1</td>\n",
       "      <td>[]</td>\n",
       "      <td>2</td>\n",
       "      <td>0.0</td>\n",
       "      <td>Usado</td>\n",
       "      <td>Apartamento</td>\n",
       "      <td>Residencial</td>\n",
       "      <td>0</td>\n",
       "      <td>Irajá</td>\n",
       "      <td>Zona Norte</td>\n",
       "      <td>170</td>\n",
       "      <td>0</td>\n",
       "      <td>Venda</td>\n",
       "      <td>110000</td>\n",
       "    </tr>\n",
       "    <tr>\n",
       "      <th>2</th>\n",
       "      <td>1fa1c1e5-e98c-433f-9675-1b43d7d6da01</td>\n",
       "      <td>4</td>\n",
       "      <td>None</td>\n",
       "      <td>55</td>\n",
       "      <td>1</td>\n",
       "      <td>[]</td>\n",
       "      <td>2</td>\n",
       "      <td>0.0</td>\n",
       "      <td>Usado</td>\n",
       "      <td>Apartamento</td>\n",
       "      <td>Residencial</td>\n",
       "      <td>1</td>\n",
       "      <td>Cosmos</td>\n",
       "      <td>Zona Oeste</td>\n",
       "      <td>None</td>\n",
       "      <td>None</td>\n",
       "      <td>Venda</td>\n",
       "      <td>115000</td>\n",
       "    </tr>\n",
       "    <tr>\n",
       "      <th>3</th>\n",
       "      <td>a6ab01ae-3d40-40e7-bb6a-f2334e0abbe0</td>\n",
       "      <td>2</td>\n",
       "      <td>None</td>\n",
       "      <td>55</td>\n",
       "      <td>1</td>\n",
       "      <td>[]</td>\n",
       "      <td>2</td>\n",
       "      <td>0.0</td>\n",
       "      <td>Usado</td>\n",
       "      <td>Apartamento</td>\n",
       "      <td>Residencial</td>\n",
       "      <td>0</td>\n",
       "      <td>Tomás Coelho</td>\n",
       "      <td>Zona Norte</td>\n",
       "      <td>None</td>\n",
       "      <td>None</td>\n",
       "      <td>Venda</td>\n",
       "      <td>115000</td>\n",
       "    </tr>\n",
       "    <tr>\n",
       "      <th>4</th>\n",
       "      <td>1d8ff7a2-16bd-4e3f-a92e-1b85f923ebb0</td>\n",
       "      <td>0</td>\n",
       "      <td>None</td>\n",
       "      <td>50</td>\n",
       "      <td>1</td>\n",
       "      <td>[]</td>\n",
       "      <td>1</td>\n",
       "      <td>NaN</td>\n",
       "      <td>Usado</td>\n",
       "      <td>Apartamento</td>\n",
       "      <td>Residencial</td>\n",
       "      <td>0</td>\n",
       "      <td>Centro</td>\n",
       "      <td>Zona Central</td>\n",
       "      <td>1300</td>\n",
       "      <td>2679</td>\n",
       "      <td>Venda</td>\n",
       "      <td>125000</td>\n",
       "    </tr>\n",
       "  </tbody>\n",
       "</table>\n",
       "</div>\n",
       "      <button class=\"colab-df-convert\" onclick=\"convertToInteractive('df-07709e6d-2f7c-4438-9459-49efc89541f5')\"\n",
       "              title=\"Convert this dataframe to an interactive table.\"\n",
       "              style=\"display:none;\">\n",
       "        \n",
       "  <svg xmlns=\"http://www.w3.org/2000/svg\" height=\"24px\"viewBox=\"0 0 24 24\"\n",
       "       width=\"24px\">\n",
       "    <path d=\"M0 0h24v24H0V0z\" fill=\"none\"/>\n",
       "    <path d=\"M18.56 5.44l.94 2.06.94-2.06 2.06-.94-2.06-.94-.94-2.06-.94 2.06-2.06.94zm-11 1L8.5 8.5l.94-2.06 2.06-.94-2.06-.94L8.5 2.5l-.94 2.06-2.06.94zm10 10l.94 2.06.94-2.06 2.06-.94-2.06-.94-.94-2.06-.94 2.06-2.06.94z\"/><path d=\"M17.41 7.96l-1.37-1.37c-.4-.4-.92-.59-1.43-.59-.52 0-1.04.2-1.43.59L10.3 9.45l-7.72 7.72c-.78.78-.78 2.05 0 2.83L4 21.41c.39.39.9.59 1.41.59.51 0 1.02-.2 1.41-.59l7.78-7.78 2.81-2.81c.8-.78.8-2.07 0-2.86zM5.41 20L4 18.59l7.72-7.72 1.47 1.35L5.41 20z\"/>\n",
       "  </svg>\n",
       "      </button>\n",
       "      \n",
       "  <style>\n",
       "    .colab-df-container {\n",
       "      display:flex;\n",
       "      flex-wrap:wrap;\n",
       "      gap: 12px;\n",
       "    }\n",
       "\n",
       "    .colab-df-convert {\n",
       "      background-color: #E8F0FE;\n",
       "      border: none;\n",
       "      border-radius: 50%;\n",
       "      cursor: pointer;\n",
       "      display: none;\n",
       "      fill: #1967D2;\n",
       "      height: 32px;\n",
       "      padding: 0 0 0 0;\n",
       "      width: 32px;\n",
       "    }\n",
       "\n",
       "    .colab-df-convert:hover {\n",
       "      background-color: #E2EBFA;\n",
       "      box-shadow: 0px 1px 2px rgba(60, 64, 67, 0.3), 0px 1px 3px 1px rgba(60, 64, 67, 0.15);\n",
       "      fill: #174EA6;\n",
       "    }\n",
       "\n",
       "    [theme=dark] .colab-df-convert {\n",
       "      background-color: #3B4455;\n",
       "      fill: #D2E3FC;\n",
       "    }\n",
       "\n",
       "    [theme=dark] .colab-df-convert:hover {\n",
       "      background-color: #434B5C;\n",
       "      box-shadow: 0px 1px 3px 1px rgba(0, 0, 0, 0.15);\n",
       "      filter: drop-shadow(0px 1px 2px rgba(0, 0, 0, 0.3));\n",
       "      fill: #FFFFFF;\n",
       "    }\n",
       "  </style>\n",
       "\n",
       "      <script>\n",
       "        const buttonEl =\n",
       "          document.querySelector('#df-07709e6d-2f7c-4438-9459-49efc89541f5 button.colab-df-convert');\n",
       "        buttonEl.style.display =\n",
       "          google.colab.kernel.accessAllowed ? 'block' : 'none';\n",
       "\n",
       "        async function convertToInteractive(key) {\n",
       "          const element = document.querySelector('#df-07709e6d-2f7c-4438-9459-49efc89541f5');\n",
       "          const dataTable =\n",
       "            await google.colab.kernel.invokeFunction('convertToInteractive',\n",
       "                                                     [key], {});\n",
       "          if (!dataTable) return;\n",
       "\n",
       "          const docLinkHtml = 'Like what you see? Visit the ' +\n",
       "            '<a target=\"_blank\" href=https://colab.research.google.com/notebooks/data_table.ipynb>data table notebook</a>'\n",
       "            + ' to learn more about interactive tables.';\n",
       "          element.innerHTML = '';\n",
       "          dataTable['output_type'] = 'display_data';\n",
       "          await google.colab.output.renderOutput(dataTable, element);\n",
       "          const docLink = document.createElement('div');\n",
       "          docLink.innerHTML = docLinkHtml;\n",
       "          element.appendChild(docLink);\n",
       "        }\n",
       "      </script>\n",
       "    </div>\n",
       "  </div>\n",
       "  "
      ],
      "text/plain": [
       "                                     id  andar area_total area_util  \\\n",
       "0  03a386b6-7ab8-4eff-891d-f8a16efc1989      0         43        43   \n",
       "1  1fe78d41-b8e0-4d21-a1a8-72cb7863f441      0         44        44   \n",
       "2  1fa1c1e5-e98c-433f-9675-1b43d7d6da01      4       None        55   \n",
       "3  a6ab01ae-3d40-40e7-bb6a-f2334e0abbe0      2       None        55   \n",
       "4  1d8ff7a2-16bd-4e3f-a92e-1b85f923ebb0      0       None        50   \n",
       "\n",
       "   banheiros                                    caracteristicas  quartos  \\\n",
       "0          1  [Churrasqueira, Academia, Playground, Salão de...        2   \n",
       "1          1                                                 []        2   \n",
       "2          1                                                 []        2   \n",
       "3          1                                                 []        2   \n",
       "4          1                                                 []        1   \n",
       "\n",
       "   suites tipo_anuncio tipo_unidade     tipo_uso  vaga        bairro  \\\n",
       "0     NaN        Usado  Apartamento  Residencial     1      Realengo   \n",
       "1     0.0        Usado  Apartamento  Residencial     0         Irajá   \n",
       "2     0.0        Usado  Apartamento  Residencial     1        Cosmos   \n",
       "3     0.0        Usado  Apartamento  Residencial     0  Tomás Coelho   \n",
       "4     NaN        Usado  Apartamento  Residencial     0        Centro   \n",
       "\n",
       "           zona condominio  iptu   tipo   valor  \n",
       "0    Zona Oeste        285  None  Venda   22999  \n",
       "1    Zona Norte        170     0  Venda  110000  \n",
       "2    Zona Oeste       None  None  Venda  115000  \n",
       "3    Zona Norte       None  None  Venda  115000  \n",
       "4  Zona Central       1300  2679  Venda  125000  "
      ]
     },
     "execution_count": 99,
     "metadata": {},
     "output_type": "execute_result"
    }
   ],
   "source": [
    "anuncio_parquet.limit(5).toPandas()"
   ]
  },
  {
   "cell_type": "markdown",
   "id": "spaAb5-y6QWo",
   "metadata": {
    "id": "spaAb5-y6QWo"
   },
   "source": [
    "Transformando dados como CSV"
   ]
  },
  {
   "cell_type": "code",
   "execution_count": null,
   "id": "jE_4BvwG6QMC",
   "metadata": {
    "id": "jE_4BvwG6QMC"
   },
   "outputs": [],
   "source": [
    "anuncio = anuncio.drop(\"caracteristicas\")"
   ]
  },
  {
   "cell_type": "code",
   "execution_count": null,
   "id": "6Ahmlcq26QII",
   "metadata": {
    "id": "6Ahmlcq26QII"
   },
   "outputs": [],
   "source": [
    "anuncio.write.csv(\n",
    "    path='Dados/dataset_transformado.csv',\n",
    "    mode='overwrite',\n",
    "    header=True\n",
    ")"
   ]
  },
  {
   "cell_type": "code",
   "execution_count": null,
   "id": "oFuN8IzE551B",
   "metadata": {
    "id": "oFuN8IzE551B"
   },
   "outputs": [],
   "source": [
    "anuncio_csv = spark.read.csv(\n",
    "    'Dados/dataset_transformado.csv',\n",
    "    header=True\n",
    ")"
   ]
  },
  {
   "cell_type": "code",
   "execution_count": null,
   "id": "jV1_ixGx6c3R",
   "metadata": {
    "colab": {
     "base_uri": "https://localhost:8080/"
    },
    "executionInfo": {
     "elapsed": 5,
     "status": "ok",
     "timestamp": 1670516248944,
     "user": {
      "displayName": "francisco strunck",
      "userId": "02683465803792309206"
     },
     "user_tz": 180
    },
    "id": "jV1_ixGx6c3R",
    "outputId": "4fde7052-6cfe-490a-e2b2-67c4d9c02bd3"
   },
   "outputs": [
    {
     "name": "stdout",
     "output_type": "stream",
     "text": [
      "root\n",
      " |-- id: string (nullable = true)\n",
      " |-- andar: string (nullable = true)\n",
      " |-- area_total: string (nullable = true)\n",
      " |-- area_util: string (nullable = true)\n",
      " |-- banheiros: string (nullable = true)\n",
      " |-- quartos: string (nullable = true)\n",
      " |-- suites: string (nullable = true)\n",
      " |-- tipo_anuncio: string (nullable = true)\n",
      " |-- tipo_unidade: string (nullable = true)\n",
      " |-- tipo_uso: string (nullable = true)\n",
      " |-- vaga: string (nullable = true)\n",
      " |-- bairro: string (nullable = true)\n",
      " |-- zona: string (nullable = true)\n",
      " |-- condominio: string (nullable = true)\n",
      " |-- iptu: string (nullable = true)\n",
      " |-- tipo: string (nullable = true)\n",
      " |-- valor: string (nullable = true)\n",
      "\n"
     ]
    }
   ],
   "source": [
    "anuncio_csv.printSchema()"
   ]
  },
  {
   "cell_type": "code",
   "execution_count": null,
   "id": "qEnuKdU46c0u",
   "metadata": {
    "colab": {
     "base_uri": "https://localhost:8080/",
     "height": 530
    },
    "executionInfo": {
     "elapsed": 522,
     "status": "ok",
     "timestamp": 1670516249462,
     "user": {
      "displayName": "francisco strunck",
      "userId": "02683465803792309206"
     },
     "user_tz": 180
    },
    "id": "qEnuKdU46c0u",
    "outputId": "aa5ec0b6-134b-49a8-90a9-506b76697198"
   },
   "outputs": [
    {
     "data": {
      "text/html": [
       "\n",
       "  <div id=\"df-a6e3448a-5637-4686-8c04-e0f8c9fce81d\">\n",
       "    <div class=\"colab-df-container\">\n",
       "      <div>\n",
       "<style scoped>\n",
       "    .dataframe tbody tr th:only-of-type {\n",
       "        vertical-align: middle;\n",
       "    }\n",
       "\n",
       "    .dataframe tbody tr th {\n",
       "        vertical-align: top;\n",
       "    }\n",
       "\n",
       "    .dataframe thead th {\n",
       "        text-align: right;\n",
       "    }\n",
       "</style>\n",
       "<table border=\"1\" class=\"dataframe\">\n",
       "  <thead>\n",
       "    <tr style=\"text-align: right;\">\n",
       "      <th></th>\n",
       "      <th>id</th>\n",
       "      <th>andar</th>\n",
       "      <th>area_total</th>\n",
       "      <th>area_util</th>\n",
       "      <th>banheiros</th>\n",
       "      <th>quartos</th>\n",
       "      <th>suites</th>\n",
       "      <th>tipo_anuncio</th>\n",
       "      <th>tipo_unidade</th>\n",
       "      <th>tipo_uso</th>\n",
       "      <th>vaga</th>\n",
       "      <th>bairro</th>\n",
       "      <th>zona</th>\n",
       "      <th>condominio</th>\n",
       "      <th>iptu</th>\n",
       "      <th>tipo</th>\n",
       "      <th>valor</th>\n",
       "    </tr>\n",
       "  </thead>\n",
       "  <tbody>\n",
       "    <tr>\n",
       "      <th>0</th>\n",
       "      <td>03a386b6-7ab8-4eff-891d-f8a16efc1989</td>\n",
       "      <td>0</td>\n",
       "      <td>43</td>\n",
       "      <td>43</td>\n",
       "      <td>1</td>\n",
       "      <td>2</td>\n",
       "      <td>None</td>\n",
       "      <td>Usado</td>\n",
       "      <td>Apartamento</td>\n",
       "      <td>Residencial</td>\n",
       "      <td>1</td>\n",
       "      <td>Realengo</td>\n",
       "      <td>Zona Oeste</td>\n",
       "      <td>285</td>\n",
       "      <td>None</td>\n",
       "      <td>Venda</td>\n",
       "      <td>22999</td>\n",
       "    </tr>\n",
       "    <tr>\n",
       "      <th>1</th>\n",
       "      <td>1fe78d41-b8e0-4d21-a1a8-72cb7863f441</td>\n",
       "      <td>0</td>\n",
       "      <td>44</td>\n",
       "      <td>44</td>\n",
       "      <td>1</td>\n",
       "      <td>2</td>\n",
       "      <td>0</td>\n",
       "      <td>Usado</td>\n",
       "      <td>Apartamento</td>\n",
       "      <td>Residencial</td>\n",
       "      <td>0</td>\n",
       "      <td>Irajá</td>\n",
       "      <td>Zona Norte</td>\n",
       "      <td>170</td>\n",
       "      <td>0</td>\n",
       "      <td>Venda</td>\n",
       "      <td>110000</td>\n",
       "    </tr>\n",
       "    <tr>\n",
       "      <th>2</th>\n",
       "      <td>1fa1c1e5-e98c-433f-9675-1b43d7d6da01</td>\n",
       "      <td>4</td>\n",
       "      <td>None</td>\n",
       "      <td>55</td>\n",
       "      <td>1</td>\n",
       "      <td>2</td>\n",
       "      <td>0</td>\n",
       "      <td>Usado</td>\n",
       "      <td>Apartamento</td>\n",
       "      <td>Residencial</td>\n",
       "      <td>1</td>\n",
       "      <td>Cosmos</td>\n",
       "      <td>Zona Oeste</td>\n",
       "      <td>None</td>\n",
       "      <td>None</td>\n",
       "      <td>Venda</td>\n",
       "      <td>115000</td>\n",
       "    </tr>\n",
       "    <tr>\n",
       "      <th>3</th>\n",
       "      <td>a6ab01ae-3d40-40e7-bb6a-f2334e0abbe0</td>\n",
       "      <td>2</td>\n",
       "      <td>None</td>\n",
       "      <td>55</td>\n",
       "      <td>1</td>\n",
       "      <td>2</td>\n",
       "      <td>0</td>\n",
       "      <td>Usado</td>\n",
       "      <td>Apartamento</td>\n",
       "      <td>Residencial</td>\n",
       "      <td>0</td>\n",
       "      <td>Tomás Coelho</td>\n",
       "      <td>Zona Norte</td>\n",
       "      <td>None</td>\n",
       "      <td>None</td>\n",
       "      <td>Venda</td>\n",
       "      <td>115000</td>\n",
       "    </tr>\n",
       "    <tr>\n",
       "      <th>4</th>\n",
       "      <td>1d8ff7a2-16bd-4e3f-a92e-1b85f923ebb0</td>\n",
       "      <td>0</td>\n",
       "      <td>None</td>\n",
       "      <td>50</td>\n",
       "      <td>1</td>\n",
       "      <td>1</td>\n",
       "      <td>None</td>\n",
       "      <td>Usado</td>\n",
       "      <td>Apartamento</td>\n",
       "      <td>Residencial</td>\n",
       "      <td>0</td>\n",
       "      <td>Centro</td>\n",
       "      <td>Zona Central</td>\n",
       "      <td>1300</td>\n",
       "      <td>2679</td>\n",
       "      <td>Venda</td>\n",
       "      <td>125000</td>\n",
       "    </tr>\n",
       "  </tbody>\n",
       "</table>\n",
       "</div>\n",
       "      <button class=\"colab-df-convert\" onclick=\"convertToInteractive('df-a6e3448a-5637-4686-8c04-e0f8c9fce81d')\"\n",
       "              title=\"Convert this dataframe to an interactive table.\"\n",
       "              style=\"display:none;\">\n",
       "        \n",
       "  <svg xmlns=\"http://www.w3.org/2000/svg\" height=\"24px\"viewBox=\"0 0 24 24\"\n",
       "       width=\"24px\">\n",
       "    <path d=\"M0 0h24v24H0V0z\" fill=\"none\"/>\n",
       "    <path d=\"M18.56 5.44l.94 2.06.94-2.06 2.06-.94-2.06-.94-.94-2.06-.94 2.06-2.06.94zm-11 1L8.5 8.5l.94-2.06 2.06-.94-2.06-.94L8.5 2.5l-.94 2.06-2.06.94zm10 10l.94 2.06.94-2.06 2.06-.94-2.06-.94-.94-2.06-.94 2.06-2.06.94z\"/><path d=\"M17.41 7.96l-1.37-1.37c-.4-.4-.92-.59-1.43-.59-.52 0-1.04.2-1.43.59L10.3 9.45l-7.72 7.72c-.78.78-.78 2.05 0 2.83L4 21.41c.39.39.9.59 1.41.59.51 0 1.02-.2 1.41-.59l7.78-7.78 2.81-2.81c.8-.78.8-2.07 0-2.86zM5.41 20L4 18.59l7.72-7.72 1.47 1.35L5.41 20z\"/>\n",
       "  </svg>\n",
       "      </button>\n",
       "      \n",
       "  <style>\n",
       "    .colab-df-container {\n",
       "      display:flex;\n",
       "      flex-wrap:wrap;\n",
       "      gap: 12px;\n",
       "    }\n",
       "\n",
       "    .colab-df-convert {\n",
       "      background-color: #E8F0FE;\n",
       "      border: none;\n",
       "      border-radius: 50%;\n",
       "      cursor: pointer;\n",
       "      display: none;\n",
       "      fill: #1967D2;\n",
       "      height: 32px;\n",
       "      padding: 0 0 0 0;\n",
       "      width: 32px;\n",
       "    }\n",
       "\n",
       "    .colab-df-convert:hover {\n",
       "      background-color: #E2EBFA;\n",
       "      box-shadow: 0px 1px 2px rgba(60, 64, 67, 0.3), 0px 1px 3px 1px rgba(60, 64, 67, 0.15);\n",
       "      fill: #174EA6;\n",
       "    }\n",
       "\n",
       "    [theme=dark] .colab-df-convert {\n",
       "      background-color: #3B4455;\n",
       "      fill: #D2E3FC;\n",
       "    }\n",
       "\n",
       "    [theme=dark] .colab-df-convert:hover {\n",
       "      background-color: #434B5C;\n",
       "      box-shadow: 0px 1px 3px 1px rgba(0, 0, 0, 0.15);\n",
       "      filter: drop-shadow(0px 1px 2px rgba(0, 0, 0, 0.3));\n",
       "      fill: #FFFFFF;\n",
       "    }\n",
       "  </style>\n",
       "\n",
       "      <script>\n",
       "        const buttonEl =\n",
       "          document.querySelector('#df-a6e3448a-5637-4686-8c04-e0f8c9fce81d button.colab-df-convert');\n",
       "        buttonEl.style.display =\n",
       "          google.colab.kernel.accessAllowed ? 'block' : 'none';\n",
       "\n",
       "        async function convertToInteractive(key) {\n",
       "          const element = document.querySelector('#df-a6e3448a-5637-4686-8c04-e0f8c9fce81d');\n",
       "          const dataTable =\n",
       "            await google.colab.kernel.invokeFunction('convertToInteractive',\n",
       "                                                     [key], {});\n",
       "          if (!dataTable) return;\n",
       "\n",
       "          const docLinkHtml = 'Like what you see? Visit the ' +\n",
       "            '<a target=\"_blank\" href=https://colab.research.google.com/notebooks/data_table.ipynb>data table notebook</a>'\n",
       "            + ' to learn more about interactive tables.';\n",
       "          element.innerHTML = '';\n",
       "          dataTable['output_type'] = 'display_data';\n",
       "          await google.colab.output.renderOutput(dataTable, element);\n",
       "          const docLink = document.createElement('div');\n",
       "          docLink.innerHTML = docLinkHtml;\n",
       "          element.appendChild(docLink);\n",
       "        }\n",
       "      </script>\n",
       "    </div>\n",
       "  </div>\n",
       "  "
      ],
      "text/plain": [
       "                                     id andar area_total area_util banheiros  \\\n",
       "0  03a386b6-7ab8-4eff-891d-f8a16efc1989     0         43        43         1   \n",
       "1  1fe78d41-b8e0-4d21-a1a8-72cb7863f441     0         44        44         1   \n",
       "2  1fa1c1e5-e98c-433f-9675-1b43d7d6da01     4       None        55         1   \n",
       "3  a6ab01ae-3d40-40e7-bb6a-f2334e0abbe0     2       None        55         1   \n",
       "4  1d8ff7a2-16bd-4e3f-a92e-1b85f923ebb0     0       None        50         1   \n",
       "\n",
       "  quartos suites tipo_anuncio tipo_unidade     tipo_uso vaga        bairro  \\\n",
       "0       2   None        Usado  Apartamento  Residencial    1      Realengo   \n",
       "1       2      0        Usado  Apartamento  Residencial    0         Irajá   \n",
       "2       2      0        Usado  Apartamento  Residencial    1        Cosmos   \n",
       "3       2      0        Usado  Apartamento  Residencial    0  Tomás Coelho   \n",
       "4       1   None        Usado  Apartamento  Residencial    0        Centro   \n",
       "\n",
       "           zona condominio  iptu   tipo   valor  \n",
       "0    Zona Oeste        285  None  Venda   22999  \n",
       "1    Zona Norte        170     0  Venda  110000  \n",
       "2    Zona Oeste       None  None  Venda  115000  \n",
       "3    Zona Norte       None  None  Venda  115000  \n",
       "4  Zona Central       1300  2679  Venda  125000  "
      ]
     },
     "execution_count": 104,
     "metadata": {},
     "output_type": "execute_result"
    }
   ],
   "source": [
    "anuncio_csv.limit(5).toPandas()"
   ]
  },
  {
   "cell_type": "markdown",
   "id": "OPGz5JBs7q0l",
   "metadata": {
    "id": "OPGz5JBs7q0l"
   },
   "source": [
    "Desenpenho PARQUET X CSV"
   ]
  },
  {
   "cell_type": "code",
   "execution_count": null,
   "id": "5Z3EFIv96cyX",
   "metadata": {
    "colab": {
     "base_uri": "https://localhost:8080/"
    },
    "executionInfo": {
     "elapsed": 236,
     "status": "ok",
     "timestamp": 1670516249692,
     "user": {
      "displayName": "francisco strunck",
      "userId": "02683465803792309206"
     },
     "user_tz": 180
    },
    "id": "5Z3EFIv96cyX",
    "outputId": "84f8a504-7141-4c1f-fee4-1ac3a7fac7ce"
   },
   "outputs": [
    {
     "name": "stdout",
     "output_type": "stream",
     "text": [
      "+-------------------+-----+\n",
      "|             bairro|count|\n",
      "+-------------------+-----+\n",
      "|             Cocotá|   16|\n",
      "|       Tomás Coelho|   38|\n",
      "|              Gávea|  597|\n",
      "|            Ipanema| 2113|\n",
      "|           Realengo|   46|\n",
      "|      Gardênia Azul|    7|\n",
      "|      Bento Ribeiro|   33|\n",
      "|              Rocha|   38|\n",
      "|Vicente de Carvalho|   86|\n",
      "|         Manguinhos|    1|\n",
      "|       Campo Grande|  639|\n",
      "|        Jacarepaguá| 4437|\n",
      "|               Leme|  234|\n",
      "|           Botafogo| 3499|\n",
      "|       Padre Miguel|   15|\n",
      "|       Santo Cristo|  357|\n",
      "|           Flamengo| 1378|\n",
      "|  Engenho da Rainha|   25|\n",
      "| Pedra de Guaratiba|   12|\n",
      "|            Piedade|  104|\n",
      "+-------------------+-----+\n",
      "only showing top 20 rows\n",
      "\n",
      "CPU times: user 7.54 ms, sys: 0 ns, total: 7.54 ms\n",
      "Wall time: 466 ms\n"
     ]
    }
   ],
   "source": [
    "%%time\n",
    "anuncio_parquet.groupBy('bairro').count().show()"
   ]
  },
  {
   "cell_type": "code",
   "execution_count": null,
   "id": "mMQcm7FY6cvM",
   "metadata": {
    "colab": {
     "base_uri": "https://localhost:8080/"
    },
    "executionInfo": {
     "elapsed": 1282,
     "status": "ok",
     "timestamp": 1670516250972,
     "user": {
      "displayName": "francisco strunck",
      "userId": "02683465803792309206"
     },
     "user_tz": 180
    },
    "id": "mMQcm7FY6cvM",
    "outputId": "edbfd0e2-4e7d-444f-f0f2-7b8732022875"
   },
   "outputs": [
    {
     "name": "stdout",
     "output_type": "stream",
     "text": [
      "+-------------------+-----+\n",
      "|             bairro|count|\n",
      "+-------------------+-----+\n",
      "|             Cocotá|   16|\n",
      "|       Tomás Coelho|   38|\n",
      "|              Gávea|  597|\n",
      "|            Ipanema| 2113|\n",
      "|           Realengo|   46|\n",
      "|      Gardênia Azul|    7|\n",
      "|      Bento Ribeiro|   33|\n",
      "|              Rocha|   38|\n",
      "|Vicente de Carvalho|   86|\n",
      "|         Manguinhos|    1|\n",
      "|       Campo Grande|  639|\n",
      "|        Jacarepaguá| 4437|\n",
      "|               Leme|  234|\n",
      "|           Botafogo| 3499|\n",
      "|       Padre Miguel|   15|\n",
      "|       Santo Cristo|  357|\n",
      "|           Flamengo| 1378|\n",
      "|  Engenho da Rainha|   25|\n",
      "| Pedra de Guaratiba|   12|\n",
      "|            Piedade|  104|\n",
      "+-------------------+-----+\n",
      "only showing top 20 rows\n",
      "\n",
      "CPU times: user 13.2 ms, sys: 1.53 ms, total: 14.7 ms\n",
      "Wall time: 1.23 s\n"
     ]
    }
   ],
   "source": [
    "%%time\n",
    "anuncio_csv.groupBy('bairro').count().show()"
   ]
  },
  {
   "cell_type": "markdown",
   "id": "NHvduLeDkUte",
   "metadata": {
    "id": "NHvduLeDkUte"
   },
   "source": [
    "# Tratamento de Dados 2\n",
    "\n",
    "Durante essa semana vamos realizar trabalhos de pessoas cientistas de dados.\n",
    "\n",
    "O time de engenharia de dados da InsightPlaces disponibilizou a base de dados com algumas transformações já realizadas. No entanto, ainda é necessária a exploração e tratamento dessa base de dados para conseguirmos efetivamente partir pra criação dos nossos modelos de ML.\n",
    "\n",
    "Sendo assim, vamos começar selecionando as features que fizerem mais sentido para nosso projeto e depois vamos realizar alguns tratamentos na base de dados. Ao finalizar isso, podemos utilizar os dados para a criação de um modelo de regressão que irá nos ajudar na precificação dos imóveis da InsightPlaces."
   ]
  },
  {
   "cell_type": "code",
   "execution_count": null,
   "id": "LhWxD6HFkP58",
   "metadata": {
    "colab": {
     "base_uri": "https://localhost:8080/"
    },
    "executionInfo": {
     "elapsed": 3634,
     "status": "ok",
     "timestamp": 1670516254601,
     "user": {
      "displayName": "francisco strunck",
      "userId": "02683465803792309206"
     },
     "user_tz": 180
    },
    "id": "LhWxD6HFkP58",
    "outputId": "df7dd8c2-a23f-4b7d-90e2-09da92f8968c"
   },
   "outputs": [
    {
     "name": "stdout",
     "output_type": "stream",
     "text": [
      "Looking in indexes: https://pypi.org/simple, https://us-python.pkg.dev/colab-wheels/public/simple/\n",
      "Requirement already satisfied: pyspark==3.3.1 in /usr/local/lib/python3.8/dist-packages (3.3.1)\n",
      "Requirement already satisfied: py4j==0.10.9.5 in /usr/local/lib/python3.8/dist-packages (from pyspark==3.3.1) (0.10.9.5)\n"
     ]
    }
   ],
   "source": [
    "!pip install pyspark==3.3.1"
   ]
  },
  {
   "cell_type": "code",
   "execution_count": null,
   "id": "pdk3u-pBkT51",
   "metadata": {
    "colab": {
     "base_uri": "https://localhost:8080/",
     "height": 219
    },
    "executionInfo": {
     "elapsed": 22,
     "status": "ok",
     "timestamp": 1670516254602,
     "user": {
      "displayName": "francisco strunck",
      "userId": "02683465803792309206"
     },
     "user_tz": 180
    },
    "id": "pdk3u-pBkT51",
    "outputId": "a07ee465-ac40-473e-b8d8-b739cf1525b7"
   },
   "outputs": [
    {
     "data": {
      "text/html": [
       "\n",
       "            <div>\n",
       "                <p><b>SparkSession - in-memory</b></p>\n",
       "                \n",
       "        <div>\n",
       "            <p><b>SparkContext</b></p>\n",
       "\n",
       "            <p><a href=\"http://01c55ff6edc6:4040\">Spark UI</a></p>\n",
       "\n",
       "            <dl>\n",
       "              <dt>Version</dt>\n",
       "                <dd><code>v3.3.1</code></dd>\n",
       "              <dt>Master</dt>\n",
       "                <dd><code>local[*]</code></dd>\n",
       "              <dt>AppName</dt>\n",
       "                <dd><code>Transformacao com Spark</code></dd>\n",
       "            </dl>\n",
       "        </div>\n",
       "        \n",
       "            </div>\n",
       "        "
      ],
      "text/plain": [
       "<pyspark.sql.session.SparkSession at 0x7fac925e8cd0>"
      ]
     },
     "execution_count": 108,
     "metadata": {},
     "output_type": "execute_result"
    }
   ],
   "source": [
    "from pyspark.sql import SparkSession\n",
    "\n",
    "spark = SparkSession.builder \\\n",
    "    .master('local[*]') \\\n",
    "    .appName(\"Regressão com Spark\") \\\n",
    "    .getOrCreate()\n",
    "\n",
    "spark"
   ]
  },
  {
   "cell_type": "code",
   "execution_count": null,
   "id": "u9gEFukwkT2u",
   "metadata": {
    "colab": {
     "base_uri": "https://localhost:8080/"
    },
    "executionInfo": {
     "elapsed": 120069,
     "status": "ok",
     "timestamp": 1670516374650,
     "user": {
      "displayName": "francisco strunck",
      "userId": "02683465803792309206"
     },
     "user_tz": 180
    },
    "id": "u9gEFukwkT2u",
    "outputId": "0a895cec-9781-4b0e-9c0b-ec77e3a609a6"
   },
   "outputs": [
    {
     "name": "stdout",
     "output_type": "stream",
     "text": [
      "--2022-12-08 16:17:31--  https://caelum-online-public.s3.amazonaws.com/challenge-spark/semana-2.zip\n",
      "Resolving caelum-online-public.s3.amazonaws.com (caelum-online-public.s3.amazonaws.com)... 52.217.71.236, 52.217.136.57, 54.231.227.113, ...\n",
      "Connecting to caelum-online-public.s3.amazonaws.com (caelum-online-public.s3.amazonaws.com)|52.217.71.236|:443... connected.\n",
      "HTTP request sent, awaiting response... 200 OK\n",
      "Length: 2763652 (2.6M) [application/zip]\n",
      "Saving to: ‘semana-2.zip.1’\n",
      "\n",
      "semana-2.zip.1      100%[===================>]   2.63M  12.8MB/s    in 0.2s    \n",
      "\n",
      "2022-12-08 16:17:31 (12.8 MB/s) - ‘semana-2.zip.1’ saved [2763652/2763652]\n",
      "\n",
      "Archive:  semana-2.zip\n",
      "replace dados/dataset_transformado_parquet/_SUCCESS? [y]es, [n]o, [A]ll, [N]one, [r]ename: y\n",
      "  inflating: dados/dataset_transformado_parquet/_SUCCESS  \n",
      "replace dados/dataset_transformado_parquet/._SUCCESS.crc? [y]es, [n]o, [A]ll, [N]one, [r]ename: y\n",
      "  inflating: dados/dataset_transformado_parquet/._SUCCESS.crc  \n",
      "replace dados/dataset_transformado_parquet/part-00000-00341ba7-0a7c-4fef-a81e-1066725a64b1-c000.snappy.parquet? [y]es, [n]o, [A]ll, [N]one, [r]ename: y\n",
      "  inflating: dados/dataset_transformado_parquet/part-00000-00341ba7-0a7c-4fef-a81e-1066725a64b1-c000.snappy.parquet  \n",
      "replace dados/dataset_transformado_parquet/.part-00000-00341ba7-0a7c-4fef-a81e-1066725a64b1-c000.snappy.parquet.crc? [y]es, [n]o, [A]ll, [N]one, [r]ename: y\n",
      "  inflating: dados/dataset_transformado_parquet/.part-00000-00341ba7-0a7c-4fef-a81e-1066725a64b1-c000.snappy.parquet.crc  \n"
     ]
    }
   ],
   "source": [
    "!wget 'https://caelum-online-public.s3.amazonaws.com/challenge-spark/semana-2.zip' && unzip semana-2.zip -d dados/"
   ]
  },
  {
   "cell_type": "code",
   "execution_count": null,
   "id": "6VWQrlxAkT0C",
   "metadata": {
    "colab": {
     "base_uri": "https://localhost:8080/"
    },
    "executionInfo": {
     "elapsed": 403,
     "status": "ok",
     "timestamp": 1670516375046,
     "user": {
      "displayName": "francisco strunck",
      "userId": "02683465803792309206"
     },
     "user_tz": 180
    },
    "id": "6VWQrlxAkT0C",
    "outputId": "3a4b239e-baac-47bf-b13e-b220baf7d4b0"
   },
   "outputs": [
    {
     "name": "stdout",
     "output_type": "stream",
     "text": [
      "+--------------------+-----+----------+---------+---------+--------------------+-------+------+------------+------------+-----------+----+--------+----------+----------+----+-----+------+\n",
      "|                  id|andar|area_total|area_util|banheiros|     caracteristicas|quartos|suites|tipo_anuncio|tipo_unidade|   tipo_uso|vaga|  bairro|      zona|condominio|iptu| tipo| valor|\n",
      "+--------------------+-----+----------+---------+---------+--------------------+-------+------+------------+------------+-----------+----+--------+----------+----------+----+-----+------+\n",
      "|03a386b6-7ab8-4ef...|    0|        43|       43|        1|[Churrasqueira, A...|      2|  null|       Usado| Apartamento|Residencial|   1|Realengo|Zona Oeste|       285|null|Venda| 22999|\n",
      "|1fe78d41-b8e0-4d2...|    0|        44|       44|        1|                  []|      2|     0|       Usado| Apartamento|Residencial|   0|   Irajá|Zona Norte|       170|   0|Venda|110000|\n",
      "|1fa1c1e5-e98c-433...|    4|      null|       55|        1|                  []|      2|     0|       Usado| Apartamento|Residencial|   1|  Cosmos|Zona Oeste|      null|null|Venda|115000|\n",
      "+--------------------+-----+----------+---------+---------+--------------------+-------+------+------------+------------+-----------+----+--------+----------+----------+----+-----+------+\n",
      "only showing top 3 rows\n",
      "\n"
     ]
    }
   ],
   "source": [
    "dados = spark.read.parquet(\"dados/dataset_transformado_parquet\")\n",
    "dados.show(3)"
   ]
  },
  {
   "cell_type": "markdown",
   "id": "6Bu4uO2klnJb",
   "metadata": {
    "id": "6Bu4uO2klnJb"
   },
   "source": [
    "# Seleção de features\n",
    "\n",
    "Vamos remover algumas colunas que possuem apenas um único valor. Essas colunas estão dessa forma devido aos filtros que foram realizados na base de dados durante a semana 1."
   ]
  },
  {
   "cell_type": "code",
   "execution_count": null,
   "id": "kAyEc5zpkTyW",
   "metadata": {
    "colab": {
     "base_uri": "https://localhost:8080/"
    },
    "executionInfo": {
     "elapsed": 9449,
     "status": "ok",
     "timestamp": 1670516384493,
     "user": {
      "displayName": "francisco strunck",
      "userId": "02683465803792309206"
     },
     "user_tz": 180
    },
    "id": "kAyEc5zpkTyW",
    "outputId": "cd875350-8626-4b8f-b85b-163fd21a1cf2"
   },
   "outputs": [
    {
     "name": "stdout",
     "output_type": "stream",
     "text": [
      "+--------------------+\n",
      "|                  id|\n",
      "+--------------------+\n",
      "|03a386b6-7ab8-4ef...|\n",
      "|1fe78d41-b8e0-4d2...|\n",
      "|1fa1c1e5-e98c-433...|\n",
      "+--------------------+\n",
      "only showing top 3 rows\n",
      "\n",
      "+-----+\n",
      "|andar|\n",
      "+-----+\n",
      "|   26|\n",
      "|   29|\n",
      "|   19|\n",
      "+-----+\n",
      "only showing top 3 rows\n",
      "\n",
      "+----------+\n",
      "|area_total|\n",
      "+----------+\n",
      "|       296|\n",
      "|       691|\n",
      "|       675|\n",
      "+----------+\n",
      "only showing top 3 rows\n",
      "\n",
      "+---------+\n",
      "|area_util|\n",
      "+---------+\n",
      "|      296|\n",
      "|      675|\n",
      "|      125|\n",
      "+---------+\n",
      "only showing top 3 rows\n",
      "\n",
      "+---------+\n",
      "|banheiros|\n",
      "+---------+\n",
      "|       19|\n",
      "|        7|\n",
      "|        6|\n",
      "+---------+\n",
      "only showing top 3 rows\n",
      "\n",
      "+--------------------+\n",
      "|     caracteristicas|\n",
      "+--------------------+\n",
      "|[Condomínio fecha...|\n",
      "|[Piscina, Elevado...|\n",
      "|[Elevador, Churra...|\n",
      "+--------------------+\n",
      "only showing top 3 rows\n",
      "\n",
      "+-------+\n",
      "|quartos|\n",
      "+-------+\n",
      "|      0|\n",
      "|      7|\n",
      "|      6|\n",
      "+-------+\n",
      "only showing top 3 rows\n",
      "\n",
      "+------+\n",
      "|suites|\n",
      "+------+\n",
      "|     0|\n",
      "|     7|\n",
      "|  null|\n",
      "+------+\n",
      "only showing top 3 rows\n",
      "\n",
      "+------------+\n",
      "|tipo_anuncio|\n",
      "+------------+\n",
      "|       Usado|\n",
      "+------------+\n",
      "\n",
      "+------------+\n",
      "|tipo_unidade|\n",
      "+------------+\n",
      "| Apartamento|\n",
      "+------------+\n",
      "\n",
      "+-----------+\n",
      "|   tipo_uso|\n",
      "+-----------+\n",
      "|Residencial|\n",
      "+-----------+\n",
      "\n",
      "+----+\n",
      "|vaga|\n",
      "+----+\n",
      "|  29|\n",
      "|  19|\n",
      "|   0|\n",
      "+----+\n",
      "only showing top 3 rows\n",
      "\n",
      "+------------+\n",
      "|      bairro|\n",
      "+------------+\n",
      "|      Cocotá|\n",
      "|Tomás Coelho|\n",
      "|       Gávea|\n",
      "+------------+\n",
      "only showing top 3 rows\n",
      "\n",
      "+------------+\n",
      "|        zona|\n",
      "+------------+\n",
      "|  Zona Norte|\n",
      "|  Zona Oeste|\n",
      "|Zona Central|\n",
      "+------------+\n",
      "only showing top 3 rows\n",
      "\n",
      "+----------+\n",
      "|condominio|\n",
      "+----------+\n",
      "|       829|\n",
      "|       691|\n",
      "|       675|\n",
      "+----------+\n",
      "only showing top 3 rows\n",
      "\n",
      "+----+\n",
      "|iptu|\n",
      "+----+\n",
      "|2904|\n",
      "| 467|\n",
      "| 675|\n",
      "+----+\n",
      "only showing top 3 rows\n",
      "\n",
      "+-----+\n",
      "| tipo|\n",
      "+-----+\n",
      "|Venda|\n",
      "+-----+\n",
      "\n",
      "+-------+\n",
      "|  valor|\n",
      "+-------+\n",
      "| 283100|\n",
      "|3099190|\n",
      "| 389999|\n",
      "+-------+\n",
      "only showing top 3 rows\n",
      "\n"
     ]
    }
   ],
   "source": [
    "list_features = ['id', 'andar', 'area_total', 'area_util', 'banheiros', 'caracteristicas', 'quartos', 'suites',\\\n",
    "                 'tipo_anuncio', 'tipo_unidade', 'tipo_uso', 'vaga', 'bairro', 'zona', 'condominio', 'iptu', 'tipo', 'valor']\n",
    "\n",
    "for c in list_features:\n",
    "  dados.select(c).distinct().show(3)"
   ]
  },
  {
   "cell_type": "markdown",
   "id": "VKNDBajxmpCe",
   "metadata": {
    "id": "VKNDBajxmpCe"
   },
   "source": [
    "Pode-se observar que as features tipo_anuncio, tipo_undade, tipo_uso e tipo possuem apenas uma variáve e, portanto, não agregam diferencias na hora do treinamento do modelo de machine learning."
   ]
  },
  {
   "cell_type": "code",
   "execution_count": null,
   "id": "zsCLDRCzkTvL",
   "metadata": {
    "colab": {
     "base_uri": "https://localhost:8080/"
    },
    "executionInfo": {
     "elapsed": 383,
     "status": "ok",
     "timestamp": 1670516384862,
     "user": {
      "displayName": "francisco strunck",
      "userId": "02683465803792309206"
     },
     "user_tz": 180
    },
    "id": "zsCLDRCzkTvL",
    "outputId": "9f8849c0-71b1-45a3-b37f-6ea386f3d514"
   },
   "outputs": [
    {
     "name": "stdout",
     "output_type": "stream",
     "text": [
      "+--------------------+-----+----------+---------+---------+--------------------+-------+------+----+--------+----------+----------+----+------+\n",
      "|                  id|andar|area_total|area_util|banheiros|     caracteristicas|quartos|suites|vaga|  bairro|      zona|condominio|iptu| valor|\n",
      "+--------------------+-----+----------+---------+---------+--------------------+-------+------+----+--------+----------+----------+----+------+\n",
      "|03a386b6-7ab8-4ef...|    0|        43|       43|        1|[Churrasqueira, A...|      2|  null|   1|Realengo|Zona Oeste|       285|null| 22999|\n",
      "|1fe78d41-b8e0-4d2...|    0|        44|       44|        1|                  []|      2|     0|   0|   Irajá|Zona Norte|       170|   0|110000|\n",
      "|1fa1c1e5-e98c-433...|    4|      null|       55|        1|                  []|      2|     0|   1|  Cosmos|Zona Oeste|      null|null|115000|\n",
      "+--------------------+-----+----------+---------+---------+--------------------+-------+------+----+--------+----------+----------+----+------+\n",
      "only showing top 3 rows\n",
      "\n"
     ]
    }
   ],
   "source": [
    "dados.\\\n",
    "    drop(\"tipo_anuncio\", \"tipo_unidade\", \"tipo_uso\", \"tipo\")\\\n",
    "    .show(3)"
   ]
  },
  {
   "cell_type": "code",
   "execution_count": null,
   "id": "DQKaclbMkTsY",
   "metadata": {
    "id": "DQKaclbMkTsY"
   },
   "outputs": [],
   "source": [
    "dados_1 = dados.\\\n",
    "    drop(\"tipo_anuncio\", \"tipo_unidade\", \"tipo_uso\", \"tipo\")"
   ]
  },
  {
   "cell_type": "markdown",
   "id": "eQ37AI75pu7m",
   "metadata": {
    "id": "eQ37AI75pu7m"
   },
   "source": [
    "Alguns imoveis tem o valor de área util igual ao de área total. É necessário arrumar isso."
   ]
  },
  {
   "cell_type": "code",
   "execution_count": null,
   "id": "67St7F0vkTnD",
   "metadata": {
    "colab": {
     "base_uri": "https://localhost:8080/"
    },
    "executionInfo": {
     "elapsed": 245,
     "status": "ok",
     "timestamp": 1670516385105,
     "user": {
      "displayName": "francisco strunck",
      "userId": "02683465803792309206"
     },
     "user_tz": 180
    },
    "id": "67St7F0vkTnD",
    "outputId": "ede164fd-d795-4403-d69b-d3c3a06b6028"
   },
   "outputs": [
    {
     "name": "stdout",
     "output_type": "stream",
     "text": [
      "+----------+---------+\n",
      "|area_total|area_util|\n",
      "+----------+---------+\n",
      "|        43|       43|\n",
      "|        44|       44|\n",
      "|      null|       55|\n",
      "|      null|       55|\n",
      "|      null|       50|\n",
      "+----------+---------+\n",
      "only showing top 5 rows\n",
      "\n"
     ]
    }
   ],
   "source": [
    "dados_1.select(\"area_total\", \"area_util\").show(5)"
   ]
  },
  {
   "cell_type": "code",
   "execution_count": null,
   "id": "IiRJFPmo32Sb",
   "metadata": {
    "id": "IiRJFPmo32Sb"
   },
   "outputs": [],
   "source": [
    "dados_without_null = dados_1\\\n",
    "                        .select('area_util', 'area_total')\\\n",
    "                        .na\\\n",
    "                        .drop()"
   ]
  },
  {
   "cell_type": "code",
   "execution_count": null,
   "id": "uuYsqQVGkTej",
   "metadata": {
    "id": "uuYsqQVGkTej"
   },
   "outputs": [],
   "source": [
    "# Número de todos os dados\n",
    "quantidade_total = dados_without_null.count()\n",
    "# Número de imoveis com valores iguais na area util e area total\n",
    "quantidade_iguais = dados_without_null.filter(f.col('area_util') == f.col('area_total')).count()\n",
    "# Diferença\n",
    "quantidade_distintas = quantidade_total - quantidade_iguais"
   ]
  },
  {
   "cell_type": "code",
   "execution_count": null,
   "id": "J1mKFYa4kTb4",
   "metadata": {
    "colab": {
     "base_uri": "https://localhost:8080/"
    },
    "executionInfo": {
     "elapsed": 11,
     "status": "ok",
     "timestamp": 1670516386775,
     "user": {
      "displayName": "francisco strunck",
      "userId": "02683465803792309206"
     },
     "user_tz": 180
    },
    "id": "J1mKFYa4kTb4",
    "outputId": "ba885bb3-c682-47be-84a2-e62f0cfa7353"
   },
   "outputs": [
    {
     "name": "stdout",
     "output_type": "stream",
     "text": [
      "Quantidade de linhas: 57368\n",
      "Quantidade de linhas com area_util == area_total: 55384\n",
      "Quantidade de linhas diferentes: 1984\n"
     ]
    }
   ],
   "source": [
    "print(f\"Quantidade de linhas: {quantidade_total}\")\n",
    "print(f\"Quantidade de linhas com area_util == area_total: {quantidade_iguais}\")\n",
    "print(f\"Quantidade de linhas diferentes: {quantidade_distintas}\")"
   ]
  },
  {
   "cell_type": "markdown",
   "id": "OoEqAIToqeyM",
   "metadata": {
    "id": "OoEqAIToqeyM"
   },
   "source": [
    "Temos 1984 dados com esse problema. essa forma, temos que a maioria das informações dessas colunas são as mesmas e não é necessário mantermos as duas em nossa base de dados. Para escolhermos qual dessas colunas será removida, vamos analisar a quantidade de dados nulos em cada uma delas.\n",
    "\n",
    "-------------"
   ]
  },
  {
   "cell_type": "code",
   "execution_count": null,
   "id": "EyHHZT6QkTZH",
   "metadata": {
    "colab": {
     "base_uri": "https://localhost:8080/"
    },
    "executionInfo": {
     "elapsed": 685,
     "status": "ok",
     "timestamp": 1670516387454,
     "user": {
      "displayName": "francisco strunck",
      "userId": "02683465803792309206"
     },
     "user_tz": 180
    },
    "id": "EyHHZT6QkTZH",
    "outputId": "81dbeddd-8db7-45c8-f5a0-690896fb0435"
   },
   "outputs": [
    {
     "name": "stdout",
     "output_type": "stream",
     "text": [
      "+----------+---------+\n",
      "|area_total|area_util|\n",
      "+----------+---------+\n",
      "|      9194|        0|\n",
      "+----------+---------+\n",
      "\n"
     ]
    }
   ],
   "source": [
    "colunas = [\"area_total\", \"area_util\"]\n",
    "\n",
    "dados_1\\\n",
    "    .select([f.count(f.when(dados[c].isNull(), True)).alias(c) for c in colunas])\\\n",
    "    .show()"
   ]
  },
  {
   "cell_type": "markdown",
   "id": "1IrszhozrhcO",
   "metadata": {
    "id": "1IrszhozrhcO"
   },
   "source": [
    "Analisando o resultado acima, podemos notar que a coluna \"area_total\" possui 9194 dados nulos, enquanto a coluna \"area_util\" não possui nenhuma. Dessa forma, vamos optar por remover a coluna \"area_total\" da nossa base de dados."
   ]
  },
  {
   "cell_type": "code",
   "execution_count": null,
   "id": "QjoRt4Q-4jw2",
   "metadata": {
    "id": "QjoRt4Q-4jw2"
   },
   "outputs": [],
   "source": [
    "dados_2 = dados_1.\\\n",
    "    drop(\"area_total\")"
   ]
  },
  {
   "cell_type": "code",
   "execution_count": null,
   "id": "b6GUPOlr3PYE",
   "metadata": {
    "colab": {
     "base_uri": "https://localhost:8080/"
    },
    "executionInfo": {
     "elapsed": 1023,
     "status": "ok",
     "timestamp": 1670516388473,
     "user": {
      "displayName": "francisco strunck",
      "userId": "02683465803792309206"
     },
     "user_tz": 180
    },
    "id": "b6GUPOlr3PYE",
    "outputId": "262bd6d9-9747-4960-9ef2-41ca625c7475"
   },
   "outputs": [
    {
     "name": "stdout",
     "output_type": "stream",
     "text": [
      "+--------------------+-----+---------+---------+--------------------+-------+------+----+--------+----------+----------+----+------+\n",
      "|                  id|andar|area_util|banheiros|     caracteristicas|quartos|suites|vaga|  bairro|      zona|condominio|iptu| valor|\n",
      "+--------------------+-----+---------+---------+--------------------+-------+------+----+--------+----------+----------+----+------+\n",
      "|03a386b6-7ab8-4ef...|    0|       43|        1|[Churrasqueira, A...|      2|  null|   1|Realengo|Zona Oeste|       285|null| 22999|\n",
      "|1fe78d41-b8e0-4d2...|    0|       44|        1|                  []|      2|     0|   0|   Irajá|Zona Norte|       170|   0|110000|\n",
      "+--------------------+-----+---------+---------+--------------------+-------+------+----+--------+----------+----------+----+------+\n",
      "only showing top 2 rows\n",
      "\n"
     ]
    }
   ],
   "source": [
    "dados_2.show(2)"
   ]
  },
  {
   "cell_type": "markdown",
   "id": "ZRGkGKKBr0pM",
   "metadata": {
    "id": "ZRGkGKKBr0pM"
   },
   "source": [
    "<h1> Convertendo os tipos das colunas </h1>\n",
    "\n",
    "Ao analisarmos a estrutura da nossa base de dados, vamos notar que os tipos dos dados de cada coluna estão incorretos e por isso é necessário convertê-los.\n",
    "\n",
    "Dessa forma, vamos converter o tipo de colunas numéricas, como \"andar\", \"banheiros\", \"suites\" e \"quartos\" para o tipo inteiro. Além disso vamos converter as colunas \"area_util\", \"condominio\", \"iptu\" e \"valor\" para o tipo double."
   ]
  },
  {
   "cell_type": "code",
   "execution_count": null,
   "id": "fC-xXlvCr7-W",
   "metadata": {
    "colab": {
     "base_uri": "https://localhost:8080/"
    },
    "executionInfo": {
     "elapsed": 20,
     "status": "ok",
     "timestamp": 1670516388473,
     "user": {
      "displayName": "francisco strunck",
      "userId": "02683465803792309206"
     },
     "user_tz": 180
    },
    "id": "fC-xXlvCr7-W",
    "outputId": "06e0d6b5-46cb-4504-f973-dbca47415f78"
   },
   "outputs": [
    {
     "name": "stdout",
     "output_type": "stream",
     "text": [
      "+--------------------+-----+---------+---------+--------------------+-------+------+----+------------+----------+----------+----+------+\n",
      "|                  id|andar|area_util|banheiros|     caracteristicas|quartos|suites|vaga|      bairro|      zona|condominio|iptu| valor|\n",
      "+--------------------+-----+---------+---------+--------------------+-------+------+----+------------+----------+----------+----+------+\n",
      "|03a386b6-7ab8-4ef...|    0|       43|        1|[Churrasqueira, A...|      2|  null|   1|    Realengo|Zona Oeste|       285|null| 22999|\n",
      "|1fe78d41-b8e0-4d2...|    0|       44|        1|                  []|      2|     0|   0|       Irajá|Zona Norte|       170|   0|110000|\n",
      "|1fa1c1e5-e98c-433...|    4|       55|        1|                  []|      2|     0|   1|      Cosmos|Zona Oeste|      null|null|115000|\n",
      "|a6ab01ae-3d40-40e...|    2|       55|        1|                  []|      2|     0|   0|Tomás Coelho|Zona Norte|      null|null|115000|\n",
      "+--------------------+-----+---------+---------+--------------------+-------+------+----+------------+----------+----------+----+------+\n",
      "only showing top 4 rows\n",
      "\n"
     ]
    }
   ],
   "source": [
    "dados_2.show(4)"
   ]
  },
  {
   "cell_type": "code",
   "execution_count": null,
   "id": "ssjPLncBkTS5",
   "metadata": {
    "colab": {
     "base_uri": "https://localhost:8080/"
    },
    "executionInfo": {
     "elapsed": 12,
     "status": "ok",
     "timestamp": 1670516388474,
     "user": {
      "displayName": "francisco strunck",
      "userId": "02683465803792309206"
     },
     "user_tz": 180
    },
    "id": "ssjPLncBkTS5",
    "outputId": "149dfc83-fa33-4aef-e906-54435e980042"
   },
   "outputs": [
    {
     "name": "stdout",
     "output_type": "stream",
     "text": [
      "root\n",
      " |-- id: string (nullable = true)\n",
      " |-- andar: long (nullable = true)\n",
      " |-- area_util: string (nullable = true)\n",
      " |-- banheiros: long (nullable = true)\n",
      " |-- caracteristicas: array (nullable = true)\n",
      " |    |-- element: string (containsNull = true)\n",
      " |-- quartos: long (nullable = true)\n",
      " |-- suites: long (nullable = true)\n",
      " |-- vaga: long (nullable = true)\n",
      " |-- bairro: string (nullable = true)\n",
      " |-- zona: string (nullable = true)\n",
      " |-- condominio: string (nullable = true)\n",
      " |-- iptu: string (nullable = true)\n",
      " |-- valor: string (nullable = true)\n",
      "\n"
     ]
    }
   ],
   "source": [
    "dados_2.printSchema()"
   ]
  },
  {
   "cell_type": "code",
   "execution_count": null,
   "id": "sOf-7VRokTP_",
   "metadata": {
    "id": "sOf-7VRokTP_"
   },
   "outputs": [],
   "source": [
    "from pyspark.sql.types import IntegerType, DoubleType"
   ]
  },
  {
   "cell_type": "markdown",
   "id": "Zpv-YSkm5Leb",
   "metadata": {
    "id": "Zpv-YSkm5Leb"
   },
   "source": [
    "<strong> Para o modelo de ML, deve-se usar variáveis inteiras ou float. </strong>\n",
    "\n",
    "<ol>\n",
    "  <li> andar: long --> integral </li> <br>\n",
    "  <li> *area_util: string --> double* </li>\n",
    "  <li> **etc** </li>\n",
    "</ol>"
   ]
  },
  {
   "cell_type": "code",
   "execution_count": null,
   "id": "8oFIJ0oWkTKE",
   "metadata": {
    "id": "8oFIJ0oWkTKE"
   },
   "outputs": [],
   "source": [
    "dados_3 = dados_2\\\n",
    "    .withColumn('andar', dados['andar'].cast(IntegerType()))\\\n",
    "    .withColumn('area_util', dados['area_util'].cast(DoubleType()))\\\n",
    "    .withColumn('banheiros', dados['banheiros'].cast(IntegerType()))\\\n",
    "    .withColumn('quartos', dados['quartos'].cast(IntegerType()))\\\n",
    "    .withColumn('suites', dados['suites'].cast(IntegerType()))\\\n",
    "    .withColumn('condominio', dados['condominio'].cast(DoubleType()))\\\n",
    "    .withColumn('vaga', dados['vaga'].cast(IntegerType()))\\\n",
    "    .withColumn('iptu', dados['iptu'].cast(DoubleType()))\\\n",
    "    .withColumn('valor', dados['valor'].cast(DoubleType()))"
   ]
  },
  {
   "cell_type": "code",
   "execution_count": null,
   "id": "dhhwlCGKkTHT",
   "metadata": {
    "colab": {
     "base_uri": "https://localhost:8080/"
    },
    "executionInfo": {
     "elapsed": 4,
     "status": "ok",
     "timestamp": 1670516389295,
     "user": {
      "displayName": "francisco strunck",
      "userId": "02683465803792309206"
     },
     "user_tz": 180
    },
    "id": "dhhwlCGKkTHT",
    "outputId": "a87688a1-a855-462f-cf5e-1e14b8f06d6c"
   },
   "outputs": [
    {
     "name": "stdout",
     "output_type": "stream",
     "text": [
      "root\n",
      " |-- id: string (nullable = true)\n",
      " |-- andar: integer (nullable = true)\n",
      " |-- area_util: double (nullable = true)\n",
      " |-- banheiros: integer (nullable = true)\n",
      " |-- caracteristicas: array (nullable = true)\n",
      " |    |-- element: string (containsNull = true)\n",
      " |-- quartos: integer (nullable = true)\n",
      " |-- suites: integer (nullable = true)\n",
      " |-- vaga: integer (nullable = true)\n",
      " |-- bairro: string (nullable = true)\n",
      " |-- zona: string (nullable = true)\n",
      " |-- condominio: double (nullable = true)\n",
      " |-- iptu: double (nullable = true)\n",
      " |-- valor: double (nullable = true)\n",
      "\n"
     ]
    }
   ],
   "source": [
    "dados_3\\\n",
    "    .printSchema()"
   ]
  },
  {
   "cell_type": "markdown",
   "id": "X7DfTOLK758e",
   "metadata": {
    "id": "X7DfTOLK758e"
   },
   "source": [
    "# Tratamento da coluna \"caracteristicas\"\n",
    "\n",
    "A coluna \"caracteristicas\" possui listas de strings como conteúdo de suas linhas. No entanto, algumas dessas listas estão sem elementos.\n",
    "\n",
    "Vamos transformar essas listas sem elementos em valores nulos"
   ]
  },
  {
   "cell_type": "code",
   "execution_count": null,
   "id": "OVsa8By-8ljt",
   "metadata": {
    "colab": {
     "base_uri": "https://localhost:8080/"
    },
    "executionInfo": {
     "elapsed": 1303,
     "status": "ok",
     "timestamp": 1670516390596,
     "user": {
      "displayName": "francisco strunck",
      "userId": "02683465803792309206"
     },
     "user_tz": 180
    },
    "id": "OVsa8By-8ljt",
    "outputId": "ff5e8c78-d6da-4fd8-e8c0-4eec1c2059a7"
   },
   "outputs": [
    {
     "data": {
      "text/plain": [
       "[Row(col='Condomínio fechado'),\n",
       " Row(col='Playground'),\n",
       " Row(col='Portão eletrônico'),\n",
       " Row(col='Piscina'),\n",
       " Row(col='Animais permitidos'),\n",
       " Row(col='Portaria 24h'),\n",
       " Row(col='Elevador'),\n",
       " Row(col='Academia'),\n",
       " Row(col='Salão de festas'),\n",
       " Row(col='Churrasqueira')]"
      ]
     },
     "execution_count": 126,
     "metadata": {},
     "output_type": "execute_result"
    }
   ],
   "source": [
    "dados_3.select(f.explode('caracteristicas')).distinct().collect()"
   ]
  },
  {
   "cell_type": "code",
   "execution_count": null,
   "id": "SFMx2nq8kTBs",
   "metadata": {
    "colab": {
     "base_uri": "https://localhost:8080/",
     "height": 580
    },
    "executionInfo": {
     "elapsed": 720,
     "status": "ok",
     "timestamp": 1670516391311,
     "user": {
      "displayName": "francisco strunck",
      "userId": "02683465803792309206"
     },
     "user_tz": 180
    },
    "id": "SFMx2nq8kTBs",
    "outputId": "b7044e30-3e71-4170-c504-04ada235977d"
   },
   "outputs": [
    {
     "data": {
      "text/html": [
       "\n",
       "  <div id=\"df-b69c5141-05cc-4535-b8a9-a125949488a4\">\n",
       "    <div class=\"colab-df-container\">\n",
       "      <div>\n",
       "<style scoped>\n",
       "    .dataframe tbody tr th:only-of-type {\n",
       "        vertical-align: middle;\n",
       "    }\n",
       "\n",
       "    .dataframe tbody tr th {\n",
       "        vertical-align: top;\n",
       "    }\n",
       "\n",
       "    .dataframe thead th {\n",
       "        text-align: right;\n",
       "    }\n",
       "</style>\n",
       "<table border=\"1\" class=\"dataframe\">\n",
       "  <thead>\n",
       "    <tr style=\"text-align: right;\">\n",
       "      <th></th>\n",
       "      <th>id</th>\n",
       "      <th>andar</th>\n",
       "      <th>area_util</th>\n",
       "      <th>banheiros</th>\n",
       "      <th>caracteristicas</th>\n",
       "      <th>quartos</th>\n",
       "      <th>suites</th>\n",
       "      <th>vaga</th>\n",
       "      <th>bairro</th>\n",
       "      <th>zona</th>\n",
       "      <th>condominio</th>\n",
       "      <th>iptu</th>\n",
       "      <th>valor</th>\n",
       "    </tr>\n",
       "  </thead>\n",
       "  <tbody>\n",
       "    <tr>\n",
       "      <th>0</th>\n",
       "      <td>03a386b6-7ab8-4eff-891d-f8a16efc1989</td>\n",
       "      <td>0</td>\n",
       "      <td>43.0</td>\n",
       "      <td>1</td>\n",
       "      <td>[Churrasqueira, Academia, Playground, Salão de...</td>\n",
       "      <td>2</td>\n",
       "      <td>NaN</td>\n",
       "      <td>1</td>\n",
       "      <td>Realengo</td>\n",
       "      <td>Zona Oeste</td>\n",
       "      <td>285.0</td>\n",
       "      <td>NaN</td>\n",
       "      <td>22999.0</td>\n",
       "    </tr>\n",
       "    <tr>\n",
       "      <th>1</th>\n",
       "      <td>1fe78d41-b8e0-4d21-a1a8-72cb7863f441</td>\n",
       "      <td>0</td>\n",
       "      <td>44.0</td>\n",
       "      <td>1</td>\n",
       "      <td>[]</td>\n",
       "      <td>2</td>\n",
       "      <td>0.0</td>\n",
       "      <td>0</td>\n",
       "      <td>Irajá</td>\n",
       "      <td>Zona Norte</td>\n",
       "      <td>170.0</td>\n",
       "      <td>0.0</td>\n",
       "      <td>110000.0</td>\n",
       "    </tr>\n",
       "    <tr>\n",
       "      <th>2</th>\n",
       "      <td>1fa1c1e5-e98c-433f-9675-1b43d7d6da01</td>\n",
       "      <td>4</td>\n",
       "      <td>55.0</td>\n",
       "      <td>1</td>\n",
       "      <td>[]</td>\n",
       "      <td>2</td>\n",
       "      <td>0.0</td>\n",
       "      <td>1</td>\n",
       "      <td>Cosmos</td>\n",
       "      <td>Zona Oeste</td>\n",
       "      <td>NaN</td>\n",
       "      <td>NaN</td>\n",
       "      <td>115000.0</td>\n",
       "    </tr>\n",
       "    <tr>\n",
       "      <th>3</th>\n",
       "      <td>a6ab01ae-3d40-40e7-bb6a-f2334e0abbe0</td>\n",
       "      <td>2</td>\n",
       "      <td>55.0</td>\n",
       "      <td>1</td>\n",
       "      <td>[]</td>\n",
       "      <td>2</td>\n",
       "      <td>0.0</td>\n",
       "      <td>0</td>\n",
       "      <td>Tomás Coelho</td>\n",
       "      <td>Zona Norte</td>\n",
       "      <td>NaN</td>\n",
       "      <td>NaN</td>\n",
       "      <td>115000.0</td>\n",
       "    </tr>\n",
       "    <tr>\n",
       "      <th>4</th>\n",
       "      <td>1d8ff7a2-16bd-4e3f-a92e-1b85f923ebb0</td>\n",
       "      <td>0</td>\n",
       "      <td>50.0</td>\n",
       "      <td>1</td>\n",
       "      <td>[]</td>\n",
       "      <td>1</td>\n",
       "      <td>NaN</td>\n",
       "      <td>0</td>\n",
       "      <td>Centro</td>\n",
       "      <td>Zona Central</td>\n",
       "      <td>1300.0</td>\n",
       "      <td>2679.0</td>\n",
       "      <td>125000.0</td>\n",
       "    </tr>\n",
       "    <tr>\n",
       "      <th>5</th>\n",
       "      <td>40a2cbde-946b-42da-b7f2-b80057c7a47f</td>\n",
       "      <td>2</td>\n",
       "      <td>47.0</td>\n",
       "      <td>1</td>\n",
       "      <td>[Condomínio fechado, Portaria 24h, Salão de fe...</td>\n",
       "      <td>2</td>\n",
       "      <td>0.0</td>\n",
       "      <td>1</td>\n",
       "      <td>Campo Grande</td>\n",
       "      <td>Zona Oeste</td>\n",
       "      <td>380.0</td>\n",
       "      <td>NaN</td>\n",
       "      <td>138000.0</td>\n",
       "    </tr>\n",
       "    <tr>\n",
       "      <th>6</th>\n",
       "      <td>be269ddf-a4a3-4a72-bd54-93cdccf512dd</td>\n",
       "      <td>0</td>\n",
       "      <td>45.0</td>\n",
       "      <td>1</td>\n",
       "      <td>[Churrasqueira, Condomínio fechado, Piscina]</td>\n",
       "      <td>2</td>\n",
       "      <td>0.0</td>\n",
       "      <td>1</td>\n",
       "      <td>Campo Grande</td>\n",
       "      <td>Zona Oeste</td>\n",
       "      <td>356.0</td>\n",
       "      <td>0.0</td>\n",
       "      <td>140000.0</td>\n",
       "    </tr>\n",
       "    <tr>\n",
       "      <th>7</th>\n",
       "      <td>4b7e3d59-34fd-4bac-9232-1015cb3b3a24</td>\n",
       "      <td>3</td>\n",
       "      <td>48.0</td>\n",
       "      <td>1</td>\n",
       "      <td>[Churrasqueira, Piscina, Playground, Salão de ...</td>\n",
       "      <td>2</td>\n",
       "      <td>NaN</td>\n",
       "      <td>1</td>\n",
       "      <td>Campo Grande</td>\n",
       "      <td>Zona Oeste</td>\n",
       "      <td>0.0</td>\n",
       "      <td>0.0</td>\n",
       "      <td>150000.0</td>\n",
       "    </tr>\n",
       "    <tr>\n",
       "      <th>8</th>\n",
       "      <td>a1a0c2ac-4fa8-4b02-a087-f9d76b6bccb7</td>\n",
       "      <td>9</td>\n",
       "      <td>55.0</td>\n",
       "      <td>1</td>\n",
       "      <td>[Churrasqueira, Elevador, Salão de festas, Con...</td>\n",
       "      <td>2</td>\n",
       "      <td>NaN</td>\n",
       "      <td>1</td>\n",
       "      <td>Freguesia (Jacarepaguá)</td>\n",
       "      <td>Zona Oeste</td>\n",
       "      <td>780.0</td>\n",
       "      <td>660.0</td>\n",
       "      <td>160000.0</td>\n",
       "    </tr>\n",
       "    <tr>\n",
       "      <th>9</th>\n",
       "      <td>390d2b88-e06d-47e5-ba7f-a680130ac5f0</td>\n",
       "      <td>0</td>\n",
       "      <td>70.0</td>\n",
       "      <td>2</td>\n",
       "      <td>[Salão de festas]</td>\n",
       "      <td>2</td>\n",
       "      <td>0.0</td>\n",
       "      <td>1</td>\n",
       "      <td>Praça Seca</td>\n",
       "      <td>Zona Oeste</td>\n",
       "      <td>420000.0</td>\n",
       "      <td>NaN</td>\n",
       "      <td>159000.0</td>\n",
       "    </tr>\n",
       "  </tbody>\n",
       "</table>\n",
       "</div>\n",
       "      <button class=\"colab-df-convert\" onclick=\"convertToInteractive('df-b69c5141-05cc-4535-b8a9-a125949488a4')\"\n",
       "              title=\"Convert this dataframe to an interactive table.\"\n",
       "              style=\"display:none;\">\n",
       "        \n",
       "  <svg xmlns=\"http://www.w3.org/2000/svg\" height=\"24px\"viewBox=\"0 0 24 24\"\n",
       "       width=\"24px\">\n",
       "    <path d=\"M0 0h24v24H0V0z\" fill=\"none\"/>\n",
       "    <path d=\"M18.56 5.44l.94 2.06.94-2.06 2.06-.94-2.06-.94-.94-2.06-.94 2.06-2.06.94zm-11 1L8.5 8.5l.94-2.06 2.06-.94-2.06-.94L8.5 2.5l-.94 2.06-2.06.94zm10 10l.94 2.06.94-2.06 2.06-.94-2.06-.94-.94-2.06-.94 2.06-2.06.94z\"/><path d=\"M17.41 7.96l-1.37-1.37c-.4-.4-.92-.59-1.43-.59-.52 0-1.04.2-1.43.59L10.3 9.45l-7.72 7.72c-.78.78-.78 2.05 0 2.83L4 21.41c.39.39.9.59 1.41.59.51 0 1.02-.2 1.41-.59l7.78-7.78 2.81-2.81c.8-.78.8-2.07 0-2.86zM5.41 20L4 18.59l7.72-7.72 1.47 1.35L5.41 20z\"/>\n",
       "  </svg>\n",
       "      </button>\n",
       "      \n",
       "  <style>\n",
       "    .colab-df-container {\n",
       "      display:flex;\n",
       "      flex-wrap:wrap;\n",
       "      gap: 12px;\n",
       "    }\n",
       "\n",
       "    .colab-df-convert {\n",
       "      background-color: #E8F0FE;\n",
       "      border: none;\n",
       "      border-radius: 50%;\n",
       "      cursor: pointer;\n",
       "      display: none;\n",
       "      fill: #1967D2;\n",
       "      height: 32px;\n",
       "      padding: 0 0 0 0;\n",
       "      width: 32px;\n",
       "    }\n",
       "\n",
       "    .colab-df-convert:hover {\n",
       "      background-color: #E2EBFA;\n",
       "      box-shadow: 0px 1px 2px rgba(60, 64, 67, 0.3), 0px 1px 3px 1px rgba(60, 64, 67, 0.15);\n",
       "      fill: #174EA6;\n",
       "    }\n",
       "\n",
       "    [theme=dark] .colab-df-convert {\n",
       "      background-color: #3B4455;\n",
       "      fill: #D2E3FC;\n",
       "    }\n",
       "\n",
       "    [theme=dark] .colab-df-convert:hover {\n",
       "      background-color: #434B5C;\n",
       "      box-shadow: 0px 1px 3px 1px rgba(0, 0, 0, 0.15);\n",
       "      filter: drop-shadow(0px 1px 2px rgba(0, 0, 0, 0.3));\n",
       "      fill: #FFFFFF;\n",
       "    }\n",
       "  </style>\n",
       "\n",
       "      <script>\n",
       "        const buttonEl =\n",
       "          document.querySelector('#df-b69c5141-05cc-4535-b8a9-a125949488a4 button.colab-df-convert');\n",
       "        buttonEl.style.display =\n",
       "          google.colab.kernel.accessAllowed ? 'block' : 'none';\n",
       "\n",
       "        async function convertToInteractive(key) {\n",
       "          const element = document.querySelector('#df-b69c5141-05cc-4535-b8a9-a125949488a4');\n",
       "          const dataTable =\n",
       "            await google.colab.kernel.invokeFunction('convertToInteractive',\n",
       "                                                     [key], {});\n",
       "          if (!dataTable) return;\n",
       "\n",
       "          const docLinkHtml = 'Like what you see? Visit the ' +\n",
       "            '<a target=\"_blank\" href=https://colab.research.google.com/notebooks/data_table.ipynb>data table notebook</a>'\n",
       "            + ' to learn more about interactive tables.';\n",
       "          element.innerHTML = '';\n",
       "          dataTable['output_type'] = 'display_data';\n",
       "          await google.colab.output.renderOutput(dataTable, element);\n",
       "          const docLink = document.createElement('div');\n",
       "          docLink.innerHTML = docLinkHtml;\n",
       "          element.appendChild(docLink);\n",
       "        }\n",
       "      </script>\n",
       "    </div>\n",
       "  </div>\n",
       "  "
      ],
      "text/plain": [
       "                                     id  andar  area_util  banheiros  \\\n",
       "0  03a386b6-7ab8-4eff-891d-f8a16efc1989      0       43.0          1   \n",
       "1  1fe78d41-b8e0-4d21-a1a8-72cb7863f441      0       44.0          1   \n",
       "2  1fa1c1e5-e98c-433f-9675-1b43d7d6da01      4       55.0          1   \n",
       "3  a6ab01ae-3d40-40e7-bb6a-f2334e0abbe0      2       55.0          1   \n",
       "4  1d8ff7a2-16bd-4e3f-a92e-1b85f923ebb0      0       50.0          1   \n",
       "5  40a2cbde-946b-42da-b7f2-b80057c7a47f      2       47.0          1   \n",
       "6  be269ddf-a4a3-4a72-bd54-93cdccf512dd      0       45.0          1   \n",
       "7  4b7e3d59-34fd-4bac-9232-1015cb3b3a24      3       48.0          1   \n",
       "8  a1a0c2ac-4fa8-4b02-a087-f9d76b6bccb7      9       55.0          1   \n",
       "9  390d2b88-e06d-47e5-ba7f-a680130ac5f0      0       70.0          2   \n",
       "\n",
       "                                     caracteristicas  quartos  suites  vaga  \\\n",
       "0  [Churrasqueira, Academia, Playground, Salão de...        2     NaN     1   \n",
       "1                                                 []        2     0.0     0   \n",
       "2                                                 []        2     0.0     1   \n",
       "3                                                 []        2     0.0     0   \n",
       "4                                                 []        1     NaN     0   \n",
       "5  [Condomínio fechado, Portaria 24h, Salão de fe...        2     0.0     1   \n",
       "6       [Churrasqueira, Condomínio fechado, Piscina]        2     0.0     1   \n",
       "7  [Churrasqueira, Piscina, Playground, Salão de ...        2     NaN     1   \n",
       "8  [Churrasqueira, Elevador, Salão de festas, Con...        2     NaN     1   \n",
       "9                                  [Salão de festas]        2     0.0     1   \n",
       "\n",
       "                    bairro          zona  condominio    iptu     valor  \n",
       "0                 Realengo    Zona Oeste       285.0     NaN   22999.0  \n",
       "1                    Irajá    Zona Norte       170.0     0.0  110000.0  \n",
       "2                   Cosmos    Zona Oeste         NaN     NaN  115000.0  \n",
       "3             Tomás Coelho    Zona Norte         NaN     NaN  115000.0  \n",
       "4                   Centro  Zona Central      1300.0  2679.0  125000.0  \n",
       "5             Campo Grande    Zona Oeste       380.0     NaN  138000.0  \n",
       "6             Campo Grande    Zona Oeste       356.0     0.0  140000.0  \n",
       "7             Campo Grande    Zona Oeste         0.0     0.0  150000.0  \n",
       "8  Freguesia (Jacarepaguá)    Zona Oeste       780.0   660.0  160000.0  \n",
       "9               Praça Seca    Zona Oeste    420000.0     NaN  159000.0  "
      ]
     },
     "execution_count": 127,
     "metadata": {},
     "output_type": "execute_result"
    }
   ],
   "source": [
    "dados_3.limit(6).toPandas()"
   ]
  },
  {
   "cell_type": "markdown",
   "id": "RcsB5MyF-fnO",
   "metadata": {
    "id": "RcsB5MyF-fnO"
   },
   "source": [
    "Trocando **vazio** para **None**"
   ]
  },
  {
   "cell_type": "code",
   "execution_count": null,
   "id": "cvfpN9PUkS-3",
   "metadata": {
    "colab": {
     "base_uri": "https://localhost:8080/",
     "height": 580
    },
    "executionInfo": {
     "elapsed": 424,
     "status": "ok",
     "timestamp": 1670516391733,
     "user": {
      "displayName": "francisco strunck",
      "userId": "02683465803792309206"
     },
     "user_tz": 180
    },
    "id": "cvfpN9PUkS-3",
    "outputId": "54f857da-76ef-4c1f-a2c4-c5f6f7aaec4d"
   },
   "outputs": [
    {
     "data": {
      "text/html": [
       "\n",
       "  <div id=\"df-be98425c-6f8c-42cd-bc6e-8af26279b329\">\n",
       "    <div class=\"colab-df-container\">\n",
       "      <div>\n",
       "<style scoped>\n",
       "    .dataframe tbody tr th:only-of-type {\n",
       "        vertical-align: middle;\n",
       "    }\n",
       "\n",
       "    .dataframe tbody tr th {\n",
       "        vertical-align: top;\n",
       "    }\n",
       "\n",
       "    .dataframe thead th {\n",
       "        text-align: right;\n",
       "    }\n",
       "</style>\n",
       "<table border=\"1\" class=\"dataframe\">\n",
       "  <thead>\n",
       "    <tr style=\"text-align: right;\">\n",
       "      <th></th>\n",
       "      <th>id</th>\n",
       "      <th>andar</th>\n",
       "      <th>area_util</th>\n",
       "      <th>banheiros</th>\n",
       "      <th>caracteristicas</th>\n",
       "      <th>quartos</th>\n",
       "      <th>suites</th>\n",
       "      <th>vaga</th>\n",
       "      <th>bairro</th>\n",
       "      <th>zona</th>\n",
       "      <th>condominio</th>\n",
       "      <th>iptu</th>\n",
       "      <th>valor</th>\n",
       "    </tr>\n",
       "  </thead>\n",
       "  <tbody>\n",
       "    <tr>\n",
       "      <th>0</th>\n",
       "      <td>03a386b6-7ab8-4eff-891d-f8a16efc1989</td>\n",
       "      <td>0</td>\n",
       "      <td>43.0</td>\n",
       "      <td>1</td>\n",
       "      <td>[Churrasqueira, Academia, Playground, Salão de...</td>\n",
       "      <td>2</td>\n",
       "      <td>NaN</td>\n",
       "      <td>1</td>\n",
       "      <td>Realengo</td>\n",
       "      <td>Zona Oeste</td>\n",
       "      <td>285.0</td>\n",
       "      <td>NaN</td>\n",
       "      <td>22999.0</td>\n",
       "    </tr>\n",
       "    <tr>\n",
       "      <th>1</th>\n",
       "      <td>1fe78d41-b8e0-4d21-a1a8-72cb7863f441</td>\n",
       "      <td>0</td>\n",
       "      <td>44.0</td>\n",
       "      <td>1</td>\n",
       "      <td>None</td>\n",
       "      <td>2</td>\n",
       "      <td>0.0</td>\n",
       "      <td>0</td>\n",
       "      <td>Irajá</td>\n",
       "      <td>Zona Norte</td>\n",
       "      <td>170.0</td>\n",
       "      <td>0.0</td>\n",
       "      <td>110000.0</td>\n",
       "    </tr>\n",
       "    <tr>\n",
       "      <th>2</th>\n",
       "      <td>1fa1c1e5-e98c-433f-9675-1b43d7d6da01</td>\n",
       "      <td>4</td>\n",
       "      <td>55.0</td>\n",
       "      <td>1</td>\n",
       "      <td>None</td>\n",
       "      <td>2</td>\n",
       "      <td>0.0</td>\n",
       "      <td>1</td>\n",
       "      <td>Cosmos</td>\n",
       "      <td>Zona Oeste</td>\n",
       "      <td>NaN</td>\n",
       "      <td>NaN</td>\n",
       "      <td>115000.0</td>\n",
       "    </tr>\n",
       "    <tr>\n",
       "      <th>3</th>\n",
       "      <td>a6ab01ae-3d40-40e7-bb6a-f2334e0abbe0</td>\n",
       "      <td>2</td>\n",
       "      <td>55.0</td>\n",
       "      <td>1</td>\n",
       "      <td>None</td>\n",
       "      <td>2</td>\n",
       "      <td>0.0</td>\n",
       "      <td>0</td>\n",
       "      <td>Tomás Coelho</td>\n",
       "      <td>Zona Norte</td>\n",
       "      <td>NaN</td>\n",
       "      <td>NaN</td>\n",
       "      <td>115000.0</td>\n",
       "    </tr>\n",
       "    <tr>\n",
       "      <th>4</th>\n",
       "      <td>1d8ff7a2-16bd-4e3f-a92e-1b85f923ebb0</td>\n",
       "      <td>0</td>\n",
       "      <td>50.0</td>\n",
       "      <td>1</td>\n",
       "      <td>None</td>\n",
       "      <td>1</td>\n",
       "      <td>NaN</td>\n",
       "      <td>0</td>\n",
       "      <td>Centro</td>\n",
       "      <td>Zona Central</td>\n",
       "      <td>1300.0</td>\n",
       "      <td>2679.0</td>\n",
       "      <td>125000.0</td>\n",
       "    </tr>\n",
       "    <tr>\n",
       "      <th>5</th>\n",
       "      <td>40a2cbde-946b-42da-b7f2-b80057c7a47f</td>\n",
       "      <td>2</td>\n",
       "      <td>47.0</td>\n",
       "      <td>1</td>\n",
       "      <td>[Condomínio fechado, Portaria 24h, Salão de fe...</td>\n",
       "      <td>2</td>\n",
       "      <td>0.0</td>\n",
       "      <td>1</td>\n",
       "      <td>Campo Grande</td>\n",
       "      <td>Zona Oeste</td>\n",
       "      <td>380.0</td>\n",
       "      <td>NaN</td>\n",
       "      <td>138000.0</td>\n",
       "    </tr>\n",
       "    <tr>\n",
       "      <th>6</th>\n",
       "      <td>be269ddf-a4a3-4a72-bd54-93cdccf512dd</td>\n",
       "      <td>0</td>\n",
       "      <td>45.0</td>\n",
       "      <td>1</td>\n",
       "      <td>[Churrasqueira, Condomínio fechado, Piscina]</td>\n",
       "      <td>2</td>\n",
       "      <td>0.0</td>\n",
       "      <td>1</td>\n",
       "      <td>Campo Grande</td>\n",
       "      <td>Zona Oeste</td>\n",
       "      <td>356.0</td>\n",
       "      <td>0.0</td>\n",
       "      <td>140000.0</td>\n",
       "    </tr>\n",
       "    <tr>\n",
       "      <th>7</th>\n",
       "      <td>4b7e3d59-34fd-4bac-9232-1015cb3b3a24</td>\n",
       "      <td>3</td>\n",
       "      <td>48.0</td>\n",
       "      <td>1</td>\n",
       "      <td>[Churrasqueira, Piscina, Playground, Salão de ...</td>\n",
       "      <td>2</td>\n",
       "      <td>NaN</td>\n",
       "      <td>1</td>\n",
       "      <td>Campo Grande</td>\n",
       "      <td>Zona Oeste</td>\n",
       "      <td>0.0</td>\n",
       "      <td>0.0</td>\n",
       "      <td>150000.0</td>\n",
       "    </tr>\n",
       "    <tr>\n",
       "      <th>8</th>\n",
       "      <td>a1a0c2ac-4fa8-4b02-a087-f9d76b6bccb7</td>\n",
       "      <td>9</td>\n",
       "      <td>55.0</td>\n",
       "      <td>1</td>\n",
       "      <td>[Churrasqueira, Elevador, Salão de festas, Con...</td>\n",
       "      <td>2</td>\n",
       "      <td>NaN</td>\n",
       "      <td>1</td>\n",
       "      <td>Freguesia (Jacarepaguá)</td>\n",
       "      <td>Zona Oeste</td>\n",
       "      <td>780.0</td>\n",
       "      <td>660.0</td>\n",
       "      <td>160000.0</td>\n",
       "    </tr>\n",
       "    <tr>\n",
       "      <th>9</th>\n",
       "      <td>390d2b88-e06d-47e5-ba7f-a680130ac5f0</td>\n",
       "      <td>0</td>\n",
       "      <td>70.0</td>\n",
       "      <td>2</td>\n",
       "      <td>[Salão de festas]</td>\n",
       "      <td>2</td>\n",
       "      <td>0.0</td>\n",
       "      <td>1</td>\n",
       "      <td>Praça Seca</td>\n",
       "      <td>Zona Oeste</td>\n",
       "      <td>420000.0</td>\n",
       "      <td>NaN</td>\n",
       "      <td>159000.0</td>\n",
       "    </tr>\n",
       "  </tbody>\n",
       "</table>\n",
       "</div>\n",
       "      <button class=\"colab-df-convert\" onclick=\"convertToInteractive('df-be98425c-6f8c-42cd-bc6e-8af26279b329')\"\n",
       "              title=\"Convert this dataframe to an interactive table.\"\n",
       "              style=\"display:none;\">\n",
       "        \n",
       "  <svg xmlns=\"http://www.w3.org/2000/svg\" height=\"24px\"viewBox=\"0 0 24 24\"\n",
       "       width=\"24px\">\n",
       "    <path d=\"M0 0h24v24H0V0z\" fill=\"none\"/>\n",
       "    <path d=\"M18.56 5.44l.94 2.06.94-2.06 2.06-.94-2.06-.94-.94-2.06-.94 2.06-2.06.94zm-11 1L8.5 8.5l.94-2.06 2.06-.94-2.06-.94L8.5 2.5l-.94 2.06-2.06.94zm10 10l.94 2.06.94-2.06 2.06-.94-2.06-.94-.94-2.06-.94 2.06-2.06.94z\"/><path d=\"M17.41 7.96l-1.37-1.37c-.4-.4-.92-.59-1.43-.59-.52 0-1.04.2-1.43.59L10.3 9.45l-7.72 7.72c-.78.78-.78 2.05 0 2.83L4 21.41c.39.39.9.59 1.41.59.51 0 1.02-.2 1.41-.59l7.78-7.78 2.81-2.81c.8-.78.8-2.07 0-2.86zM5.41 20L4 18.59l7.72-7.72 1.47 1.35L5.41 20z\"/>\n",
       "  </svg>\n",
       "      </button>\n",
       "      \n",
       "  <style>\n",
       "    .colab-df-container {\n",
       "      display:flex;\n",
       "      flex-wrap:wrap;\n",
       "      gap: 12px;\n",
       "    }\n",
       "\n",
       "    .colab-df-convert {\n",
       "      background-color: #E8F0FE;\n",
       "      border: none;\n",
       "      border-radius: 50%;\n",
       "      cursor: pointer;\n",
       "      display: none;\n",
       "      fill: #1967D2;\n",
       "      height: 32px;\n",
       "      padding: 0 0 0 0;\n",
       "      width: 32px;\n",
       "    }\n",
       "\n",
       "    .colab-df-convert:hover {\n",
       "      background-color: #E2EBFA;\n",
       "      box-shadow: 0px 1px 2px rgba(60, 64, 67, 0.3), 0px 1px 3px 1px rgba(60, 64, 67, 0.15);\n",
       "      fill: #174EA6;\n",
       "    }\n",
       "\n",
       "    [theme=dark] .colab-df-convert {\n",
       "      background-color: #3B4455;\n",
       "      fill: #D2E3FC;\n",
       "    }\n",
       "\n",
       "    [theme=dark] .colab-df-convert:hover {\n",
       "      background-color: #434B5C;\n",
       "      box-shadow: 0px 1px 3px 1px rgba(0, 0, 0, 0.15);\n",
       "      filter: drop-shadow(0px 1px 2px rgba(0, 0, 0, 0.3));\n",
       "      fill: #FFFFFF;\n",
       "    }\n",
       "  </style>\n",
       "\n",
       "      <script>\n",
       "        const buttonEl =\n",
       "          document.querySelector('#df-be98425c-6f8c-42cd-bc6e-8af26279b329 button.colab-df-convert');\n",
       "        buttonEl.style.display =\n",
       "          google.colab.kernel.accessAllowed ? 'block' : 'none';\n",
       "\n",
       "        async function convertToInteractive(key) {\n",
       "          const element = document.querySelector('#df-be98425c-6f8c-42cd-bc6e-8af26279b329');\n",
       "          const dataTable =\n",
       "            await google.colab.kernel.invokeFunction('convertToInteractive',\n",
       "                                                     [key], {});\n",
       "          if (!dataTable) return;\n",
       "\n",
       "          const docLinkHtml = 'Like what you see? Visit the ' +\n",
       "            '<a target=\"_blank\" href=https://colab.research.google.com/notebooks/data_table.ipynb>data table notebook</a>'\n",
       "            + ' to learn more about interactive tables.';\n",
       "          element.innerHTML = '';\n",
       "          dataTable['output_type'] = 'display_data';\n",
       "          await google.colab.output.renderOutput(dataTable, element);\n",
       "          const docLink = document.createElement('div');\n",
       "          docLink.innerHTML = docLinkHtml;\n",
       "          element.appendChild(docLink);\n",
       "        }\n",
       "      </script>\n",
       "    </div>\n",
       "  </div>\n",
       "  "
      ],
      "text/plain": [
       "                                     id  andar  area_util  banheiros  \\\n",
       "0  03a386b6-7ab8-4eff-891d-f8a16efc1989      0       43.0          1   \n",
       "1  1fe78d41-b8e0-4d21-a1a8-72cb7863f441      0       44.0          1   \n",
       "2  1fa1c1e5-e98c-433f-9675-1b43d7d6da01      4       55.0          1   \n",
       "3  a6ab01ae-3d40-40e7-bb6a-f2334e0abbe0      2       55.0          1   \n",
       "4  1d8ff7a2-16bd-4e3f-a92e-1b85f923ebb0      0       50.0          1   \n",
       "5  40a2cbde-946b-42da-b7f2-b80057c7a47f      2       47.0          1   \n",
       "6  be269ddf-a4a3-4a72-bd54-93cdccf512dd      0       45.0          1   \n",
       "7  4b7e3d59-34fd-4bac-9232-1015cb3b3a24      3       48.0          1   \n",
       "8  a1a0c2ac-4fa8-4b02-a087-f9d76b6bccb7      9       55.0          1   \n",
       "9  390d2b88-e06d-47e5-ba7f-a680130ac5f0      0       70.0          2   \n",
       "\n",
       "                                     caracteristicas  quartos  suites  vaga  \\\n",
       "0  [Churrasqueira, Academia, Playground, Salão de...        2     NaN     1   \n",
       "1                                               None        2     0.0     0   \n",
       "2                                               None        2     0.0     1   \n",
       "3                                               None        2     0.0     0   \n",
       "4                                               None        1     NaN     0   \n",
       "5  [Condomínio fechado, Portaria 24h, Salão de fe...        2     0.0     1   \n",
       "6       [Churrasqueira, Condomínio fechado, Piscina]        2     0.0     1   \n",
       "7  [Churrasqueira, Piscina, Playground, Salão de ...        2     NaN     1   \n",
       "8  [Churrasqueira, Elevador, Salão de festas, Con...        2     NaN     1   \n",
       "9                                  [Salão de festas]        2     0.0     1   \n",
       "\n",
       "                    bairro          zona  condominio    iptu     valor  \n",
       "0                 Realengo    Zona Oeste       285.0     NaN   22999.0  \n",
       "1                    Irajá    Zona Norte       170.0     0.0  110000.0  \n",
       "2                   Cosmos    Zona Oeste         NaN     NaN  115000.0  \n",
       "3             Tomás Coelho    Zona Norte         NaN     NaN  115000.0  \n",
       "4                   Centro  Zona Central      1300.0  2679.0  125000.0  \n",
       "5             Campo Grande    Zona Oeste       380.0     NaN  138000.0  \n",
       "6             Campo Grande    Zona Oeste       356.0     0.0  140000.0  \n",
       "7             Campo Grande    Zona Oeste         0.0     0.0  150000.0  \n",
       "8  Freguesia (Jacarepaguá)    Zona Oeste       780.0   660.0  160000.0  \n",
       "9               Praça Seca    Zona Oeste    420000.0     NaN  159000.0  "
      ]
     },
     "execution_count": 128,
     "metadata": {},
     "output_type": "execute_result"
    }
   ],
   "source": [
    "dados_4 = dados_3.withColumn('caracteristicas', f.when((f.size(f.col('caracteristicas')) == 0), f.lit(None)).otherwise(f.col('caracteristicas')))\n",
    "dados_4.limit(6).toPandas()"
   ]
  },
  {
   "cell_type": "markdown",
   "id": "H48RpNkm-k6R",
   "metadata": {
    "id": "H48RpNkm-k6R"
   },
   "source": [
    "-----------------------------------\n",
    "\n",
    "# Tratando dados faltantes\n",
    "\n",
    "Ao analisarmos a estrutura da nossa base de dados, vamos notar que ela possui diversos dados faltantes. Dessa maneira, é importante lidarmos com isso pois modelos de Machine Learning não costumam trabalhar corretamente com dados nulos.\n",
    "\n",
    "Vamos começar analisando a quantidade de dados nulos em cada uma das nossas colunas\n",
    "\n",
    "Existem diferentes maneiras de contabilizar a quantidade de dados nulos utilizando PySpark. Nas próximas células, vamos apresentar 3 soluções diferentes, sendo que a terceira delas não abrange a coluna caracteristicas"
   ]
  },
  {
   "cell_type": "code",
   "execution_count": null,
   "id": "_lhaIYce-kr4",
   "metadata": {
    "colab": {
     "base_uri": "https://localhost:8080/"
    },
    "executionInfo": {
     "elapsed": 5865,
     "status": "ok",
     "timestamp": 1670516397592,
     "user": {
      "displayName": "francisco strunck",
      "userId": "02683465803792309206"
     },
     "user_tz": 180
    },
    "id": "_lhaIYce-kr4",
    "outputId": "3bda04dc-83f3-42ad-8ab4-23460add1931"
   },
   "outputs": [
    {
     "data": {
      "text/plain": [
       "{'id': 0,\n",
       " 'andar': 0,\n",
       " 'area_util': 0,\n",
       " 'banheiros': 0,\n",
       " 'caracteristicas': 12736,\n",
       " 'quartos': 0,\n",
       " 'suites': 5554,\n",
       " 'vaga': 3017,\n",
       " 'bairro': 0,\n",
       " 'zona': 0,\n",
       " 'condominio': 2371,\n",
       " 'iptu': 7199,\n",
       " 'valor': 0}"
      ]
     },
     "execution_count": 129,
     "metadata": {},
     "output_type": "execute_result"
    }
   ],
   "source": [
    "# Solução 01\n",
    "\n",
    "dicionarios_nulos = {col:dados_4.filter(dados_4[col].isNull()).count() for col in dados_4.columns}\n",
    "dicionarios_nulos"
   ]
  },
  {
   "cell_type": "code",
   "execution_count": null,
   "id": "-osCSBu2kS8J",
   "metadata": {
    "colab": {
     "base_uri": "https://localhost:8080/"
    },
    "executionInfo": {
     "elapsed": 3271,
     "status": "ok",
     "timestamp": 1670516400855,
     "user": {
      "displayName": "francisco strunck",
      "userId": "02683465803792309206"
     },
     "user_tz": 180
    },
    "id": "-osCSBu2kS8J",
    "outputId": "2c7db341-35b6-4e6c-da60-1add577331f4"
   },
   "outputs": [
    {
     "name": "stdout",
     "output_type": "stream",
     "text": [
      "+---+-----+---------+---------+---------------+-------+------+----+------+----+----------+----+-----+\n",
      "| id|andar|area_util|banheiros|caracteristicas|quartos|suites|vaga|bairro|zona|condominio|iptu|valor|\n",
      "+---+-----+---------+---------+---------------+-------+------+----+------+----+----------+----+-----+\n",
      "|  0|    0|        0|        0|          12736|      0|  5554|3017|     0|   0|      2371|7199|    0|\n",
      "+---+-----+---------+---------+---------------+-------+------+----+------+----+----------+----+-----+\n",
      "\n"
     ]
    }
   ],
   "source": [
    "# Solução 02\n",
    "\n",
    "dados_4\\\n",
    "    .select([f.count(f.when(dados_4[c].isNull(), True)).alias(c) for c in dados_4.columns])\\\n",
    "    .show()"
   ]
  },
  {
   "cell_type": "code",
   "execution_count": null,
   "id": "_AeDMckdkS5P",
   "metadata": {
    "colab": {
     "base_uri": "https://localhost:8080/"
    },
    "executionInfo": {
     "elapsed": 6075,
     "status": "ok",
     "timestamp": 1670516406921,
     "user": {
      "displayName": "francisco strunck",
      "userId": "02683465803792309206"
     },
     "user_tz": 180
    },
    "id": "_AeDMckdkS5P",
    "outputId": "7b83b31c-91ae-43b5-ef31-5cda3f3a4903"
   },
   "outputs": [
    {
     "name": "stdout",
     "output_type": "stream",
     "text": [
      "+---+-----+---------+---------+-------+------+----+------+----+----------+----+-----+\n",
      "| id|andar|area_util|banheiros|quartos|suites|vaga|bairro|zona|condominio|iptu|valor|\n",
      "+---+-----+---------+---------+-------+------+----+------+----+----------+----+-----+\n",
      "|  0|    0|        0|        0|      0|  5554|3017|     0|   0|      2371|7199|    0|\n",
      "+---+-----+---------+---------+-------+------+----+------+----+----------+----+-----+\n",
      "\n"
     ]
    }
   ],
   "source": [
    "# Solução 03 - sem a coluna \"caracteristicas\"\n",
    "\n",
    "dados_4\\\n",
    "    .select([f.count(f.when(f.isnan(c) | f.isnull(c), True)).alias(c) for c in dados_4.columns if c != 'caracteristicas' ])\\\n",
    "    .show()"
   ]
  },
  {
   "cell_type": "markdown",
   "id": "zwqO3IjuD73x",
   "metadata": {
    "id": "zwqO3IjuD73x"
   },
   "source": [
    "\n",
    "Para lidarmos com os dados nulos das colunas numéricas, optamos por substituí-los pelo número 0."
   ]
  },
  {
   "cell_type": "code",
   "execution_count": null,
   "id": "UG2Qrp1CkS2g",
   "metadata": {
    "colab": {
     "base_uri": "https://localhost:8080/"
    },
    "executionInfo": {
     "elapsed": 1009,
     "status": "ok",
     "timestamp": 1670516407920,
     "user": {
      "displayName": "francisco strunck",
      "userId": "02683465803792309206"
     },
     "user_tz": 180
    },
    "id": "UG2Qrp1CkS2g",
    "outputId": "e32d653f-97ef-47dd-8247-70f7c24aa83d"
   },
   "outputs": [
    {
     "name": "stdout",
     "output_type": "stream",
     "text": [
      "+--------------------+-----+---------+---------+--------------------+-------+------+----+--------------------+------------+----------+------+--------+\n",
      "|                  id|andar|area_util|banheiros|     caracteristicas|quartos|suites|vaga|              bairro|        zona|condominio|  iptu|   valor|\n",
      "+--------------------+-----+---------+---------+--------------------+-------+------+----+--------------------+------------+----------+------+--------+\n",
      "|03a386b6-7ab8-4ef...|    0|     43.0|        1|[Churrasqueira, A...|      2|     0|   1|            Realengo|  Zona Oeste|     285.0|   0.0| 22999.0|\n",
      "|1fe78d41-b8e0-4d2...|    0|     44.0|        1|                null|      2|     0|   0|               Irajá|  Zona Norte|     170.0|   0.0|110000.0|\n",
      "|1fa1c1e5-e98c-433...|    4|     55.0|        1|                null|      2|     0|   1|              Cosmos|  Zona Oeste|       0.0|   0.0|115000.0|\n",
      "|a6ab01ae-3d40-40e...|    2|     55.0|        1|                null|      2|     0|   0|        Tomás Coelho|  Zona Norte|       0.0|   0.0|115000.0|\n",
      "|1d8ff7a2-16bd-4e3...|    0|     50.0|        1|                null|      1|     0|   0|              Centro|Zona Central|    1300.0|2679.0|125000.0|\n",
      "|40a2cbde-946b-42d...|    2|     47.0|        1|[Condomínio fecha...|      2|     0|   1|        Campo Grande|  Zona Oeste|     380.0|   0.0|138000.0|\n",
      "|be269ddf-a4a3-4a7...|    0|     45.0|        1|[Churrasqueira, C...|      2|     0|   1|        Campo Grande|  Zona Oeste|     356.0|   0.0|140000.0|\n",
      "|4b7e3d59-34fd-4ba...|    3|     48.0|        1|[Churrasqueira, P...|      2|     0|   1|        Campo Grande|  Zona Oeste|       0.0|   0.0|150000.0|\n",
      "|a1a0c2ac-4fa8-4b0...|    9|     55.0|        1|[Churrasqueira, E...|      2|     0|   1|Freguesia (Jacare...|  Zona Oeste|     780.0| 660.0|160000.0|\n",
      "|390d2b88-e06d-47e...|    0|     70.0|        2|   [Salão de festas]|      2|     0|   1|          Praça Seca|  Zona Oeste|  420000.0|   0.0|159000.0|\n",
      "|07bb07c1-21cc-4da...|    2|     48.0|        1|[Condomínio fecha...|      1|     0|   0|             Piedade|  Zona Norte|      10.0|  10.0|170000.0|\n",
      "|7d3a1bae-988c-44b...|    5|     40.0|        1|[Playground, Chur...|      2|     0|   1|        Braz de Pina|  Zona Norte|     150.0| 120.0|189000.0|\n",
      "|47af17f0-1c81-474...|    0|     65.0|        1|                null|      2|     0|   1|            Campinho|  Zona Oeste|     432.0|   0.0|185000.0|\n",
      "|a9bd1575-e9f2-43d...|    2|     50.0|        1|[Condomínio fecha...|      1|     0|   1|           Madureira|  Zona Norte|     650.0|   1.0|185000.0|\n",
      "|cfca7253-3d02-4cd...|    5|     45.0|        1|[Academia, Churra...|      2|     1|   0|             Taquara|  Zona Oeste|     150.0|  40.0|199000.0|\n",
      "|b571ae97-e3d8-4fb...|    0|     48.0|        1|[Academia, Condom...|      2|     0|   0|          Bonsucesso|  Zona Norte|       0.0|   0.0|205933.0|\n",
      "|eb5fdc65-acae-45f...|    0|     44.0|        1|[Academia, Condom...|      2|     0|   0|          Bonsucesso|  Zona Norte|       0.0|   0.0|206000.0|\n",
      "|77cd0388-e3ff-40c...|    2|     64.0|        1|                null|      2|     0|   0|      Jardim América|  Zona Norte|       0.0|   0.0|220000.0|\n",
      "|74a91f07-7387-4a8...|    0|     55.0|        2|[Salão de festas,...|      1|     0|   1|        Engenho Novo|  Zona Norte|     600.0| 652.0|219130.0|\n",
      "|6aab1165-508d-455...|    3|     60.0|        1|[Animais permitidos]|      3|     0|   1|           Cascadura|  Zona Norte|      98.0|   1.0|230000.0|\n",
      "+--------------------+-----+---------+---------+--------------------+-------+------+----+--------------------+------------+----------+------+--------+\n",
      "only showing top 20 rows\n",
      "\n"
     ]
    }
   ],
   "source": [
    "dados_4\\\n",
    "    .select('*')\\\n",
    "    .na\\\n",
    "    .fill(0)\\\n",
    "    .show(6)"
   ]
  },
  {
   "cell_type": "code",
   "execution_count": null,
   "id": "KBU-1D_BkSz8",
   "metadata": {
    "id": "KBU-1D_BkSz8"
   },
   "outputs": [],
   "source": [
    "dados_4 = dados_4\\\n",
    "    .select('*')\\\n",
    "    .na\\\n",
    "    .fill(0)"
   ]
  },
  {
   "cell_type": "markdown",
   "id": "r8MsWpJ8Lvh5",
   "metadata": {
    "id": "r8MsWpJ8Lvh5"
   },
   "source": [
    "Nesse momento não vamos nos preocupar em tratar os dados nulos da coluna \"caracteristicas\". Faremos isso mais a frente quando formos realizar a preparação dos nossos dados para o modelo de Machine Learning.\n",
    "\n",
    "Outra coluna que devemos nos atentar é a zona. Ao verificarmos os dados únicos dessa coluna, vamos notar que existe uma string vazia como conteúdo dessa coluna."
   ]
  },
  {
   "cell_type": "code",
   "execution_count": null,
   "id": "jBCT0OzGkSwx",
   "metadata": {
    "colab": {
     "base_uri": "https://localhost:8080/"
    },
    "executionInfo": {
     "elapsed": 1030,
     "status": "ok",
     "timestamp": 1670516408946,
     "user": {
      "displayName": "francisco strunck",
      "userId": "02683465803792309206"
     },
     "user_tz": 180
    },
    "id": "jBCT0OzGkSwx",
    "outputId": "283ea64a-7aa4-4383-b4de-af200b43c068"
   },
   "outputs": [
    {
     "name": "stdout",
     "output_type": "stream",
     "text": [
      "+------------+-----+\n",
      "|        zona|count|\n",
      "+------------+-----+\n",
      "|  Zona Oeste|32979|\n",
      "|    Zona Sul|20531|\n",
      "|  Zona Norte|11897|\n",
      "|Zona Central| 1144|\n",
      "|            |   11|\n",
      "+------------+-----+\n",
      "\n"
     ]
    }
   ],
   "source": [
    "dados_4\\\n",
    "    .select('zona')\\\n",
    "    .groupBy('zona')\\\n",
    "    .count()\\\n",
    "    .orderBy(['count'], ascending=False)\\\n",
    "    .show()"
   ]
  },
  {
   "cell_type": "markdown",
   "id": "CELJNAfxMLn3",
   "metadata": {
    "id": "CELJNAfxMLn3"
   },
   "source": [
    "Podemos notar que apenas 11 das linhas da nossa base de dados possui essa string vazia. Sendo assim, podemos desconsiderar essas linhas da nossa base de dados."
   ]
  },
  {
   "cell_type": "code",
   "execution_count": null,
   "id": "mNiMxdYIkSuK",
   "metadata": {
    "id": "mNiMxdYIkSuK"
   },
   "outputs": [],
   "source": [
    "dados_4 = dados_4\\\n",
    "    .where(f.col('zona') != '')"
   ]
  },
  {
   "cell_type": "code",
   "execution_count": null,
   "id": "B5gCcj8NkSrP",
   "metadata": {
    "colab": {
     "base_uri": "https://localhost:8080/"
    },
    "executionInfo": {
     "elapsed": 1018,
     "status": "ok",
     "timestamp": 1670516409961,
     "user": {
      "displayName": "francisco strunck",
      "userId": "02683465803792309206"
     },
     "user_tz": 180
    },
    "id": "B5gCcj8NkSrP",
    "outputId": "e8f5cdd9-432a-4613-d340-f206b5aba18f"
   },
   "outputs": [
    {
     "name": "stdout",
     "output_type": "stream",
     "text": [
      "+--------------------+-----+---------+---------+--------------------+-------+------+----+------------+------------+----------+------+--------+\n",
      "|                  id|andar|area_util|banheiros|     caracteristicas|quartos|suites|vaga|      bairro|        zona|condominio|  iptu|   valor|\n",
      "+--------------------+-----+---------+---------+--------------------+-------+------+----+------------+------------+----------+------+--------+\n",
      "|03a386b6-7ab8-4ef...|    0|     43.0|        1|[Churrasqueira, A...|      2|     0|   1|    Realengo|  Zona Oeste|     285.0|   0.0| 22999.0|\n",
      "|1fe78d41-b8e0-4d2...|    0|     44.0|        1|                null|      2|     0|   0|       Irajá|  Zona Norte|     170.0|   0.0|110000.0|\n",
      "|1fa1c1e5-e98c-433...|    4|     55.0|        1|                null|      2|     0|   1|      Cosmos|  Zona Oeste|       0.0|   0.0|115000.0|\n",
      "|a6ab01ae-3d40-40e...|    2|     55.0|        1|                null|      2|     0|   0|Tomás Coelho|  Zona Norte|       0.0|   0.0|115000.0|\n",
      "|1d8ff7a2-16bd-4e3...|    0|     50.0|        1|                null|      1|     0|   0|      Centro|Zona Central|    1300.0|2679.0|125000.0|\n",
      "|40a2cbde-946b-42d...|    2|     47.0|        1|[Condomínio fecha...|      2|     0|   1|Campo Grande|  Zona Oeste|     380.0|   0.0|138000.0|\n",
      "+--------------------+-----+---------+---------+--------------------+-------+------+----+------------+------------+----------+------+--------+\n",
      "only showing top 6 rows\n",
      "\n"
     ]
    }
   ],
   "source": [
    "dados_4.show(6)"
   ]
  },
  {
   "cell_type": "markdown",
   "id": "9WxcgiwCMads",
   "metadata": {
    "id": "9WxcgiwCMads"
   },
   "source": [
    "# Preparação dos dados para ML\n",
    "\n",
    "Documentação da Biblioteca Pyspark ML\n",
    "\n",
    "Para conseguirmos utilizar nossos dados em modelos de Machine Learning, é necessário realizarmos algumas técnicas, como a transformação de variáveis categóricas em binárias.\n",
    "\n",
    "Além disso, no caso de modelos do PySpark nós também utilizaremos a técnica de vetorização dos dados.\n",
    "\n",
    "# Variáveis Dummy\n",
    "\n",
    "Esse processo consiste em transformar as variáveis categóricas em binárias. Precisamos realizar isso, pois modelos de regressão não conseguem lidar com variáveis textuais."
   ]
  },
  {
   "cell_type": "code",
   "execution_count": null,
   "id": "9c5ZsmrFkSoK",
   "metadata": {
    "colab": {
     "base_uri": "https://localhost:8080/"
    },
    "executionInfo": {
     "elapsed": 6,
     "status": "ok",
     "timestamp": 1670516409961,
     "user": {
      "displayName": "francisco strunck",
      "userId": "02683465803792309206"
     },
     "user_tz": 180
    },
    "id": "9c5ZsmrFkSoK",
    "outputId": "f73f2c31-b582-4fca-ccc4-8f88275390df"
   },
   "outputs": [
    {
     "name": "stdout",
     "output_type": "stream",
     "text": [
      "root\n",
      " |-- id: string (nullable = true)\n",
      " |-- andar: integer (nullable = true)\n",
      " |-- area_util: double (nullable = false)\n",
      " |-- banheiros: integer (nullable = true)\n",
      " |-- caracteristicas: array (nullable = true)\n",
      " |    |-- element: string (containsNull = true)\n",
      " |-- quartos: integer (nullable = true)\n",
      " |-- suites: integer (nullable = true)\n",
      " |-- vaga: integer (nullable = true)\n",
      " |-- bairro: string (nullable = true)\n",
      " |-- zona: string (nullable = true)\n",
      " |-- condominio: double (nullable = false)\n",
      " |-- iptu: double (nullable = false)\n",
      " |-- valor: double (nullable = false)\n",
      "\n"
     ]
    }
   ],
   "source": [
    "dados_4.printSchema()"
   ]
  },
  {
   "cell_type": "code",
   "execution_count": null,
   "id": "KePNXdffMyTV",
   "metadata": {
    "colab": {
     "base_uri": "https://localhost:8080/"
    },
    "executionInfo": {
     "elapsed": 1043,
     "status": "ok",
     "timestamp": 1670516411001,
     "user": {
      "displayName": "francisco strunck",
      "userId": "02683465803792309206"
     },
     "user_tz": 180
    },
    "id": "KePNXdffMyTV",
    "outputId": "2cfcb9bc-906b-4577-aef5-96b5a606c07b"
   },
   "outputs": [
    {
     "name": "stdout",
     "output_type": "stream",
     "text": [
      "+--------------------+-----+---------+---------+--------------------+-------+------+----+--------------------+------------+----------+------+--------+\n",
      "|                  id|andar|area_util|banheiros|     caracteristicas|quartos|suites|vaga|              bairro|        zona|condominio|  iptu|   valor|\n",
      "+--------------------+-----+---------+---------+--------------------+-------+------+----+--------------------+------------+----------+------+--------+\n",
      "|03a386b6-7ab8-4ef...|    0|     43.0|        1|[Churrasqueira, A...|      2|     0|   1|            Realengo|  Zona Oeste|     285.0|   0.0| 22999.0|\n",
      "|1fe78d41-b8e0-4d2...|    0|     44.0|        1|                null|      2|     0|   0|               Irajá|  Zona Norte|     170.0|   0.0|110000.0|\n",
      "|1fa1c1e5-e98c-433...|    4|     55.0|        1|                null|      2|     0|   1|              Cosmos|  Zona Oeste|       0.0|   0.0|115000.0|\n",
      "|a6ab01ae-3d40-40e...|    2|     55.0|        1|                null|      2|     0|   0|        Tomás Coelho|  Zona Norte|       0.0|   0.0|115000.0|\n",
      "|1d8ff7a2-16bd-4e3...|    0|     50.0|        1|                null|      1|     0|   0|              Centro|Zona Central|    1300.0|2679.0|125000.0|\n",
      "|40a2cbde-946b-42d...|    2|     47.0|        1|[Condomínio fecha...|      2|     0|   1|        Campo Grande|  Zona Oeste|     380.0|   0.0|138000.0|\n",
      "|be269ddf-a4a3-4a7...|    0|     45.0|        1|[Churrasqueira, C...|      2|     0|   1|        Campo Grande|  Zona Oeste|     356.0|   0.0|140000.0|\n",
      "|4b7e3d59-34fd-4ba...|    3|     48.0|        1|[Churrasqueira, P...|      2|     0|   1|        Campo Grande|  Zona Oeste|       0.0|   0.0|150000.0|\n",
      "|a1a0c2ac-4fa8-4b0...|    9|     55.0|        1|[Churrasqueira, E...|      2|     0|   1|Freguesia (Jacare...|  Zona Oeste|     780.0| 660.0|160000.0|\n",
      "|390d2b88-e06d-47e...|    0|     70.0|        2|   [Salão de festas]|      2|     0|   1|          Praça Seca|  Zona Oeste|  420000.0|   0.0|159000.0|\n",
      "+--------------------+-----+---------+---------+--------------------+-------+------+----+--------------------+------------+----------+------+--------+\n",
      "only showing top 10 rows\n",
      "\n"
     ]
    }
   ],
   "source": [
    "dados_4.show(10)"
   ]
  },
  {
   "cell_type": "markdown",
   "id": "emJygLxkNst8",
   "metadata": {
    "id": "emJygLxkNst8"
   },
   "source": [
    "**explode()** – PySpark explode array ou mapeia colunas para linhas\n",
    "A função explode(e: Column) do PySpark é usada para explodir ou criar matrizes ou mapear colunas para linhas. Quando um array é passado para esta função, ela cria uma nova coluna padrão “col1” e contém todos os elementos do array. Quando um mapa é passado, ele cria duas novas colunas, uma para chave e outra para valor, e cada elemento no mapa é dividido em linhas."
   ]
  },
  {
   "cell_type": "code",
   "execution_count": null,
   "id": "fFJEdYP5kSlg",
   "metadata": {
    "colab": {
     "base_uri": "https://localhost:8080/"
    },
    "executionInfo": {
     "elapsed": 503,
     "status": "ok",
     "timestamp": 1670516411498,
     "user": {
      "displayName": "francisco strunck",
      "userId": "02683465803792309206"
     },
     "user_tz": 180
    },
    "id": "fFJEdYP5kSlg",
    "outputId": "9cbff940-78c6-487b-a3c6-89d9fc87bc09"
   },
   "outputs": [
    {
     "name": "stdout",
     "output_type": "stream",
     "text": [
      "+--------------------+-----+---------+---------+--------------------+-------+------+----+------------+----------+----------+----+--------+------------------+\n",
      "|                  id|andar|area_util|banheiros|     caracteristicas|quartos|suites|vaga|      bairro|      zona|condominio|iptu|   valor|    caracteristica|\n",
      "+--------------------+-----+---------+---------+--------------------+-------+------+----+------------+----------+----------+----+--------+------------------+\n",
      "|03a386b6-7ab8-4ef...|    0|     43.0|        1|[Churrasqueira, A...|      2|     0|   1|    Realengo|Zona Oeste|     285.0| 0.0| 22999.0|     Churrasqueira|\n",
      "|03a386b6-7ab8-4ef...|    0|     43.0|        1|[Churrasqueira, A...|      2|     0|   1|    Realengo|Zona Oeste|     285.0| 0.0| 22999.0|          Academia|\n",
      "|03a386b6-7ab8-4ef...|    0|     43.0|        1|[Churrasqueira, A...|      2|     0|   1|    Realengo|Zona Oeste|     285.0| 0.0| 22999.0|        Playground|\n",
      "|03a386b6-7ab8-4ef...|    0|     43.0|        1|[Churrasqueira, A...|      2|     0|   1|    Realengo|Zona Oeste|     285.0| 0.0| 22999.0|   Salão de festas|\n",
      "|03a386b6-7ab8-4ef...|    0|     43.0|        1|[Churrasqueira, A...|      2|     0|   1|    Realengo|Zona Oeste|     285.0| 0.0| 22999.0|Condomínio fechado|\n",
      "|03a386b6-7ab8-4ef...|    0|     43.0|        1|[Churrasqueira, A...|      2|     0|   1|    Realengo|Zona Oeste|     285.0| 0.0| 22999.0| Portão eletrônico|\n",
      "|03a386b6-7ab8-4ef...|    0|     43.0|        1|[Churrasqueira, A...|      2|     0|   1|    Realengo|Zona Oeste|     285.0| 0.0| 22999.0|      Portaria 24h|\n",
      "|03a386b6-7ab8-4ef...|    0|     43.0|        1|[Churrasqueira, A...|      2|     0|   1|    Realengo|Zona Oeste|     285.0| 0.0| 22999.0|Animais permitidos|\n",
      "|40a2cbde-946b-42d...|    2|     47.0|        1|[Condomínio fecha...|      2|     0|   1|Campo Grande|Zona Oeste|     380.0| 0.0|138000.0|Condomínio fechado|\n",
      "|40a2cbde-946b-42d...|    2|     47.0|        1|[Condomínio fecha...|      2|     0|   1|Campo Grande|Zona Oeste|     380.0| 0.0|138000.0|      Portaria 24h|\n",
      "|40a2cbde-946b-42d...|    2|     47.0|        1|[Condomínio fecha...|      2|     0|   1|Campo Grande|Zona Oeste|     380.0| 0.0|138000.0|   Salão de festas|\n",
      "|40a2cbde-946b-42d...|    2|     47.0|        1|[Condomínio fecha...|      2|     0|   1|Campo Grande|Zona Oeste|     380.0| 0.0|138000.0|     Churrasqueira|\n",
      "|40a2cbde-946b-42d...|    2|     47.0|        1|[Condomínio fecha...|      2|     0|   1|Campo Grande|Zona Oeste|     380.0| 0.0|138000.0|           Piscina|\n",
      "|40a2cbde-946b-42d...|    2|     47.0|        1|[Condomínio fecha...|      2|     0|   1|Campo Grande|Zona Oeste|     380.0| 0.0|138000.0|Animais permitidos|\n",
      "|be269ddf-a4a3-4a7...|    0|     45.0|        1|[Churrasqueira, C...|      2|     0|   1|Campo Grande|Zona Oeste|     356.0| 0.0|140000.0|     Churrasqueira|\n",
      "|be269ddf-a4a3-4a7...|    0|     45.0|        1|[Churrasqueira, C...|      2|     0|   1|Campo Grande|Zona Oeste|     356.0| 0.0|140000.0|Condomínio fechado|\n",
      "|be269ddf-a4a3-4a7...|    0|     45.0|        1|[Churrasqueira, C...|      2|     0|   1|Campo Grande|Zona Oeste|     356.0| 0.0|140000.0|           Piscina|\n",
      "|4b7e3d59-34fd-4ba...|    3|     48.0|        1|[Churrasqueira, P...|      2|     0|   1|Campo Grande|Zona Oeste|       0.0| 0.0|150000.0|     Churrasqueira|\n",
      "|4b7e3d59-34fd-4ba...|    3|     48.0|        1|[Churrasqueira, P...|      2|     0|   1|Campo Grande|Zona Oeste|       0.0| 0.0|150000.0|           Piscina|\n",
      "|4b7e3d59-34fd-4ba...|    3|     48.0|        1|[Churrasqueira, P...|      2|     0|   1|Campo Grande|Zona Oeste|       0.0| 0.0|150000.0|        Playground|\n",
      "+--------------------+-----+---------+---------+--------------------+-------+------+----+------------+----------+----------+----+--------+------------------+\n",
      "only showing top 20 rows\n",
      "\n"
     ]
    }
   ],
   "source": [
    "dados_4.select(\"*\", f.explode(\"caracteristicas\").alias(\"caracteristica\")).show()"
   ]
  },
  {
   "cell_type": "markdown",
   "id": "-RbI5aUoOBwe",
   "metadata": {
    "id": "-RbI5aUoOBwe"
   },
   "source": [
    "Vamos transformar cada uma das características da coluna caracteristicas em colunas separadas. Assim, nas linhas que possuírem a característica vamos preencher com o valor \"1\" e caso contrário vamos colocar o valor \"0\""
   ]
  },
  {
   "cell_type": "markdown",
   "id": "aJoGtHtWPI0e",
   "metadata": {
    "id": "aJoGtHtWPI0e"
   },
   "source": [
    "PySpark pivot() function is used to rotate/transpose the data from one column into multiple Dataframe columns and back using unpivot(). Pivot() It is an aggregation where one of the grouping columns values is transposed into individual columns with distinct data.\n",
    "\n",
    "This tutorial describes and provides a PySpark example on how to create a Pivot table on DataFrame and Unpivot back."
   ]
  },
  {
   "cell_type": "code",
   "execution_count": null,
   "id": "NlFJoAc0PT15",
   "metadata": {
    "colab": {
     "base_uri": "https://localhost:8080/"
    },
    "executionInfo": {
     "elapsed": 2628,
     "status": "ok",
     "timestamp": 1670516414123,
     "user": {
      "displayName": "francisco strunck",
      "userId": "02683465803792309206"
     },
     "user_tz": 180
    },
    "id": "NlFJoAc0PT15",
    "outputId": "1785f7c8-c14b-4a32-fd8b-8edaff0d8e56"
   },
   "outputs": [
    {
     "name": "stdout",
     "output_type": "stream",
     "text": [
      "+--------------------+-----+\n",
      "|                  id|count|\n",
      "+--------------------+-----+\n",
      "|03a386b6-7ab8-4ef...|    8|\n",
      "|40a2cbde-946b-42d...|    6|\n",
      "|be269ddf-a4a3-4a7...|    3|\n",
      "|4b7e3d59-34fd-4ba...|    8|\n",
      "|a1a0c2ac-4fa8-4b0...|    7|\n",
      "+--------------------+-----+\n",
      "only showing top 5 rows\n",
      "\n"
     ]
    }
   ],
   "source": [
    "dados_4\\\n",
    "    .select(\"*\", f.explode(\"caracteristicas\")\\\n",
    "    .alias(\"cara\"))\\\n",
    "    .groupBy(\"id\")\\\n",
    "    .count()\\\n",
    "    .show(5)"
   ]
  },
  {
   "cell_type": "code",
   "execution_count": null,
   "id": "ULXcvS7gQV2T",
   "metadata": {
    "colab": {
     "base_uri": "https://localhost:8080/"
    },
    "executionInfo": {
     "elapsed": 7793,
     "status": "ok",
     "timestamp": 1670516421906,
     "user": {
      "displayName": "francisco strunck",
      "userId": "02683465803792309206"
     },
     "user_tz": 180
    },
    "id": "ULXcvS7gQV2T",
    "outputId": "064df33a-1893-4b62-c91a-52de3b51e5a1"
   },
   "outputs": [
    {
     "name": "stdout",
     "output_type": "stream",
     "text": [
      "+--------------------+--------+------------------+-------------+------------------+--------+-------+----------+------------+-----------------+---------------+\n",
      "|                  id|Academia|Animais permitidos|Churrasqueira|Condomínio fechado|Elevador|Piscina|Playground|Portaria 24h|Portão eletrônico|Salão de festas|\n",
      "+--------------------+--------+------------------+-------------+------------------+--------+-------+----------+------------+-----------------+---------------+\n",
      "|fd96bbd5-d631-416...|       1|                 1|            1|                 1|       1|      1|         1|           1|                1|              1|\n",
      "|bfffedfe-99e7-4ae...|    null|                 1|            1|                 1|       1|   null|         1|        null|                1|              1|\n",
      "|fcb67af3-5601-415...|       1|                 1|            1|              null|    null|      1|         1|        null|             null|              1|\n",
      "|afecddff-f4cc-4ab...|       1|                 1|            1|                 1|       1|      1|         1|           1|                1|              1|\n",
      "|1bbc40f3-4f5c-459...|       1|              null|         null|                 1|       1|      1|         1|           1|                1|              1|\n",
      "+--------------------+--------+------------------+-------------+------------------+--------+-------+----------+------------+-----------------+---------------+\n",
      "only showing top 5 rows\n",
      "\n"
     ]
    }
   ],
   "source": [
    "dados_4\\\n",
    "    .select(\"*\", f.explode(\"caracteristicas\")\\\n",
    "    .alias(\"cara\"))\\\n",
    "    .groupBy(\"id\")\\\n",
    "    .pivot('cara')\\\n",
    "    .count()\\\n",
    "    .show(5)"
   ]
  },
  {
   "cell_type": "code",
   "execution_count": null,
   "id": "C1LFDGnRQ1UM",
   "metadata": {
    "colab": {
     "base_uri": "https://localhost:8080/"
    },
    "executionInfo": {
     "elapsed": 4529,
     "status": "ok",
     "timestamp": 1670516426422,
     "user": {
      "displayName": "francisco strunck",
      "userId": "02683465803792309206"
     },
     "user_tz": 180
    },
    "id": "C1LFDGnRQ1UM",
    "outputId": "bfc3cdb0-3845-43a6-86e1-cc61d39ee886"
   },
   "outputs": [
    {
     "name": "stdout",
     "output_type": "stream",
     "text": [
      "+--------------------+--------+------------------+-------------+------------------+--------+-------+----------+------------+-----------------+---------------+\n",
      "|                  id|Academia|Animais permitidos|Churrasqueira|Condomínio fechado|Elevador|Piscina|Playground|Portaria 24h|Portão eletrônico|Salão de festas|\n",
      "+--------------------+--------+------------------+-------------+------------------+--------+-------+----------+------------+-----------------+---------------+\n",
      "|fd96bbd5-d631-416...|       1|                 1|            1|                 1|       1|      1|         1|           1|                1|              1|\n",
      "|bfffedfe-99e7-4ae...|       0|                 1|            1|                 1|       1|      0|         1|           0|                1|              1|\n",
      "|fcb67af3-5601-415...|       1|                 1|            1|                 0|       0|      1|         1|           0|                0|              1|\n",
      "|afecddff-f4cc-4ab...|       1|                 1|            1|                 1|       1|      1|         1|           1|                1|              1|\n",
      "|1bbc40f3-4f5c-459...|       1|                 0|            0|                 1|       1|      1|         1|           1|                1|              1|\n",
      "+--------------------+--------+------------------+-------------+------------------+--------+-------+----------+------------+-----------------+---------------+\n",
      "only showing top 5 rows\n",
      "\n"
     ]
    }
   ],
   "source": [
    "dados_4\\\n",
    "    .select(\"*\", f.explode(\"caracteristicas\")\\\n",
    "    .alias(\"cara\"))\\\n",
    "    .groupBy(\"id\")\\\n",
    "    .pivot('cara')\\\n",
    "    .agg(f.lit(1)).na.fill(0)\\\n",
    "    .show(5)"
   ]
  },
  {
   "cell_type": "code",
   "execution_count": null,
   "id": "XV6JD13WOXV2",
   "metadata": {
    "id": "XV6JD13WOXV2"
   },
   "outputs": [],
   "source": [
    "caracteristicas_OneHotEncoder = dados_4\\\n",
    "    .select(\"*\", f.explode(\"caracteristicas\").alias(\"cara\"))\\\n",
    "    .groupBy(\"id\")\\\n",
    "    .pivot('cara')\\\n",
    "    .agg(f.lit(1))\\\n",
    "    .na\\\n",
    "    .fill(0)"
   ]
  },
  {
   "cell_type": "markdown",
   "id": "uJaR35LfS022",
   "metadata": {
    "id": "uJaR35LfS022"
   },
   "source": [
    "Da mesma forma que fizemos com a coluna caracteristicas anteriormente, iremos fazer agora com a coluna zona. Vamos transformar cada uma das zonas da coluna zona em colunas separadas. Assim, nas linhas que pertencerem a uma zona específica vamos preencher com o valor \"1\" e caso contrário vamos colocar o valor \"0\""
   ]
  },
  {
   "cell_type": "code",
   "execution_count": null,
   "id": "_eE4dwdkS4LI",
   "metadata": {
    "colab": {
     "base_uri": "https://localhost:8080/"
    },
    "executionInfo": {
     "elapsed": 2222,
     "status": "ok",
     "timestamp": 1670516429859,
     "user": {
      "displayName": "francisco strunck",
      "userId": "02683465803792309206"
     },
     "user_tz": 180
    },
    "id": "_eE4dwdkS4LI",
    "outputId": "77de92f5-5151-48c9-c7fe-3849cbbfe7a6"
   },
   "outputs": [
    {
     "name": "stdout",
     "output_type": "stream",
     "text": [
      "+--------------------+------------+----------+----------+--------+\n",
      "|                  id|Zona Central|Zona Norte|Zona Oeste|Zona Sul|\n",
      "+--------------------+------------+----------+----------+--------+\n",
      "|4e47e4d4-3326-4eb...|        null|      null|      null|       1|\n",
      "|02fba6ef-a691-442...|        null|      null|         1|    null|\n",
      "|fc03c1a9-8bbb-41a...|        null|         1|      null|    null|\n",
      "|3dd5d200-0a7f-43d...|        null|      null|      null|       1|\n",
      "|82707939-71bd-40c...|        null|      null|      null|       1|\n",
      "+--------------------+------------+----------+----------+--------+\n",
      "only showing top 5 rows\n",
      "\n"
     ]
    }
   ],
   "source": [
    "dados_4\\\n",
    "    .groupBy(\"id\")\\\n",
    "    .pivot('zona')\\\n",
    "    .count()\\\n",
    "    .show(5)"
   ]
  },
  {
   "cell_type": "code",
   "execution_count": null,
   "id": "tIQx_qqHS4Ij",
   "metadata": {
    "colab": {
     "base_uri": "https://localhost:8080/"
    },
    "executionInfo": {
     "elapsed": 2047,
     "status": "ok",
     "timestamp": 1670516431900,
     "user": {
      "displayName": "francisco strunck",
      "userId": "02683465803792309206"
     },
     "user_tz": 180
    },
    "id": "tIQx_qqHS4Ij",
    "outputId": "28936796-7e41-4789-ff5c-4b285ce881a0"
   },
   "outputs": [
    {
     "name": "stdout",
     "output_type": "stream",
     "text": [
      "+--------------------+------------+----------+----------+--------+\n",
      "|                  id|Zona Central|Zona Norte|Zona Oeste|Zona Sul|\n",
      "+--------------------+------------+----------+----------+--------+\n",
      "|4e47e4d4-3326-4eb...|           0|         0|         0|       1|\n",
      "|02fba6ef-a691-442...|           0|         0|         1|       0|\n",
      "|fc03c1a9-8bbb-41a...|           0|         1|         0|       0|\n",
      "|3dd5d200-0a7f-43d...|           0|         0|         0|       1|\n",
      "|82707939-71bd-40c...|           0|         0|         0|       1|\n",
      "+--------------------+------------+----------+----------+--------+\n",
      "only showing top 5 rows\n",
      "\n"
     ]
    }
   ],
   "source": [
    "dados_4\\\n",
    "    .groupBy(\"id\")\\\n",
    "    .pivot('zona')\\\n",
    "    .agg(f.lit(1)).na.fill(0)\\\n",
    "    .show(5)"
   ]
  },
  {
   "cell_type": "code",
   "execution_count": null,
   "id": "J-2yd1HhkSRv",
   "metadata": {
    "id": "J-2yd1HhkSRv"
   },
   "outputs": [],
   "source": [
    "zona = dados_4\\\n",
    "    .groupBy(\"id\")\\\n",
    "    .pivot('zona')\\\n",
    "    .agg(f.lit(1)).na.fill(0)"
   ]
  },
  {
   "cell_type": "code",
   "execution_count": null,
   "id": "ohWOCaFBkSPC",
   "metadata": {
    "colab": {
     "base_uri": "https://localhost:8080/"
    },
    "executionInfo": {
     "elapsed": 432,
     "status": "ok",
     "timestamp": 1670516432676,
     "user": {
      "displayName": "francisco strunck",
      "userId": "02683465803792309206"
     },
     "user_tz": 180
    },
    "id": "ohWOCaFBkSPC",
    "outputId": "b2e29f9c-3627-4732-d042-96e9218f3244"
   },
   "outputs": [
    {
     "name": "stdout",
     "output_type": "stream",
     "text": [
      "+------------------------------------+-----+---------+---------+-------------------------------------------------------------------------------------------------------------------------------+-------+------+----+------------+------------+----------+------+--------+\n",
      "|id                                  |andar|area_util|banheiros|caracteristicas                                                                                                                |quartos|suites|vaga|bairro      |zona        |condominio|iptu  |valor   |\n",
      "+------------------------------------+-----+---------+---------+-------------------------------------------------------------------------------------------------------------------------------+-------+------+----+------------+------------+----------+------+--------+\n",
      "|03a386b6-7ab8-4eff-891d-f8a16efc1989|0    |43.0     |1        |[Churrasqueira, Academia, Playground, Salão de festas, Condomínio fechado, Portão eletrônico, Portaria 24h, Animais permitidos]|2      |0     |1   |Realengo    |Zona Oeste  |285.0     |0.0   |22999.0 |\n",
      "|1fe78d41-b8e0-4d21-a1a8-72cb7863f441|0    |44.0     |1        |null                                                                                                                           |2      |0     |0   |Irajá       |Zona Norte  |170.0     |0.0   |110000.0|\n",
      "|1fa1c1e5-e98c-433f-9675-1b43d7d6da01|4    |55.0     |1        |null                                                                                                                           |2      |0     |1   |Cosmos      |Zona Oeste  |0.0       |0.0   |115000.0|\n",
      "|a6ab01ae-3d40-40e7-bb6a-f2334e0abbe0|2    |55.0     |1        |null                                                                                                                           |2      |0     |0   |Tomás Coelho|Zona Norte  |0.0       |0.0   |115000.0|\n",
      "|1d8ff7a2-16bd-4e3f-a92e-1b85f923ebb0|0    |50.0     |1        |null                                                                                                                           |1      |0     |0   |Centro      |Zona Central|1300.0    |2679.0|125000.0|\n",
      "+------------------------------------+-----+---------+---------+-------------------------------------------------------------------------------------------------------------------------------+-------+------+----+------------+------------+----------+------+--------+\n",
      "only showing top 5 rows\n",
      "\n"
     ]
    }
   ],
   "source": [
    "dados_4.show(5, truncate=False)"
   ]
  },
  {
   "cell_type": "code",
   "execution_count": null,
   "id": "4qnkSHF8kSMK",
   "metadata": {
    "colab": {
     "base_uri": "https://localhost:8080/"
    },
    "executionInfo": {
     "elapsed": 357,
     "status": "ok",
     "timestamp": 1670516433031,
     "user": {
      "displayName": "francisco strunck",
      "userId": "02683465803792309206"
     },
     "user_tz": 180
    },
    "id": "4qnkSHF8kSMK",
    "outputId": "4d9c1219-8b47-4b9a-d187-965c8e3756c7"
   },
   "outputs": [
    {
     "name": "stdout",
     "output_type": "stream",
     "text": [
      "+--------------------+-----+---------+---------+--------------------+-------+------+----+------------+------------+----------+------+--------+\n",
      "|                  id|andar|area_util|banheiros|     caracteristicas|quartos|suites|vaga|      bairro|        zona|condominio|  iptu|   valor|\n",
      "+--------------------+-----+---------+---------+--------------------+-------+------+----+------------+------------+----------+------+--------+\n",
      "|03a386b6-7ab8-4ef...|    0|     43.0|        1|[Churrasqueira, A...|      2|     0|   1|    Realengo|  Zona Oeste|     285.0|   0.0| 22999.0|\n",
      "|1fe78d41-b8e0-4d2...|    0|     44.0|        1|                null|      2|     0|   0|       Irajá|  Zona Norte|     170.0|   0.0|110000.0|\n",
      "|1fa1c1e5-e98c-433...|    4|     55.0|        1|                null|      2|     0|   1|      Cosmos|  Zona Oeste|       0.0|   0.0|115000.0|\n",
      "|a6ab01ae-3d40-40e...|    2|     55.0|        1|                null|      2|     0|   0|Tomás Coelho|  Zona Norte|       0.0|   0.0|115000.0|\n",
      "|1d8ff7a2-16bd-4e3...|    0|     50.0|        1|                null|      1|     0|   0|      Centro|Zona Central|    1300.0|2679.0|125000.0|\n",
      "+--------------------+-----+---------+---------+--------------------+-------+------+----+------------+------------+----------+------+--------+\n",
      "only showing top 5 rows\n",
      "\n"
     ]
    }
   ],
   "source": [
    "dados_4.show(5, truncate=True)"
   ]
  },
  {
   "cell_type": "markdown",
   "id": "02rRenZ-T8tI",
   "metadata": {
    "id": "02rRenZ-T8tI"
   },
   "source": [
    "Juntando os dados utilizando o metodo join"
   ]
  },
  {
   "cell_type": "code",
   "execution_count": null,
   "id": "rtMnHxQZU1Tc",
   "metadata": {
    "colab": {
     "base_uri": "https://localhost:8080/"
    },
    "executionInfo": {
     "elapsed": 2586,
     "status": "ok",
     "timestamp": 1670516435615,
     "user": {
      "displayName": "francisco strunck",
      "userId": "02683465803792309206"
     },
     "user_tz": 180
    },
    "id": "rtMnHxQZU1Tc",
    "outputId": "af803f5c-33df-4b67-92c9-a8060e40d6b6"
   },
   "outputs": [
    {
     "name": "stdout",
     "output_type": "stream",
     "text": [
      "+--------------------+--------+------------------+-------------+------------------+--------+-------+----------+------------+-----------------+---------------+\n",
      "|                  id|Academia|Animais permitidos|Churrasqueira|Condomínio fechado|Elevador|Piscina|Playground|Portaria 24h|Portão eletrônico|Salão de festas|\n",
      "+--------------------+--------+------------------+-------------+------------------+--------+-------+----------+------------+-----------------+---------------+\n",
      "|fd96bbd5-d631-416...|       1|                 1|            1|                 1|       1|      1|         1|           1|                1|              1|\n",
      "|bfffedfe-99e7-4ae...|       0|                 1|            1|                 1|       1|      0|         1|           0|                1|              1|\n",
      "|fcb67af3-5601-415...|       1|                 1|            1|                 0|       0|      1|         1|           0|                0|              1|\n",
      "|afecddff-f4cc-4ab...|       1|                 1|            1|                 1|       1|      1|         1|           1|                1|              1|\n",
      "|1bbc40f3-4f5c-459...|       1|                 0|            0|                 1|       1|      1|         1|           1|                1|              1|\n",
      "|fd26aeb2-a7b3-4f8...|       1|                 1|            1|                 1|       1|      1|         1|           1|                1|              1|\n",
      "|10e9d118-dbad-43c...|       0|                 1|            1|                 1|       0|      1|         1|           1|                1|              1|\n",
      "|ca1e84d7-86c8-4b1...|       1|                 0|            1|                 1|       1|      1|         1|           1|                1|              1|\n",
      "|d9e139a5-e85d-4e1...|       1|                 1|            1|                 1|       1|      1|         1|           1|                1|              1|\n",
      "|156a1fa5-37ca-43d...|       1|                 0|            1|                 1|       1|      1|         1|           1|                1|              1|\n",
      "|e7be09eb-6223-4b4...|       1|                 1|            1|                 1|       1|      1|         1|           1|                1|              1|\n",
      "|631efda0-5e10-422...|       1|                 1|            1|                 1|       1|      1|         1|           1|                1|              1|\n",
      "|07cbfef2-efbf-4e8...|       0|                 1|            0|                 0|       1|      0|         0|           1|                0|              0|\n",
      "|62baf185-103d-448...|       1|                 0|            1|                 1|       0|      1|         1|           0|                0|              0|\n",
      "|3030d17c-5681-4b2...|       1|                 1|            1|                 1|       1|      1|         0|           1|                1|              1|\n",
      "+--------------------+--------+------------------+-------------+------------------+--------+-------+----------+------------+-----------------+---------------+\n",
      "only showing top 15 rows\n",
      "\n"
     ]
    }
   ],
   "source": [
    "caracteristicas_OneHotEncoder.show(6)"
   ]
  },
  {
   "cell_type": "code",
   "execution_count": null,
   "id": "gUQyDrhTU1QD",
   "metadata": {
    "colab": {
     "base_uri": "https://localhost:8080/"
    },
    "executionInfo": {
     "elapsed": 1311,
     "status": "ok",
     "timestamp": 1670516436924,
     "user": {
      "displayName": "francisco strunck",
      "userId": "02683465803792309206"
     },
     "user_tz": 180
    },
    "id": "gUQyDrhTU1QD",
    "outputId": "74a80911-9586-4b57-e02b-151ddf665118"
   },
   "outputs": [
    {
     "name": "stdout",
     "output_type": "stream",
     "text": [
      "+--------------------+------------+----------+----------+--------+\n",
      "|                  id|Zona Central|Zona Norte|Zona Oeste|Zona Sul|\n",
      "+--------------------+------------+----------+----------+--------+\n",
      "|4e47e4d4-3326-4eb...|           0|         0|         0|       1|\n",
      "|02fba6ef-a691-442...|           0|         0|         1|       0|\n",
      "|fc03c1a9-8bbb-41a...|           0|         1|         0|       0|\n",
      "|3dd5d200-0a7f-43d...|           0|         0|         0|       1|\n",
      "|82707939-71bd-40c...|           0|         0|         0|       1|\n",
      "|ece1e671-cb4d-48a...|           1|         0|         0|       0|\n",
      "|3521e03b-0815-4aa...|           0|         0|         0|       1|\n",
      "|03a386b6-7ab8-4ef...|           0|         0|         1|       0|\n",
      "|107507e0-f075-47e...|           0|         0|         1|       0|\n",
      "|e5e00255-6408-4e6...|           0|         0|         1|       0|\n",
      "|c7e56e3a-a2b2-48a...|           0|         0|         1|       0|\n",
      "|b37a2a08-d3c6-489...|           0|         1|         0|       0|\n",
      "|a4b88c04-2655-414...|           0|         0|         1|       0|\n",
      "|3e9a8997-8071-4a4...|           0|         0|         1|       0|\n",
      "|efef38d2-12cf-428...|           0|         0|         1|       0|\n",
      "+--------------------+------------+----------+----------+--------+\n",
      "only showing top 15 rows\n",
      "\n"
     ]
    }
   ],
   "source": [
    "zona.show(6)"
   ]
  },
  {
   "cell_type": "code",
   "execution_count": null,
   "id": "dzu88zySkSI7",
   "metadata": {
    "id": "dzu88zySkSI7"
   },
   "outputs": [],
   "source": [
    "dados_5 = dados_4\\\n",
    "    .join(zona, 'id', how='inner')\\\n",
    "    .join(caracteristicas_OneHotEncoder, 'id', how='left')\\\n",
    "    .drop('zona', 'cara', 'caracteristicas')"
   ]
  },
  {
   "cell_type": "code",
   "execution_count": null,
   "id": "oy1nvRHMkSGR",
   "metadata": {
    "colab": {
     "base_uri": "https://localhost:8080/"
    },
    "executionInfo": {
     "elapsed": 5545,
     "status": "ok",
     "timestamp": 1670516442742,
     "user": {
      "displayName": "francisco strunck",
      "userId": "02683465803792309206"
     },
     "user_tz": 180
    },
    "id": "oy1nvRHMkSGR",
    "outputId": "0f94fbbe-d747-4f3e-9792-9eb0ec290e68"
   },
   "outputs": [
    {
     "name": "stdout",
     "output_type": "stream",
     "text": [
      "+--------------------+-----+---------+---------+-------+------+----+-----------+----------+------+---------+------------+----------+----------+--------+--------+------------------+-------------+------------------+--------+-------+----------+------------+-----------------+---------------+\n",
      "|                  id|andar|area_util|banheiros|quartos|suites|vaga|     bairro|condominio|  iptu|    valor|Zona Central|Zona Norte|Zona Oeste|Zona Sul|Academia|Animais permitidos|Churrasqueira|Condomínio fechado|Elevador|Piscina|Playground|Portaria 24h|Portão eletrônico|Salão de festas|\n",
      "+--------------------+-----+---------+---------+-------+------+----+-----------+----------+------+---------+------------+----------+----------+--------+--------+------------------+-------------+------------------+--------+-------+----------+------------+-----------------+---------------+\n",
      "|02fba6ef-a691-442...|    3|     64.0|        1|      2|     2|   1|Jacarepaguá|     784.0|  80.0| 380000.0|           0|         0|         1|       0|       1|                 1|            1|                 1|       1|      1|         1|           1|                1|              1|\n",
      "|3dd5d200-0a7f-43d...|    0|    170.0|        3|      4|     1|   1|Cosme Velho|    2250.0|3000.0|1450000.0|           0|         0|         0|       1|       0|                 0|            0|                 0|       1|      0|         0|           0|                0|              0|\n",
      "|4e47e4d4-3326-4eb...|    0|     90.0|        2|      3|     1|   0| Copacabana|     950.0|2677.0| 949020.0|           0|         0|         0|       1|       0|                 0|            0|                 0|       1|      0|         0|           0|                0|              0|\n",
      "|82707939-71bd-40c...|    0|    525.0|        4|      4|     2|   2|   Flamengo|    5000.0|2100.0|5199000.0|           0|         0|         0|       1|    null|              null|         null|              null|    null|   null|      null|        null|             null|           null|\n",
      "|ece1e671-cb4d-48a...|    0|     50.0|        1|      2|     0|   1|     Centro|     320.0|  80.0| 330000.0|           1|         0|         0|       0|       1|                 1|            1|                 1|       1|      1|         1|           1|                1|              1|\n",
      "+--------------------+-----+---------+---------+-------+------+----+-----------+----------+------+---------+------------+----------+----------+--------+--------+------------------+-------------+------------------+--------+-------+----------+------------+-----------------+---------------+\n",
      "only showing top 5 rows\n",
      "\n"
     ]
    }
   ],
   "source": [
    "dados_5.show(6)"
   ]
  },
  {
   "cell_type": "code",
   "execution_count": null,
   "id": "iKOV0nSxkSDt",
   "metadata": {
    "colab": {
     "base_uri": "https://localhost:8080/"
    },
    "executionInfo": {
     "elapsed": 5167,
     "status": "ok",
     "timestamp": 1670516447905,
     "user": {
      "displayName": "francisco strunck",
      "userId": "02683465803792309206"
     },
     "user_tz": 180
    },
    "id": "iKOV0nSxkSDt",
    "outputId": "dabef82a-f8cc-49ed-c85d-d8ef7568be8f"
   },
   "outputs": [
    {
     "name": "stdout",
     "output_type": "stream",
     "text": [
      "+------------------------------------+-----+---------+---------+-------+------+----+-----------+----------+------+---------+------------+----------+----------+--------+--------+------------------+-------------+------------------+--------+-------+----------+------------+-----------------+---------------+\n",
      "|id                                  |andar|area_util|banheiros|quartos|suites|vaga|bairro     |condominio|iptu  |valor    |Zona Central|Zona Norte|Zona Oeste|Zona Sul|Academia|Animais permitidos|Churrasqueira|Condomínio fechado|Elevador|Piscina|Playground|Portaria 24h|Portão eletrônico|Salão de festas|\n",
      "+------------------------------------+-----+---------+---------+-------+------+----+-----------+----------+------+---------+------------+----------+----------+--------+--------+------------------+-------------+------------------+--------+-------+----------+------------+-----------------+---------------+\n",
      "|02fba6ef-a691-442a-997f-211944057adf|3    |64.0     |1        |2      |2     |1   |Jacarepaguá|784.0     |80.0  |380000.0 |0           |0         |1         |0       |1       |1                 |1            |1                 |1       |1      |1         |1           |1                |1              |\n",
      "|3dd5d200-0a7f-43db-ba7c-c26a25189674|0    |170.0    |3        |4      |1     |1   |Cosme Velho|2250.0    |3000.0|1450000.0|0           |0         |0         |1       |0       |0                 |0            |0                 |1       |0      |0         |0           |0                |0              |\n",
      "|4e47e4d4-3326-4eb5-ab19-7ea68e1e2912|0    |90.0     |2        |3      |1     |0   |Copacabana |950.0     |2677.0|949020.0 |0           |0         |0         |1       |0       |0                 |0            |0                 |1       |0      |0         |0           |0                |0              |\n",
      "|82707939-71bd-40c6-896c-6944e9848ccb|0    |525.0    |4        |4      |2     |2   |Flamengo   |5000.0    |2100.0|5199000.0|0           |0         |0         |1       |null    |null              |null         |null              |null    |null   |null      |null        |null             |null           |\n",
      "|ece1e671-cb4d-48ae-b0c5-57bd62566aa1|0    |50.0     |1        |2      |0     |1   |Centro     |320.0     |80.0  |330000.0 |1           |0         |0         |0       |1       |1                 |1            |1                 |1       |1      |1         |1           |1                |1              |\n",
      "+------------------------------------+-----+---------+---------+-------+------+----+-----------+----------+------+---------+------------+----------+----------+--------+--------+------------------+-------------+------------------+--------+-------+----------+------------+-----------------+---------------+\n",
      "only showing top 5 rows\n",
      "\n"
     ]
    }
   ],
   "source": [
    "dados_5.show(5, truncate = False)"
   ]
  },
  {
   "cell_type": "markdown",
   "id": "YzKOWl-FVEYu",
   "metadata": {
    "id": "YzKOWl-FVEYu"
   },
   "source": [
    "Ainda restam alguns nulos portanto:"
   ]
  },
  {
   "cell_type": "code",
   "execution_count": null,
   "id": "-xh0yu3IfDvS",
   "metadata": {
    "colab": {
     "base_uri": "https://localhost:8080/"
    },
    "executionInfo": {
     "elapsed": 1226,
     "status": "ok",
     "timestamp": 1670516449126,
     "user": {
      "displayName": "francisco strunck",
      "userId": "02683465803792309206"
     },
     "user_tz": 180
    },
    "id": "-xh0yu3IfDvS",
    "outputId": "4331c8f0-51dd-4552-97d9-a7597fbe6f34"
   },
   "outputs": [
    {
     "name": "stdout",
     "output_type": "stream",
     "text": [
      "+--------------------+------------+----------+----------+--------+\n",
      "|                  id|Zona Central|Zona Norte|Zona Oeste|Zona Sul|\n",
      "+--------------------+------------+----------+----------+--------+\n",
      "|4e47e4d4-3326-4eb...|           0|         0|         0|       1|\n",
      "|02fba6ef-a691-442...|           0|         0|         1|       0|\n",
      "|fc03c1a9-8bbb-41a...|           0|         1|         0|       0|\n",
      "|3dd5d200-0a7f-43d...|           0|         0|         0|       1|\n",
      "|82707939-71bd-40c...|           0|         0|         0|       1|\n",
      "+--------------------+------------+----------+----------+--------+\n",
      "only showing top 5 rows\n",
      "\n"
     ]
    }
   ],
   "source": [
    "zona.show(5)"
   ]
  },
  {
   "cell_type": "code",
   "execution_count": null,
   "id": "xob70mdEkR9u",
   "metadata": {
    "id": "xob70mdEkR9u"
   },
   "outputs": [],
   "source": [
    "dados_5 = dados_5\\\n",
    "    .na\\\n",
    "    .fill(0)"
   ]
  },
  {
   "cell_type": "code",
   "execution_count": null,
   "id": "6qnlwZe5kR7E",
   "metadata": {
    "colab": {
     "base_uri": "https://localhost:8080/"
    },
    "executionInfo": {
     "elapsed": 3257,
     "status": "ok",
     "timestamp": 1670516452380,
     "user": {
      "displayName": "francisco strunck",
      "userId": "02683465803792309206"
     },
     "user_tz": 180
    },
    "id": "6qnlwZe5kR7E",
    "outputId": "5e368acb-8f0c-407b-908b-e3f0f1500afa"
   },
   "outputs": [
    {
     "name": "stdout",
     "output_type": "stream",
     "text": [
      "+--------------------+-----+---------+---------+-------+------+----+-----------+----------+------+---------+------------+----------+----------+--------+--------+------------------+-------------+------------------+--------+-------+----------+------------+-----------------+---------------+\n",
      "|                  id|andar|area_util|banheiros|quartos|suites|vaga|     bairro|condominio|  iptu|    valor|Zona Central|Zona Norte|Zona Oeste|Zona Sul|Academia|Animais permitidos|Churrasqueira|Condomínio fechado|Elevador|Piscina|Playground|Portaria 24h|Portão eletrônico|Salão de festas|\n",
      "+--------------------+-----+---------+---------+-------+------+----+-----------+----------+------+---------+------------+----------+----------+--------+--------+------------------+-------------+------------------+--------+-------+----------+------------+-----------------+---------------+\n",
      "|02fba6ef-a691-442...|    3|     64.0|        1|      2|     2|   1|Jacarepaguá|     784.0|  80.0| 380000.0|           0|         0|         1|       0|       1|                 1|            1|                 1|       1|      1|         1|           1|                1|              1|\n",
      "|3dd5d200-0a7f-43d...|    0|    170.0|        3|      4|     1|   1|Cosme Velho|    2250.0|3000.0|1450000.0|           0|         0|         0|       1|       0|                 0|            0|                 0|       1|      0|         0|           0|                0|              0|\n",
      "|4e47e4d4-3326-4eb...|    0|     90.0|        2|      3|     1|   0| Copacabana|     950.0|2677.0| 949020.0|           0|         0|         0|       1|       0|                 0|            0|                 0|       1|      0|         0|           0|                0|              0|\n",
      "|82707939-71bd-40c...|    0|    525.0|        4|      4|     2|   2|   Flamengo|    5000.0|2100.0|5199000.0|           0|         0|         0|       1|       0|                 0|            0|                 0|       0|      0|         0|           0|                0|              0|\n",
      "|ece1e671-cb4d-48a...|    0|     50.0|        1|      2|     0|   1|     Centro|     320.0|  80.0| 330000.0|           1|         0|         0|       0|       1|                 1|            1|                 1|       1|      1|         1|           1|                1|              1|\n",
      "+--------------------+-----+---------+---------+-------+------+----+-----------+----------+------+---------+------------+----------+----------+--------+--------+------------------+-------------+------------------+--------+-------+----------+------------+-----------------+---------------+\n",
      "only showing top 5 rows\n",
      "\n"
     ]
    }
   ],
   "source": [
    "dados_5.show(5)"
   ]
  },
  {
   "cell_type": "code",
   "execution_count": null,
   "id": "F4-PUpRLkR34",
   "metadata": {
    "colab": {
     "base_uri": "https://localhost:8080/"
    },
    "executionInfo": {
     "elapsed": 362,
     "status": "ok",
     "timestamp": 1670516452726,
     "user": {
      "displayName": "francisco strunck",
      "userId": "02683465803792309206"
     },
     "user_tz": 180
    },
    "id": "F4-PUpRLkR34",
    "outputId": "bfee589c-9e19-441d-a7fa-931318da0188"
   },
   "outputs": [
    {
     "name": "stdout",
     "output_type": "stream",
     "text": [
      "Quantidade de linhas antes:  66551\n",
      "Quantidade de linhas depois:  66551\n",
      "Quantidade de linhas perdidas:  0\n"
     ]
    }
   ],
   "source": [
    "# contando a quantidade total de linhas do dataset original\n",
    "count_rows_original = dados_4.count()\n",
    "\n",
    "# comparando se o join funcionou corretamente e ainda temos a mesma quantidade de linhas do dataset original\n",
    "print(\"Quantidade de linhas antes: \", count_rows_original)\n",
    "print(\"Quantidade de linhas depois: \", dados_4.count())\n",
    "print(\"Quantidade de linhas perdidas: \", count_rows_original - dados_4.count())"
   ]
  },
  {
   "cell_type": "code",
   "execution_count": null,
   "id": "mc703ucefnGZ",
   "metadata": {
    "colab": {
     "base_uri": "https://localhost:8080/"
    },
    "executionInfo": {
     "elapsed": 4102,
     "status": "ok",
     "timestamp": 1670516456826,
     "user": {
      "displayName": "francisco strunck",
      "userId": "02683465803792309206"
     },
     "user_tz": 180
    },
    "id": "mc703ucefnGZ",
    "outputId": "7ff65f92-1436-45a7-c2ca-4ac484056050"
   },
   "outputs": [
    {
     "name": "stdout",
     "output_type": "stream",
     "text": [
      "+--------------------+-----+---------+---------+-------+------+----+-----------+----------+------+---------+------------+----------+----------+--------+--------+------------------+-------------+------------------+--------+-------+----------+------------+-----------------+---------------+\n",
      "|                  id|andar|area_util|banheiros|quartos|suites|vaga|     bairro|condominio|  iptu|    valor|Zona Central|Zona Norte|Zona Oeste|Zona Sul|Academia|Animais permitidos|Churrasqueira|Condomínio fechado|Elevador|Piscina|Playground|Portaria 24h|Portão eletrônico|Salão de festas|\n",
      "+--------------------+-----+---------+---------+-------+------+----+-----------+----------+------+---------+------------+----------+----------+--------+--------+------------------+-------------+------------------+--------+-------+----------+------------+-----------------+---------------+\n",
      "|02fba6ef-a691-442...|    3|     64.0|        1|      2|     2|   1|Jacarepaguá|     784.0|  80.0| 380000.0|           0|         0|         1|       0|       1|                 1|            1|                 1|       1|      1|         1|           1|                1|              1|\n",
      "|3dd5d200-0a7f-43d...|    0|    170.0|        3|      4|     1|   1|Cosme Velho|    2250.0|3000.0|1450000.0|           0|         0|         0|       1|       0|                 0|            0|                 0|       1|      0|         0|           0|                0|              0|\n",
      "|4e47e4d4-3326-4eb...|    0|     90.0|        2|      3|     1|   0| Copacabana|     950.0|2677.0| 949020.0|           0|         0|         0|       1|       0|                 0|            0|                 0|       1|      0|         0|           0|                0|              0|\n",
      "+--------------------+-----+---------+---------+-------+------+----+-----------+----------+------+---------+------------+----------+----------+--------+--------+------------------+-------------+------------------+--------+-------+----------+------------+-----------------+---------------+\n",
      "only showing top 3 rows\n",
      "\n"
     ]
    }
   ],
   "source": [
    "dados_5.show(3)"
   ]
  },
  {
   "cell_type": "code",
   "execution_count": null,
   "id": "eLM9TXNjkR1T",
   "metadata": {
    "colab": {
     "base_uri": "https://localhost:8080/"
    },
    "executionInfo": {
     "elapsed": 3373,
     "status": "ok",
     "timestamp": 1670516460196,
     "user": {
      "displayName": "francisco strunck",
      "userId": "02683465803792309206"
     },
     "user_tz": 180
    },
    "id": "eLM9TXNjkR1T",
    "outputId": "6d83ce17-2f99-458b-d47a-76bc3122dfe3"
   },
   "outputs": [
    {
     "name": "stdout",
     "output_type": "stream",
     "text": [
      "+--------------------+-----+---------+---------+-------+------+----+------------+----------+----+--------+------------+----------+----------+--------+--------+------------------+-------------+------------------+--------+-------+----------+------------+-----------------+---------------+\n",
      "|                  id|andar|area_util|banheiros|quartos|suites|vaga|      bairro|condominio|iptu|   valor|Zona Central|Zona Norte|Zona Oeste|Zona Sul|Academia|Animais permitidos|Churrasqueira|Condomínio fechado|Elevador|Piscina|Playground|Portaria 24h|Portão eletrônico|Salão de festas|\n",
      "+--------------------+-----+---------+---------+-------+------+----+------------+----------+----+--------+------------+----------+----------+--------+--------+------------------+-------------+------------------+--------+-------+----------+------------+-----------------+---------------+\n",
      "|be269ddf-a4a3-4a7...|    0|     45.0|        1|      2|     0|   1|Campo Grande|     356.0| 0.0|140000.0|           0|         0|         1|       0|       0|                 0|            1|                 1|       0|      1|         0|           0|                0|              0|\n",
      "+--------------------+-----+---------+---------+-------+------+----+------------+----------+----+--------+------------+----------+----------+--------+--------+------------------+-------------+------------------+--------+-------+----------+------------+-----------------+---------------+\n",
      "\n"
     ]
    }
   ],
   "source": [
    "# Conferindo o ID e se as colunas dummies referentes a esse ID estão corretas.\n",
    "\n",
    "dados_5.filter(f.col('id')==\"be269ddf-a4a3-4a72-bd54-93cdccf512dd\").show(5)"
   ]
  },
  {
   "cell_type": "markdown",
   "id": "7Qo7EKGBWdQ0",
   "metadata": {
    "id": "7Qo7EKGBWdQ0"
   },
   "source": [
    "# Salvando os dados em parquet\n",
    "\n",
    "Até aqui criamos uma base dados ideal para utilizar em modelos de machine learning. É importante exportar ela para conseguirmos utilizá-la em outros modelos e para treinar novamente nosso modelo, caso seja necessário. Além disso, também utilizaremos essa base de dados nas próximas semanas do projeto."
   ]
  },
  {
   "cell_type": "code",
   "execution_count": null,
   "id": "2JtUUQBjWc-5",
   "metadata": {
    "id": "2JtUUQBjWc-5"
   },
   "outputs": [],
   "source": [
    "dados_5.write.parquet(\"dados_salvos/dataset_ml_regressao\")"
   ]
  },
  {
   "cell_type": "markdown",
   "id": "SXHzFNCUgJ-M",
   "metadata": {
    "id": "SXHzFNCUgJ-M"
   },
   "source": []
  },
  {
   "cell_type": "markdown",
   "id": "p7-raHN8WpKR",
   "metadata": {
    "id": "p7-raHN8WpKR"
   },
   "source": [
    "# Extra: Análise de correlação\n",
    "\n",
    "Vamos analisar a correlação entre as variáveis numéricas da nossa base de dados. Esse processo é importante para detectarmos redundância entre as variáveis."
   ]
  },
  {
   "cell_type": "code",
   "execution_count": null,
   "id": "Xl-ZJwn5kRyf",
   "metadata": {
    "id": "Xl-ZJwn5kRyf"
   },
   "outputs": [],
   "source": [
    "from pyspark.ml.stat import Correlation"
   ]
  },
  {
   "cell_type": "code",
   "execution_count": null,
   "id": "IDCgQQBckRv0",
   "metadata": {
    "id": "IDCgQQBckRv0"
   },
   "outputs": [],
   "source": [
    "# Array das características: array_caracteristicas\n",
    "\n",
    "array_zona = ['Zona Central', 'Zona Norte', 'Zona Oeste', 'Zona Sul']\n",
    "array_caracteristicas = ['Condomínio fechado',\n",
    "                        'Playground',\n",
    "                        'Portão eletrônico',\n",
    "                        'Piscina',\n",
    "                        'Animais permitidos',\n",
    "                        'Portaria 24h',\n",
    "                        'Elevador',\n",
    "                        'Academia',\n",
    "                        'Salão de festas',\n",
    "                        'Churrasqueira']"
   ]
  },
  {
   "cell_type": "code",
   "execution_count": null,
   "id": "bs2gr8FbkRsv",
   "metadata": {
    "id": "bs2gr8FbkRsv"
   },
   "outputs": [],
   "source": [
    "input_col_corr = [i for i in dados_5.columns if i not in ['id', 'bairro'] + array_caracteristicas + array_zona]"
   ]
  },
  {
   "cell_type": "code",
   "execution_count": null,
   "id": "bAHFsS4wkRp-",
   "metadata": {
    "colab": {
     "base_uri": "https://localhost:8080/"
    },
    "executionInfo": {
     "elapsed": 229,
     "status": "ok",
     "timestamp": 1670516689642,
     "user": {
      "displayName": "francisco strunck",
      "userId": "02683465803792309206"
     },
     "user_tz": 180
    },
    "id": "bAHFsS4wkRp-",
    "outputId": "4812356f-971c-4108-bb85-24c8e67429cc"
   },
   "outputs": [
    {
     "data": {
      "text/plain": [
       "['andar',\n",
       " 'area_util',\n",
       " 'banheiros',\n",
       " 'quartos',\n",
       " 'suites',\n",
       " 'vaga',\n",
       " 'condominio',\n",
       " 'iptu',\n",
       " 'valor']"
      ]
     },
     "execution_count": 166,
     "metadata": {},
     "output_type": "execute_result"
    }
   ],
   "source": [
    "input_col_corr"
   ]
  },
  {
   "cell_type": "code",
   "execution_count": null,
   "id": "yz47Qs6DkRnQ",
   "metadata": {
    "id": "yz47Qs6DkRnQ"
   },
   "outputs": [],
   "source": [
    "from pyspark.ml.feature import VectorAssembler"
   ]
  },
  {
   "cell_type": "code",
   "execution_count": null,
   "id": "fOLFAw_BkRkv",
   "metadata": {
    "id": "fOLFAw_BkRkv"
   },
   "outputs": [],
   "source": [
    "assembler = VectorAssembler(inputCols=input_col_corr, outputCol='features')\n",
    "df = assembler.transform(dados_5).select(\"features\")\n",
    "\n",
    "# A correlação estará na Matriz Densa\n",
    "\n",
    "correlation = Correlation.corr(df,\"features\",\"pearson\").collect()[0][0]\n",
    "\n",
    "# Para converter a matriz densa em DataFrame\n",
    "rows = correlation.toArray().tolist()\n",
    "df = spark.createDataFrame(rows,input_col_corr)"
   ]
  },
  {
   "cell_type": "code",
   "execution_count": null,
   "id": "VjtXfYRXkRiH",
   "metadata": {
    "colab": {
     "base_uri": "https://localhost:8080/"
    },
    "executionInfo": {
     "elapsed": 1206,
     "status": "ok",
     "timestamp": 1670516699726,
     "user": {
      "displayName": "francisco strunck",
      "userId": "02683465803792309206"
     },
     "user_tz": 180
    },
    "id": "VjtXfYRXkRiH",
    "outputId": "a20ac49b-4b1b-405c-9f7b-701248b27ff9"
   },
   "outputs": [
    {
     "name": "stdout",
     "output_type": "stream",
     "text": [
      "+--------------------+--------------------+-------------------+-------------------+--------------------+--------------------+--------------------+--------------------+--------------------+\n",
      "|               andar|           area_util|          banheiros|            quartos|              suites|                vaga|          condominio|                iptu|               valor|\n",
      "+--------------------+--------------------+-------------------+-------------------+--------------------+--------------------+--------------------+--------------------+--------------------+\n",
      "|                 1.0|0.020674885718290938|0.01757715331670636|0.01008345278433944|0.024274113790933662|0.018271843474798374| 0.00661793024888357|3.810955786364769E-4|0.016145590401857667|\n",
      "|0.020674885718290938|                 1.0| 0.6710305514515004| 0.6740755967299843|  0.6201287358481448| 0.47192843823228026| 0.04567656570607291|0.021337139034348793|  0.7586357636187985|\n",
      "| 0.01757715331670636|  0.6710305514515004|                1.0| 0.6490253601518167|   0.739838048302685| 0.44505851409237407|0.027186703575109737|0.013934405615435859|  0.5750107985373362|\n",
      "| 0.01008345278433944|  0.6740755967299843| 0.6490253601518167|                1.0|  0.5799251460934062|  0.4304416028303289|0.021652594286621783|0.017249962452910238|  0.5305709093076166|\n",
      "|0.024274113790933662|  0.6201287358481448|  0.739838048302685| 0.5799251460934062|                 1.0| 0.45818387437937025|0.029063364640755023|0.011828513398200543|  0.5834392308805962|\n",
      "+--------------------+--------------------+-------------------+-------------------+--------------------+--------------------+--------------------+--------------------+--------------------+\n",
      "only showing top 5 rows\n",
      "\n"
     ]
    }
   ],
   "source": [
    "df.show(5)"
   ]
  },
  {
   "cell_type": "code",
   "execution_count": null,
   "id": "83ysWKXIkRfr",
   "metadata": {
    "colab": {
     "base_uri": "https://localhost:8080/",
     "height": 740
    },
    "executionInfo": {
     "elapsed": 1480,
     "status": "ok",
     "timestamp": 1670516701203,
     "user": {
      "displayName": "francisco strunck",
      "userId": "02683465803792309206"
     },
     "user_tz": 180
    },
    "id": "83ysWKXIkRfr",
    "outputId": "98f088f3-5701-4cb9-e27f-0751ad220e89"
   },
   "outputs": [
    {
     "data": {
      "image/png": "[encoded data removed]",
      "text/plain": [
       "<Figure size 864x864 with 1 Axes>"
      ]
     },
     "metadata": {},
     "output_type": "display_data"
    }
   ],
   "source": [
    "import numpy as np\n",
    "import matplotlib.pyplot as plt\n",
    "import seaborn as sns\n",
    "\n",
    "corr = df.toPandas().set_index([input_col_corr])\n",
    "mask = np.zeros_like(corr)\n",
    "mask[np.triu_indices_from(mask)] = True\n",
    "with sns.axes_style(\"white\"):\n",
    "    f, ax = plt.subplots(figsize=(12, 12))\n",
    "    ax = sns.heatmap(corr, mask=mask, fmt=\".2\",  annot=True, cbar=False, cmap='Oranges')\n",
    "    ax.tick_params(labelsize=14)\n",
    "    ax.set_title('Correlação entre variáveis', fontsize=20, loc='left', pad=20)"
   ]
  },
  {
   "cell_type": "markdown",
   "id": "t9ao7OdSXiv2",
   "metadata": {
    "id": "t9ao7OdSXiv2"
   },
   "source": [
    "Podemos perceber, pelo gráfico acima, que a variável valor possui uma correlação mais alta com as variáveis area_util e banheiros, porém essa correlação não é tão alta. Dessa forma, não vamos descartar nenhuma dessas variáveis.\n",
    "\n",
    "------------------"
   ]
  },
  {
   "cell_type": "markdown",
   "id": "843tLXaWXmPH",
   "metadata": {
    "id": "843tLXaWXmPH"
   },
   "source": [
    "# Vetorizando os dados\n",
    "\n",
    "Para utilizarmos nossa base de dados em modelos de machine learning do PySpark, vamos precisar utilizar uma técnica chamada de vetorização dos dados, para isso utilizaremos a classe VectorAssembler da biblioteca pyspark.ml.feature."
   ]
  },
  {
   "cell_type": "code",
   "execution_count": null,
   "id": "gd0l4tbtkRbA",
   "metadata": {
    "id": "gd0l4tbtkRbA"
   },
   "outputs": [],
   "source": [
    "from pyspark.ml.feature import VectorAssembler"
   ]
  },
  {
   "cell_type": "code",
   "execution_count": null,
   "id": "Jc3JctaqXqi8",
   "metadata": {
    "id": "Jc3JctaqXqi8"
   },
   "outputs": [],
   "source": [
    "dados_5 = dados_5.withColumnRenamed('valor','label')"
   ]
  },
  {
   "cell_type": "markdown",
   "id": "KTQxJQ17cnUG",
   "metadata": {
    "id": "KTQxJQ17cnUG"
   },
   "source": [
    "Vamos utilizar todas as colunas, exceto as colunas:\n",
    "\n",
    " - label - por ser nossa variável alvo;\n",
    " - id - por ser um identificador único;\n",
    " - bairro - por ser uma variável categórica que não foi transformada em dummy pois possui muitas categorias."
   ]
  },
  {
   "cell_type": "code",
   "execution_count": null,
   "id": "UvLUBTgXXqgm",
   "metadata": {
    "id": "UvLUBTgXXqgm"
   },
   "outputs": [],
   "source": [
    "input_col = [i for i in dados_5.columns if i not in ['label', 'id', 'bairro']]"
   ]
  },
  {
   "cell_type": "code",
   "execution_count": null,
   "id": "iPqvUwjbXqd3",
   "metadata": {
    "id": "iPqvUwjbXqd3"
   },
   "outputs": [],
   "source": [
    "assembler = VectorAssembler(inputCols = input_col, outputCol = 'features')"
   ]
  },
  {
   "cell_type": "code",
   "execution_count": null,
   "id": "DJ1Xjm92Xqbm",
   "metadata": {
    "colab": {
     "base_uri": "https://localhost:8080/"
    },
    "executionInfo": {
     "elapsed": 4407,
     "status": "ok",
     "timestamp": 1670516774656,
     "user": {
      "displayName": "francisco strunck",
      "userId": "02683465803792309206"
     },
     "user_tz": 180
    },
    "id": "DJ1Xjm92Xqbm",
    "outputId": "e53c9a2f-3a32-4685-a1ab-8b5e1c7363b8"
   },
   "outputs": [
    {
     "name": "stdout",
     "output_type": "stream",
     "text": [
      "+--------------------+-----+---------+---------+-------+------+----+-----------+----------+------+---------+------------+----------+----------+--------+--------+------------------+-------------+------------------+--------+-------+----------+------------+-----------------+---------------+\n",
      "|                  id|andar|area_util|banheiros|quartos|suites|vaga|     bairro|condominio|  iptu|    label|Zona Central|Zona Norte|Zona Oeste|Zona Sul|Academia|Animais permitidos|Churrasqueira|Condomínio fechado|Elevador|Piscina|Playground|Portaria 24h|Portão eletrônico|Salão de festas|\n",
      "+--------------------+-----+---------+---------+-------+------+----+-----------+----------+------+---------+------------+----------+----------+--------+--------+------------------+-------------+------------------+--------+-------+----------+------------+-----------------+---------------+\n",
      "|02fba6ef-a691-442...|    3|     64.0|        1|      2|     2|   1|Jacarepaguá|     784.0|  80.0| 380000.0|           0|         0|         1|       0|       1|                 1|            1|                 1|       1|      1|         1|           1|                1|              1|\n",
      "|3dd5d200-0a7f-43d...|    0|    170.0|        3|      4|     1|   1|Cosme Velho|    2250.0|3000.0|1450000.0|           0|         0|         0|       1|       0|                 0|            0|                 0|       1|      0|         0|           0|                0|              0|\n",
      "|4e47e4d4-3326-4eb...|    0|     90.0|        2|      3|     1|   0| Copacabana|     950.0|2677.0| 949020.0|           0|         0|         0|       1|       0|                 0|            0|                 0|       1|      0|         0|           0|                0|              0|\n",
      "|82707939-71bd-40c...|    0|    525.0|        4|      4|     2|   2|   Flamengo|    5000.0|2100.0|5199000.0|           0|         0|         0|       1|       0|                 0|            0|                 0|       0|      0|         0|           0|                0|              0|\n",
      "|ece1e671-cb4d-48a...|    0|     50.0|        1|      2|     0|   1|     Centro|     320.0|  80.0| 330000.0|           1|         0|         0|       0|       1|                 1|            1|                 1|       1|      1|         1|           1|                1|              1|\n",
      "+--------------------+-----+---------+---------+-------+------+----+-----------+----------+------+---------+------------+----------+----------+--------+--------+------------------+-------------+------------------+--------+-------+----------+------------+-----------------+---------------+\n",
      "only showing top 5 rows\n",
      "\n"
     ]
    }
   ],
   "source": [
    "dados_5.show(5)"
   ]
  },
  {
   "cell_type": "code",
   "execution_count": null,
   "id": "SsvHNY7hXqYq",
   "metadata": {
    "id": "SsvHNY7hXqYq"
   },
   "outputs": [],
   "source": [
    "dados_5_prep = assembler.transform(dados_5).select('features', 'label')"
   ]
  },
  {
   "cell_type": "code",
   "execution_count": null,
   "id": "ehhDlP4LXqV7",
   "metadata": {
    "colab": {
     "base_uri": "https://localhost:8080/"
    },
    "executionInfo": {
     "elapsed": 4744,
     "status": "ok",
     "timestamp": 1670516839978,
     "user": {
      "displayName": "francisco strunck",
      "userId": "02683465803792309206"
     },
     "user_tz": 180
    },
    "id": "ehhDlP4LXqV7",
    "outputId": "8066e47b-7776-4339-c0d7-aee40731e310"
   },
   "outputs": [
    {
     "name": "stdout",
     "output_type": "stream",
     "text": [
      "+-----------------------------------------------------------------------------------------+---------+\n",
      "|features                                                                                 |label    |\n",
      "+-----------------------------------------------------------------------------------------+---------+\n",
      "|(22,[1,2,3,4,5,6,7,11,16],[410.0,3.0,4.0,1.0,1.0,3300.0,5780.0,1.0,1.0])                 |4600000.0|\n",
      "|(22,[0,1,2,3,5,6,7,9,13,16,20,21],[1.0,50.0,1.0,1.0,1.0,500.0,600.0,1.0,1.0,1.0,1.0,1.0])|360000.0 |\n",
      "|(22,[1,2,3,4,5,10,14,16,17],[148.0,4.0,4.0,2.0,2.0,1.0,1.0,1.0,1.0])                     |1200000.0|\n",
      "|(22,[1,2,3,6,7,11,16],[104.0,1.0,2.0,1010.0,272.0,1.0,1.0])                              |750000.0 |\n",
      "|(22,[1,2,3,5,6,7,11,16],[71.0,2.0,2.0,1.0,1312.0,360.0,1.0,1.0])                         |1025000.0|\n",
      "+-----------------------------------------------------------------------------------------+---------+\n",
      "only showing top 5 rows\n",
      "\n"
     ]
    }
   ],
   "source": [
    "dados_5_prep.show(5, truncate = False)"
   ]
  },
  {
   "cell_type": "markdown",
   "id": "_gfZ147ZkHkS",
   "metadata": {
    "id": "_gfZ147ZkHkS"
   },
   "source": [
    "# Construindo modelos de regressão\n",
    "\n",
    "Com os nossos dados já vetorizados pelo VectorAssembler, vamos construir modelos de regressão para nos auxiliar na previsão dos valores de imóveis. Para isso, vamos utilizar a biblioteca pyspark.ml.regression do PySpark.\n",
    "\n",
    "# Random Forest\n",
    "\n",
    "Documentação da classe Random Forest Regressor\n",
    "https://spark.apache.org/docs/latest/api/python/reference/api/pyspark.ml.regression.RandomForestRegressor.html\n",
    "\n",
    "Random Forest é um modelo de Machine Learning que utiliza a técnica de ensemble learning. Esse modelo é composto por uma coleção de árvores de decisão. Cada uma dessas árvores é treinada com uma amostra aleatória do conjunto de dados. Ao final, o modelo faz a média dos resultados de cada uma das árvores."
   ]
  },
  {
   "cell_type": "code",
   "execution_count": null,
   "id": "9T9w1rq3XqRO",
   "metadata": {
    "id": "9T9w1rq3XqRO"
   },
   "outputs": [],
   "source": [
    "from pyspark.ml.regression import RandomForestRegressor"
   ]
  },
  {
   "cell_type": "code",
   "execution_count": null,
   "id": "lPElDMVDkRYQ",
   "metadata": {
    "id": "lPElDMVDkRYQ"
   },
   "outputs": [],
   "source": [
    "treino, teste = dados_5_prep.randomSplit([0.7, 0.3], seed=101)"
   ]
  },
  {
   "cell_type": "code",
   "execution_count": null,
   "id": "RmNcS6dMj8BL",
   "metadata": {
    "id": "RmNcS6dMj8BL"
   },
   "outputs": [],
   "source": [
    "rfr = RandomForestRegressor(seed=13, maxDepth=13, numTrees=13)"
   ]
  },
  {
   "cell_type": "code",
   "execution_count": null,
   "id": "TxfRGTv-j7-E",
   "metadata": {
    "id": "TxfRGTv-j7-E"
   },
   "outputs": [],
   "source": [
    "modelo_rfr = rfr.fit(treino)"
   ]
  },
  {
   "cell_type": "code",
   "execution_count": null,
   "id": "8oV_KYPRj77K",
   "metadata": {
    "id": "8oV_KYPRj77K"
   },
   "outputs": [],
   "source": [
    "previsoes_rfr_treino = modelo_rfr.transform(treino)"
   ]
  },
  {
   "cell_type": "code",
   "execution_count": null,
   "id": "OR87QYLoj74I",
   "metadata": {
    "colab": {
     "base_uri": "https://localhost:8080/"
    },
    "executionInfo": {
     "elapsed": 3763,
     "status": "ok",
     "timestamp": 1670517016878,
     "user": {
      "displayName": "francisco strunck",
      "userId": "02683465803792309206"
     },
     "user_tz": 180
    },
    "id": "OR87QYLoj74I",
    "outputId": "06587587-907d-480a-a101-09d225d92005"
   },
   "outputs": [
    {
     "name": "stdout",
     "output_type": "stream",
     "text": [
      "+--------------------+---------+------------------+\n",
      "|            features|    label|        prediction|\n",
      "+--------------------+---------+------------------+\n",
      "|(22,[0,1,2,3,4,5,...| 445000.0|  415835.172778227|\n",
      "|(22,[0,1,2,3,4,5,...| 539000.0| 451560.2728834482|\n",
      "|(22,[0,1,2,3,4,5,...| 262000.0|501521.83331228397|\n",
      "|(22,[0,1,2,3,4,5,...| 460000.0| 321846.5134059897|\n",
      "|(22,[0,1,2,3,4,5,...| 540000.0| 587197.4810444112|\n",
      "|(22,[0,1,2,3,4,5,...|1047795.0| 677568.1166344186|\n",
      "|(22,[0,1,2,3,4,5,...| 750000.0| 641681.7497135588|\n",
      "|(22,[0,1,2,3,4,5,...| 795000.0|  781051.640558442|\n",
      "|(22,[0,1,2,3,4,5,...| 391000.0|338108.94432804355|\n",
      "|(22,[0,1,2,3,4,5,...| 473400.0| 523395.6773296465|\n",
      "|(22,[0,1,2,3,4,5,...| 659900.0|  552581.348329965|\n",
      "|(22,[0,1,2,3,4,5,...| 797204.0| 630255.9862432061|\n",
      "|(22,[0,1,2,3,4,5,...| 499000.0| 604594.9032376832|\n",
      "|(22,[0,1,2,3,4,5,...| 550000.0| 618637.9682132212|\n",
      "|(22,[0,1,2,3,4,5,...|1400000.0|1403356.5624312793|\n",
      "|(22,[0,1,2,3,4,5,...|2450000.0| 2286687.554945055|\n",
      "|(22,[0,1,2,3,4,5,...| 580000.0| 495410.0809725797|\n",
      "|(22,[0,1,2,3,4,5,...| 550000.0| 558426.3109719038|\n",
      "|(22,[0,1,2,3,4,5,...| 689500.0| 540897.0242665503|\n",
      "|(22,[0,1,2,3,4,5,...| 980000.0| 858926.5497294029|\n",
      "+--------------------+---------+------------------+\n",
      "only showing top 20 rows\n",
      "\n"
     ]
    }
   ],
   "source": [
    "previsoes_rfr_treino.show()"
   ]
  },
  {
   "cell_type": "markdown",
   "id": "fa8LNlsokuLp",
   "metadata": {
    "id": "fa8LNlsokuLp"
   },
   "source": [
    "# Métricas\n",
    "\n",
    "As métricas que vamos utilizar para fazer a avaliação de como nossos modelos estão se comportando são:\n",
    "\n",
    "**RMSE** - Raiz do Erro Quadrático Médio. É a métrica que calcula a raiz quadrada do erro médio entre os valores reais e as predições da regressão. Quanto menor esse valor, melhor será o modelo, uma vez que estará cometendo menos erros. Matematicamente, pode ser definida como:\n",
    "\n",
    "Fórmula: RMSE igual à raiz quadrada de 1 sobre n multiplicado pelo somatório de j indo de 1 a n do quadrado de y_j menos y_j chapéu\n",
    "\n",
    "**R2** ou **coeficiente de determinação** - É uma medida estatística que representa a porcentagem de variação da variável resposta que é explicada pelo modelo de regressão. Por se tratar de uma porcentagem, seu valor varia de 0 a 1, onde:\n",
    "\n",
    "0 indica que o modelo não explica nada da variabilidade dos dados de resposta ao redor de sua média;\n",
    "1 indica que o modelo explica toda a variabilidade dos dados de resposta ao redor de sua média.\n",
    "Portanto, quanto mais próximo de 1 for o valor de R2, melhor será o desempenho do modelo de regressão. Se estivermos trabalhando com apenas duas variáveis, o coeficiente R2 será o quadrado do coeficiente de correlação de Pearson entre as duas variáveis.\n",
    "\n",
    "Para fazer a análise de como os modelos estão se comportando, vamos utilizar a classe RegressionEvaluator da biblioteca pyspark.ml.evaluation."
   ]
  },
  {
   "cell_type": "code",
   "execution_count": null,
   "id": "riGJinStj71M",
   "metadata": {
    "id": "riGJinStj71M"
   },
   "outputs": [],
   "source": [
    "from pyspark.ml.evaluation import RegressionEvaluator"
   ]
  },
  {
   "cell_type": "code",
   "execution_count": null,
   "id": "0esc7r-Jj7yT",
   "metadata": {
    "id": "0esc7r-Jj7yT"
   },
   "outputs": [],
   "source": [
    "evaluator = RegressionEvaluator()"
   ]
  },
  {
   "cell_type": "code",
   "execution_count": null,
   "id": "5C_CaM6mj7vf",
   "metadata": {
    "colab": {
     "base_uri": "https://localhost:8080/"
    },
    "executionInfo": {
     "elapsed": 11965,
     "status": "ok",
     "timestamp": 1670517128579,
     "user": {
      "displayName": "francisco strunck",
      "userId": "02683465803792309206"
     },
     "user_tz": 180
    },
    "id": "5C_CaM6mj7vf",
    "outputId": "835abf96-2c36-4e45-d54d-e18c7ddcb058"
   },
   "outputs": [
    {
     "name": "stdout",
     "output_type": "stream",
     "text": [
      "0.9185122785765222\n",
      "421124.5207677481\n"
     ]
    }
   ],
   "source": [
    "# Métricas do treino\n",
    "\n",
    "print(evaluator.evaluate(previsoes_rfr_treino, {evaluator.metricName: \"r2\"}))\n",
    "print(evaluator.evaluate(previsoes_rfr_treino, {evaluator.metricName: \"rmse\"}))"
   ]
  },
  {
   "cell_type": "code",
   "execution_count": null,
   "id": "fReNj_iGj7so",
   "metadata": {
    "colab": {
     "base_uri": "https://localhost:8080/"
    },
    "executionInfo": {
     "elapsed": 4564,
     "status": "ok",
     "timestamp": 1670517133131,
     "user": {
      "displayName": "francisco strunck",
      "userId": "02683465803792309206"
     },
     "user_tz": 180
    },
    "id": "fReNj_iGj7so",
    "outputId": "b52bb66d-27ce-42c2-9af6-4031e469ba41"
   },
   "outputs": [
    {
     "name": "stdout",
     "output_type": "stream",
     "text": [
      "+--------------------+---------+------------------+\n",
      "|            features|    label|        prediction|\n",
      "+--------------------+---------+------------------+\n",
      "|(22,[0,1,2,3,4,5,...| 349000.0| 365287.9827562858|\n",
      "|(22,[0,1,2,3,4,5,...| 400000.0|417602.46887839545|\n",
      "|(22,[0,1,2,3,4,5,...| 318000.0| 499290.2801867109|\n",
      "|(22,[0,1,2,3,4,5,...| 335000.0| 571997.7163192163|\n",
      "|(22,[0,1,2,3,4,5,...| 950000.0| 1181778.364511306|\n",
      "|(22,[0,1,2,3,4,5,...|1250000.0|1211884.9239160526|\n",
      "|(22,[0,1,2,3,4,5,...| 355000.0|384207.83408775344|\n",
      "|(22,[0,1,2,3,4,5,...| 300000.0|501852.43024278467|\n",
      "|(22,[0,1,2,3,4,5,...|1540000.0|1220799.2352450895|\n",
      "|(22,[0,1,2,3,4,5,...| 290000.0| 457282.2008590971|\n",
      "|(22,[0,1,2,3,4,5,...| 750000.0| 663088.2884516991|\n",
      "|(22,[0,1,2,3,4,5,...| 852288.0| 568112.7585863753|\n",
      "|(22,[0,1,2,3,4,5,...| 940000.0| 753980.2156219502|\n",
      "|(22,[0,1,2,3,4,5,...| 650000.0| 952100.4342018175|\n",
      "|(22,[0,1,2,3,4,5,...| 750000.0| 420883.1981937607|\n",
      "|(22,[0,1,2,3,4,5,...| 650000.0| 565136.3869482089|\n",
      "|(22,[0,1,2,3,4,5,...| 580000.0| 631535.9143053319|\n",
      "|(22,[0,1,2,3,4,5,...|1350000.0| 1155872.243859619|\n",
      "|(22,[0,1,2,3,4,5,...| 730000.0| 751945.5824017791|\n",
      "|(22,[0,1,2,3,4,5,...| 816000.0| 625441.3483113241|\n",
      "+--------------------+---------+------------------+\n",
      "only showing top 20 rows\n",
      "\n"
     ]
    }
   ],
   "source": [
    "previsoes_rfr_teste = modelo_rfr.transform(teste)\n",
    "previsoes_rfr_teste.show()"
   ]
  },
  {
   "cell_type": "code",
   "execution_count": null,
   "id": "A67MwcJEj7qC",
   "metadata": {
    "colab": {
     "base_uri": "https://localhost:8080/"
    },
    "executionInfo": {
     "elapsed": 14503,
     "status": "ok",
     "timestamp": 1670517147612,
     "user": {
      "displayName": "francisco strunck",
      "userId": "02683465803792309206"
     },
     "user_tz": 180
    },
    "id": "A67MwcJEj7qC",
    "outputId": "1ba599bf-9427-43e2-b06a-2cb9cc87a3b5"
   },
   "outputs": [
    {
     "name": "stdout",
     "output_type": "stream",
     "text": [
      "Random Forest Regression\n",
      "==============================\n",
      "Dados de Treino\n",
      "==============================\n",
      "R²: 0.918512\n",
      "RMSE: 421124.520768\n",
      "\n",
      "==============================\n",
      "Dados de Teste\n",
      "==============================\n",
      "R²: 0.831875\n",
      "RMSE: 600174.289064\n"
     ]
    }
   ],
   "source": [
    "print('Random Forest Regression')\n",
    "print(\"=\"*30)\n",
    "print(\"Dados de Treino\")\n",
    "print(\"=\"*30)\n",
    "print(\"R²: %f\" % evaluator.evaluate(previsoes_rfr_treino, {evaluator.metricName: \"r2\"}))\n",
    "print(\"RMSE: %f\" % evaluator.evaluate(previsoes_rfr_treino, {evaluator.metricName: \"rmse\"}))\n",
    "print(\"\")\n",
    "print(\"=\"*30)\n",
    "print(\"Dados de Teste\")\n",
    "print(\"=\"*30)\n",
    "print(\"R²: %f\" % evaluator.evaluate(previsoes_rfr_teste, {evaluator.metricName: \"r2\"}))\n",
    "print(\"RMSE: %f\" % evaluator.evaluate(previsoes_rfr_teste, {evaluator.metricName: \"rmse\"}))"
   ]
  },
  {
   "cell_type": "markdown",
   "id": "lEFjC-H_lSmc",
   "metadata": {
    "id": "lEFjC-H_lSmc"
   },
   "source": [
    "# Extra: Otimização\n",
    "\n",
    "Vamos tentar melhorar o desempenho do nosso modelo utilizando a técnica de otimização de hiperparâmetros, utilzando validação cruzada. Para isso, vamos utilizar a classe CrossValidator da biblioteca pyspark.ml.tuning e para definir o espaço de busca dos hiperparâmetros, vamos utilizar a classe ParamGridBuilder."
   ]
  },
  {
   "cell_type": "code",
   "execution_count": null,
   "id": "K8wYYYgOj7kH",
   "metadata": {
    "id": "K8wYYYgOj7kH"
   },
   "outputs": [],
   "source": [
    "from pyspark.ml.tuning import CrossValidator, ParamGridBuilder"
   ]
  },
  {
   "cell_type": "code",
   "execution_count": null,
   "id": "hRfaeBNNj7hb",
   "metadata": {
    "id": "hRfaeBNNj7hb"
   },
   "outputs": [],
   "source": [
    "rfr = RandomForestRegressor()"
   ]
  },
  {
   "cell_type": "code",
   "execution_count": null,
   "id": "wsZeP3ZHlRSU",
   "metadata": {
    "id": "wsZeP3ZHlRSU"
   },
   "outputs": [],
   "source": [
    "grid = ParamGridBuilder() \\\n",
    "    .addGrid(rfr.numTrees, [10, 20, 30]) \\\n",
    "    .addGrid(rfr.maxDepth, [5, 10]) \\\n",
    "    .addGrid(rfr.maxBins, [10, 32, 45]) \\\n",
    "    .build()"
   ]
  },
  {
   "cell_type": "code",
   "execution_count": null,
   "id": "ryLmfbIrlRPi",
   "metadata": {
    "id": "ryLmfbIrlRPi"
   },
   "outputs": [],
   "source": [
    "evaluator = RegressionEvaluator()"
   ]
  },
  {
   "cell_type": "code",
   "execution_count": null,
   "id": "iUgZhwMKlRMh",
   "metadata": {
    "id": "iUgZhwMKlRMh"
   },
   "outputs": [],
   "source": [
    "rfr_cv = CrossValidator(\n",
    "    estimator=rfr,\n",
    "    estimatorParamMaps=grid,\n",
    "    evaluator=evaluator,\n",
    "    numFolds=3\n",
    ")"
   ]
  },
  {
   "cell_type": "code",
   "execution_count": null,
   "id": "LVgSGcMtlRJt",
   "metadata": {
    "id": "LVgSGcMtlRJt"
   },
   "outputs": [],
   "source": [
    "modelo_rfr_cv = rfr_cv.fit(treino)"
   ]
  },
  {
   "cell_type": "code",
   "execution_count": null,
   "id": "JJ4h8lHolRGb",
   "metadata": {
    "colab": {
     "base_uri": "https://localhost:8080/"
    },
    "executionInfo": {
     "elapsed": 16,
     "status": "ok",
     "timestamp": 1670517669176,
     "user": {
      "displayName": "francisco strunck",
      "userId": "02683465803792309206"
     },
     "user_tz": 180
    },
    "id": "JJ4h8lHolRGb",
    "outputId": "2d271db4-7eb2-4bf3-f600-26e30ed8210a"
   },
   "outputs": [
    {
     "data": {
      "text/plain": [
       "RandomForestRegressionModel: uid=RandomForestRegressor_71334b3ce57e, numTrees=30, numFeatures=22"
      ]
     },
     "execution_count": 195,
     "metadata": {},
     "output_type": "execute_result"
    }
   ],
   "source": [
    "# Quais os melhores parâmetros para o modelo?\n",
    "\n",
    "modelo_rfr_cv.bestModel"
   ]
  },
  {
   "cell_type": "code",
   "execution_count": null,
   "id": "K2mzvvwNlRCc",
   "metadata": {
    "id": "K2mzvvwNlRCc"
   },
   "outputs": [],
   "source": [
    "previsoes_rfr_cv_teste = modelo_rfr_cv.transform(teste)"
   ]
  },
  {
   "cell_type": "code",
   "execution_count": null,
   "id": "TVbXsez7lejT",
   "metadata": {
    "colab": {
     "base_uri": "https://localhost:8080/"
    },
    "executionInfo": {
     "elapsed": 12141,
     "status": "ok",
     "timestamp": 1670517682209,
     "user": {
      "displayName": "francisco strunck",
      "userId": "02683465803792309206"
     },
     "user_tz": 180
    },
    "id": "TVbXsez7lejT",
    "outputId": "b5ac02eb-e74d-41e4-eb5c-1e949d857db1"
   },
   "outputs": [
    {
     "name": "stdout",
     "output_type": "stream",
     "text": [
      "Random Forest\n",
      "==============================\n",
      "Sem Cross Validation\n",
      "==============================\n",
      "R²: 0.831875\n",
      "RMSE: 600174.289064\n",
      "\n",
      "==============================\n",
      "Com Cross Validation\n",
      "==============================\n",
      "R²: 0.832326\n",
      "RMSE: 599369.025139\n"
     ]
    }
   ],
   "source": [
    "print('Random Forest')\n",
    "print(\"=\"*30)\n",
    "print(\"Sem Cross Validation\")\n",
    "print(\"=\"*30)\n",
    "print(\"R²: %f\" % evaluator.evaluate(previsoes_rfr_teste, {evaluator.metricName: \"r2\"}))\n",
    "print(\"RMSE: %f\" % evaluator.evaluate(previsoes_rfr_teste, {evaluator.metricName: \"rmse\"}))\n",
    "print(\"\")\n",
    "print(\"=\"*30)\n",
    "print(\"Com Cross Validation\")\n",
    "print(\"=\"*30)\n",
    "print(\"R²: %f\" % evaluator.evaluate(previsoes_rfr_cv_teste, {evaluator.metricName: \"r2\"}))\n",
    "print(\"RMSE: %f\" % evaluator.evaluate(previsoes_rfr_cv_teste, {evaluator.metricName: \"rmse\"}))"
   ]
  },
  {
   "cell_type": "markdown",
   "id": "_xVMphg5lisk",
   "metadata": {
    "id": "_xVMphg5lisk"
   },
   "source": [
    "# Extra: Implementando o Gradient-boosted tree regression\n",
    "\n",
    "Implemente o algoritmo Gradiente Boosted e o avalie"
   ]
  },
  {
   "cell_type": "code",
   "execution_count": null,
   "id": "mO2bmCPPliWB",
   "metadata": {
    "id": "mO2bmCPPliWB"
   },
   "outputs": [],
   "source": [
    "from pyspark.ml.regression import GBTRegressor\n",
    "\n",
    "gbt = GBTRegressor()"
   ]
  },
  {
   "cell_type": "code",
   "execution_count": null,
   "id": "K6vUnK4VleeO",
   "metadata": {
    "id": "K6vUnK4VleeO"
   },
   "outputs": [],
   "source": [
    "modelo_gbt = gbt.fit(treino)"
   ]
  },
  {
   "cell_type": "code",
   "execution_count": null,
   "id": "EPNkz2uVlebq",
   "metadata": {
    "id": "EPNkz2uVlebq"
   },
   "outputs": [],
   "source": [
    "previsoes_gbt_treino = modelo_gbt.transform(treino);"
   ]
  },
  {
   "cell_type": "code",
   "execution_count": null,
   "id": "OJ68xvGQleYx",
   "metadata": {
    "colab": {
     "base_uri": "https://localhost:8080/"
    },
    "executionInfo": {
     "elapsed": 2442,
     "status": "ok",
     "timestamp": 1670517723144,
     "user": {
      "displayName": "francisco strunck",
      "userId": "02683465803792309206"
     },
     "user_tz": 180
    },
    "id": "OJ68xvGQleYx",
    "outputId": "f4395dbb-c320-4600-cd55-515de49de707"
   },
   "outputs": [
    {
     "name": "stdout",
     "output_type": "stream",
     "text": [
      "+-----------------+--------+--------------------+\n",
      "|       prediction|   label|            features|\n",
      "+-----------------+--------+--------------------+\n",
      "|276847.2385024432|445000.0|(22,[0,1,2,3,4,5,...|\n",
      "|276847.2385024432|539000.0|(22,[0,1,2,3,4,5,...|\n",
      "|497457.3531804119|262000.0|(22,[0,1,2,3,4,5,...|\n",
      "|303313.9400521877|460000.0|(22,[0,1,2,3,4,5,...|\n",
      "|565320.0693515356|540000.0|(22,[0,1,2,3,4,5,...|\n",
      "+-----------------+--------+--------------------+\n",
      "only showing top 5 rows\n",
      "\n"
     ]
    }
   ],
   "source": [
    "previsoes_gbt_treino.select(\"prediction\", \"label\", \"features\").show(5)"
   ]
  },
  {
   "cell_type": "code",
   "execution_count": null,
   "id": "yendgY1VlQ_z",
   "metadata": {
    "id": "yendgY1VlQ_z"
   },
   "outputs": [],
   "source": [
    "previsoes_gbt_teste = modelo_gbt.transform(teste);"
   ]
  },
  {
   "cell_type": "code",
   "execution_count": null,
   "id": "24xsMQcJlQ8s",
   "metadata": {
    "colab": {
     "base_uri": "https://localhost:8080/"
    },
    "executionInfo": {
     "elapsed": 7715,
     "status": "ok",
     "timestamp": 1670517730855,
     "user": {
      "displayName": "francisco strunck",
      "userId": "02683465803792309206"
     },
     "user_tz": 180
    },
    "id": "24xsMQcJlQ8s",
    "outputId": "76dfad1f-9955-4c8d-cdc4-9ff0c636745d"
   },
   "outputs": [
    {
     "name": "stdout",
     "output_type": "stream",
     "text": [
      "Root Mean Squared Error (RMSE) nos dados de teste: 655483\n",
      "R2 nos dados de teste: 0.79946\n"
     ]
    }
   ],
   "source": [
    "print(\"Root Mean Squared Error (RMSE) nos dados de teste: %g\" % evaluator.evaluate(previsoes_gbt_teste, {evaluator.metricName: \"rmse\"}))\n",
    "\n",
    "print(\"R2 nos dados de teste: %g\" % evaluator.evaluate(previsoes_gbt_teste, {evaluator.metricName: \"r2\"}))"
   ]
  }
 ],
 "metadata": {
  "colab": {
   "provenance": [],
   "toc_visible": true
  },
  "kernelspec": {
   "display_name": "Python 3",
   "language": "python",
   "name": "python3"
  },
  "language_info": {
   "codemirror_mode": {
    "name": "ipython",
    "version": 3
   },
   "file_extension": ".py",
   "mimetype": "text/x-python",
   "name": "python",
   "nbconvert_exporter": "python",
   "pygments_lexer": "ipython3",
   "version": "3.8.8"
  },
  "toc": {
   "base_numbering": 1,
   "nav_menu": {},
   "number_sections": true,
   "sideBar": true,
   "skip_h1_title": false,
   "title_cell": "Table of Contents",
   "title_sidebar": "Contents",
   "toc_cell": false,
   "toc_position": {},
   "toc_section_display": true,
   "toc_window_display": false
  }
 },
 "nbformat": 4,
 "nbformat_minor": 5
}
